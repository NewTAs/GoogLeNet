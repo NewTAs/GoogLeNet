{
  "nbformat": 4,
  "nbformat_minor": 0,
  "metadata": {
    "colab": {
      "name": "GoogLeNet_Step3_DriveVer_Epoch100.ipynb",
      "provenance": [],
      "collapsed_sections": [],
      "authorship_tag": "ABX9TyPEv0vzRK3DIQD1X88KPDdA",
      "include_colab_link": true
    },
    "kernelspec": {
      "name": "python3",
      "display_name": "Python 3"
    },
    "language_info": {
      "name": "python"
    }
  },
  "cells": [
    {
      "cell_type": "markdown",
      "metadata": {
        "id": "view-in-github",
        "colab_type": "text"
      },
      "source": [
        "<a href=\"https://colab.research.google.com/github/NewTAs/GoogLeNet/blob/main/GoogLeNet_Step3_DriveVer_Epoch100.ipynb\" target=\"_parent\"><img src=\"https://colab.research.google.com/assets/colab-badge.svg\" alt=\"Open In Colab\"/></a>"
      ]
    },
    {
      "cell_type": "markdown",
      "metadata": {
        "id": "9Ut6dnnVg4cp"
      },
      "source": [
        "* 참고: https://tykimos.github.io/2017/03/08/CNN_Getting_Started/"
      ]
    },
    {
      "cell_type": "code",
      "metadata": {
        "colab": {
          "base_uri": "https://localhost:8080/"
        },
        "id": "E9vBGLsdgq24",
        "outputId": "65098686-41ef-49fd-e1eb-0c34d68cc34b"
      },
      "source": [
        "# Step1 Code\n",
        "import os\n",
        "import re\n",
        "import glob\n",
        "import cv2\n",
        "import numpy as np\n",
        "from sklearn.model_selection import train_test_split\n",
        "\n",
        "import tensorflow as tf\n",
        "\n",
        "from google.colab import drive\n",
        "drive.mount('googlenet')\n",
        "\n",
        "# New Cord\n",
        "import numpy as np\n",
        "from keras.models import Sequential\n",
        "from keras.layers import Dense\n",
        "from keras.layers import Flatten\n",
        "from keras.layers.convolutional import Conv2D\n",
        "from keras.layers.convolutional import MaxPooling2D\n",
        "from keras.preprocessing.image import ImageDataGenerator\n",
        "\n",
        "np.random.seed(4) # 랜덤시드 고정시키기"
      ],
      "execution_count": 1,
      "outputs": [
        {
          "output_type": "stream",
          "text": [
            "Mounted at googlenet\n"
          ],
          "name": "stdout"
        }
      ]
    },
    {
      "cell_type": "code",
      "metadata": {
        "colab": {
          "base_uri": "https://localhost:8080/"
        },
        "id": "Vl2fl4Ishlg_",
        "outputId": "0f054a32-a62e-4bad-faf3-a789a32ea828"
      },
      "source": [
        "pictureWeightHeightSize = 227\n",
        "\n",
        "train_datagen = ImageDataGenerator(rescale=1./255)\n",
        "\n",
        "train_generator = train_datagen.flow_from_directory(\n",
        "        '/content/googlenet/MyDrive/GoogLeNet_Data/TrainData_Step3/',\n",
        "        target_size=(pictureWeightHeightSize, pictureWeightHeightSize),\n",
        "        batch_size=4,\n",
        "        class_mode='categorical')\n",
        "\n",
        "test_datagen = ImageDataGenerator(rescale=1./255)\n",
        "\n",
        "test_generator = test_datagen.flow_from_directory(\n",
        "        '/content/googlenet/MyDrive/GoogLeNet_Data/TestData_Step3/',\n",
        "        target_size=(pictureWeightHeightSize, pictureWeightHeightSize),    \n",
        "        batch_size=4,\n",
        "        class_mode='categorical')"
      ],
      "execution_count": 2,
      "outputs": [
        {
          "output_type": "stream",
          "text": [
            "Found 60 images belonging to 4 classes.\n",
            "Found 12 images belonging to 4 classes.\n"
          ],
          "name": "stdout"
        }
      ]
    },
    {
      "cell_type": "code",
      "metadata": {
        "id": "8536c856"
      },
      "source": [
        "input_layer = tf.keras.layers.Input(shape=(227, 227, 3))"
      ],
      "execution_count": 3,
      "outputs": []
    },
    {
      "cell_type": "code",
      "metadata": {
        "id": "77191152"
      },
      "source": [
        "stem_layer = tf.keras.layers.Conv2D(32, (3, 3), strides=(1, 1), padding='SAME', activation='relu')(input_layer)\n",
        "# Max Pooling Here on Original Inception (3x3, stride=2)\n",
        "stem_layer = tf.keras.layers.Conv2D(64, (3, 3), strides=(1, 1), padding='SAME', activation='relu')(stem_layer)\n",
        "# Max Pooling Here on Original Inception (3x3, stride=2)"
      ],
      "execution_count": 4,
      "outputs": []
    },
    {
      "cell_type": "code",
      "metadata": {
        "id": "c29d9d72"
      },
      "source": [
        "inception_block3a_1x1 = tf.keras.layers.Conv2D(32, (1, 1), strides=(1, 1), padding='SAME', activation='relu')(stem_layer)\n",
        "\n",
        "inception_block3a_3x3 = tf.keras.layers.Conv2D(48, (1, 1), padding='SAME', activation='relu')(stem_layer)\n",
        "inception_block3a_3x3 = tf.keras.layers.Conv2D(64, (3, 3), padding='SAME', activation='relu')(inception_block3a_3x3)\n",
        "\n",
        "inception_block3a_5x5 = tf.keras.layers.Conv2D(8, (1, 1), padding='SAME', activation='relu')(stem_layer)\n",
        "inception_block3a_5x5 = tf.keras.layers.Conv2D(16, (5, 5), padding='SAME', activation='relu')(inception_block3a_5x5)\n",
        "\n",
        "inception_block3a_pool = tf.keras.layers.MaxPool2D((3, 3), strides=(1, 1), padding='SAME')(stem_layer)\n",
        "inception_block3a_pool = tf.keras.layers.Conv2D(16, (1, 1), padding='SAME', activation='relu')(inception_block3a_pool)\n",
        "\n",
        "inception_block3a = tf.keras.layers.Concatenate()([inception_block3a_1x1, inception_block3a_3x3,\n",
        "                                                   inception_block3a_5x5, inception_block3a_pool]) # 32x32x128"
      ],
      "execution_count": 5,
      "outputs": []
    },
    {
      "cell_type": "code",
      "metadata": {
        "id": "3746e709"
      },
      "source": [
        "# inception_block3b Here on Original Inception\n",
        "max_pool = tf.keras.layers.MaxPool2D((3, 3), strides=(2, 2), padding='SAME')(inception_block3a) # 16x16x128"
      ],
      "execution_count": 6,
      "outputs": []
    },
    {
      "cell_type": "code",
      "metadata": {
        "id": "5e256e02"
      },
      "source": [
        "inception_block4a_1x1 = tf.keras.layers.Conv2D(64, (1, 1), padding='SAME', activation='relu')(max_pool)\n",
        "\n",
        "inception_block4a_3x3 = tf.keras.layers.Conv2D(64, (1, 1), padding='SAME', activation='relu')(max_pool)\n",
        "inception_block4a_3x3 = tf.keras.layers.Conv2D(96, (3, 3), padding='SAME', activation='relu')(inception_block4a_3x3)\n",
        "\n",
        "inception_block4a_5x5 = tf.keras.layers.Conv2D(16, (1, 1), padding='SAME', activation='relu')(max_pool)\n",
        "inception_block4a_5x5 = tf.keras.layers.Conv2D(48, (5, 5), padding='SAME', activation='relu')(inception_block4a_5x5)\n",
        "\n",
        "inception_block4a_pool = tf.keras.layers.MaxPool2D((3, 3), strides=(1, 1), padding='SAME')(max_pool)\n",
        "inception_block4a_pool = tf.keras.layers.Conv2D(32, (1, 1), padding='SAME', activation='relu')(inception_block4a_pool)\n",
        "\n",
        "inception_block4a = tf.keras.layers.Concatenate()([inception_block4a_1x1, inception_block4a_3x3,\n",
        "                                                   inception_block4a_5x5, inception_block4a_pool]) # 16x16x240\n",
        "\n",
        "# inception_block4b Here on Original Inception\n",
        "# inception_block4c Here on Original Inception\n",
        "# inception_block4d Here on Original Inception\n",
        "# inception_block4e Here on Original Inception"
      ],
      "execution_count": 7,
      "outputs": []
    },
    {
      "cell_type": "code",
      "metadata": {
        "id": "eeccc456"
      },
      "source": [
        "max_pool = tf.keras.layers.MaxPool2D((3, 3), strides=(2, 2), padding='SAME')(inception_block4a) # 8x8x240"
      ],
      "execution_count": 8,
      "outputs": []
    },
    {
      "cell_type": "code",
      "metadata": {
        "id": "66fe0596"
      },
      "source": [
        "inception_block5a_1x1 = tf.keras.layers.Conv2D(128, (1, 1), padding='SAME', activation='relu')(max_pool)\n",
        "\n",
        "inception_block5a_3x3 = tf.keras.layers.Conv2D(80, (1, 1), padding='SAME', activation='relu')(max_pool)\n",
        "inception_block5a_3x3 = tf.keras.layers.Conv2D(120, (3, 3), padding='SAME', activation='relu')(inception_block5a_3x3)\n",
        "\n",
        "inception_block5a_5x5 = tf.keras.layers.Conv2D(16, (1, 1), padding='SAME', activation='relu')(max_pool)\n",
        "inception_block5a_5x5 = tf.keras.layers.Conv2D(64, (5, 5), padding='SAME', activation='relu')(inception_block5a_5x5)\n",
        "\n",
        "inception_block5a_pool = tf.keras.layers.MaxPool2D((3, 3), strides=(1, 1), padding='SAME')(max_pool)\n",
        "inception_block5a_pool = tf.keras.layers.Conv2D(64, (1, 1), padding='SAME', activation='relu')(inception_block5a_pool)\n",
        "\n",
        "inception_block5a = tf.keras.layers.Concatenate()([inception_block5a_1x1, inception_block5a_3x3,\n",
        "                                                   inception_block5a_5x5, inception_block5a_pool]) # 8x8x416\n",
        "# inception_block5b Here on Original Inception"
      ],
      "execution_count": 9,
      "outputs": []
    },
    {
      "cell_type": "code",
      "metadata": {
        "id": "3b26f10f"
      },
      "source": [
        "avg_pool = tf.keras.layers.GlobalAveragePooling2D()(inception_block5a) # 416\n",
        "dropout = tf.keras.layers.Dropout(0.4)(avg_pool)\n",
        "out_layer = tf.keras.layers.Dense(4, activation='softmax')(dropout)"
      ],
      "execution_count": 10,
      "outputs": []
    },
    {
      "cell_type": "code",
      "metadata": {
        "colab": {
          "base_uri": "https://localhost:8080/"
        },
        "id": "1764FfRSmsYP",
        "outputId": "c8279f2b-f675-462a-c149-8fb1b8419f31"
      },
      "source": [
        "model = tf.keras.models.Model(input_layer, out_layer)\n",
        "\n",
        "#model.compile(optimizer='adam', loss='sparse_categorical_crossentropy', metrics=['accuracy'])\n",
        "model.compile(optimizer='adam', loss='categorical_crossentropy', metrics=['accuracy'])\n",
        "model.summary()\n",
        "\n",
        "#model.fit(x_train, y_train, batch_size=128, epochs=10, validation_data=(x_test, y_test))"
      ],
      "execution_count": 11,
      "outputs": [
        {
          "output_type": "stream",
          "text": [
            "Model: \"model\"\n",
            "__________________________________________________________________________________________________\n",
            "Layer (type)                    Output Shape         Param #     Connected to                     \n",
            "==================================================================================================\n",
            "input_1 (InputLayer)            [(None, 227, 227, 3) 0                                            \n",
            "__________________________________________________________________________________________________\n",
            "conv2d (Conv2D)                 (None, 227, 227, 32) 896         input_1[0][0]                    \n",
            "__________________________________________________________________________________________________\n",
            "conv2d_1 (Conv2D)               (None, 227, 227, 64) 18496       conv2d[0][0]                     \n",
            "__________________________________________________________________________________________________\n",
            "conv2d_3 (Conv2D)               (None, 227, 227, 48) 3120        conv2d_1[0][0]                   \n",
            "__________________________________________________________________________________________________\n",
            "conv2d_5 (Conv2D)               (None, 227, 227, 8)  520         conv2d_1[0][0]                   \n",
            "__________________________________________________________________________________________________\n",
            "max_pooling2d (MaxPooling2D)    (None, 227, 227, 64) 0           conv2d_1[0][0]                   \n",
            "__________________________________________________________________________________________________\n",
            "conv2d_2 (Conv2D)               (None, 227, 227, 32) 2080        conv2d_1[0][0]                   \n",
            "__________________________________________________________________________________________________\n",
            "conv2d_4 (Conv2D)               (None, 227, 227, 64) 27712       conv2d_3[0][0]                   \n",
            "__________________________________________________________________________________________________\n",
            "conv2d_6 (Conv2D)               (None, 227, 227, 16) 3216        conv2d_5[0][0]                   \n",
            "__________________________________________________________________________________________________\n",
            "conv2d_7 (Conv2D)               (None, 227, 227, 16) 1040        max_pooling2d[0][0]              \n",
            "__________________________________________________________________________________________________\n",
            "concatenate (Concatenate)       (None, 227, 227, 128 0           conv2d_2[0][0]                   \n",
            "                                                                 conv2d_4[0][0]                   \n",
            "                                                                 conv2d_6[0][0]                   \n",
            "                                                                 conv2d_7[0][0]                   \n",
            "__________________________________________________________________________________________________\n",
            "max_pooling2d_1 (MaxPooling2D)  (None, 114, 114, 128 0           concatenate[0][0]                \n",
            "__________________________________________________________________________________________________\n",
            "conv2d_9 (Conv2D)               (None, 114, 114, 64) 8256        max_pooling2d_1[0][0]            \n",
            "__________________________________________________________________________________________________\n",
            "conv2d_11 (Conv2D)              (None, 114, 114, 16) 2064        max_pooling2d_1[0][0]            \n",
            "__________________________________________________________________________________________________\n",
            "max_pooling2d_2 (MaxPooling2D)  (None, 114, 114, 128 0           max_pooling2d_1[0][0]            \n",
            "__________________________________________________________________________________________________\n",
            "conv2d_8 (Conv2D)               (None, 114, 114, 64) 8256        max_pooling2d_1[0][0]            \n",
            "__________________________________________________________________________________________________\n",
            "conv2d_10 (Conv2D)              (None, 114, 114, 96) 55392       conv2d_9[0][0]                   \n",
            "__________________________________________________________________________________________________\n",
            "conv2d_12 (Conv2D)              (None, 114, 114, 48) 19248       conv2d_11[0][0]                  \n",
            "__________________________________________________________________________________________________\n",
            "conv2d_13 (Conv2D)              (None, 114, 114, 32) 4128        max_pooling2d_2[0][0]            \n",
            "__________________________________________________________________________________________________\n",
            "concatenate_1 (Concatenate)     (None, 114, 114, 240 0           conv2d_8[0][0]                   \n",
            "                                                                 conv2d_10[0][0]                  \n",
            "                                                                 conv2d_12[0][0]                  \n",
            "                                                                 conv2d_13[0][0]                  \n",
            "__________________________________________________________________________________________________\n",
            "max_pooling2d_3 (MaxPooling2D)  (None, 57, 57, 240)  0           concatenate_1[0][0]              \n",
            "__________________________________________________________________________________________________\n",
            "conv2d_15 (Conv2D)              (None, 57, 57, 80)   19280       max_pooling2d_3[0][0]            \n",
            "__________________________________________________________________________________________________\n",
            "conv2d_17 (Conv2D)              (None, 57, 57, 16)   3856        max_pooling2d_3[0][0]            \n",
            "__________________________________________________________________________________________________\n",
            "max_pooling2d_4 (MaxPooling2D)  (None, 57, 57, 240)  0           max_pooling2d_3[0][0]            \n",
            "__________________________________________________________________________________________________\n",
            "conv2d_14 (Conv2D)              (None, 57, 57, 128)  30848       max_pooling2d_3[0][0]            \n",
            "__________________________________________________________________________________________________\n",
            "conv2d_16 (Conv2D)              (None, 57, 57, 120)  86520       conv2d_15[0][0]                  \n",
            "__________________________________________________________________________________________________\n",
            "conv2d_18 (Conv2D)              (None, 57, 57, 64)   25664       conv2d_17[0][0]                  \n",
            "__________________________________________________________________________________________________\n",
            "conv2d_19 (Conv2D)              (None, 57, 57, 64)   15424       max_pooling2d_4[0][0]            \n",
            "__________________________________________________________________________________________________\n",
            "concatenate_2 (Concatenate)     (None, 57, 57, 376)  0           conv2d_14[0][0]                  \n",
            "                                                                 conv2d_16[0][0]                  \n",
            "                                                                 conv2d_18[0][0]                  \n",
            "                                                                 conv2d_19[0][0]                  \n",
            "__________________________________________________________________________________________________\n",
            "global_average_pooling2d (Globa (None, 376)          0           concatenate_2[0][0]              \n",
            "__________________________________________________________________________________________________\n",
            "dropout (Dropout)               (None, 376)          0           global_average_pooling2d[0][0]   \n",
            "__________________________________________________________________________________________________\n",
            "dense (Dense)                   (None, 4)            1508        dropout[0][0]                    \n",
            "==================================================================================================\n",
            "Total params: 337,524\n",
            "Trainable params: 337,524\n",
            "Non-trainable params: 0\n",
            "__________________________________________________________________________________________________\n"
          ],
          "name": "stdout"
        }
      ]
    },
    {
      "cell_type": "code",
      "metadata": {
        "colab": {
          "base_uri": "https://localhost:8080/"
        },
        "id": "b1D7qJrqnK3I",
        "outputId": "790c27a3-0762-4dbd-9fd7-aa8384cc4653"
      },
      "source": [
        "model.fit(train_generator, epochs=100, validation_data=test_generator)"
      ],
      "execution_count": 12,
      "outputs": [
        {
          "output_type": "stream",
          "text": [
            "Epoch 1/100\n",
            "15/15 [==============================] - 66s 4s/step - loss: 1.4055 - accuracy: 0.2167 - val_loss: 1.3698 - val_accuracy: 0.2500\n",
            "Epoch 2/100\n",
            "15/15 [==============================] - 55s 4s/step - loss: 1.3363 - accuracy: 0.2000 - val_loss: 1.2442 - val_accuracy: 0.2500\n",
            "Epoch 3/100\n",
            "15/15 [==============================] - 55s 4s/step - loss: 1.0847 - accuracy: 0.4500 - val_loss: 0.8938 - val_accuracy: 0.5000\n",
            "Epoch 4/100\n",
            "15/15 [==============================] - 55s 4s/step - loss: 0.9675 - accuracy: 0.5167 - val_loss: 1.3617 - val_accuracy: 0.2500\n",
            "Epoch 5/100\n",
            "15/15 [==============================] - 55s 4s/step - loss: 0.8812 - accuracy: 0.5667 - val_loss: 0.9804 - val_accuracy: 0.5000\n",
            "Epoch 6/100\n",
            "15/15 [==============================] - 55s 4s/step - loss: 0.7397 - accuracy: 0.6167 - val_loss: 1.0280 - val_accuracy: 0.5000\n",
            "Epoch 7/100\n",
            "15/15 [==============================] - 55s 4s/step - loss: 0.5751 - accuracy: 0.7500 - val_loss: 0.8876 - val_accuracy: 0.6667\n",
            "Epoch 8/100\n",
            "15/15 [==============================] - 55s 4s/step - loss: 0.4148 - accuracy: 0.8000 - val_loss: 0.5568 - val_accuracy: 0.7500\n",
            "Epoch 9/100\n",
            "15/15 [==============================] - 54s 4s/step - loss: 0.5617 - accuracy: 0.7333 - val_loss: 2.5119 - val_accuracy: 0.2500\n",
            "Epoch 10/100\n",
            "15/15 [==============================] - 54s 4s/step - loss: 0.5718 - accuracy: 0.7667 - val_loss: 1.3343 - val_accuracy: 0.5000\n",
            "Epoch 11/100\n",
            "15/15 [==============================] - 54s 4s/step - loss: 0.3512 - accuracy: 0.8833 - val_loss: 1.0937 - val_accuracy: 0.5000\n",
            "Epoch 12/100\n",
            "15/15 [==============================] - 54s 4s/step - loss: 0.3737 - accuracy: 0.8167 - val_loss: 1.0472 - val_accuracy: 0.5000\n",
            "Epoch 13/100\n",
            "15/15 [==============================] - 54s 4s/step - loss: 0.3315 - accuracy: 0.8000 - val_loss: 0.6523 - val_accuracy: 0.7500\n",
            "Epoch 14/100\n",
            "15/15 [==============================] - 54s 4s/step - loss: 0.3690 - accuracy: 0.8500 - val_loss: 0.9662 - val_accuracy: 0.7500\n",
            "Epoch 15/100\n",
            "15/15 [==============================] - 54s 4s/step - loss: 0.3439 - accuracy: 0.8333 - val_loss: 1.0866 - val_accuracy: 0.7500\n",
            "Epoch 16/100\n",
            "15/15 [==============================] - 54s 4s/step - loss: 0.3376 - accuracy: 0.8333 - val_loss: 0.3887 - val_accuracy: 0.7500\n",
            "Epoch 17/100\n",
            "15/15 [==============================] - 54s 4s/step - loss: 0.2714 - accuracy: 0.8833 - val_loss: 0.2424 - val_accuracy: 1.0000\n",
            "Epoch 18/100\n",
            "15/15 [==============================] - 54s 4s/step - loss: 0.1320 - accuracy: 0.9833 - val_loss: 0.1251 - val_accuracy: 1.0000\n",
            "Epoch 19/100\n",
            "15/15 [==============================] - 55s 4s/step - loss: 0.0472 - accuracy: 0.9833 - val_loss: 0.2394 - val_accuracy: 0.7500\n",
            "Epoch 20/100\n",
            "15/15 [==============================] - 55s 4s/step - loss: 0.0150 - accuracy: 1.0000 - val_loss: 0.4347 - val_accuracy: 0.7500\n",
            "Epoch 21/100\n",
            "15/15 [==============================] - 55s 4s/step - loss: 0.0080 - accuracy: 1.0000 - val_loss: 0.4903 - val_accuracy: 0.7500\n",
            "Epoch 22/100\n",
            "15/15 [==============================] - 55s 4s/step - loss: 0.0076 - accuracy: 1.0000 - val_loss: 0.5236 - val_accuracy: 0.7500\n",
            "Epoch 23/100\n",
            "15/15 [==============================] - 55s 4s/step - loss: 0.0016 - accuracy: 1.0000 - val_loss: 0.1973 - val_accuracy: 0.9167\n",
            "Epoch 24/100\n",
            "15/15 [==============================] - 55s 4s/step - loss: 0.2356 - accuracy: 0.9333 - val_loss: 2.5957 - val_accuracy: 0.2500\n",
            "Epoch 25/100\n",
            "15/15 [==============================] - 54s 4s/step - loss: 0.1351 - accuracy: 0.9167 - val_loss: 0.8483 - val_accuracy: 0.7500\n",
            "Epoch 26/100\n",
            "15/15 [==============================] - 54s 4s/step - loss: 0.0260 - accuracy: 1.0000 - val_loss: 1.7342 - val_accuracy: 0.7500\n",
            "Epoch 27/100\n",
            "15/15 [==============================] - 54s 4s/step - loss: 0.0073 - accuracy: 1.0000 - val_loss: 0.8764 - val_accuracy: 0.7500\n",
            "Epoch 28/100\n",
            "15/15 [==============================] - 54s 4s/step - loss: 0.0020 - accuracy: 1.0000 - val_loss: 1.0559 - val_accuracy: 0.7500\n",
            "Epoch 29/100\n",
            "15/15 [==============================] - 54s 4s/step - loss: 0.0021 - accuracy: 1.0000 - val_loss: 0.9555 - val_accuracy: 0.7500\n",
            "Epoch 30/100\n",
            "15/15 [==============================] - 54s 4s/step - loss: 0.0019 - accuracy: 1.0000 - val_loss: 1.1221 - val_accuracy: 0.7500\n",
            "Epoch 31/100\n",
            "15/15 [==============================] - 54s 4s/step - loss: 0.0030 - accuracy: 1.0000 - val_loss: 0.8325 - val_accuracy: 0.7500\n",
            "Epoch 32/100\n",
            "15/15 [==============================] - 54s 4s/step - loss: 0.0021 - accuracy: 1.0000 - val_loss: 1.2511 - val_accuracy: 0.7500\n",
            "Epoch 33/100\n",
            "15/15 [==============================] - 54s 4s/step - loss: 0.5577 - accuracy: 0.7833 - val_loss: 6.0796 - val_accuracy: 0.2500\n",
            "Epoch 34/100\n",
            "15/15 [==============================] - 54s 4s/step - loss: 0.2255 - accuracy: 0.9000 - val_loss: 0.3737 - val_accuracy: 0.7500\n",
            "Epoch 35/100\n",
            "15/15 [==============================] - 54s 4s/step - loss: 0.2838 - accuracy: 0.9333 - val_loss: 1.5781 - val_accuracy: 0.7500\n",
            "Epoch 36/100\n",
            "15/15 [==============================] - 54s 4s/step - loss: 0.0969 - accuracy: 0.9500 - val_loss: 2.7580 - val_accuracy: 0.5000\n",
            "Epoch 37/100\n",
            "15/15 [==============================] - 54s 4s/step - loss: 0.0320 - accuracy: 1.0000 - val_loss: 0.6569 - val_accuracy: 0.7500\n",
            "Epoch 38/100\n",
            "15/15 [==============================] - 54s 4s/step - loss: 0.0158 - accuracy: 1.0000 - val_loss: 0.9791 - val_accuracy: 0.7500\n",
            "Epoch 39/100\n",
            "15/15 [==============================] - 54s 4s/step - loss: 0.0035 - accuracy: 1.0000 - val_loss: 1.0824 - val_accuracy: 0.7500\n",
            "Epoch 40/100\n",
            "15/15 [==============================] - 54s 4s/step - loss: 0.0234 - accuracy: 0.9833 - val_loss: 1.1594 - val_accuracy: 0.7500\n",
            "Epoch 41/100\n",
            "15/15 [==============================] - 54s 4s/step - loss: 0.0040 - accuracy: 1.0000 - val_loss: 1.4283 - val_accuracy: 0.7500\n",
            "Epoch 42/100\n",
            "15/15 [==============================] - 54s 4s/step - loss: 0.0039 - accuracy: 1.0000 - val_loss: 1.4041 - val_accuracy: 0.7500\n",
            "Epoch 43/100\n",
            "15/15 [==============================] - 54s 4s/step - loss: 0.0013 - accuracy: 1.0000 - val_loss: 1.3092 - val_accuracy: 0.7500\n",
            "Epoch 44/100\n",
            "15/15 [==============================] - 54s 4s/step - loss: 4.4386e-04 - accuracy: 1.0000 - val_loss: 1.1456 - val_accuracy: 0.7500\n",
            "Epoch 45/100\n",
            "15/15 [==============================] - 54s 4s/step - loss: 1.3582e-04 - accuracy: 1.0000 - val_loss: 1.0593 - val_accuracy: 0.7500\n",
            "Epoch 46/100\n",
            "15/15 [==============================] - 54s 4s/step - loss: 0.0029 - accuracy: 1.0000 - val_loss: 1.4807 - val_accuracy: 0.7500\n",
            "Epoch 47/100\n",
            "15/15 [==============================] - 54s 4s/step - loss: 0.0030 - accuracy: 1.0000 - val_loss: 1.4970 - val_accuracy: 0.7500\n",
            "Epoch 48/100\n",
            "15/15 [==============================] - 54s 4s/step - loss: 3.5145e-04 - accuracy: 1.0000 - val_loss: 1.4522 - val_accuracy: 0.7500\n",
            "Epoch 49/100\n",
            "15/15 [==============================] - 54s 4s/step - loss: 1.6277e-04 - accuracy: 1.0000 - val_loss: 1.4064 - val_accuracy: 0.7500\n",
            "Epoch 50/100\n",
            "15/15 [==============================] - 54s 4s/step - loss: 1.8487e-04 - accuracy: 1.0000 - val_loss: 1.4041 - val_accuracy: 0.7500\n",
            "Epoch 51/100\n",
            "15/15 [==============================] - 54s 4s/step - loss: 1.9465e-04 - accuracy: 1.0000 - val_loss: 1.4029 - val_accuracy: 0.7500\n",
            "Epoch 52/100\n",
            "15/15 [==============================] - 54s 4s/step - loss: 2.2929e-04 - accuracy: 1.0000 - val_loss: 1.4371 - val_accuracy: 0.7500\n",
            "Epoch 53/100\n",
            "15/15 [==============================] - 54s 4s/step - loss: 5.0473e-05 - accuracy: 1.0000 - val_loss: 1.4451 - val_accuracy: 0.7500\n",
            "Epoch 54/100\n",
            "15/15 [==============================] - 54s 4s/step - loss: 1.0593e-04 - accuracy: 1.0000 - val_loss: 1.4484 - val_accuracy: 0.7500\n",
            "Epoch 55/100\n",
            "15/15 [==============================] - 54s 4s/step - loss: 5.7113e-05 - accuracy: 1.0000 - val_loss: 1.4438 - val_accuracy: 0.7500\n",
            "Epoch 56/100\n",
            "15/15 [==============================] - 54s 4s/step - loss: 3.8357e-04 - accuracy: 1.0000 - val_loss: 1.4470 - val_accuracy: 0.7500\n",
            "Epoch 57/100\n",
            "15/15 [==============================] - 54s 4s/step - loss: 2.3094e-05 - accuracy: 1.0000 - val_loss: 1.5452 - val_accuracy: 0.7500\n",
            "Epoch 58/100\n",
            "15/15 [==============================] - 54s 4s/step - loss: 5.5054e-05 - accuracy: 1.0000 - val_loss: 1.5588 - val_accuracy: 0.7500\n",
            "Epoch 59/100\n",
            "15/15 [==============================] - 54s 4s/step - loss: 2.7409e-05 - accuracy: 1.0000 - val_loss: 1.5549 - val_accuracy: 0.7500\n",
            "Epoch 60/100\n",
            "15/15 [==============================] - 54s 4s/step - loss: 2.3889e-05 - accuracy: 1.0000 - val_loss: 1.5513 - val_accuracy: 0.7500\n",
            "Epoch 61/100\n",
            "15/15 [==============================] - 54s 4s/step - loss: 3.4789e-05 - accuracy: 1.0000 - val_loss: 1.5357 - val_accuracy: 0.7500\n",
            "Epoch 62/100\n",
            "15/15 [==============================] - 54s 4s/step - loss: 3.6637e-04 - accuracy: 1.0000 - val_loss: 1.6284 - val_accuracy: 0.7500\n",
            "Epoch 63/100\n",
            "15/15 [==============================] - 54s 4s/step - loss: 7.5971e-05 - accuracy: 1.0000 - val_loss: 1.6995 - val_accuracy: 0.7500\n",
            "Epoch 64/100\n",
            "15/15 [==============================] - 54s 4s/step - loss: 4.9855e-05 - accuracy: 1.0000 - val_loss: 1.7018 - val_accuracy: 0.7500\n",
            "Epoch 65/100\n",
            "15/15 [==============================] - 54s 4s/step - loss: 3.2237e-05 - accuracy: 1.0000 - val_loss: 1.6967 - val_accuracy: 0.7500\n",
            "Epoch 66/100\n",
            "15/15 [==============================] - 54s 4s/step - loss: 3.2902e-05 - accuracy: 1.0000 - val_loss: 1.6863 - val_accuracy: 0.7500\n",
            "Epoch 67/100\n",
            "15/15 [==============================] - 54s 4s/step - loss: 4.9808e-05 - accuracy: 1.0000 - val_loss: 1.6778 - val_accuracy: 0.7500\n",
            "Epoch 68/100\n",
            "15/15 [==============================] - 54s 4s/step - loss: 2.7276e-04 - accuracy: 1.0000 - val_loss: 1.6643 - val_accuracy: 0.7500\n",
            "Epoch 69/100\n",
            "15/15 [==============================] - 54s 4s/step - loss: 3.2459e-05 - accuracy: 1.0000 - val_loss: 1.6420 - val_accuracy: 0.7500\n",
            "Epoch 70/100\n",
            "15/15 [==============================] - 54s 4s/step - loss: 9.5205e-05 - accuracy: 1.0000 - val_loss: 1.6337 - val_accuracy: 0.7500\n",
            "Epoch 71/100\n",
            "15/15 [==============================] - 54s 4s/step - loss: 2.9930e-05 - accuracy: 1.0000 - val_loss: 1.6286 - val_accuracy: 0.7500\n",
            "Epoch 72/100\n",
            "15/15 [==============================] - 54s 4s/step - loss: 7.2622e-05 - accuracy: 1.0000 - val_loss: 1.6193 - val_accuracy: 0.7500\n",
            "Epoch 73/100\n",
            "15/15 [==============================] - 54s 4s/step - loss: 1.4822e-04 - accuracy: 1.0000 - val_loss: 1.6248 - val_accuracy: 0.7500\n",
            "Epoch 74/100\n",
            "15/15 [==============================] - 54s 4s/step - loss: 1.7813e-05 - accuracy: 1.0000 - val_loss: 1.6353 - val_accuracy: 0.7500\n",
            "Epoch 75/100\n",
            "15/15 [==============================] - 54s 4s/step - loss: 3.3278e-05 - accuracy: 1.0000 - val_loss: 1.6381 - val_accuracy: 0.7500\n",
            "Epoch 76/100\n",
            "15/15 [==============================] - 54s 4s/step - loss: 2.3831e-05 - accuracy: 1.0000 - val_loss: 1.6408 - val_accuracy: 0.7500\n",
            "Epoch 77/100\n",
            "15/15 [==============================] - 54s 4s/step - loss: 8.7752e-05 - accuracy: 1.0000 - val_loss: 1.6608 - val_accuracy: 0.7500\n",
            "Epoch 78/100\n",
            "15/15 [==============================] - 54s 4s/step - loss: 2.6188e-05 - accuracy: 1.0000 - val_loss: 1.6724 - val_accuracy: 0.7500\n",
            "Epoch 79/100\n",
            "15/15 [==============================] - 54s 4s/step - loss: 5.4278e-06 - accuracy: 1.0000 - val_loss: 1.6791 - val_accuracy: 0.7500\n",
            "Epoch 80/100\n",
            "15/15 [==============================] - 54s 4s/step - loss: 4.4122e-05 - accuracy: 1.0000 - val_loss: 1.6780 - val_accuracy: 0.7500\n",
            "Epoch 81/100\n",
            "15/15 [==============================] - 54s 4s/step - loss: 2.3537e-05 - accuracy: 1.0000 - val_loss: 1.6789 - val_accuracy: 0.7500\n",
            "Epoch 82/100\n",
            "15/15 [==============================] - 54s 4s/step - loss: 6.0515e-06 - accuracy: 1.0000 - val_loss: 1.6782 - val_accuracy: 0.7500\n",
            "Epoch 83/100\n",
            "15/15 [==============================] - 54s 4s/step - loss: 6.0075e-05 - accuracy: 1.0000 - val_loss: 1.6753 - val_accuracy: 0.7500\n",
            "Epoch 84/100\n",
            "15/15 [==============================] - 54s 4s/step - loss: 4.4245e-06 - accuracy: 1.0000 - val_loss: 1.6732 - val_accuracy: 0.7500\n",
            "Epoch 85/100\n",
            "15/15 [==============================] - 54s 4s/step - loss: 1.1495e-05 - accuracy: 1.0000 - val_loss: 1.6726 - val_accuracy: 0.7500\n",
            "Epoch 86/100\n",
            "15/15 [==============================] - 54s 4s/step - loss: 0.0034 - accuracy: 1.0000 - val_loss: 1.7165 - val_accuracy: 0.7500\n",
            "Epoch 87/100\n",
            "15/15 [==============================] - 54s 4s/step - loss: 7.4176e-05 - accuracy: 1.0000 - val_loss: 2.6109 - val_accuracy: 0.7500\n",
            "Epoch 88/100\n",
            "15/15 [==============================] - 54s 4s/step - loss: 8.9821e-04 - accuracy: 1.0000 - val_loss: 2.5069 - val_accuracy: 0.7500\n",
            "Epoch 89/100\n",
            "15/15 [==============================] - 54s 4s/step - loss: 2.7617e-05 - accuracy: 1.0000 - val_loss: 2.2787 - val_accuracy: 0.7500\n",
            "Epoch 90/100\n",
            "15/15 [==============================] - 54s 4s/step - loss: 2.0636e-05 - accuracy: 1.0000 - val_loss: 2.2059 - val_accuracy: 0.7500\n",
            "Epoch 91/100\n",
            "15/15 [==============================] - 54s 4s/step - loss: 4.1790e-05 - accuracy: 1.0000 - val_loss: 2.1651 - val_accuracy: 0.7500\n",
            "Epoch 92/100\n",
            "15/15 [==============================] - 54s 4s/step - loss: 3.4644e-04 - accuracy: 1.0000 - val_loss: 2.0197 - val_accuracy: 0.7500\n",
            "Epoch 93/100\n",
            "15/15 [==============================] - 54s 4s/step - loss: 2.5615e-05 - accuracy: 1.0000 - val_loss: 1.9651 - val_accuracy: 0.7500\n",
            "Epoch 94/100\n",
            "15/15 [==============================] - 54s 4s/step - loss: 3.4430e-06 - accuracy: 1.0000 - val_loss: 1.9429 - val_accuracy: 0.7500\n",
            "Epoch 95/100\n",
            "15/15 [==============================] - 54s 4s/step - loss: 1.9777e-05 - accuracy: 1.0000 - val_loss: 2.0578 - val_accuracy: 0.7500\n",
            "Epoch 96/100\n",
            "15/15 [==============================] - 54s 4s/step - loss: 1.1108e-04 - accuracy: 1.0000 - val_loss: 2.0925 - val_accuracy: 0.7500\n",
            "Epoch 97/100\n",
            "15/15 [==============================] - 54s 4s/step - loss: 5.2604e-05 - accuracy: 1.0000 - val_loss: 2.1275 - val_accuracy: 0.7500\n",
            "Epoch 98/100\n",
            "15/15 [==============================] - 54s 4s/step - loss: 7.1128e-07 - accuracy: 1.0000 - val_loss: 2.1443 - val_accuracy: 0.7500\n",
            "Epoch 99/100\n",
            "15/15 [==============================] - 54s 4s/step - loss: 2.2331e-06 - accuracy: 1.0000 - val_loss: 2.1473 - val_accuracy: 0.7500\n",
            "Epoch 100/100\n",
            "15/15 [==============================] - 54s 4s/step - loss: 2.4635e-05 - accuracy: 1.0000 - val_loss: 2.1454 - val_accuracy: 0.7500\n"
          ],
          "name": "stdout"
        },
        {
          "output_type": "execute_result",
          "data": {
            "text/plain": [
              "<tensorflow.python.keras.callbacks.History at 0x7fda09c35f90>"
            ]
          },
          "metadata": {
            "tags": []
          },
          "execution_count": 12
        }
      ]
    },
    {
      "cell_type": "code",
      "metadata": {
        "id": "dwkxcMnDqXEB",
        "colab": {
          "base_uri": "https://localhost:8080/"
        },
        "outputId": "0acc5f48-1a60-4157-ea31-168e814d2577"
      },
      "source": [
        "print(\"-- Evaluate --\")\n",
        "scores = model.evaluate(test_generator, steps=3)\n",
        "print(\"%s: %.2f%%\" %(model.metrics_names[1], scores[1]*100))"
      ],
      "execution_count": 13,
      "outputs": [
        {
          "output_type": "stream",
          "text": [
            "-- Evaluate --\n",
            "3/3 [==============================] - 2s 623ms/step - loss: 2.1454 - accuracy: 0.7500\n",
            "accuracy: 75.00%\n"
          ],
          "name": "stdout"
        }
      ]
    },
    {
      "cell_type": "code",
      "metadata": {
        "id": "KQnF0I-fqcuC",
        "colab": {
          "base_uri": "https://localhost:8080/"
        },
        "outputId": "542a6bdf-3edc-4320-d292-53368e1a9c11"
      },
      "source": [
        "print(\"-- Predict --\")\n",
        "output = model.predict(test_generator, steps=3)\n",
        "np.set_printoptions(formatter={'float': lambda x: \"{0:0.3f}\".format(x)})\n",
        "print(test_generator.class_indices)\n",
        "print(output)"
      ],
      "execution_count": 14,
      "outputs": [
        {
          "output_type": "stream",
          "text": [
            "-- Predict --\n",
            "{'1': 0, '2': 1, '3': 2, '4': 3}\n",
            "[[0.000 0.000 0.000 1.000]\n",
            " [0.000 0.269 0.731 0.000]\n",
            " [0.000 0.983 0.017 0.000]\n",
            " [0.000 1.000 0.000 0.000]\n",
            " [0.000 0.979 0.021 0.000]\n",
            " [0.000 0.251 0.749 0.000]\n",
            " [0.000 1.000 0.000 0.000]\n",
            " [0.000 0.000 0.000 1.000]\n",
            " [0.000 0.975 0.025 0.000]\n",
            " [0.000 0.282 0.718 0.000]\n",
            " [0.000 1.000 0.000 0.000]\n",
            " [0.000 0.000 0.000 1.000]]\n"
          ],
          "name": "stdout"
        }
      ]
    }
  ]
}