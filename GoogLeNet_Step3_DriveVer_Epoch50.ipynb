{
  "nbformat": 4,
  "nbformat_minor": 0,
  "metadata": {
    "colab": {
      "name": "GoogLeNet_Step3_DriveVer_Epoch50.ipynb",
      "provenance": [],
      "collapsed_sections": [],
      "authorship_tag": "ABX9TyNvUQAnSctkvbk3ybxbNpIw",
      "include_colab_link": true
    },
    "kernelspec": {
      "name": "python3",
      "display_name": "Python 3"
    },
    "language_info": {
      "name": "python"
    }
  },
  "cells": [
    {
      "cell_type": "markdown",
      "metadata": {
        "id": "view-in-github",
        "colab_type": "text"
      },
      "source": [
        "<a href=\"https://colab.research.google.com/github/NewTAs/GoogLeNet/blob/main/GoogLeNet_Step3_DriveVer_Epoch50.ipynb\" target=\"_parent\"><img src=\"https://colab.research.google.com/assets/colab-badge.svg\" alt=\"Open In Colab\"/></a>"
      ]
    },
    {
      "cell_type": "markdown",
      "metadata": {
        "id": "9Ut6dnnVg4cp"
      },
      "source": [
        "* 참고: https://tykimos.github.io/2017/03/08/CNN_Getting_Started/"
      ]
    },
    {
      "cell_type": "code",
      "metadata": {
        "colab": {
          "base_uri": "https://localhost:8080/"
        },
        "id": "E9vBGLsdgq24",
        "outputId": "5142d153-f192-4978-f41e-50324386a53e"
      },
      "source": [
        "# Step1 Code\n",
        "import os\n",
        "import re\n",
        "import glob\n",
        "import cv2\n",
        "import numpy as np\n",
        "from sklearn.model_selection import train_test_split\n",
        "\n",
        "import tensorflow as tf\n",
        "\n",
        "from google.colab import drive\n",
        "drive.mount('googlenet')\n",
        "\n",
        "# New Cord\n",
        "import numpy as np\n",
        "from keras.models import Sequential\n",
        "from keras.layers import Dense\n",
        "from keras.layers import Flatten\n",
        "from keras.layers.convolutional import Conv2D\n",
        "from keras.layers.convolutional import MaxPooling2D\n",
        "from keras.preprocessing.image import ImageDataGenerator\n",
        "\n",
        "np.random.seed(4) # 랜덤시드 고정시키기"
      ],
      "execution_count": 1,
      "outputs": [
        {
          "output_type": "stream",
          "text": [
            "Mounted at googlenet\n"
          ],
          "name": "stdout"
        }
      ]
    },
    {
      "cell_type": "code",
      "metadata": {
        "colab": {
          "base_uri": "https://localhost:8080/"
        },
        "id": "Vl2fl4Ishlg_",
        "outputId": "7acf77a7-d349-47d6-bbbc-86f6a4b5b848"
      },
      "source": [
        "pictureWeightHeightSize = 227\n",
        "\n",
        "train_datagen = ImageDataGenerator(rescale=1./255)\n",
        "\n",
        "train_generator = train_datagen.flow_from_directory(\n",
        "        '/content/googlenet/MyDrive/GoogLeNet_Data/TrainData_Step3/',\n",
        "        target_size=(pictureWeightHeightSize, pictureWeightHeightSize),\n",
        "        batch_size=4,\n",
        "        class_mode='categorical')\n",
        "\n",
        "test_datagen = ImageDataGenerator(rescale=1./255)\n",
        "\n",
        "test_generator = test_datagen.flow_from_directory(\n",
        "        '/content/googlenet/MyDrive/GoogLeNet_Data/TestData_Step3/',\n",
        "        target_size=(pictureWeightHeightSize, pictureWeightHeightSize),    \n",
        "        batch_size=4,\n",
        "        class_mode='categorical')"
      ],
      "execution_count": 2,
      "outputs": [
        {
          "output_type": "stream",
          "text": [
            "Found 60 images belonging to 4 classes.\n",
            "Found 12 images belonging to 4 classes.\n"
          ],
          "name": "stdout"
        }
      ]
    },
    {
      "cell_type": "code",
      "metadata": {
        "id": "8536c856"
      },
      "source": [
        "input_layer = tf.keras.layers.Input(shape=(227, 227, 3))"
      ],
      "execution_count": 3,
      "outputs": []
    },
    {
      "cell_type": "code",
      "metadata": {
        "id": "77191152"
      },
      "source": [
        "stem_layer = tf.keras.layers.Conv2D(32, (3, 3), strides=(1, 1), padding='SAME', activation='relu')(input_layer)\n",
        "# Max Pooling Here on Original Inception (3x3, stride=2)\n",
        "stem_layer = tf.keras.layers.Conv2D(64, (3, 3), strides=(1, 1), padding='SAME', activation='relu')(stem_layer)\n",
        "# Max Pooling Here on Original Inception (3x3, stride=2)"
      ],
      "execution_count": 4,
      "outputs": []
    },
    {
      "cell_type": "code",
      "metadata": {
        "id": "c29d9d72"
      },
      "source": [
        "inception_block3a_1x1 = tf.keras.layers.Conv2D(32, (1, 1), strides=(1, 1), padding='SAME', activation='relu')(stem_layer)\n",
        "\n",
        "inception_block3a_3x3 = tf.keras.layers.Conv2D(48, (1, 1), padding='SAME', activation='relu')(stem_layer)\n",
        "inception_block3a_3x3 = tf.keras.layers.Conv2D(64, (3, 3), padding='SAME', activation='relu')(inception_block3a_3x3)\n",
        "\n",
        "inception_block3a_5x5 = tf.keras.layers.Conv2D(8, (1, 1), padding='SAME', activation='relu')(stem_layer)\n",
        "inception_block3a_5x5 = tf.keras.layers.Conv2D(16, (5, 5), padding='SAME', activation='relu')(inception_block3a_5x5)\n",
        "\n",
        "inception_block3a_pool = tf.keras.layers.MaxPool2D((3, 3), strides=(1, 1), padding='SAME')(stem_layer)\n",
        "inception_block3a_pool = tf.keras.layers.Conv2D(16, (1, 1), padding='SAME', activation='relu')(inception_block3a_pool)\n",
        "\n",
        "inception_block3a = tf.keras.layers.Concatenate()([inception_block3a_1x1, inception_block3a_3x3,\n",
        "                                                   inception_block3a_5x5, inception_block3a_pool]) # 32x32x128"
      ],
      "execution_count": 5,
      "outputs": []
    },
    {
      "cell_type": "code",
      "metadata": {
        "id": "3746e709"
      },
      "source": [
        "# inception_block3b Here on Original Inception\n",
        "max_pool = tf.keras.layers.MaxPool2D((3, 3), strides=(2, 2), padding='SAME')(inception_block3a) # 16x16x128"
      ],
      "execution_count": 6,
      "outputs": []
    },
    {
      "cell_type": "code",
      "metadata": {
        "id": "5e256e02"
      },
      "source": [
        "inception_block4a_1x1 = tf.keras.layers.Conv2D(64, (1, 1), padding='SAME', activation='relu')(max_pool)\n",
        "\n",
        "inception_block4a_3x3 = tf.keras.layers.Conv2D(64, (1, 1), padding='SAME', activation='relu')(max_pool)\n",
        "inception_block4a_3x3 = tf.keras.layers.Conv2D(96, (3, 3), padding='SAME', activation='relu')(inception_block4a_3x3)\n",
        "\n",
        "inception_block4a_5x5 = tf.keras.layers.Conv2D(16, (1, 1), padding='SAME', activation='relu')(max_pool)\n",
        "inception_block4a_5x5 = tf.keras.layers.Conv2D(48, (5, 5), padding='SAME', activation='relu')(inception_block4a_5x5)\n",
        "\n",
        "inception_block4a_pool = tf.keras.layers.MaxPool2D((3, 3), strides=(1, 1), padding='SAME')(max_pool)\n",
        "inception_block4a_pool = tf.keras.layers.Conv2D(32, (1, 1), padding='SAME', activation='relu')(inception_block4a_pool)\n",
        "\n",
        "inception_block4a = tf.keras.layers.Concatenate()([inception_block4a_1x1, inception_block4a_3x3,\n",
        "                                                   inception_block4a_5x5, inception_block4a_pool]) # 16x16x240\n",
        "\n",
        "# inception_block4b Here on Original Inception\n",
        "# inception_block4c Here on Original Inception\n",
        "# inception_block4d Here on Original Inception\n",
        "# inception_block4e Here on Original Inception"
      ],
      "execution_count": 7,
      "outputs": []
    },
    {
      "cell_type": "code",
      "metadata": {
        "id": "eeccc456"
      },
      "source": [
        "max_pool = tf.keras.layers.MaxPool2D((3, 3), strides=(2, 2), padding='SAME')(inception_block4a) # 8x8x240"
      ],
      "execution_count": 8,
      "outputs": []
    },
    {
      "cell_type": "code",
      "metadata": {
        "id": "66fe0596"
      },
      "source": [
        "inception_block5a_1x1 = tf.keras.layers.Conv2D(128, (1, 1), padding='SAME', activation='relu')(max_pool)\n",
        "\n",
        "inception_block5a_3x3 = tf.keras.layers.Conv2D(80, (1, 1), padding='SAME', activation='relu')(max_pool)\n",
        "inception_block5a_3x3 = tf.keras.layers.Conv2D(120, (3, 3), padding='SAME', activation='relu')(inception_block5a_3x3)\n",
        "\n",
        "inception_block5a_5x5 = tf.keras.layers.Conv2D(16, (1, 1), padding='SAME', activation='relu')(max_pool)\n",
        "inception_block5a_5x5 = tf.keras.layers.Conv2D(64, (5, 5), padding='SAME', activation='relu')(inception_block5a_5x5)\n",
        "\n",
        "inception_block5a_pool = tf.keras.layers.MaxPool2D((3, 3), strides=(1, 1), padding='SAME')(max_pool)\n",
        "inception_block5a_pool = tf.keras.layers.Conv2D(64, (1, 1), padding='SAME', activation='relu')(inception_block5a_pool)\n",
        "\n",
        "inception_block5a = tf.keras.layers.Concatenate()([inception_block5a_1x1, inception_block5a_3x3,\n",
        "                                                   inception_block5a_5x5, inception_block5a_pool]) # 8x8x416\n",
        "# inception_block5b Here on Original Inception"
      ],
      "execution_count": 9,
      "outputs": []
    },
    {
      "cell_type": "code",
      "metadata": {
        "id": "3b26f10f"
      },
      "source": [
        "avg_pool = tf.keras.layers.GlobalAveragePooling2D()(inception_block5a) # 416\n",
        "dropout = tf.keras.layers.Dropout(0.4)(avg_pool)\n",
        "out_layer = tf.keras.layers.Dense(4, activation='softmax')(dropout)"
      ],
      "execution_count": 10,
      "outputs": []
    },
    {
      "cell_type": "code",
      "metadata": {
        "colab": {
          "base_uri": "https://localhost:8080/"
        },
        "id": "1764FfRSmsYP",
        "outputId": "6e1950ac-6f88-4645-8589-30ae1419b3fb"
      },
      "source": [
        "model = tf.keras.models.Model(input_layer, out_layer)\n",
        "\n",
        "#model.compile(optimizer='adam', loss='sparse_categorical_crossentropy', metrics=['accuracy'])\n",
        "model.compile(optimizer='adam', loss='categorical_crossentropy', metrics=['accuracy'])\n",
        "model.summary()\n",
        "\n",
        "#model.fit(x_train, y_train, batch_size=128, epochs=10, validation_data=(x_test, y_test))"
      ],
      "execution_count": 11,
      "outputs": [
        {
          "output_type": "stream",
          "text": [
            "Model: \"model\"\n",
            "__________________________________________________________________________________________________\n",
            "Layer (type)                    Output Shape         Param #     Connected to                     \n",
            "==================================================================================================\n",
            "input_1 (InputLayer)            [(None, 227, 227, 3) 0                                            \n",
            "__________________________________________________________________________________________________\n",
            "conv2d (Conv2D)                 (None, 227, 227, 32) 896         input_1[0][0]                    \n",
            "__________________________________________________________________________________________________\n",
            "conv2d_1 (Conv2D)               (None, 227, 227, 64) 18496       conv2d[0][0]                     \n",
            "__________________________________________________________________________________________________\n",
            "conv2d_3 (Conv2D)               (None, 227, 227, 48) 3120        conv2d_1[0][0]                   \n",
            "__________________________________________________________________________________________________\n",
            "conv2d_5 (Conv2D)               (None, 227, 227, 8)  520         conv2d_1[0][0]                   \n",
            "__________________________________________________________________________________________________\n",
            "max_pooling2d (MaxPooling2D)    (None, 227, 227, 64) 0           conv2d_1[0][0]                   \n",
            "__________________________________________________________________________________________________\n",
            "conv2d_2 (Conv2D)               (None, 227, 227, 32) 2080        conv2d_1[0][0]                   \n",
            "__________________________________________________________________________________________________\n",
            "conv2d_4 (Conv2D)               (None, 227, 227, 64) 27712       conv2d_3[0][0]                   \n",
            "__________________________________________________________________________________________________\n",
            "conv2d_6 (Conv2D)               (None, 227, 227, 16) 3216        conv2d_5[0][0]                   \n",
            "__________________________________________________________________________________________________\n",
            "conv2d_7 (Conv2D)               (None, 227, 227, 16) 1040        max_pooling2d[0][0]              \n",
            "__________________________________________________________________________________________________\n",
            "concatenate (Concatenate)       (None, 227, 227, 128 0           conv2d_2[0][0]                   \n",
            "                                                                 conv2d_4[0][0]                   \n",
            "                                                                 conv2d_6[0][0]                   \n",
            "                                                                 conv2d_7[0][0]                   \n",
            "__________________________________________________________________________________________________\n",
            "max_pooling2d_1 (MaxPooling2D)  (None, 114, 114, 128 0           concatenate[0][0]                \n",
            "__________________________________________________________________________________________________\n",
            "conv2d_9 (Conv2D)               (None, 114, 114, 64) 8256        max_pooling2d_1[0][0]            \n",
            "__________________________________________________________________________________________________\n",
            "conv2d_11 (Conv2D)              (None, 114, 114, 16) 2064        max_pooling2d_1[0][0]            \n",
            "__________________________________________________________________________________________________\n",
            "max_pooling2d_2 (MaxPooling2D)  (None, 114, 114, 128 0           max_pooling2d_1[0][0]            \n",
            "__________________________________________________________________________________________________\n",
            "conv2d_8 (Conv2D)               (None, 114, 114, 64) 8256        max_pooling2d_1[0][0]            \n",
            "__________________________________________________________________________________________________\n",
            "conv2d_10 (Conv2D)              (None, 114, 114, 96) 55392       conv2d_9[0][0]                   \n",
            "__________________________________________________________________________________________________\n",
            "conv2d_12 (Conv2D)              (None, 114, 114, 48) 19248       conv2d_11[0][0]                  \n",
            "__________________________________________________________________________________________________\n",
            "conv2d_13 (Conv2D)              (None, 114, 114, 32) 4128        max_pooling2d_2[0][0]            \n",
            "__________________________________________________________________________________________________\n",
            "concatenate_1 (Concatenate)     (None, 114, 114, 240 0           conv2d_8[0][0]                   \n",
            "                                                                 conv2d_10[0][0]                  \n",
            "                                                                 conv2d_12[0][0]                  \n",
            "                                                                 conv2d_13[0][0]                  \n",
            "__________________________________________________________________________________________________\n",
            "max_pooling2d_3 (MaxPooling2D)  (None, 57, 57, 240)  0           concatenate_1[0][0]              \n",
            "__________________________________________________________________________________________________\n",
            "conv2d_15 (Conv2D)              (None, 57, 57, 80)   19280       max_pooling2d_3[0][0]            \n",
            "__________________________________________________________________________________________________\n",
            "conv2d_17 (Conv2D)              (None, 57, 57, 16)   3856        max_pooling2d_3[0][0]            \n",
            "__________________________________________________________________________________________________\n",
            "max_pooling2d_4 (MaxPooling2D)  (None, 57, 57, 240)  0           max_pooling2d_3[0][0]            \n",
            "__________________________________________________________________________________________________\n",
            "conv2d_14 (Conv2D)              (None, 57, 57, 128)  30848       max_pooling2d_3[0][0]            \n",
            "__________________________________________________________________________________________________\n",
            "conv2d_16 (Conv2D)              (None, 57, 57, 120)  86520       conv2d_15[0][0]                  \n",
            "__________________________________________________________________________________________________\n",
            "conv2d_18 (Conv2D)              (None, 57, 57, 64)   25664       conv2d_17[0][0]                  \n",
            "__________________________________________________________________________________________________\n",
            "conv2d_19 (Conv2D)              (None, 57, 57, 64)   15424       max_pooling2d_4[0][0]            \n",
            "__________________________________________________________________________________________________\n",
            "concatenate_2 (Concatenate)     (None, 57, 57, 376)  0           conv2d_14[0][0]                  \n",
            "                                                                 conv2d_16[0][0]                  \n",
            "                                                                 conv2d_18[0][0]                  \n",
            "                                                                 conv2d_19[0][0]                  \n",
            "__________________________________________________________________________________________________\n",
            "global_average_pooling2d (Globa (None, 376)          0           concatenate_2[0][0]              \n",
            "__________________________________________________________________________________________________\n",
            "dropout (Dropout)               (None, 376)          0           global_average_pooling2d[0][0]   \n",
            "__________________________________________________________________________________________________\n",
            "dense (Dense)                   (None, 4)            1508        dropout[0][0]                    \n",
            "==================================================================================================\n",
            "Total params: 337,524\n",
            "Trainable params: 337,524\n",
            "Non-trainable params: 0\n",
            "__________________________________________________________________________________________________\n"
          ],
          "name": "stdout"
        }
      ]
    },
    {
      "cell_type": "code",
      "metadata": {
        "colab": {
          "base_uri": "https://localhost:8080/"
        },
        "id": "b1D7qJrqnK3I",
        "outputId": "6de8a9c8-efdb-46ab-fd87-a49ab3f99e6e"
      },
      "source": [
        "model.fit(train_generator, epochs=50, validation_data=test_generator)"
      ],
      "execution_count": 12,
      "outputs": [
        {
          "output_type": "stream",
          "text": [
            "Epoch 1/50\n",
            "15/15 [==============================] - 70s 4s/step - loss: 1.4156 - accuracy: 0.2000 - val_loss: 1.3512 - val_accuracy: 0.2500\n",
            "Epoch 2/50\n",
            "15/15 [==============================] - 61s 4s/step - loss: 1.3177 - accuracy: 0.2500 - val_loss: 1.2572 - val_accuracy: 0.2500\n",
            "Epoch 3/50\n",
            "15/15 [==============================] - 61s 4s/step - loss: 1.1032 - accuracy: 0.4667 - val_loss: 0.9272 - val_accuracy: 0.5000\n",
            "Epoch 4/50\n",
            "15/15 [==============================] - 61s 4s/step - loss: 0.8386 - accuracy: 0.5833 - val_loss: 0.8630 - val_accuracy: 0.7500\n",
            "Epoch 5/50\n",
            "15/15 [==============================] - 61s 4s/step - loss: 0.6619 - accuracy: 0.7333 - val_loss: 0.4990 - val_accuracy: 0.7500\n",
            "Epoch 6/50\n",
            "15/15 [==============================] - 61s 4s/step - loss: 0.4298 - accuracy: 0.8167 - val_loss: 2.9722 - val_accuracy: 0.4167\n",
            "Epoch 7/50\n",
            "15/15 [==============================] - 61s 4s/step - loss: 1.2156 - accuracy: 0.5500 - val_loss: 0.6099 - val_accuracy: 0.7500\n",
            "Epoch 8/50\n",
            "15/15 [==============================] - 61s 4s/step - loss: 0.6315 - accuracy: 0.7667 - val_loss: 0.5129 - val_accuracy: 0.7500\n",
            "Epoch 9/50\n",
            "15/15 [==============================] - 61s 4s/step - loss: 0.4868 - accuracy: 0.7500 - val_loss: 0.3806 - val_accuracy: 1.0000\n",
            "Epoch 10/50\n",
            "15/15 [==============================] - 61s 4s/step - loss: 0.3270 - accuracy: 0.9167 - val_loss: 0.2594 - val_accuracy: 1.0000\n",
            "Epoch 11/50\n",
            "15/15 [==============================] - 61s 4s/step - loss: 0.2978 - accuracy: 0.8833 - val_loss: 0.2638 - val_accuracy: 0.7500\n",
            "Epoch 12/50\n",
            "15/15 [==============================] - 61s 4s/step - loss: 0.2196 - accuracy: 0.9167 - val_loss: 0.1080 - val_accuracy: 1.0000\n",
            "Epoch 13/50\n",
            "15/15 [==============================] - 61s 4s/step - loss: 0.1064 - accuracy: 1.0000 - val_loss: 0.0829 - val_accuracy: 1.0000\n",
            "Epoch 14/50\n",
            "15/15 [==============================] - 61s 4s/step - loss: 0.0499 - accuracy: 0.9833 - val_loss: 0.0565 - val_accuracy: 1.0000\n",
            "Epoch 15/50\n",
            "15/15 [==============================] - 61s 4s/step - loss: 0.0067 - accuracy: 1.0000 - val_loss: 0.0702 - val_accuracy: 1.0000\n",
            "Epoch 16/50\n",
            "15/15 [==============================] - 61s 4s/step - loss: 0.0037 - accuracy: 1.0000 - val_loss: 0.1174 - val_accuracy: 1.0000\n",
            "Epoch 17/50\n",
            "15/15 [==============================] - 61s 4s/step - loss: 0.0032 - accuracy: 1.0000 - val_loss: 0.0779 - val_accuracy: 1.0000\n",
            "Epoch 18/50\n",
            "15/15 [==============================] - 61s 4s/step - loss: 0.0016 - accuracy: 1.0000 - val_loss: 0.1503 - val_accuracy: 1.0000\n",
            "Epoch 19/50\n",
            "15/15 [==============================] - 61s 4s/step - loss: 0.0015 - accuracy: 1.0000 - val_loss: 0.2011 - val_accuracy: 0.7500\n",
            "Epoch 20/50\n",
            "15/15 [==============================] - 61s 4s/step - loss: 2.1816e-04 - accuracy: 1.0000 - val_loss: 0.2149 - val_accuracy: 0.7500\n",
            "Epoch 21/50\n",
            "15/15 [==============================] - 61s 4s/step - loss: 9.6004e-04 - accuracy: 1.0000 - val_loss: 0.1984 - val_accuracy: 0.7500\n",
            "Epoch 22/50\n",
            "15/15 [==============================] - 61s 4s/step - loss: 6.0477e-04 - accuracy: 1.0000 - val_loss: 0.1936 - val_accuracy: 0.7500\n",
            "Epoch 23/50\n",
            "15/15 [==============================] - 61s 4s/step - loss: 1.9626e-04 - accuracy: 1.0000 - val_loss: 0.1963 - val_accuracy: 0.7500\n",
            "Epoch 24/50\n",
            "15/15 [==============================] - 61s 4s/step - loss: 6.6889e-05 - accuracy: 1.0000 - val_loss: 0.1947 - val_accuracy: 0.7500\n",
            "Epoch 25/50\n",
            "15/15 [==============================] - 61s 4s/step - loss: 3.1860e-05 - accuracy: 1.0000 - val_loss: 0.1927 - val_accuracy: 0.7500\n",
            "Epoch 26/50\n",
            "15/15 [==============================] - 61s 4s/step - loss: 9.4835e-05 - accuracy: 1.0000 - val_loss: 0.2046 - val_accuracy: 0.7500\n",
            "Epoch 27/50\n",
            "15/15 [==============================] - 61s 4s/step - loss: 1.1752e-04 - accuracy: 1.0000 - val_loss: 0.1738 - val_accuracy: 0.9167\n",
            "Epoch 28/50\n",
            "15/15 [==============================] - 61s 4s/step - loss: 2.8228e-05 - accuracy: 1.0000 - val_loss: 0.1573 - val_accuracy: 1.0000\n",
            "Epoch 29/50\n",
            "15/15 [==============================] - 61s 4s/step - loss: 2.9320e-05 - accuracy: 1.0000 - val_loss: 0.1593 - val_accuracy: 1.0000\n",
            "Epoch 30/50\n",
            "15/15 [==============================] - 61s 4s/step - loss: 3.5347e-04 - accuracy: 1.0000 - val_loss: 0.1275 - val_accuracy: 1.0000\n",
            "Epoch 31/50\n",
            "15/15 [==============================] - 61s 4s/step - loss: 1.3785e-04 - accuracy: 1.0000 - val_loss: 0.1719 - val_accuracy: 1.0000\n",
            "Epoch 32/50\n",
            "15/15 [==============================] - 61s 4s/step - loss: 1.8736e-05 - accuracy: 1.0000 - val_loss: 0.1967 - val_accuracy: 0.7500\n",
            "Epoch 33/50\n",
            "15/15 [==============================] - 61s 4s/step - loss: 8.6200e-05 - accuracy: 1.0000 - val_loss: 0.2324 - val_accuracy: 0.7500\n",
            "Epoch 34/50\n",
            "15/15 [==============================] - 61s 4s/step - loss: 4.7276e-05 - accuracy: 1.0000 - val_loss: 0.2497 - val_accuracy: 0.7500\n",
            "Epoch 35/50\n",
            "15/15 [==============================] - 61s 4s/step - loss: 1.2808e-05 - accuracy: 1.0000 - val_loss: 0.2685 - val_accuracy: 0.7500\n",
            "Epoch 36/50\n",
            "15/15 [==============================] - 61s 4s/step - loss: 2.1069e-05 - accuracy: 1.0000 - val_loss: 0.2824 - val_accuracy: 0.7500\n",
            "Epoch 37/50\n",
            "15/15 [==============================] - 61s 4s/step - loss: 8.8212e-06 - accuracy: 1.0000 - val_loss: 0.2962 - val_accuracy: 0.7500\n",
            "Epoch 38/50\n",
            "15/15 [==============================] - 61s 4s/step - loss: 1.1832e-05 - accuracy: 1.0000 - val_loss: 0.3046 - val_accuracy: 0.7500\n",
            "Epoch 39/50\n",
            "15/15 [==============================] - 61s 4s/step - loss: 2.5386e-05 - accuracy: 1.0000 - val_loss: 0.2851 - val_accuracy: 0.7500\n",
            "Epoch 40/50\n",
            "15/15 [==============================] - 61s 4s/step - loss: 9.2541e-06 - accuracy: 1.0000 - val_loss: 0.2657 - val_accuracy: 0.7500\n",
            "Epoch 41/50\n",
            "15/15 [==============================] - 61s 4s/step - loss: 4.0449e-05 - accuracy: 1.0000 - val_loss: 0.2688 - val_accuracy: 0.7500\n",
            "Epoch 42/50\n",
            "15/15 [==============================] - 61s 4s/step - loss: 4.8835e-05 - accuracy: 1.0000 - val_loss: 0.3066 - val_accuracy: 0.7500\n",
            "Epoch 43/50\n",
            "15/15 [==============================] - 61s 4s/step - loss: 1.8229e-05 - accuracy: 1.0000 - val_loss: 0.3368 - val_accuracy: 0.7500\n",
            "Epoch 44/50\n",
            "15/15 [==============================] - 61s 4s/step - loss: 9.0074e-06 - accuracy: 1.0000 - val_loss: 0.3533 - val_accuracy: 0.7500\n",
            "Epoch 45/50\n",
            "15/15 [==============================] - 61s 4s/step - loss: 1.1885e-04 - accuracy: 1.0000 - val_loss: 0.4124 - val_accuracy: 0.7500\n",
            "Epoch 46/50\n",
            "15/15 [==============================] - 61s 4s/step - loss: 2.4604e-04 - accuracy: 1.0000 - val_loss: 0.4978 - val_accuracy: 0.7500\n",
            "Epoch 47/50\n",
            "15/15 [==============================] - 61s 4s/step - loss: 3.1365e-05 - accuracy: 1.0000 - val_loss: 0.4706 - val_accuracy: 0.7500\n",
            "Epoch 48/50\n",
            "15/15 [==============================] - 61s 4s/step - loss: 2.4105e-05 - accuracy: 1.0000 - val_loss: 0.4162 - val_accuracy: 0.7500\n",
            "Epoch 49/50\n",
            "15/15 [==============================] - 61s 4s/step - loss: 6.3116e-06 - accuracy: 1.0000 - val_loss: 0.3297 - val_accuracy: 0.7500\n",
            "Epoch 50/50\n",
            "15/15 [==============================] - 61s 4s/step - loss: 2.2173e-06 - accuracy: 1.0000 - val_loss: 0.3043 - val_accuracy: 0.7500\n"
          ],
          "name": "stdout"
        },
        {
          "output_type": "execute_result",
          "data": {
            "text/plain": [
              "<tensorflow.python.keras.callbacks.History at 0x7fd72bdb3d50>"
            ]
          },
          "metadata": {
            "tags": []
          },
          "execution_count": 12
        }
      ]
    },
    {
      "cell_type": "code",
      "metadata": {
        "colab": {
          "base_uri": "https://localhost:8080/"
        },
        "id": "dwkxcMnDqXEB",
        "outputId": "8b289700-8ade-4c59-8049-b26acb759820"
      },
      "source": [
        "print(\"-- Evaluate --\")\n",
        "scores = model.evaluate(test_generator, steps=3)\n",
        "print(\"%s: %.2f%%\" %(model.metrics_names[1], scores[1]*100))"
      ],
      "execution_count": 16,
      "outputs": [
        {
          "output_type": "stream",
          "text": [
            "-- Evaluate --\n",
            "3/3 [==============================] - 2s 761ms/step - loss: 0.3043 - accuracy: 0.7500\n",
            "accuracy: 75.00%\n"
          ],
          "name": "stdout"
        }
      ]
    },
    {
      "cell_type": "code",
      "metadata": {
        "colab": {
          "base_uri": "https://localhost:8080/"
        },
        "id": "KQnF0I-fqcuC",
        "outputId": "85b99363-5e25-4d71-bc39-6f94f37b2bb3"
      },
      "source": [
        "print(\"-- Predict --\")\n",
        "output = model.predict(test_generator, steps=3)\n",
        "np.set_printoptions(formatter={'float': lambda x: \"{0:0.3f}\".format(x)})\n",
        "print(test_generator.class_indices)\n",
        "print(output)"
      ],
      "execution_count": 18,
      "outputs": [
        {
          "output_type": "stream",
          "text": [
            "-- Predict --\n",
            "{'1': 0, '2': 1, '3': 2, '4': 3}\n",
            "[[0.000 0.000 0.000 1.000]\n",
            " [0.295 0.704 0.000 0.001]\n",
            " [0.298 0.701 0.000 0.001]\n",
            " [0.000 0.999 0.001 0.000]\n",
            " [0.000 0.999 0.001 0.000]\n",
            " [0.296 0.703 0.000 0.001]\n",
            " [0.000 0.000 1.000 0.000]\n",
            " [0.000 0.000 1.000 0.000]\n",
            " [0.000 0.000 1.000 0.000]\n",
            " [0.000 0.998 0.002 0.000]\n",
            " [0.000 0.000 0.000 1.000]\n",
            " [0.000 0.000 0.000 1.000]]\n"
          ],
          "name": "stdout"
        }
      ]
    }
  ]
}