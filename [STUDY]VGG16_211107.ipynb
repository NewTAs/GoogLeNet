{
  "nbformat": 4,
  "nbformat_minor": 0,
  "metadata": {
    "colab": {
      "name": "VGG16.ipynb",
      "provenance": [],
      "collapsed_sections": [],
      "authorship_tag": "ABX9TyOPqAsTPSctwlpzDmxR7bps",
      "include_colab_link": true
    },
    "kernelspec": {
      "name": "python3",
      "display_name": "Python 3"
    },
    "language_info": {
      "name": "python"
    },
    "accelerator": "GPU"
  },
  "cells": [
    {
      "cell_type": "markdown",
      "metadata": {
        "id": "view-in-github",
        "colab_type": "text"
      },
      "source": [
        "<a href=\"https://colab.research.google.com/github/NewTAs/GoogLeNet/blob/main/%5BSTUDY%5DVGG16_211107.ipynb\" target=\"_parent\"><img src=\"https://colab.research.google.com/assets/colab-badge.svg\" alt=\"Open In Colab\"/></a>"
      ]
    },
    {
      "cell_type": "markdown",
      "metadata": {
        "id": "LaXOpAAwmtqt"
      },
      "source": [
        "# Import"
      ]
    },
    {
      "cell_type": "code",
      "metadata": {
        "id": "sJZrtXl2mIP9"
      },
      "source": [
        "import tensorflow as tf"
      ],
      "execution_count": 1,
      "outputs": []
    },
    {
      "cell_type": "markdown",
      "metadata": {
        "id": "oJjBsOnLmxY7"
      },
      "source": [
        "# Data Setting"
      ]
    },
    {
      "cell_type": "code",
      "metadata": {
        "colab": {
          "base_uri": "https://localhost:8080/"
        },
        "id": "AMIZOYOumiDD",
        "outputId": "3a2368f9-7c17-43f5-b3bb-80126a63bca3"
      },
      "source": [
        "(x_train, y_train), (x_test, y_test) = tf.keras.datasets.cifar10.load_data()\n",
        "x_train, x_test = x_train / 255.0, x_test / 255.0"
      ],
      "execution_count": 2,
      "outputs": [
        {
          "output_type": "stream",
          "name": "stdout",
          "text": [
            "Downloading data from https://www.cs.toronto.edu/~kriz/cifar-10-python.tar.gz\n",
            "170500096/170498071 [==============================] - 2s 0us/step\n",
            "170508288/170498071 [==============================] - 2s 0us/step\n"
          ]
        }
      ]
    },
    {
      "cell_type": "markdown",
      "metadata": {
        "id": "1LBCMPfrmqBI"
      },
      "source": [
        "# Build Network"
      ]
    },
    {
      "cell_type": "code",
      "metadata": {
        "colab": {
          "base_uri": "https://localhost:8080/",
          "height": 123
        },
        "id": "_wCFaxnmmmqf",
        "outputId": "3bbe89a7-7da3-4f79-e5c7-64f2e7174e53"
      },
      "source": [
        "\"\"\"\n",
        "input = tf.keras.layers.Input(shape=(224, 224, 3))\n",
        "\n",
        "vgg_block01 = tf.keras.layers.Conv2D(64, (3, 3), padding='SAME', activation='relu')(input)\n",
        "vgg_block01 = tf.keras.layers.Conv2D(64, (3, 3), padding='SAME', activation='relu')(vgg_block01)\n",
        "vgg_block01 = tf.keras.layers.MaxPool2D((2, 2))(vgg_block01)\n",
        "\n",
        "vgg_block02 = tf.keras.layers.Conv2D(128, (3, 3), padding='SAME', activation='relu')(vgg_block01)\n",
        "vgg_block02 = tf.keras.layers.Conv2D(128, (3, 3), padding='SAME', activation='relu')(vgg_block02)\n",
        "vgg_block02 = tf.keras.layers.MaxPool2D((2, 2))(vgg_block02)\n",
        "\n",
        "vgg_block03 = tf.keras.layers.Conv2D(256, (3, 3), padding='SAME', activation='relu')(vgg_block02)\n",
        "vgg_block03 = tf.keras.layers.Conv2D(256, (3, 3), padding='SAME', activation='relu')(vgg_block03)\n",
        "vgg_block03 = tf.keras.layers.Conv2D(256, (3, 3), padding='SAME', activation='relu')(vgg_block03)\n",
        "vgg_block03 = tf.keras.layers.MaxPool2D((2, 2))(vgg_block03)\n",
        "\n",
        "vgg_block04 = tf.keras.layers.Conv2D(512, (3, 3), padding='SAME', activation='relu')(vgg_block03)\n",
        "vgg_block04 = tf.keras.layers.Conv2D(512, (3, 3), padding='SAME', activation='relu')(vgg_block04)\n",
        "vgg_block04 = tf.keras.layers.Conv2D(512, (3, 3), padding='SAME', activation='relu')(vgg_block04)\n",
        "vgg_block04 = tf.keras.layers.MaxPool2D((2, 2))(vgg_block04)\n",
        "\n",
        "vgg_block05 = tf.keras.layers.Conv2D(512, (3, 3), padding='SAME', activation='relu')(vgg_block04)\n",
        "vgg_block05 = tf.keras.layers.Conv2D(512, (3, 3), padding='SAME', activation='relu')(vgg_block05)\n",
        "vgg_block05 = tf.keras.layers.Conv2D(512, (3, 3), padding='SAME', activation='relu')(vgg_block05)\n",
        "vgg_block05 = tf.keras.layers.MaxPool2D((2, 2))(vgg_block05)\n",
        "\n",
        "flatten = tf.keras.layers.Flatten()(vgg_block05)\n",
        "dense = tf.keras.layers.Dense(4096, activation='relu')(flatten)\n",
        "output = tf.keras.layers.Dense(10, activation='softmax')(dense)\n",
        "\"\"\""
      ],
      "execution_count": 3,
      "outputs": [
        {
          "output_type": "execute_result",
          "data": {
            "application/vnd.google.colaboratory.intrinsic+json": {
              "type": "string"
            },
            "text/plain": [
              "\"\\ninput = tf.keras.layers.Input(shape=(224, 224, 3))\\n\\nvgg_block01 = tf.keras.layers.Conv2D(64, (3, 3), padding='SAME', activation='relu')(input)\\nvgg_block01 = tf.keras.layers.Conv2D(64, (3, 3), padding='SAME', activation='relu')(vgg_block01)\\nvgg_block01 = tf.keras.layers.MaxPool2D((2, 2))(vgg_block01)\\n\\nvgg_block02 = tf.keras.layers.Conv2D(128, (3, 3), padding='SAME', activation='relu')(vgg_block01)\\nvgg_block02 = tf.keras.layers.Conv2D(128, (3, 3), padding='SAME', activation='relu')(vgg_block02)\\nvgg_block02 = tf.keras.layers.MaxPool2D((2, 2))(vgg_block02)\\n\\nvgg_block03 = tf.keras.layers.Conv2D(256, (3, 3), padding='SAME', activation='relu')(vgg_block02)\\nvgg_block03 = tf.keras.layers.Conv2D(256, (3, 3), padding='SAME', activation='relu')(vgg_block03)\\nvgg_block03 = tf.keras.layers.Conv2D(256, (3, 3), padding='SAME', activation='relu')(vgg_block03)\\nvgg_block03 = tf.keras.layers.MaxPool2D((2, 2))(vgg_block03)\\n\\nvgg_block04 = tf.keras.layers.Conv2D(512, (3, 3), padding='SAME', activation='relu')(vgg_block03)\\nvgg_block04 = tf.keras.layers.Conv2D(512, (3, 3), padding='SAME', activation='relu')(vgg_block04)\\nvgg_block04 = tf.keras.layers.Conv2D(512, (3, 3), padding='SAME', activation='relu')(vgg_block04)\\nvgg_block04 = tf.keras.layers.MaxPool2D((2, 2))(vgg_block04)\\n\\nvgg_block05 = tf.keras.layers.Conv2D(512, (3, 3), padding='SAME', activation='relu')(vgg_block04)\\nvgg_block05 = tf.keras.layers.Conv2D(512, (3, 3), padding='SAME', activation='relu')(vgg_block05)\\nvgg_block05 = tf.keras.layers.Conv2D(512, (3, 3), padding='SAME', activation='relu')(vgg_block05)\\nvgg_block05 = tf.keras.layers.MaxPool2D((2, 2))(vgg_block05)\\n\\nflatten = tf.keras.layers.Flatten()(vgg_block05)\\ndense = tf.keras.layers.Dense(4096, activation='relu')(flatten)\\noutput = tf.keras.layers.Dense(10, activation='softmax')(dense)\\n\""
            ]
          },
          "metadata": {},
          "execution_count": 3
        }
      ]
    },
    {
      "cell_type": "code",
      "metadata": {
        "id": "YT-f9O-qsA3V"
      },
      "source": [
        "input = tf.keras.layers.Input(shape=(32, 32, 3))\n",
        "\n",
        "vgg_block01 = tf.keras.layers.Conv2D(64, (3, 3), padding='SAME', activation='relu')(input)\n",
        "vgg_block01 = tf.keras.layers.Conv2D(64, (3, 3), padding='SAME', activation='relu')(vgg_block01)\n",
        "vgg_block01 = tf.keras.layers.MaxPool2D((2, 2))(vgg_block01)\n",
        "\n",
        "vgg_block02 = tf.keras.layers.Conv2D(128, (3, 3), padding='SAME', activation='relu')(vgg_block01)\n",
        "vgg_block02 = tf.keras.layers.Conv2D(128, (3, 3), padding='SAME', activation='relu')(vgg_block02)\n",
        "vgg_block02 = tf.keras.layers.MaxPool2D((2, 2))(vgg_block02)\n",
        "\n",
        "vgg_block03 = tf.keras.layers.Conv2D(256, (3, 3), padding='SAME', activation='relu')(vgg_block02)\n",
        "vgg_block03 = tf.keras.layers.Conv2D(256, (3, 3), padding='SAME', activation='relu')(vgg_block03)\n",
        "vgg_block03 = tf.keras.layers.Conv2D(256, (3, 3), padding='SAME', activation='relu')(vgg_block03)\n",
        "vgg_block03 = tf.keras.layers.MaxPool2D((2, 2))(vgg_block03)\n",
        "\n",
        "vgg_block04 = tf.keras.layers.Conv2D(512, (3, 3), padding='SAME', activation='relu')(vgg_block03)\n",
        "vgg_block04 = tf.keras.layers.Conv2D(512, (3, 3), padding='SAME', activation='relu')(vgg_block04)\n",
        "vgg_block04 = tf.keras.layers.Conv2D(512, (3, 3), padding='SAME', activation='relu')(vgg_block04)\n",
        "vgg_block04 = tf.keras.layers.MaxPool2D((2, 2))(vgg_block04)\n",
        "\n",
        "flatten = tf.keras.layers.Flatten()(vgg_block04)\n",
        "dense = tf.keras.layers.Dense(256, activation='relu')(flatten)\n",
        "output = tf.keras.layers.Dense(10, activation='softmax')(dense)"
      ],
      "execution_count": 4,
      "outputs": []
    },
    {
      "cell_type": "markdown",
      "metadata": {
        "id": "fhLkZ2F5o5bI"
      },
      "source": [
        "# Model"
      ]
    },
    {
      "cell_type": "code",
      "metadata": {
        "colab": {
          "base_uri": "https://localhost:8080/"
        },
        "id": "04N6Njujo6xZ",
        "outputId": "ac652366-09ac-43de-b807-1f841b5c3cff"
      },
      "source": [
        "model = tf.keras.models.Model(input, output)\n",
        "\n",
        "model.compile(optimizer='SGD', loss='sparse_categorical_crossentropy', metrics=['accuracy'])\n",
        "\n",
        "model.summary()"
      ],
      "execution_count": 5,
      "outputs": [
        {
          "output_type": "stream",
          "name": "stdout",
          "text": [
            "Model: \"model\"\n",
            "_________________________________________________________________\n",
            "Layer (type)                 Output Shape              Param #   \n",
            "=================================================================\n",
            "input_1 (InputLayer)         [(None, 32, 32, 3)]       0         \n",
            "_________________________________________________________________\n",
            "conv2d (Conv2D)              (None, 32, 32, 64)        1792      \n",
            "_________________________________________________________________\n",
            "conv2d_1 (Conv2D)            (None, 32, 32, 64)        36928     \n",
            "_________________________________________________________________\n",
            "max_pooling2d (MaxPooling2D) (None, 16, 16, 64)        0         \n",
            "_________________________________________________________________\n",
            "conv2d_2 (Conv2D)            (None, 16, 16, 128)       73856     \n",
            "_________________________________________________________________\n",
            "conv2d_3 (Conv2D)            (None, 16, 16, 128)       147584    \n",
            "_________________________________________________________________\n",
            "max_pooling2d_1 (MaxPooling2 (None, 8, 8, 128)         0         \n",
            "_________________________________________________________________\n",
            "conv2d_4 (Conv2D)            (None, 8, 8, 256)         295168    \n",
            "_________________________________________________________________\n",
            "conv2d_5 (Conv2D)            (None, 8, 8, 256)         590080    \n",
            "_________________________________________________________________\n",
            "conv2d_6 (Conv2D)            (None, 8, 8, 256)         590080    \n",
            "_________________________________________________________________\n",
            "max_pooling2d_2 (MaxPooling2 (None, 4, 4, 256)         0         \n",
            "_________________________________________________________________\n",
            "conv2d_7 (Conv2D)            (None, 4, 4, 512)         1180160   \n",
            "_________________________________________________________________\n",
            "conv2d_8 (Conv2D)            (None, 4, 4, 512)         2359808   \n",
            "_________________________________________________________________\n",
            "conv2d_9 (Conv2D)            (None, 4, 4, 512)         2359808   \n",
            "_________________________________________________________________\n",
            "max_pooling2d_3 (MaxPooling2 (None, 2, 2, 512)         0         \n",
            "_________________________________________________________________\n",
            "flatten (Flatten)            (None, 2048)              0         \n",
            "_________________________________________________________________\n",
            "dense (Dense)                (None, 256)               524544    \n",
            "_________________________________________________________________\n",
            "dense_1 (Dense)              (None, 10)                2570      \n",
            "=================================================================\n",
            "Total params: 8,162,378\n",
            "Trainable params: 8,162,378\n",
            "Non-trainable params: 0\n",
            "_________________________________________________________________\n"
          ]
        }
      ]
    },
    {
      "cell_type": "code",
      "metadata": {
        "colab": {
          "base_uri": "https://localhost:8080/"
        },
        "id": "VxAJlTVjpAtK",
        "outputId": "0ea9f000-3543-44fd-9003-2d946fe112f4"
      },
      "source": [
        "model.fit(x_train, y_train, batch_size=64, epochs=30, validation_data=(x_test, y_test))"
      ],
      "execution_count": 6,
      "outputs": [
        {
          "output_type": "stream",
          "name": "stdout",
          "text": [
            "Epoch 1/30\n",
            "782/782 [==============================] - 76s 58ms/step - loss: 2.2935 - accuracy: 0.1554 - val_loss: 2.2500 - val_accuracy: 0.1568\n",
            "Epoch 2/30\n",
            "782/782 [==============================] - 44s 57ms/step - loss: 2.0602 - accuracy: 0.2450 - val_loss: 1.9197 - val_accuracy: 0.2987\n",
            "Epoch 3/30\n",
            "782/782 [==============================] - 44s 56ms/step - loss: 1.8793 - accuracy: 0.3175 - val_loss: 1.7793 - val_accuracy: 0.3418\n",
            "Epoch 4/30\n",
            "782/782 [==============================] - 44s 56ms/step - loss: 1.6959 - accuracy: 0.3933 - val_loss: 1.6697 - val_accuracy: 0.4090\n",
            "Epoch 5/30\n",
            "782/782 [==============================] - 44s 56ms/step - loss: 1.5536 - accuracy: 0.4465 - val_loss: 1.8513 - val_accuracy: 0.3577\n",
            "Epoch 6/30\n",
            "782/782 [==============================] - 44s 56ms/step - loss: 1.4492 - accuracy: 0.4843 - val_loss: 1.5253 - val_accuracy: 0.4600\n",
            "Epoch 7/30\n",
            "782/782 [==============================] - 44s 56ms/step - loss: 1.3664 - accuracy: 0.5146 - val_loss: 1.6788 - val_accuracy: 0.4045\n",
            "Epoch 8/30\n",
            "782/782 [==============================] - 44s 57ms/step - loss: 1.2928 - accuracy: 0.5411 - val_loss: 1.4375 - val_accuracy: 0.4963\n",
            "Epoch 9/30\n",
            "782/782 [==============================] - 44s 57ms/step - loss: 1.2209 - accuracy: 0.5672 - val_loss: 1.4344 - val_accuracy: 0.4910\n",
            "Epoch 10/30\n",
            "782/782 [==============================] - 44s 57ms/step - loss: 1.1461 - accuracy: 0.5942 - val_loss: 1.4231 - val_accuracy: 0.4926\n",
            "Epoch 11/30\n",
            "782/782 [==============================] - 44s 56ms/step - loss: 1.0706 - accuracy: 0.6233 - val_loss: 1.4433 - val_accuracy: 0.5008\n",
            "Epoch 12/30\n",
            "782/782 [==============================] - 44s 56ms/step - loss: 0.9902 - accuracy: 0.6501 - val_loss: 1.4799 - val_accuracy: 0.4996\n",
            "Epoch 13/30\n",
            "782/782 [==============================] - 44s 57ms/step - loss: 0.9009 - accuracy: 0.6830 - val_loss: 1.4495 - val_accuracy: 0.5177\n",
            "Epoch 14/30\n",
            "782/782 [==============================] - 44s 56ms/step - loss: 0.8070 - accuracy: 0.7165 - val_loss: 1.5532 - val_accuracy: 0.5181\n",
            "Epoch 15/30\n",
            "782/782 [==============================] - 44s 57ms/step - loss: 0.6992 - accuracy: 0.7538 - val_loss: 1.8466 - val_accuracy: 0.5009\n",
            "Epoch 16/30\n",
            "782/782 [==============================] - 44s 56ms/step - loss: 0.5940 - accuracy: 0.7914 - val_loss: 1.5402 - val_accuracy: 0.5443\n",
            "Epoch 17/30\n",
            "782/782 [==============================] - 44s 57ms/step - loss: 0.4846 - accuracy: 0.8288 - val_loss: 1.8222 - val_accuracy: 0.5240\n",
            "Epoch 18/30\n",
            "782/782 [==============================] - 45s 57ms/step - loss: 0.3903 - accuracy: 0.8628 - val_loss: 1.9619 - val_accuracy: 0.5178\n",
            "Epoch 19/30\n",
            "782/782 [==============================] - 44s 57ms/step - loss: 0.3079 - accuracy: 0.8918 - val_loss: 1.9324 - val_accuracy: 0.5465\n",
            "Epoch 20/30\n",
            "782/782 [==============================] - 44s 57ms/step - loss: 0.2434 - accuracy: 0.9136 - val_loss: 2.1252 - val_accuracy: 0.5699\n",
            "Epoch 21/30\n",
            "782/782 [==============================] - 44s 57ms/step - loss: 0.2037 - accuracy: 0.9294 - val_loss: 2.4468 - val_accuracy: 0.5051\n",
            "Epoch 22/30\n",
            "782/782 [==============================] - 44s 57ms/step - loss: 0.1747 - accuracy: 0.9401 - val_loss: 1.9799 - val_accuracy: 0.5899\n",
            "Epoch 23/30\n",
            "782/782 [==============================] - 44s 57ms/step - loss: 0.1305 - accuracy: 0.9553 - val_loss: 2.2748 - val_accuracy: 0.5817\n",
            "Epoch 24/30\n",
            "782/782 [==============================] - 44s 56ms/step - loss: 0.1192 - accuracy: 0.9596 - val_loss: 2.4386 - val_accuracy: 0.5673\n",
            "Epoch 25/30\n",
            "782/782 [==============================] - 44s 57ms/step - loss: 0.1006 - accuracy: 0.9658 - val_loss: 2.8880 - val_accuracy: 0.5421\n",
            "Epoch 26/30\n",
            "782/782 [==============================] - 44s 57ms/step - loss: 0.0886 - accuracy: 0.9710 - val_loss: 2.3185 - val_accuracy: 0.6008\n",
            "Epoch 27/30\n",
            "782/782 [==============================] - 44s 56ms/step - loss: 0.0685 - accuracy: 0.9775 - val_loss: 2.7502 - val_accuracy: 0.5789\n",
            "Epoch 28/30\n",
            "782/782 [==============================] - 44s 56ms/step - loss: 0.0706 - accuracy: 0.9773 - val_loss: 2.3920 - val_accuracy: 0.5946\n",
            "Epoch 29/30\n",
            "782/782 [==============================] - 44s 56ms/step - loss: 0.0520 - accuracy: 0.9838 - val_loss: 2.8813 - val_accuracy: 0.5762\n",
            "Epoch 30/30\n",
            "782/782 [==============================] - 44s 56ms/step - loss: 0.0532 - accuracy: 0.9821 - val_loss: 2.6005 - val_accuracy: 0.5999\n"
          ]
        },
        {
          "output_type": "execute_result",
          "data": {
            "text/plain": [
              "<keras.callbacks.History at 0x7ffae0214610>"
            ]
          },
          "metadata": {},
          "execution_count": 6
        }
      ]
    }
  ]
}