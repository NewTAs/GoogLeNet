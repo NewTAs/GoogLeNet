{
  "nbformat": 4,
  "nbformat_minor": 0,
  "metadata": {
    "colab": {
      "name": "GoogLeNet_Step5_DriveVer_Epoch100.ipynb",
      "provenance": [],
      "collapsed_sections": [],
      "include_colab_link": true
    },
    "kernelspec": {
      "name": "python3",
      "display_name": "Python 3"
    },
    "language_info": {
      "name": "python"
    }
  },
  "cells": [
    {
      "cell_type": "markdown",
      "metadata": {
        "id": "view-in-github",
        "colab_type": "text"
      },
      "source": [
        "<a href=\"https://colab.research.google.com/github/NewTAs/GoogLeNet/blob/main/GoogLeNet_Step5_DriveVer_Epoch100.ipynb\" target=\"_parent\"><img src=\"https://colab.research.google.com/assets/colab-badge.svg\" alt=\"Open In Colab\"/></a>"
      ]
    },
    {
      "cell_type": "code",
      "metadata": {
        "colab": {
          "base_uri": "https://localhost:8080/"
        },
        "id": "E9vBGLsdgq24",
        "outputId": "483526a5-ea12-409a-ea96-701f30c2ad16"
      },
      "source": [
        "# Step1 Code\n",
        "import os\n",
        "import re\n",
        "import glob\n",
        "import cv2\n",
        "import numpy as np\n",
        "from sklearn.model_selection import train_test_split\n",
        "\n",
        "import tensorflow as tf\n",
        "\n",
        "from google.colab import drive\n",
        "drive.mount('googlenet')\n",
        "\n",
        "# New Cord\n",
        "import numpy as np\n",
        "from keras.models import Sequential\n",
        "from keras.layers import Dense\n",
        "from keras.layers import Flatten\n",
        "from keras.layers.convolutional import Conv2D\n",
        "from keras.layers.convolutional import MaxPooling2D\n",
        "from keras.preprocessing.image import ImageDataGenerator\n",
        "\n",
        "#np.random.seed(4) # 랜덤시드 고정시키기"
      ],
      "execution_count": 1,
      "outputs": [
        {
          "output_type": "stream",
          "text": [
            "Mounted at googlenet\n"
          ],
          "name": "stdout"
        }
      ]
    },
    {
      "cell_type": "code",
      "metadata": {
        "colab": {
          "base_uri": "https://localhost:8080/"
        },
        "id": "Vl2fl4Ishlg_",
        "outputId": "9a630364-aaf3-4e42-f079-44361eed71ea"
      },
      "source": [
        "pictureWeightHeightSize = 227\n",
        "\n",
        "train_datagen = ImageDataGenerator(rescale=1./255)\n",
        "\n",
        "train_generator = train_datagen.flow_from_directory(\n",
        "        '/content/googlenet/MyDrive/GoogLeNet_Data/TrainData_Step5/',\n",
        "        target_size=(pictureWeightHeightSize, pictureWeightHeightSize),\n",
        "        batch_size=10,\n",
        "        class_mode='categorical')\n",
        "\n",
        "test_datagen = ImageDataGenerator(rescale=1./255)\n",
        "\n",
        "test_generator = test_datagen.flow_from_directory(\n",
        "        '/content/googlenet/MyDrive/GoogLeNet_Data/TestData_Step5/',\n",
        "        target_size=(pictureWeightHeightSize, pictureWeightHeightSize),    \n",
        "        batch_size=10,\n",
        "        class_mode='categorical')"
      ],
      "execution_count": 2,
      "outputs": [
        {
          "output_type": "stream",
          "text": [
            "Found 300 images belonging to 10 classes.\n",
            "Found 20 images belonging to 10 classes.\n"
          ],
          "name": "stdout"
        }
      ]
    },
    {
      "cell_type": "code",
      "metadata": {
        "id": "8536c856"
      },
      "source": [
        "input_layer = tf.keras.layers.Input(shape=(pictureWeightHeightSize, pictureWeightHeightSize, 3))"
      ],
      "execution_count": 3,
      "outputs": []
    },
    {
      "cell_type": "code",
      "metadata": {
        "id": "77191152"
      },
      "source": [
        "stem_layer = tf.keras.layers.Conv2D(32, (3, 3), strides=(1, 1), padding='SAME', activation='relu')(input_layer)\n",
        "# Max Pooling Here on Original Inception (3x3, stride=2)\n",
        "stem_layer = tf.keras.layers.Conv2D(64, (3, 3), strides=(1, 1), padding='SAME', activation='relu')(stem_layer)\n",
        "# Max Pooling Here on Original Inception (3x3, stride=2)"
      ],
      "execution_count": 4,
      "outputs": []
    },
    {
      "cell_type": "code",
      "metadata": {
        "id": "c29d9d72"
      },
      "source": [
        "inception_block3a_1x1 = tf.keras.layers.Conv2D(32, (1, 1), strides=(1, 1), padding='SAME', activation='relu')(stem_layer)\n",
        "\n",
        "inception_block3a_3x3 = tf.keras.layers.Conv2D(48, (1, 1), padding='SAME', activation='relu')(stem_layer)\n",
        "inception_block3a_3x3 = tf.keras.layers.Conv2D(64, (3, 3), padding='SAME', activation='relu')(inception_block3a_3x3)\n",
        "\n",
        "inception_block3a_5x5 = tf.keras.layers.Conv2D(8, (1, 1), padding='SAME', activation='relu')(stem_layer)\n",
        "inception_block3a_5x5 = tf.keras.layers.Conv2D(16, (5, 5), padding='SAME', activation='relu')(inception_block3a_5x5)\n",
        "\n",
        "inception_block3a_pool = tf.keras.layers.MaxPool2D((3, 3), strides=(1, 1), padding='SAME')(stem_layer)\n",
        "inception_block3a_pool = tf.keras.layers.Conv2D(16, (1, 1), padding='SAME', activation='relu')(inception_block3a_pool)\n",
        "\n",
        "inception_block3a = tf.keras.layers.Concatenate()([inception_block3a_1x1, inception_block3a_3x3,\n",
        "                                                   inception_block3a_5x5, inception_block3a_pool]) # 32x32x128"
      ],
      "execution_count": 5,
      "outputs": []
    },
    {
      "cell_type": "code",
      "metadata": {
        "id": "3746e709"
      },
      "source": [
        "# inception_block3b Here on Original Inception\n",
        "max_pool = tf.keras.layers.MaxPool2D((3, 3), strides=(2, 2), padding='SAME')(inception_block3a) # 16x16x128"
      ],
      "execution_count": 6,
      "outputs": []
    },
    {
      "cell_type": "code",
      "metadata": {
        "id": "5e256e02"
      },
      "source": [
        "inception_block4a_1x1 = tf.keras.layers.Conv2D(64, (1, 1), padding='SAME', activation='relu')(max_pool)\n",
        "\n",
        "inception_block4a_3x3 = tf.keras.layers.Conv2D(64, (1, 1), padding='SAME', activation='relu')(max_pool)\n",
        "inception_block4a_3x3 = tf.keras.layers.Conv2D(96, (3, 3), padding='SAME', activation='relu')(inception_block4a_3x3)\n",
        "\n",
        "inception_block4a_5x5 = tf.keras.layers.Conv2D(16, (1, 1), padding='SAME', activation='relu')(max_pool)\n",
        "inception_block4a_5x5 = tf.keras.layers.Conv2D(48, (5, 5), padding='SAME', activation='relu')(inception_block4a_5x5)\n",
        "\n",
        "inception_block4a_pool = tf.keras.layers.MaxPool2D((3, 3), strides=(1, 1), padding='SAME')(max_pool)\n",
        "inception_block4a_pool = tf.keras.layers.Conv2D(32, (1, 1), padding='SAME', activation='relu')(inception_block4a_pool)\n",
        "\n",
        "inception_block4a = tf.keras.layers.Concatenate()([inception_block4a_1x1, inception_block4a_3x3,\n",
        "                                                   inception_block4a_5x5, inception_block4a_pool]) # 16x16x240\n",
        "\n",
        "# inception_block4b Here on Original Inception\n",
        "# inception_block4c Here on Original Inception\n",
        "# inception_block4d Here on Original Inception\n",
        "# inception_block4e Here on Original Inception"
      ],
      "execution_count": 7,
      "outputs": []
    },
    {
      "cell_type": "code",
      "metadata": {
        "id": "eeccc456"
      },
      "source": [
        "max_pool = tf.keras.layers.MaxPool2D((3, 3), strides=(2, 2), padding='SAME')(inception_block4a) # 8x8x240"
      ],
      "execution_count": 8,
      "outputs": []
    },
    {
      "cell_type": "code",
      "metadata": {
        "id": "66fe0596"
      },
      "source": [
        "inception_block5a_1x1 = tf.keras.layers.Conv2D(128, (1, 1), padding='SAME', activation='relu')(max_pool)\n",
        "\n",
        "inception_block5a_3x3 = tf.keras.layers.Conv2D(80, (1, 1), padding='SAME', activation='relu')(max_pool)\n",
        "inception_block5a_3x3 = tf.keras.layers.Conv2D(120, (3, 3), padding='SAME', activation='relu')(inception_block5a_3x3)\n",
        "\n",
        "inception_block5a_5x5 = tf.keras.layers.Conv2D(16, (1, 1), padding='SAME', activation='relu')(max_pool)\n",
        "inception_block5a_5x5 = tf.keras.layers.Conv2D(64, (5, 5), padding='SAME', activation='relu')(inception_block5a_5x5)\n",
        "\n",
        "inception_block5a_pool = tf.keras.layers.MaxPool2D((3, 3), strides=(1, 1), padding='SAME')(max_pool)\n",
        "inception_block5a_pool = tf.keras.layers.Conv2D(64, (1, 1), padding='SAME', activation='relu')(inception_block5a_pool)\n",
        "\n",
        "inception_block5a = tf.keras.layers.Concatenate()([inception_block5a_1x1, inception_block5a_3x3,\n",
        "                                                   inception_block5a_5x5, inception_block5a_pool]) # 8x8x416\n",
        "# inception_block5b Here on Original Inception"
      ],
      "execution_count": 9,
      "outputs": []
    },
    {
      "cell_type": "code",
      "metadata": {
        "id": "3b26f10f"
      },
      "source": [
        "avg_pool = tf.keras.layers.GlobalAveragePooling2D()(inception_block5a) # 416\n",
        "dropout = tf.keras.layers.Dropout(0.4)(avg_pool)\n",
        "out_layer = tf.keras.layers.Dense(10, activation='softmax')(dropout)"
      ],
      "execution_count": 10,
      "outputs": []
    },
    {
      "cell_type": "code",
      "metadata": {
        "colab": {
          "base_uri": "https://localhost:8080/"
        },
        "id": "1764FfRSmsYP",
        "outputId": "7a7547a0-990d-47b3-fb25-fbeaf1966ad5"
      },
      "source": [
        "model = tf.keras.models.Model(input_layer, out_layer)\n",
        "\n",
        "#model.compile(optimizer='adam', loss='sparse_categorical_crossentropy', metrics=['accuracy'])\n",
        "model.compile(optimizer='adam', loss='categorical_crossentropy', metrics=['accuracy'])\n",
        "model.summary()\n",
        "\n",
        "#model.fit(x_train, y_train, batch_size=128, epochs=10, validation_data=(x_test, y_test))"
      ],
      "execution_count": 11,
      "outputs": [
        {
          "output_type": "stream",
          "text": [
            "Model: \"model\"\n",
            "__________________________________________________________________________________________________\n",
            "Layer (type)                    Output Shape         Param #     Connected to                     \n",
            "==================================================================================================\n",
            "input_1 (InputLayer)            [(None, 227, 227, 3) 0                                            \n",
            "__________________________________________________________________________________________________\n",
            "conv2d (Conv2D)                 (None, 227, 227, 32) 896         input_1[0][0]                    \n",
            "__________________________________________________________________________________________________\n",
            "conv2d_1 (Conv2D)               (None, 227, 227, 64) 18496       conv2d[0][0]                     \n",
            "__________________________________________________________________________________________________\n",
            "conv2d_3 (Conv2D)               (None, 227, 227, 48) 3120        conv2d_1[0][0]                   \n",
            "__________________________________________________________________________________________________\n",
            "conv2d_5 (Conv2D)               (None, 227, 227, 8)  520         conv2d_1[0][0]                   \n",
            "__________________________________________________________________________________________________\n",
            "max_pooling2d (MaxPooling2D)    (None, 227, 227, 64) 0           conv2d_1[0][0]                   \n",
            "__________________________________________________________________________________________________\n",
            "conv2d_2 (Conv2D)               (None, 227, 227, 32) 2080        conv2d_1[0][0]                   \n",
            "__________________________________________________________________________________________________\n",
            "conv2d_4 (Conv2D)               (None, 227, 227, 64) 27712       conv2d_3[0][0]                   \n",
            "__________________________________________________________________________________________________\n",
            "conv2d_6 (Conv2D)               (None, 227, 227, 16) 3216        conv2d_5[0][0]                   \n",
            "__________________________________________________________________________________________________\n",
            "conv2d_7 (Conv2D)               (None, 227, 227, 16) 1040        max_pooling2d[0][0]              \n",
            "__________________________________________________________________________________________________\n",
            "concatenate (Concatenate)       (None, 227, 227, 128 0           conv2d_2[0][0]                   \n",
            "                                                                 conv2d_4[0][0]                   \n",
            "                                                                 conv2d_6[0][0]                   \n",
            "                                                                 conv2d_7[0][0]                   \n",
            "__________________________________________________________________________________________________\n",
            "max_pooling2d_1 (MaxPooling2D)  (None, 114, 114, 128 0           concatenate[0][0]                \n",
            "__________________________________________________________________________________________________\n",
            "conv2d_9 (Conv2D)               (None, 114, 114, 64) 8256        max_pooling2d_1[0][0]            \n",
            "__________________________________________________________________________________________________\n",
            "conv2d_11 (Conv2D)              (None, 114, 114, 16) 2064        max_pooling2d_1[0][0]            \n",
            "__________________________________________________________________________________________________\n",
            "max_pooling2d_2 (MaxPooling2D)  (None, 114, 114, 128 0           max_pooling2d_1[0][0]            \n",
            "__________________________________________________________________________________________________\n",
            "conv2d_8 (Conv2D)               (None, 114, 114, 64) 8256        max_pooling2d_1[0][0]            \n",
            "__________________________________________________________________________________________________\n",
            "conv2d_10 (Conv2D)              (None, 114, 114, 96) 55392       conv2d_9[0][0]                   \n",
            "__________________________________________________________________________________________________\n",
            "conv2d_12 (Conv2D)              (None, 114, 114, 48) 19248       conv2d_11[0][0]                  \n",
            "__________________________________________________________________________________________________\n",
            "conv2d_13 (Conv2D)              (None, 114, 114, 32) 4128        max_pooling2d_2[0][0]            \n",
            "__________________________________________________________________________________________________\n",
            "concatenate_1 (Concatenate)     (None, 114, 114, 240 0           conv2d_8[0][0]                   \n",
            "                                                                 conv2d_10[0][0]                  \n",
            "                                                                 conv2d_12[0][0]                  \n",
            "                                                                 conv2d_13[0][0]                  \n",
            "__________________________________________________________________________________________________\n",
            "max_pooling2d_3 (MaxPooling2D)  (None, 57, 57, 240)  0           concatenate_1[0][0]              \n",
            "__________________________________________________________________________________________________\n",
            "conv2d_15 (Conv2D)              (None, 57, 57, 80)   19280       max_pooling2d_3[0][0]            \n",
            "__________________________________________________________________________________________________\n",
            "conv2d_17 (Conv2D)              (None, 57, 57, 16)   3856        max_pooling2d_3[0][0]            \n",
            "__________________________________________________________________________________________________\n",
            "max_pooling2d_4 (MaxPooling2D)  (None, 57, 57, 240)  0           max_pooling2d_3[0][0]            \n",
            "__________________________________________________________________________________________________\n",
            "conv2d_14 (Conv2D)              (None, 57, 57, 128)  30848       max_pooling2d_3[0][0]            \n",
            "__________________________________________________________________________________________________\n",
            "conv2d_16 (Conv2D)              (None, 57, 57, 120)  86520       conv2d_15[0][0]                  \n",
            "__________________________________________________________________________________________________\n",
            "conv2d_18 (Conv2D)              (None, 57, 57, 64)   25664       conv2d_17[0][0]                  \n",
            "__________________________________________________________________________________________________\n",
            "conv2d_19 (Conv2D)              (None, 57, 57, 64)   15424       max_pooling2d_4[0][0]            \n",
            "__________________________________________________________________________________________________\n",
            "concatenate_2 (Concatenate)     (None, 57, 57, 376)  0           conv2d_14[0][0]                  \n",
            "                                                                 conv2d_16[0][0]                  \n",
            "                                                                 conv2d_18[0][0]                  \n",
            "                                                                 conv2d_19[0][0]                  \n",
            "__________________________________________________________________________________________________\n",
            "global_average_pooling2d (Globa (None, 376)          0           concatenate_2[0][0]              \n",
            "__________________________________________________________________________________________________\n",
            "dropout (Dropout)               (None, 376)          0           global_average_pooling2d[0][0]   \n",
            "__________________________________________________________________________________________________\n",
            "dense (Dense)                   (None, 10)           3770        dropout[0][0]                    \n",
            "==================================================================================================\n",
            "Total params: 339,786\n",
            "Trainable params: 339,786\n",
            "Non-trainable params: 0\n",
            "__________________________________________________________________________________________________\n"
          ],
          "name": "stdout"
        }
      ]
    },
    {
      "cell_type": "code",
      "metadata": {
        "colab": {
          "base_uri": "https://localhost:8080/"
        },
        "id": "b1D7qJrqnK3I",
        "outputId": "b4884dac-f242-4ba6-a252-278838563d44"
      },
      "source": [
        "model.fit(train_generator, epochs=100, validation_data=test_generator)"
      ],
      "execution_count": 12,
      "outputs": [
        {
          "output_type": "stream",
          "text": [
            "Epoch 1/100\n",
            "30/30 [==============================] - 348s 11s/step - loss: 2.2627 - accuracy: 0.1333 - val_loss: 2.0474 - val_accuracy: 0.2000\n",
            "Epoch 2/100\n",
            "30/30 [==============================] - 333s 11s/step - loss: 1.7053 - accuracy: 0.3233 - val_loss: 1.3699 - val_accuracy: 0.6000\n",
            "Epoch 3/100\n",
            "30/30 [==============================] - 331s 11s/step - loss: 0.9391 - accuracy: 0.6400 - val_loss: 0.3437 - val_accuracy: 1.0000\n",
            "Epoch 4/100\n",
            "30/30 [==============================] - 329s 11s/step - loss: 0.6670 - accuracy: 0.7600 - val_loss: 0.3239 - val_accuracy: 0.9000\n",
            "Epoch 5/100\n",
            "30/30 [==============================] - 333s 11s/step - loss: 0.4012 - accuracy: 0.8533 - val_loss: 0.2978 - val_accuracy: 0.9000\n",
            "Epoch 6/100\n",
            "30/30 [==============================] - 333s 11s/step - loss: 0.1324 - accuracy: 0.9700 - val_loss: 0.0300 - val_accuracy: 1.0000\n",
            "Epoch 7/100\n",
            "30/30 [==============================] - 333s 11s/step - loss: 0.1657 - accuracy: 0.9533 - val_loss: 0.2734 - val_accuracy: 0.9000\n",
            "Epoch 8/100\n",
            "30/30 [==============================] - 331s 11s/step - loss: 0.0728 - accuracy: 0.9767 - val_loss: 0.0377 - val_accuracy: 1.0000\n",
            "Epoch 9/100\n",
            "30/30 [==============================] - 332s 11s/step - loss: 0.0367 - accuracy: 0.9900 - val_loss: 0.0226 - val_accuracy: 1.0000\n",
            "Epoch 10/100\n",
            "30/30 [==============================] - 331s 11s/step - loss: 0.0587 - accuracy: 0.9867 - val_loss: 0.0867 - val_accuracy: 1.0000\n",
            "Epoch 11/100\n",
            "30/30 [==============================] - 331s 11s/step - loss: 0.3051 - accuracy: 0.9167 - val_loss: 0.2098 - val_accuracy: 0.9000\n",
            "Epoch 12/100\n",
            "30/30 [==============================] - 329s 11s/step - loss: 0.3055 - accuracy: 0.8967 - val_loss: 0.1394 - val_accuracy: 0.9000\n",
            "Epoch 13/100\n",
            "30/30 [==============================] - 329s 11s/step - loss: 0.0619 - accuracy: 0.9800 - val_loss: 0.0049 - val_accuracy: 1.0000\n",
            "Epoch 14/100\n",
            "30/30 [==============================] - 330s 11s/step - loss: 0.0073 - accuracy: 1.0000 - val_loss: 0.0155 - val_accuracy: 1.0000\n",
            "Epoch 15/100\n",
            "30/30 [==============================] - 330s 11s/step - loss: 0.0028 - accuracy: 1.0000 - val_loss: 0.0022 - val_accuracy: 1.0000\n",
            "Epoch 16/100\n",
            "30/30 [==============================] - 331s 11s/step - loss: 0.0328 - accuracy: 0.9867 - val_loss: 0.0042 - val_accuracy: 1.0000\n",
            "Epoch 17/100\n",
            "30/30 [==============================] - 330s 11s/step - loss: 0.0227 - accuracy: 0.9933 - val_loss: 0.0514 - val_accuracy: 1.0000\n",
            "Epoch 18/100\n",
            "30/30 [==============================] - 330s 11s/step - loss: 0.0022 - accuracy: 1.0000 - val_loss: 0.0028 - val_accuracy: 1.0000\n",
            "Epoch 19/100\n",
            "30/30 [==============================] - 330s 11s/step - loss: 0.0010 - accuracy: 1.0000 - val_loss: 0.0018 - val_accuracy: 1.0000\n",
            "Epoch 20/100\n",
            "30/30 [==============================] - 329s 11s/step - loss: 8.7693e-04 - accuracy: 1.0000 - val_loss: 0.0015 - val_accuracy: 1.0000\n",
            "Epoch 21/100\n",
            "30/30 [==============================] - 330s 11s/step - loss: 6.6540e-04 - accuracy: 1.0000 - val_loss: 7.4394e-04 - val_accuracy: 1.0000\n",
            "Epoch 22/100\n",
            "30/30 [==============================] - 330s 11s/step - loss: 7.9960e-04 - accuracy: 1.0000 - val_loss: 0.0010 - val_accuracy: 1.0000\n",
            "Epoch 23/100\n",
            "30/30 [==============================] - 330s 11s/step - loss: 0.0013 - accuracy: 1.0000 - val_loss: 3.1457e-04 - val_accuracy: 1.0000\n",
            "Epoch 24/100\n",
            "30/30 [==============================] - 330s 11s/step - loss: 0.0032 - accuracy: 1.0000 - val_loss: 9.0040e-04 - val_accuracy: 1.0000\n",
            "Epoch 25/100\n",
            "30/30 [==============================] - 330s 11s/step - loss: 2.4488e-04 - accuracy: 1.0000 - val_loss: 3.8232e-04 - val_accuracy: 1.0000\n",
            "Epoch 26/100\n",
            "30/30 [==============================] - 330s 11s/step - loss: 6.8242e-04 - accuracy: 1.0000 - val_loss: 2.5711e-04 - val_accuracy: 1.0000\n",
            "Epoch 27/100\n",
            "30/30 [==============================] - 331s 11s/step - loss: 1.8726e-04 - accuracy: 1.0000 - val_loss: 3.1908e-04 - val_accuracy: 1.0000\n",
            "Epoch 28/100\n",
            "30/30 [==============================] - 330s 11s/step - loss: 3.1817e-04 - accuracy: 1.0000 - val_loss: 4.6919e-04 - val_accuracy: 1.0000\n",
            "Epoch 29/100\n",
            "30/30 [==============================] - 331s 11s/step - loss: 2.4064e-04 - accuracy: 1.0000 - val_loss: 4.5771e-04 - val_accuracy: 1.0000\n",
            "Epoch 30/100\n",
            "30/30 [==============================] - 331s 11s/step - loss: 2.3107e-04 - accuracy: 1.0000 - val_loss: 7.2695e-04 - val_accuracy: 1.0000\n",
            "Epoch 31/100\n",
            "30/30 [==============================] - 331s 11s/step - loss: 9.1207e-04 - accuracy: 1.0000 - val_loss: 2.9889e-04 - val_accuracy: 1.0000\n",
            "Epoch 32/100\n",
            "30/30 [==============================] - 331s 11s/step - loss: 4.3424e-04 - accuracy: 1.0000 - val_loss: 4.0876e-04 - val_accuracy: 1.0000\n",
            "Epoch 33/100\n",
            "30/30 [==============================] - 330s 11s/step - loss: 4.8168e-04 - accuracy: 1.0000 - val_loss: 5.7333e-04 - val_accuracy: 1.0000\n",
            "Epoch 34/100\n",
            "30/30 [==============================] - 334s 11s/step - loss: 1.0921e-04 - accuracy: 1.0000 - val_loss: 0.0017 - val_accuracy: 1.0000\n",
            "Epoch 35/100\n",
            "30/30 [==============================] - 334s 11s/step - loss: 1.8493e-04 - accuracy: 1.0000 - val_loss: 0.0013 - val_accuracy: 1.0000\n",
            "Epoch 36/100\n",
            "30/30 [==============================] - 334s 11s/step - loss: 0.2250 - accuracy: 0.9400 - val_loss: 0.7423 - val_accuracy: 0.8000\n",
            "Epoch 37/100\n",
            "30/30 [==============================] - 334s 11s/step - loss: 0.4658 - accuracy: 0.8600 - val_loss: 0.1019 - val_accuracy: 1.0000\n",
            "Epoch 38/100\n",
            "30/30 [==============================] - 335s 11s/step - loss: 0.1036 - accuracy: 0.9700 - val_loss: 0.0110 - val_accuracy: 1.0000\n",
            "Epoch 39/100\n",
            "30/30 [==============================] - 333s 11s/step - loss: 0.0104 - accuracy: 0.9967 - val_loss: 7.0809e-04 - val_accuracy: 1.0000\n",
            "Epoch 40/100\n",
            "30/30 [==============================] - 331s 11s/step - loss: 0.0036 - accuracy: 1.0000 - val_loss: 0.0014 - val_accuracy: 1.0000\n",
            "Epoch 41/100\n",
            "30/30 [==============================] - 331s 11s/step - loss: 0.0010 - accuracy: 1.0000 - val_loss: 3.0130e-04 - val_accuracy: 1.0000\n",
            "Epoch 42/100\n",
            "30/30 [==============================] - 331s 11s/step - loss: 5.4368e-04 - accuracy: 1.0000 - val_loss: 5.2125e-04 - val_accuracy: 1.0000\n",
            "Epoch 43/100\n",
            "30/30 [==============================] - 331s 11s/step - loss: 4.9271e-04 - accuracy: 1.0000 - val_loss: 2.4576e-04 - val_accuracy: 1.0000\n",
            "Epoch 44/100\n",
            "30/30 [==============================] - 358s 12s/step - loss: 0.0441 - accuracy: 0.9800 - val_loss: 0.0039 - val_accuracy: 1.0000\n",
            "Epoch 45/100\n",
            "30/30 [==============================] - 333s 11s/step - loss: 0.0141 - accuracy: 0.9933 - val_loss: 0.0012 - val_accuracy: 1.0000\n",
            "Epoch 46/100\n",
            "30/30 [==============================] - 329s 11s/step - loss: 0.0029 - accuracy: 1.0000 - val_loss: 9.2312e-04 - val_accuracy: 1.0000\n",
            "Epoch 47/100\n",
            "30/30 [==============================] - 330s 11s/step - loss: 9.2898e-04 - accuracy: 1.0000 - val_loss: 5.2726e-04 - val_accuracy: 1.0000\n",
            "Epoch 48/100\n",
            "30/30 [==============================] - 331s 11s/step - loss: 4.1040e-04 - accuracy: 1.0000 - val_loss: 6.6156e-04 - val_accuracy: 1.0000\n",
            "Epoch 49/100\n",
            "30/30 [==============================] - 331s 11s/step - loss: 2.6430e-04 - accuracy: 1.0000 - val_loss: 3.2379e-04 - val_accuracy: 1.0000\n",
            "Epoch 50/100\n",
            "30/30 [==============================] - 331s 11s/step - loss: 1.6299e-04 - accuracy: 1.0000 - val_loss: 2.2879e-04 - val_accuracy: 1.0000\n",
            "Epoch 51/100\n",
            "30/30 [==============================] - 338s 11s/step - loss: 1.9323e-04 - accuracy: 1.0000 - val_loss: 2.0470e-04 - val_accuracy: 1.0000\n",
            "Epoch 52/100\n",
            "30/30 [==============================] - 374s 12s/step - loss: 1.9658e-04 - accuracy: 1.0000 - val_loss: 1.5988e-04 - val_accuracy: 1.0000\n",
            "Epoch 53/100\n",
            "30/30 [==============================] - 344s 11s/step - loss: 3.3272e-04 - accuracy: 1.0000 - val_loss: 2.9478e-04 - val_accuracy: 1.0000\n",
            "Epoch 54/100\n",
            "30/30 [==============================] - 331s 11s/step - loss: 2.1762e-04 - accuracy: 1.0000 - val_loss: 2.3697e-04 - val_accuracy: 1.0000\n",
            "Epoch 55/100\n",
            "30/30 [==============================] - 370s 12s/step - loss: 3.3619e-04 - accuracy: 1.0000 - val_loss: 1.7270e-04 - val_accuracy: 1.0000\n",
            "Epoch 56/100\n",
            "30/30 [==============================] - 358s 12s/step - loss: 4.5945e-04 - accuracy: 1.0000 - val_loss: 2.7259e-04 - val_accuracy: 1.0000\n",
            "Epoch 57/100\n",
            "30/30 [==============================] - 332s 11s/step - loss: 0.0025 - accuracy: 1.0000 - val_loss: 0.0034 - val_accuracy: 1.0000\n",
            "Epoch 58/100\n",
            "30/30 [==============================] - 332s 11s/step - loss: 8.2500e-04 - accuracy: 1.0000 - val_loss: 9.1761e-05 - val_accuracy: 1.0000\n",
            "Epoch 59/100\n",
            "30/30 [==============================] - 332s 11s/step - loss: 7.0660e-04 - accuracy: 1.0000 - val_loss: 2.6540e-05 - val_accuracy: 1.0000\n",
            "Epoch 60/100\n",
            "30/30 [==============================] - 332s 11s/step - loss: 5.0224e-05 - accuracy: 1.0000 - val_loss: 2.4150e-05 - val_accuracy: 1.0000\n",
            "Epoch 61/100\n",
            "30/30 [==============================] - 332s 11s/step - loss: 2.7211e-04 - accuracy: 1.0000 - val_loss: 3.9451e-05 - val_accuracy: 1.0000\n",
            "Epoch 62/100\n",
            "30/30 [==============================] - 331s 11s/step - loss: 3.4825e-05 - accuracy: 1.0000 - val_loss: 4.3240e-05 - val_accuracy: 1.0000\n",
            "Epoch 63/100\n",
            "30/30 [==============================] - 330s 11s/step - loss: 6.8819e-05 - accuracy: 1.0000 - val_loss: 4.1196e-05 - val_accuracy: 1.0000\n",
            "Epoch 64/100\n",
            "30/30 [==============================] - 332s 11s/step - loss: 9.1448e-05 - accuracy: 1.0000 - val_loss: 3.0918e-05 - val_accuracy: 1.0000\n",
            "Epoch 65/100\n",
            "30/30 [==============================] - 332s 11s/step - loss: 6.1096e-05 - accuracy: 1.0000 - val_loss: 3.1878e-05 - val_accuracy: 1.0000\n",
            "Epoch 66/100\n",
            "30/30 [==============================] - 332s 11s/step - loss: 2.3839e-05 - accuracy: 1.0000 - val_loss: 3.5995e-05 - val_accuracy: 1.0000\n",
            "Epoch 67/100\n",
            "30/30 [==============================] - 333s 11s/step - loss: 2.2228e-05 - accuracy: 1.0000 - val_loss: 3.5929e-05 - val_accuracy: 1.0000\n",
            "Epoch 68/100\n",
            "30/30 [==============================] - 333s 11s/step - loss: 8.0472e-05 - accuracy: 1.0000 - val_loss: 6.2679e-05 - val_accuracy: 1.0000\n",
            "Epoch 69/100\n",
            "30/30 [==============================] - 332s 11s/step - loss: 5.3555e-05 - accuracy: 1.0000 - val_loss: 8.0238e-05 - val_accuracy: 1.0000\n",
            "Epoch 70/100\n",
            "30/30 [==============================] - 332s 11s/step - loss: 2.3023e-05 - accuracy: 1.0000 - val_loss: 6.9130e-05 - val_accuracy: 1.0000\n",
            "Epoch 71/100\n",
            "30/30 [==============================] - 330s 11s/step - loss: 3.5536e-05 - accuracy: 1.0000 - val_loss: 6.5026e-05 - val_accuracy: 1.0000\n",
            "Epoch 72/100\n",
            "30/30 [==============================] - 330s 11s/step - loss: 8.7941e-05 - accuracy: 1.0000 - val_loss: 7.0648e-05 - val_accuracy: 1.0000\n",
            "Epoch 73/100\n",
            "30/30 [==============================] - 331s 11s/step - loss: 2.8397e-05 - accuracy: 1.0000 - val_loss: 9.2648e-05 - val_accuracy: 1.0000\n",
            "Epoch 74/100\n",
            "30/30 [==============================] - 331s 11s/step - loss: 2.7304e-05 - accuracy: 1.0000 - val_loss: 8.9224e-05 - val_accuracy: 1.0000\n",
            "Epoch 75/100\n",
            "30/30 [==============================] - 333s 11s/step - loss: 2.1202e-05 - accuracy: 1.0000 - val_loss: 8.1530e-05 - val_accuracy: 1.0000\n",
            "Epoch 76/100\n",
            "30/30 [==============================] - 331s 11s/step - loss: 8.8506e-04 - accuracy: 1.0000 - val_loss: 0.0158 - val_accuracy: 1.0000\n",
            "Epoch 77/100\n",
            "30/30 [==============================] - 330s 11s/step - loss: 0.5701 - accuracy: 0.9133 - val_loss: 4.9431 - val_accuracy: 0.8000\n",
            "Epoch 78/100\n",
            "30/30 [==============================] - 328s 11s/step - loss: 2.3818 - accuracy: 0.7000 - val_loss: 0.6014 - val_accuracy: 0.8000\n",
            "Epoch 79/100\n",
            "30/30 [==============================] - 328s 11s/step - loss: 0.2800 - accuracy: 0.9000 - val_loss: 0.0497 - val_accuracy: 1.0000\n",
            "Epoch 80/100\n",
            "30/30 [==============================] - 328s 11s/step - loss: 0.0511 - accuracy: 0.9900 - val_loss: 0.0182 - val_accuracy: 1.0000\n",
            "Epoch 81/100\n",
            "30/30 [==============================] - 329s 11s/step - loss: 0.0137 - accuracy: 1.0000 - val_loss: 0.0079 - val_accuracy: 1.0000\n",
            "Epoch 82/100\n",
            "30/30 [==============================] - 330s 11s/step - loss: 0.0065 - accuracy: 1.0000 - val_loss: 0.0055 - val_accuracy: 1.0000\n",
            "Epoch 83/100\n",
            "30/30 [==============================] - 329s 11s/step - loss: 0.0025 - accuracy: 1.0000 - val_loss: 0.0014 - val_accuracy: 1.0000\n",
            "Epoch 84/100\n",
            "30/30 [==============================] - 327s 11s/step - loss: 0.0018 - accuracy: 1.0000 - val_loss: 0.0028 - val_accuracy: 1.0000\n",
            "Epoch 85/100\n",
            "30/30 [==============================] - 328s 11s/step - loss: 0.0100 - accuracy: 0.9967 - val_loss: 0.0025 - val_accuracy: 1.0000\n",
            "Epoch 86/100\n",
            "30/30 [==============================] - 329s 11s/step - loss: 0.0071 - accuracy: 0.9967 - val_loss: 0.0016 - val_accuracy: 1.0000\n",
            "Epoch 87/100\n",
            "30/30 [==============================] - 328s 11s/step - loss: 0.0016 - accuracy: 1.0000 - val_loss: 0.0018 - val_accuracy: 1.0000\n",
            "Epoch 88/100\n",
            "30/30 [==============================] - 331s 11s/step - loss: 7.5453e-04 - accuracy: 1.0000 - val_loss: 6.9187e-04 - val_accuracy: 1.0000\n",
            "Epoch 89/100\n",
            "30/30 [==============================] - 334s 11s/step - loss: 0.0028 - accuracy: 1.0000 - val_loss: 0.0012 - val_accuracy: 1.0000\n",
            "Epoch 90/100\n",
            "30/30 [==============================] - 335s 11s/step - loss: 0.0014 - accuracy: 1.0000 - val_loss: 8.1265e-04 - val_accuracy: 1.0000\n",
            "Epoch 91/100\n",
            "30/30 [==============================] - 334s 11s/step - loss: 8.8648e-04 - accuracy: 1.0000 - val_loss: 3.3731e-04 - val_accuracy: 1.0000\n",
            "Epoch 92/100\n",
            "30/30 [==============================] - 332s 11s/step - loss: 3.9211e-04 - accuracy: 1.0000 - val_loss: 2.5554e-04 - val_accuracy: 1.0000\n",
            "Epoch 93/100\n",
            "30/30 [==============================] - 338s 11s/step - loss: 7.0923e-04 - accuracy: 1.0000 - val_loss: 2.8001e-04 - val_accuracy: 1.0000\n",
            "Epoch 94/100\n",
            "30/30 [==============================] - 334s 11s/step - loss: 2.9633e-04 - accuracy: 1.0000 - val_loss: 2.1935e-04 - val_accuracy: 1.0000\n",
            "Epoch 95/100\n",
            "30/30 [==============================] - 331s 11s/step - loss: 4.6299e-04 - accuracy: 1.0000 - val_loss: 4.7406e-04 - val_accuracy: 1.0000\n",
            "Epoch 96/100\n",
            "30/30 [==============================] - 331s 11s/step - loss: 5.3215e-04 - accuracy: 1.0000 - val_loss: 5.5293e-04 - val_accuracy: 1.0000\n",
            "Epoch 97/100\n",
            "30/30 [==============================] - 329s 11s/step - loss: 7.1729e-04 - accuracy: 1.0000 - val_loss: 3.0476e-04 - val_accuracy: 1.0000\n",
            "Epoch 98/100\n",
            "30/30 [==============================] - 334s 11s/step - loss: 6.2411e-04 - accuracy: 1.0000 - val_loss: 3.2897e-04 - val_accuracy: 1.0000\n",
            "Epoch 99/100\n",
            "30/30 [==============================] - 339s 11s/step - loss: 0.0023 - accuracy: 1.0000 - val_loss: 4.6236e-04 - val_accuracy: 1.0000\n",
            "Epoch 100/100\n",
            "30/30 [==============================] - 344s 11s/step - loss: 6.9894e-04 - accuracy: 1.0000 - val_loss: 3.2516e-04 - val_accuracy: 1.0000\n"
          ],
          "name": "stdout"
        },
        {
          "output_type": "execute_result",
          "data": {
            "text/plain": [
              "<tensorflow.python.keras.callbacks.History at 0x7f671f75ec10>"
            ]
          },
          "metadata": {
            "tags": []
          },
          "execution_count": 12
        }
      ]
    },
    {
      "cell_type": "code",
      "metadata": {
        "colab": {
          "base_uri": "https://localhost:8080/"
        },
        "id": "dwkxcMnDqXEB",
        "outputId": "bae5beb0-b2b1-42ff-fafd-fb76ab01460d"
      },
      "source": [
        "print(\"-- Evaluate --\")\n",
        "scores = model.evaluate(test_generator)\n",
        "print(\"%s: %.2f%%\" %(model.metrics_names[1], scores[1]*100))"
      ],
      "execution_count": 13,
      "outputs": [
        {
          "output_type": "stream",
          "text": [
            "-- Evaluate --\n",
            "2/2 [==============================] - 5s 2s/step - loss: 3.2516e-04 - accuracy: 1.0000\n",
            "accuracy: 100.00%\n"
          ],
          "name": "stdout"
        }
      ]
    },
    {
      "cell_type": "code",
      "metadata": {
        "colab": {
          "base_uri": "https://localhost:8080/"
        },
        "id": "KQnF0I-fqcuC",
        "outputId": "d0f38e60-82d5-4002-fca4-f39689474fd6"
      },
      "source": [
        "print(\"-- Predict --\")\n",
        "output = model.predict(test_generator)\n",
        "np.set_printoptions(formatter={'float': lambda x: \"{0:0.3f}\".format(x)})\n",
        "print(test_generator.class_indices)\n",
        "print(output)"
      ],
      "execution_count": 14,
      "outputs": [
        {
          "output_type": "stream",
          "text": [
            "-- Predict --\n",
            "{'1': 0, '10': 1, '2': 2, '3': 3, '4': 4, '5': 5, '6': 6, '7': 7, '8': 8, '9': 9}\n",
            "[[0.000 0.000 0.000 1.000 0.000 0.000 0.000 0.000 0.000 0.000]\n",
            " [0.000 0.000 1.000 0.000 0.000 0.000 0.000 0.000 0.000 0.000]\n",
            " [0.000 0.000 0.000 0.000 0.000 0.000 1.000 0.000 0.000 0.000]\n",
            " [0.000 0.000 0.000 0.000 0.000 0.000 0.002 0.997 0.000 0.000]\n",
            " [0.000 0.000 0.000 0.000 0.000 1.000 0.000 0.000 0.000 0.000]\n",
            " [0.000 1.000 0.000 0.000 0.000 0.000 0.000 0.000 0.000 0.000]\n",
            " [0.000 0.000 0.000 0.000 0.000 1.000 0.000 0.000 0.000 0.000]\n",
            " [0.000 0.000 0.000 0.000 0.000 0.000 0.002 0.997 0.000 0.000]\n",
            " [0.000 0.000 0.000 0.000 0.000 0.000 0.000 0.000 0.000 1.000]\n",
            " [0.000 0.000 0.000 0.000 0.000 0.000 0.000 0.000 1.000 0.000]\n",
            " [0.000 1.000 0.000 0.000 0.000 0.000 0.000 0.000 0.000 0.000]\n",
            " [0.000 0.000 0.000 1.000 0.000 0.000 0.000 0.000 0.000 0.000]\n",
            " [0.000 0.000 0.000 0.000 1.000 0.000 0.000 0.000 0.000 0.000]\n",
            " [1.000 0.000 0.000 0.000 0.000 0.000 0.000 0.000 0.000 0.000]\n",
            " [0.000 0.000 0.000 0.000 0.000 0.000 1.000 0.000 0.000 0.000]\n",
            " [1.000 0.000 0.000 0.000 0.000 0.000 0.000 0.000 0.000 0.000]\n",
            " [0.000 0.000 0.000 0.000 0.000 0.000 0.000 0.000 0.000 1.000]\n",
            " [0.000 0.000 0.000 0.000 1.000 0.000 0.000 0.000 0.000 0.000]\n",
            " [0.000 0.000 1.000 0.000 0.000 0.000 0.000 0.000 0.000 0.000]\n",
            " [0.000 0.000 0.000 0.000 0.000 0.000 0.000 0.000 1.000 0.000]]\n"
          ],
          "name": "stdout"
        }
      ]
    }
  ]
}