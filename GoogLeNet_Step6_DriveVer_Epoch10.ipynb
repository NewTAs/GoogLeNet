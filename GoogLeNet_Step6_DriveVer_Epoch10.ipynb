{
  "nbformat": 4,
  "nbformat_minor": 0,
  "metadata": {
    "colab": {
      "name": "GoogLeNet_Step6_DriveVer_Epoch10.ipynb",
      "provenance": [],
      "collapsed_sections": [],
      "include_colab_link": true
    },
    "kernelspec": {
      "name": "python3",
      "display_name": "Python 3"
    },
    "language_info": {
      "name": "python"
    }
  },
  "cells": [
    {
      "cell_type": "markdown",
      "metadata": {
        "id": "view-in-github",
        "colab_type": "text"
      },
      "source": [
        "<a href=\"https://colab.research.google.com/github/NewTAs/GoogLeNet/blob/main/GoogLeNet_Step6_DriveVer_Epoch10.ipynb\" target=\"_parent\"><img src=\"https://colab.research.google.com/assets/colab-badge.svg\" alt=\"Open In Colab\"/></a>"
      ]
    },
    {
      "cell_type": "markdown",
      "metadata": {
        "id": "9Ut6dnnVg4cp"
      },
      "source": [
        "* 참고: https://tykimos.github.io/2017/03/08/CNN_Getting_Started/"
      ]
    },
    {
      "cell_type": "code",
      "metadata": {
        "colab": {
          "base_uri": "https://localhost:8080/"
        },
        "id": "E9vBGLsdgq24",
        "outputId": "b531de1d-4160-4f4b-d2ae-24f4e34f9278"
      },
      "source": [
        "# Step1 Code\n",
        "import os\n",
        "import re\n",
        "import glob\n",
        "import cv2\n",
        "import numpy as np\n",
        "from sklearn.model_selection import train_test_split\n",
        "\n",
        "import tensorflow as tf\n",
        "\n",
        "from google.colab import drive\n",
        "drive.mount('googlenet')\n",
        "\n",
        "# New Cord\n",
        "import numpy as np\n",
        "from keras.models import Sequential\n",
        "from keras.layers import Dense\n",
        "from keras.layers import Flatten\n",
        "from keras.layers.convolutional import Conv2D\n",
        "from keras.layers.convolutional import MaxPooling2D\n",
        "from keras.preprocessing.image import ImageDataGenerator\n",
        "\n",
        "#np.random.seed(4) # 랜덤시드 고정시키기"
      ],
      "execution_count": 1,
      "outputs": [
        {
          "output_type": "stream",
          "text": [
            "Mounted at googlenet\n"
          ],
          "name": "stdout"
        }
      ]
    },
    {
      "cell_type": "code",
      "metadata": {
        "colab": {
          "base_uri": "https://localhost:8080/"
        },
        "id": "Vl2fl4Ishlg_",
        "outputId": "68041107-885c-42a2-b37d-9a51228f339c"
      },
      "source": [
        "pictureWeightHeightSize = 227\n",
        "\n",
        "train_datagen = ImageDataGenerator(rescale=1./255)\n",
        "\n",
        "train_generator = train_datagen.flow_from_directory(\n",
        "        '/content/googlenet/MyDrive/GoogLeNet_Data/TrainData_Step5/',\n",
        "        target_size=(pictureWeightHeightSize, pictureWeightHeightSize),\n",
        "        batch_size=10,\n",
        "        class_mode='categorical')\n",
        "\n",
        "test_datagen = ImageDataGenerator(rescale=1./255)\n",
        "\n",
        "test_generator = test_datagen.flow_from_directory(\n",
        "        '/content/googlenet/MyDrive/GoogLeNet_Data/TestData_Step5/',\n",
        "        target_size=(pictureWeightHeightSize, pictureWeightHeightSize),    \n",
        "        batch_size=10,\n",
        "        class_mode='categorical')"
      ],
      "execution_count": 2,
      "outputs": [
        {
          "output_type": "stream",
          "text": [
            "Found 300 images belonging to 10 classes.\n",
            "Found 20 images belonging to 10 classes.\n"
          ],
          "name": "stdout"
        }
      ]
    },
    {
      "cell_type": "code",
      "metadata": {
        "id": "eWRl-QgWTxOL"
      },
      "source": [
        "input_layer = tf.keras.layers.Input(shape=(227, 227, 3))"
      ],
      "execution_count": 3,
      "outputs": []
    },
    {
      "cell_type": "code",
      "metadata": {
        "id": "77191152"
      },
      "source": [
        "stem_layer = tf.keras.layers.Conv2D(64, (3, 3), strides=(1, 1), padding='SAME', activation='relu')(input_layer)\n",
        "max_pool = tf.keras.layers.MaxPool2D((3, 3), strides=(2, 2), padding='SAME')(stem_layer)\n",
        "stem_layer = tf.keras.layers.Conv2D(192, (3, 3), strides=(1, 1), padding='SAME', activation='relu')(max_pool)\n",
        "max_pool = tf.keras.layers.MaxPool2D((3, 3), strides=(2, 2), padding='SAME')(stem_layer)"
      ],
      "execution_count": 4,
      "outputs": []
    },
    {
      "cell_type": "code",
      "metadata": {
        "id": "c29d9d72"
      },
      "source": [
        "inception_block3a_1x1 = tf.keras.layers.Conv2D(64, (1, 1), strides=(1, 1), padding='SAME', activation='relu')(max_pool)\n",
        "\n",
        "inception_block3a_3x3 = tf.keras.layers.Conv2D(96, (1, 1), padding='SAME', activation='relu')(max_pool)\n",
        "inception_block3a_3x3 = tf.keras.layers.Conv2D(128, (3, 3), padding='SAME', activation='relu')(inception_block3a_3x3)\n",
        "\n",
        "inception_block3a_5x5 = tf.keras.layers.Conv2D(16, (1, 1), padding='SAME', activation='relu')(max_pool)\n",
        "inception_block3a_5x5 = tf.keras.layers.Conv2D(32, (5, 5), padding='SAME', activation='relu')(inception_block3a_5x5)\n",
        "\n",
        "inception_block3a_pool = tf.keras.layers.MaxPool2D((3, 3), strides=(1, 1), padding='SAME')(max_pool)\n",
        "inception_block3a_pool = tf.keras.layers.Conv2D(32, (1, 1), padding='SAME', activation='relu')(inception_block3a_pool)\n",
        "\n",
        "inception_block3a = tf.keras.layers.Concatenate()([inception_block3a_1x1, inception_block3a_3x3,\n",
        "                                                   inception_block3a_5x5, inception_block3a_pool])"
      ],
      "execution_count": 5,
      "outputs": []
    },
    {
      "cell_type": "code",
      "metadata": {
        "id": "8637e178"
      },
      "source": [
        "inception_block3b_1x1 = tf.keras.layers.Conv2D(32, (1, 1), strides=(1, 1), padding='SAME', activation='relu')(inception_block3a)\n",
        "\n",
        "inception_block3b_3x3 = tf.keras.layers.Conv2D(48, (1, 1), padding='SAME', activation='relu')(inception_block3a)\n",
        "inception_block3b_3x3 = tf.keras.layers.Conv2D(64, (3, 3), padding='SAME', activation='relu')(inception_block3b_3x3)\n",
        "\n",
        "inception_block3b_5x5 = tf.keras.layers.Conv2D(8, (1, 1), padding='SAME', activation='relu')(inception_block3a)\n",
        "inception_block3b_5x5 = tf.keras.layers.Conv2D(16, (5, 5), padding='SAME', activation='relu')(inception_block3b_5x5)\n",
        "\n",
        "inception_block3b_pool = tf.keras.layers.MaxPool2D((3, 3), strides=(1, 1), padding='SAME')(inception_block3a)\n",
        "inception_block3b_pool = tf.keras.layers.Conv2D(16, (1, 1), padding='SAME', activation='relu')(inception_block3b_pool)\n",
        "\n",
        "inception_block3b = tf.keras.layers.Concatenate()([inception_block3b_1x1, inception_block3b_3x3,\n",
        "                                                   inception_block3b_5x5, inception_block3b_pool])"
      ],
      "execution_count": 6,
      "outputs": []
    },
    {
      "cell_type": "code",
      "metadata": {
        "id": "3746e709"
      },
      "source": [
        "max_pool = tf.keras.layers.MaxPool2D((3, 3), strides=(2, 2), padding='SAME')(inception_block3b)"
      ],
      "execution_count": 7,
      "outputs": []
    },
    {
      "cell_type": "code",
      "metadata": {
        "id": "5e256e02"
      },
      "source": [
        "inception_block4a_1x1 = tf.keras.layers.Conv2D(192, (1, 1), padding='SAME', activation='relu')(max_pool)\n",
        "\n",
        "inception_block4a_3x3 = tf.keras.layers.Conv2D(96, (1, 1), padding='SAME', activation='relu')(max_pool)\n",
        "inception_block4a_3x3 = tf.keras.layers.Conv2D(208, (3, 3), padding='SAME', activation='relu')(inception_block4a_3x3)\n",
        "\n",
        "inception_block4a_5x5 = tf.keras.layers.Conv2D(16, (1, 1), padding='SAME', activation='relu')(max_pool)\n",
        "inception_block4a_5x5 = tf.keras.layers.Conv2D(48, (5, 5), padding='SAME', activation='relu')(inception_block4a_5x5)\n",
        "\n",
        "inception_block4a_pool = tf.keras.layers.MaxPool2D((3, 3), strides=(1, 1), padding='SAME')(max_pool)\n",
        "inception_block4a_pool = tf.keras.layers.Conv2D(64, (1, 1), padding='SAME', activation='relu')(inception_block4a_pool)\n",
        "\n",
        "inception_block4a = tf.keras.layers.Concatenate()([inception_block4a_1x1, inception_block4a_3x3,\n",
        "                                                   inception_block4a_5x5, inception_block4a_pool])"
      ],
      "execution_count": 8,
      "outputs": []
    },
    {
      "cell_type": "code",
      "metadata": {
        "id": "77c275dc"
      },
      "source": [
        "inception_block4b_1x1 = tf.keras.layers.Conv2D(160, (1, 1), padding='SAME', activation='relu')(inception_block4a)\n",
        "inception_block4b_3x3 = tf.keras.layers.Conv2D(112, (1, 1), padding='SAME', activation='relu')(inception_block4a)\n",
        "inception_block4b_3x3 = tf.keras.layers.Conv2D(224, (3, 3), padding='SAME', activation='relu')(inception_block4b_3x3)\n",
        "\n",
        "inception_block4b_5x5 = tf.keras.layers.Conv2D(24, (1, 1), padding='SAME', activation='relu')(inception_block4a)\n",
        "inception_block4b_5x5 = tf.keras.layers.Conv2D(64, (5, 5), padding='SAME', activation='relu')(inception_block4b_5x5)\n",
        "\n",
        "inception_block4b_pool = tf.keras.layers.MaxPool2D((3, 3), strides=(1, 1), padding='SAME')(inception_block4a)\n",
        "inception_block4b_pool = tf.keras.layers.Conv2D(64, (1, 1), padding='SAME', activation='relu')(inception_block4b_pool)\n",
        "\n",
        "inception_block4b = tf.keras.layers.Concatenate()([inception_block4b_1x1, inception_block4b_3x3,\n",
        "                                                   inception_block4b_5x5, inception_block4b_pool])"
      ],
      "execution_count": 9,
      "outputs": []
    },
    {
      "cell_type": "code",
      "metadata": {
        "id": "e39048bd"
      },
      "source": [
        "inception_block4c_1x1 = tf.keras.layers.Conv2D(128, (1, 1), padding='SAME', activation='relu')(inception_block4b)\n",
        "\n",
        "inception_block4c_3x3 = tf.keras.layers.Conv2D(128, (1, 1), padding='SAME', activation='relu')(inception_block4b)\n",
        "inception_block4c_3x3 = tf.keras.layers.Conv2D(256, (3, 3), padding='SAME', activation='relu')(inception_block4c_3x3)\n",
        "\n",
        "inception_block4c_5x5 = tf.keras.layers.Conv2D(24, (1, 1), padding='SAME', activation='relu')(inception_block4b)\n",
        "inception_block4c_5x5 = tf.keras.layers.Conv2D(64, (5, 5), padding='SAME', activation='relu')(inception_block4c_5x5)\n",
        "\n",
        "inception_block4c_pool = tf.keras.layers.MaxPool2D((3, 3), strides=(1, 1), padding='SAME')(inception_block4b)\n",
        "inception_block4c_pool = tf.keras.layers.Conv2D(64, (1, 1), padding='SAME', activation='relu')(inception_block4c_pool)\n",
        "\n",
        "inception_block4c = tf.keras.layers.Concatenate()([inception_block4c_1x1, inception_block4c_3x3,\n",
        "                                                   inception_block4c_5x5, inception_block4c_pool])"
      ],
      "execution_count": 10,
      "outputs": []
    },
    {
      "cell_type": "code",
      "metadata": {
        "id": "be5314e3"
      },
      "source": [
        "inception_block4d_1x1 = tf.keras.layers.Conv2D(112, (1, 1), padding='SAME', activation='relu')(inception_block4c)\n",
        "\n",
        "inception_block4d_3x3 = tf.keras.layers.Conv2D(144, (1, 1), padding='SAME', activation='relu')(inception_block4c)\n",
        "inception_block4d_3x3 = tf.keras.layers.Conv2D(288, (3, 3), padding='SAME', activation='relu')(inception_block4d_3x3)\n",
        "\n",
        "inception_block4d_5x5 = tf.keras.layers.Conv2D(32, (1, 1), padding='SAME', activation='relu')(inception_block4c)\n",
        "inception_block4d_5x5 = tf.keras.layers.Conv2D(64, (5, 5), padding='SAME', activation='relu')(inception_block4d_5x5)\n",
        "\n",
        "inception_block4d_pool = tf.keras.layers.MaxPool2D((3, 3), strides=(1, 1), padding='SAME')(inception_block4c)\n",
        "inception_block4d_pool = tf.keras.layers.Conv2D(64, (1, 1), padding='SAME', activation='relu')(inception_block4d_pool)\n",
        "\n",
        "inception_block4d = tf.keras.layers.Concatenate()([inception_block4d_1x1, inception_block4d_3x3,\n",
        "                                                   inception_block4d_5x5, inception_block4d_pool])"
      ],
      "execution_count": 11,
      "outputs": []
    },
    {
      "cell_type": "code",
      "metadata": {
        "id": "9a31d11c"
      },
      "source": [
        "inception_block4e_1x1 = tf.keras.layers.Conv2D(256, (1, 1), padding='SAME', activation='relu')(inception_block4d)\n",
        "\n",
        "inception_block4e_3x3 = tf.keras.layers.Conv2D(160, (1, 1), padding='SAME', activation='relu')(inception_block4d)\n",
        "inception_block4e_3x3 = tf.keras.layers.Conv2D(320, (3, 3), padding='SAME', activation='relu')(inception_block4e_3x3)\n",
        "\n",
        "inception_block4e_5x5 = tf.keras.layers.Conv2D(32, (1, 1), padding='SAME', activation='relu')(inception_block4d)\n",
        "inception_block4e_5x5 = tf.keras.layers.Conv2D(128, (5, 5), padding='SAME', activation='relu')(inception_block4e_5x5)\n",
        "\n",
        "inception_block4e_pool = tf.keras.layers.MaxPool2D((3, 3), strides=(1, 1), padding='SAME')(inception_block4d)\n",
        "inception_block4e_pool = tf.keras.layers.Conv2D(128, (1, 1), padding='SAME', activation='relu')(inception_block4e_pool)\n",
        "\n",
        "inception_block4e = tf.keras.layers.Concatenate()([inception_block4e_1x1, inception_block4e_3x3,\n",
        "                                                   inception_block4e_5x5, inception_block4e_pool])"
      ],
      "execution_count": 12,
      "outputs": []
    },
    {
      "cell_type": "code",
      "metadata": {
        "id": "eeccc456"
      },
      "source": [
        "max_pool = tf.keras.layers.MaxPool2D((3, 3), strides=(2, 2), padding='SAME')(inception_block4e)"
      ],
      "execution_count": 13,
      "outputs": []
    },
    {
      "cell_type": "code",
      "metadata": {
        "id": "66fe0596"
      },
      "source": [
        "inception_block5a_1x1 = tf.keras.layers.Conv2D(256, (1, 1), padding='SAME', activation='relu')(max_pool)\n",
        "\n",
        "inception_block5a_3x3 = tf.keras.layers.Conv2D(160, (1, 1), padding='SAME', activation='relu')(max_pool)\n",
        "inception_block5a_3x3 = tf.keras.layers.Conv2D(320, (3, 3), padding='SAME', activation='relu')(inception_block5a_3x3)\n",
        "\n",
        "inception_block5a_5x5 = tf.keras.layers.Conv2D(32, (1, 1), padding='SAME', activation='relu')(max_pool)\n",
        "inception_block5a_5x5 = tf.keras.layers.Conv2D(128, (5, 5), padding='SAME', activation='relu')(inception_block5a_5x5)\n",
        "\n",
        "inception_block5a_pool = tf.keras.layers.MaxPool2D((3, 3), strides=(1, 1), padding='SAME')(max_pool)\n",
        "inception_block5a_pool = tf.keras.layers.Conv2D(128, (1, 1), padding='SAME', activation='relu')(inception_block5a_pool)\n",
        "\n",
        "inception_block5a = tf.keras.layers.Concatenate()([inception_block5a_1x1, inception_block5a_3x3,\n",
        "                                                   inception_block5a_5x5, inception_block5a_pool])"
      ],
      "execution_count": 14,
      "outputs": []
    },
    {
      "cell_type": "code",
      "metadata": {
        "id": "d8222fe2"
      },
      "source": [
        "inception_block5b_1x1 = tf.keras.layers.Conv2D(128, (1, 1), padding='SAME', activation='relu')(inception_block5a)\n",
        "\n",
        "inception_block5b_3x3 = tf.keras.layers.Conv2D(80, (1, 1), padding='SAME', activation='relu')(inception_block5a)\n",
        "inception_block5b_3x3 = tf.keras.layers.Conv2D(120, (3, 3), padding='SAME', activation='relu')(inception_block5b_3x3)\n",
        "\n",
        "inception_block5b_5x5 = tf.keras.layers.Conv2D(16, (1, 1), padding='SAME', activation='relu')(inception_block5a)\n",
        "inception_block5b_5x5 = tf.keras.layers.Conv2D(64, (5, 5), padding='SAME', activation='relu')(inception_block5b_5x5)\n",
        "\n",
        "inception_block5b_pool = tf.keras.layers.MaxPool2D((3, 3), strides=(1, 1), padding='SAME')(inception_block5a)\n",
        "inception_block5b_pool = tf.keras.layers.Conv2D(64, (1, 1), padding='SAME', activation='relu')(inception_block5b_pool)\n",
        "\n",
        "inception_block5b = tf.keras.layers.Concatenate()([inception_block5b_1x1, inception_block5b_3x3,\n",
        "                                                   inception_block5b_5x5, inception_block5b_pool])"
      ],
      "execution_count": 15,
      "outputs": []
    },
    {
      "cell_type": "code",
      "metadata": {
        "id": "3b26f10f"
      },
      "source": [
        "avg_pool = tf.keras.layers.GlobalAveragePooling2D()(inception_block5b) # 416\n",
        "dropout = tf.keras.layers.Dropout(0.4)(avg_pool)\n",
        "out_layer = tf.keras.layers.Dense(10, activation='softmax')(dropout)"
      ],
      "execution_count": 16,
      "outputs": []
    },
    {
      "cell_type": "code",
      "metadata": {
        "colab": {
          "base_uri": "https://localhost:8080/"
        },
        "id": "1764FfRSmsYP",
        "outputId": "d1a387b6-14de-48b0-d593-743f7cfc4658"
      },
      "source": [
        "model = tf.keras.models.Model(input_layer, out_layer)\n",
        "\n",
        "#model.compile(optimizer='adam', loss='sparse_categorical_crossentropy', metrics=['accuracy'])\n",
        "model.compile(optimizer='adam', loss='categorical_crossentropy', metrics=['accuracy'])\n",
        "model.summary()\n",
        "\n",
        "#model.fit(x_train, y_train, batch_size=128, epochs=10, validation_data=(x_test, y_test))"
      ],
      "execution_count": 17,
      "outputs": [
        {
          "output_type": "stream",
          "text": [
            "Model: \"model\"\n",
            "__________________________________________________________________________________________________\n",
            "Layer (type)                    Output Shape         Param #     Connected to                     \n",
            "==================================================================================================\n",
            "input_1 (InputLayer)            [(None, 227, 227, 3) 0                                            \n",
            "__________________________________________________________________________________________________\n",
            "conv2d (Conv2D)                 (None, 227, 227, 64) 1792        input_1[0][0]                    \n",
            "__________________________________________________________________________________________________\n",
            "max_pooling2d (MaxPooling2D)    (None, 114, 114, 64) 0           conv2d[0][0]                     \n",
            "__________________________________________________________________________________________________\n",
            "conv2d_1 (Conv2D)               (None, 114, 114, 192 110784      max_pooling2d[0][0]              \n",
            "__________________________________________________________________________________________________\n",
            "max_pooling2d_1 (MaxPooling2D)  (None, 57, 57, 192)  0           conv2d_1[0][0]                   \n",
            "__________________________________________________________________________________________________\n",
            "conv2d_3 (Conv2D)               (None, 57, 57, 96)   18528       max_pooling2d_1[0][0]            \n",
            "__________________________________________________________________________________________________\n",
            "conv2d_5 (Conv2D)               (None, 57, 57, 16)   3088        max_pooling2d_1[0][0]            \n",
            "__________________________________________________________________________________________________\n",
            "max_pooling2d_2 (MaxPooling2D)  (None, 57, 57, 192)  0           max_pooling2d_1[0][0]            \n",
            "__________________________________________________________________________________________________\n",
            "conv2d_2 (Conv2D)               (None, 57, 57, 64)   12352       max_pooling2d_1[0][0]            \n",
            "__________________________________________________________________________________________________\n",
            "conv2d_4 (Conv2D)               (None, 57, 57, 128)  110720      conv2d_3[0][0]                   \n",
            "__________________________________________________________________________________________________\n",
            "conv2d_6 (Conv2D)               (None, 57, 57, 32)   12832       conv2d_5[0][0]                   \n",
            "__________________________________________________________________________________________________\n",
            "conv2d_7 (Conv2D)               (None, 57, 57, 32)   6176        max_pooling2d_2[0][0]            \n",
            "__________________________________________________________________________________________________\n",
            "concatenate (Concatenate)       (None, 57, 57, 256)  0           conv2d_2[0][0]                   \n",
            "                                                                 conv2d_4[0][0]                   \n",
            "                                                                 conv2d_6[0][0]                   \n",
            "                                                                 conv2d_7[0][0]                   \n",
            "__________________________________________________________________________________________________\n",
            "conv2d_9 (Conv2D)               (None, 57, 57, 48)   12336       concatenate[0][0]                \n",
            "__________________________________________________________________________________________________\n",
            "conv2d_11 (Conv2D)              (None, 57, 57, 8)    2056        concatenate[0][0]                \n",
            "__________________________________________________________________________________________________\n",
            "max_pooling2d_3 (MaxPooling2D)  (None, 57, 57, 256)  0           concatenate[0][0]                \n",
            "__________________________________________________________________________________________________\n",
            "conv2d_8 (Conv2D)               (None, 57, 57, 32)   8224        concatenate[0][0]                \n",
            "__________________________________________________________________________________________________\n",
            "conv2d_10 (Conv2D)              (None, 57, 57, 64)   27712       conv2d_9[0][0]                   \n",
            "__________________________________________________________________________________________________\n",
            "conv2d_12 (Conv2D)              (None, 57, 57, 16)   3216        conv2d_11[0][0]                  \n",
            "__________________________________________________________________________________________________\n",
            "conv2d_13 (Conv2D)              (None, 57, 57, 16)   4112        max_pooling2d_3[0][0]            \n",
            "__________________________________________________________________________________________________\n",
            "concatenate_1 (Concatenate)     (None, 57, 57, 128)  0           conv2d_8[0][0]                   \n",
            "                                                                 conv2d_10[0][0]                  \n",
            "                                                                 conv2d_12[0][0]                  \n",
            "                                                                 conv2d_13[0][0]                  \n",
            "__________________________________________________________________________________________________\n",
            "max_pooling2d_4 (MaxPooling2D)  (None, 29, 29, 128)  0           concatenate_1[0][0]              \n",
            "__________________________________________________________________________________________________\n",
            "conv2d_15 (Conv2D)              (None, 29, 29, 96)   12384       max_pooling2d_4[0][0]            \n",
            "__________________________________________________________________________________________________\n",
            "conv2d_17 (Conv2D)              (None, 29, 29, 16)   2064        max_pooling2d_4[0][0]            \n",
            "__________________________________________________________________________________________________\n",
            "max_pooling2d_5 (MaxPooling2D)  (None, 29, 29, 128)  0           max_pooling2d_4[0][0]            \n",
            "__________________________________________________________________________________________________\n",
            "conv2d_14 (Conv2D)              (None, 29, 29, 192)  24768       max_pooling2d_4[0][0]            \n",
            "__________________________________________________________________________________________________\n",
            "conv2d_16 (Conv2D)              (None, 29, 29, 208)  179920      conv2d_15[0][0]                  \n",
            "__________________________________________________________________________________________________\n",
            "conv2d_18 (Conv2D)              (None, 29, 29, 48)   19248       conv2d_17[0][0]                  \n",
            "__________________________________________________________________________________________________\n",
            "conv2d_19 (Conv2D)              (None, 29, 29, 64)   8256        max_pooling2d_5[0][0]            \n",
            "__________________________________________________________________________________________________\n",
            "concatenate_2 (Concatenate)     (None, 29, 29, 512)  0           conv2d_14[0][0]                  \n",
            "                                                                 conv2d_16[0][0]                  \n",
            "                                                                 conv2d_18[0][0]                  \n",
            "                                                                 conv2d_19[0][0]                  \n",
            "__________________________________________________________________________________________________\n",
            "conv2d_21 (Conv2D)              (None, 29, 29, 112)  57456       concatenate_2[0][0]              \n",
            "__________________________________________________________________________________________________\n",
            "conv2d_23 (Conv2D)              (None, 29, 29, 24)   12312       concatenate_2[0][0]              \n",
            "__________________________________________________________________________________________________\n",
            "max_pooling2d_6 (MaxPooling2D)  (None, 29, 29, 512)  0           concatenate_2[0][0]              \n",
            "__________________________________________________________________________________________________\n",
            "conv2d_20 (Conv2D)              (None, 29, 29, 160)  82080       concatenate_2[0][0]              \n",
            "__________________________________________________________________________________________________\n",
            "conv2d_22 (Conv2D)              (None, 29, 29, 224)  226016      conv2d_21[0][0]                  \n",
            "__________________________________________________________________________________________________\n",
            "conv2d_24 (Conv2D)              (None, 29, 29, 64)   38464       conv2d_23[0][0]                  \n",
            "__________________________________________________________________________________________________\n",
            "conv2d_25 (Conv2D)              (None, 29, 29, 64)   32832       max_pooling2d_6[0][0]            \n",
            "__________________________________________________________________________________________________\n",
            "concatenate_3 (Concatenate)     (None, 29, 29, 512)  0           conv2d_20[0][0]                  \n",
            "                                                                 conv2d_22[0][0]                  \n",
            "                                                                 conv2d_24[0][0]                  \n",
            "                                                                 conv2d_25[0][0]                  \n",
            "__________________________________________________________________________________________________\n",
            "conv2d_27 (Conv2D)              (None, 29, 29, 128)  65664       concatenate_3[0][0]              \n",
            "__________________________________________________________________________________________________\n",
            "conv2d_29 (Conv2D)              (None, 29, 29, 24)   12312       concatenate_3[0][0]              \n",
            "__________________________________________________________________________________________________\n",
            "max_pooling2d_7 (MaxPooling2D)  (None, 29, 29, 512)  0           concatenate_3[0][0]              \n",
            "__________________________________________________________________________________________________\n",
            "conv2d_26 (Conv2D)              (None, 29, 29, 128)  65664       concatenate_3[0][0]              \n",
            "__________________________________________________________________________________________________\n",
            "conv2d_28 (Conv2D)              (None, 29, 29, 256)  295168      conv2d_27[0][0]                  \n",
            "__________________________________________________________________________________________________\n",
            "conv2d_30 (Conv2D)              (None, 29, 29, 64)   38464       conv2d_29[0][0]                  \n",
            "__________________________________________________________________________________________________\n",
            "conv2d_31 (Conv2D)              (None, 29, 29, 64)   32832       max_pooling2d_7[0][0]            \n",
            "__________________________________________________________________________________________________\n",
            "concatenate_4 (Concatenate)     (None, 29, 29, 512)  0           conv2d_26[0][0]                  \n",
            "                                                                 conv2d_28[0][0]                  \n",
            "                                                                 conv2d_30[0][0]                  \n",
            "                                                                 conv2d_31[0][0]                  \n",
            "__________________________________________________________________________________________________\n",
            "conv2d_33 (Conv2D)              (None, 29, 29, 144)  73872       concatenate_4[0][0]              \n",
            "__________________________________________________________________________________________________\n",
            "conv2d_35 (Conv2D)              (None, 29, 29, 32)   16416       concatenate_4[0][0]              \n",
            "__________________________________________________________________________________________________\n",
            "max_pooling2d_8 (MaxPooling2D)  (None, 29, 29, 512)  0           concatenate_4[0][0]              \n",
            "__________________________________________________________________________________________________\n",
            "conv2d_32 (Conv2D)              (None, 29, 29, 112)  57456       concatenate_4[0][0]              \n",
            "__________________________________________________________________________________________________\n",
            "conv2d_34 (Conv2D)              (None, 29, 29, 288)  373536      conv2d_33[0][0]                  \n",
            "__________________________________________________________________________________________________\n",
            "conv2d_36 (Conv2D)              (None, 29, 29, 64)   51264       conv2d_35[0][0]                  \n",
            "__________________________________________________________________________________________________\n",
            "conv2d_37 (Conv2D)              (None, 29, 29, 64)   32832       max_pooling2d_8[0][0]            \n",
            "__________________________________________________________________________________________________\n",
            "concatenate_5 (Concatenate)     (None, 29, 29, 528)  0           conv2d_32[0][0]                  \n",
            "                                                                 conv2d_34[0][0]                  \n",
            "                                                                 conv2d_36[0][0]                  \n",
            "                                                                 conv2d_37[0][0]                  \n",
            "__________________________________________________________________________________________________\n",
            "conv2d_39 (Conv2D)              (None, 29, 29, 160)  84640       concatenate_5[0][0]              \n",
            "__________________________________________________________________________________________________\n",
            "conv2d_41 (Conv2D)              (None, 29, 29, 32)   16928       concatenate_5[0][0]              \n",
            "__________________________________________________________________________________________________\n",
            "max_pooling2d_9 (MaxPooling2D)  (None, 29, 29, 528)  0           concatenate_5[0][0]              \n",
            "__________________________________________________________________________________________________\n",
            "conv2d_38 (Conv2D)              (None, 29, 29, 256)  135424      concatenate_5[0][0]              \n",
            "__________________________________________________________________________________________________\n",
            "conv2d_40 (Conv2D)              (None, 29, 29, 320)  461120      conv2d_39[0][0]                  \n",
            "__________________________________________________________________________________________________\n",
            "conv2d_42 (Conv2D)              (None, 29, 29, 128)  102528      conv2d_41[0][0]                  \n",
            "__________________________________________________________________________________________________\n",
            "conv2d_43 (Conv2D)              (None, 29, 29, 128)  67712       max_pooling2d_9[0][0]            \n",
            "__________________________________________________________________________________________________\n",
            "concatenate_6 (Concatenate)     (None, 29, 29, 832)  0           conv2d_38[0][0]                  \n",
            "                                                                 conv2d_40[0][0]                  \n",
            "                                                                 conv2d_42[0][0]                  \n",
            "                                                                 conv2d_43[0][0]                  \n",
            "__________________________________________________________________________________________________\n",
            "max_pooling2d_10 (MaxPooling2D) (None, 15, 15, 832)  0           concatenate_6[0][0]              \n",
            "__________________________________________________________________________________________________\n",
            "conv2d_45 (Conv2D)              (None, 15, 15, 160)  133280      max_pooling2d_10[0][0]           \n",
            "__________________________________________________________________________________________________\n",
            "conv2d_47 (Conv2D)              (None, 15, 15, 32)   26656       max_pooling2d_10[0][0]           \n",
            "__________________________________________________________________________________________________\n",
            "max_pooling2d_11 (MaxPooling2D) (None, 15, 15, 832)  0           max_pooling2d_10[0][0]           \n",
            "__________________________________________________________________________________________________\n",
            "conv2d_44 (Conv2D)              (None, 15, 15, 256)  213248      max_pooling2d_10[0][0]           \n",
            "__________________________________________________________________________________________________\n",
            "conv2d_46 (Conv2D)              (None, 15, 15, 320)  461120      conv2d_45[0][0]                  \n",
            "__________________________________________________________________________________________________\n",
            "conv2d_48 (Conv2D)              (None, 15, 15, 128)  102528      conv2d_47[0][0]                  \n",
            "__________________________________________________________________________________________________\n",
            "conv2d_49 (Conv2D)              (None, 15, 15, 128)  106624      max_pooling2d_11[0][0]           \n",
            "__________________________________________________________________________________________________\n",
            "concatenate_7 (Concatenate)     (None, 15, 15, 832)  0           conv2d_44[0][0]                  \n",
            "                                                                 conv2d_46[0][0]                  \n",
            "                                                                 conv2d_48[0][0]                  \n",
            "                                                                 conv2d_49[0][0]                  \n",
            "__________________________________________________________________________________________________\n",
            "conv2d_51 (Conv2D)              (None, 15, 15, 80)   66640       concatenate_7[0][0]              \n",
            "__________________________________________________________________________________________________\n",
            "conv2d_53 (Conv2D)              (None, 15, 15, 16)   13328       concatenate_7[0][0]              \n",
            "__________________________________________________________________________________________________\n",
            "max_pooling2d_12 (MaxPooling2D) (None, 15, 15, 832)  0           concatenate_7[0][0]              \n",
            "__________________________________________________________________________________________________\n",
            "conv2d_50 (Conv2D)              (None, 15, 15, 128)  106624      concatenate_7[0][0]              \n",
            "__________________________________________________________________________________________________\n",
            "conv2d_52 (Conv2D)              (None, 15, 15, 120)  86520       conv2d_51[0][0]                  \n",
            "__________________________________________________________________________________________________\n",
            "conv2d_54 (Conv2D)              (None, 15, 15, 64)   25664       conv2d_53[0][0]                  \n",
            "__________________________________________________________________________________________________\n",
            "conv2d_55 (Conv2D)              (None, 15, 15, 64)   53312       max_pooling2d_12[0][0]           \n",
            "__________________________________________________________________________________________________\n",
            "concatenate_8 (Concatenate)     (None, 15, 15, 376)  0           conv2d_50[0][0]                  \n",
            "                                                                 conv2d_52[0][0]                  \n",
            "                                                                 conv2d_54[0][0]                  \n",
            "                                                                 conv2d_55[0][0]                  \n",
            "__________________________________________________________________________________________________\n",
            "global_average_pooling2d (Globa (None, 376)          0           concatenate_8[0][0]              \n",
            "__________________________________________________________________________________________________\n",
            "dropout (Dropout)               (None, 376)          0           global_average_pooling2d[0][0]   \n",
            "__________________________________________________________________________________________________\n",
            "dense (Dense)                   (None, 10)           3770        dropout[0][0]                    \n",
            "==================================================================================================\n",
            "Total params: 4,412,874\n",
            "Trainable params: 4,412,874\n",
            "Non-trainable params: 0\n",
            "__________________________________________________________________________________________________\n"
          ],
          "name": "stdout"
        }
      ]
    },
    {
      "cell_type": "code",
      "metadata": {
        "colab": {
          "base_uri": "https://localhost:8080/"
        },
        "id": "b1D7qJrqnK3I",
        "outputId": "e6802b96-7132-4896-df36-be82e9acabc4"
      },
      "source": [
        "model.fit(train_generator, epochs=10, validation_data=test_generator)"
      ],
      "execution_count": 18,
      "outputs": [
        {
          "output_type": "stream",
          "text": [
            "Epoch 1/10\n",
            "30/30 [==============================] - 256s 8s/step - loss: 2.3128 - accuracy: 0.0733 - val_loss: 2.2991 - val_accuracy: 0.1000\n",
            "Epoch 2/10\n",
            "30/30 [==============================] - 241s 8s/step - loss: 2.1167 - accuracy: 0.1367 - val_loss: 1.9492 - val_accuracy: 0.2000\n",
            "Epoch 3/10\n",
            "30/30 [==============================] - 242s 8s/step - loss: 1.9405 - accuracy: 0.2133 - val_loss: 1.7048 - val_accuracy: 0.4000\n",
            "Epoch 4/10\n",
            "30/30 [==============================] - 241s 8s/step - loss: 1.8119 - accuracy: 0.2767 - val_loss: 1.6611 - val_accuracy: 0.4000\n",
            "Epoch 5/10\n",
            "30/30 [==============================] - 239s 8s/step - loss: 1.9812 - accuracy: 0.2400 - val_loss: 1.7344 - val_accuracy: 0.4000\n",
            "Epoch 6/10\n",
            "30/30 [==============================] - 238s 8s/step - loss: 1.6573 - accuracy: 0.3733 - val_loss: 1.4076 - val_accuracy: 0.4000\n",
            "Epoch 7/10\n",
            "30/30 [==============================] - 239s 8s/step - loss: 1.3715 - accuracy: 0.4367 - val_loss: 1.0643 - val_accuracy: 0.6000\n",
            "Epoch 8/10\n",
            "30/30 [==============================] - 238s 8s/step - loss: 1.1364 - accuracy: 0.5367 - val_loss: 0.9875 - val_accuracy: 0.6000\n",
            "Epoch 9/10\n",
            "30/30 [==============================] - 241s 8s/step - loss: 0.9928 - accuracy: 0.5600 - val_loss: 0.8359 - val_accuracy: 0.6000\n",
            "Epoch 10/10\n",
            "30/30 [==============================] - 241s 8s/step - loss: 1.0344 - accuracy: 0.5533 - val_loss: 0.8764 - val_accuracy: 0.6000\n"
          ],
          "name": "stdout"
        },
        {
          "output_type": "execute_result",
          "data": {
            "text/plain": [
              "<tensorflow.python.keras.callbacks.History at 0x7efe1598ad10>"
            ]
          },
          "metadata": {
            "tags": []
          },
          "execution_count": 18
        }
      ]
    },
    {
      "cell_type": "code",
      "metadata": {
        "colab": {
          "base_uri": "https://localhost:8080/"
        },
        "id": "dwkxcMnDqXEB",
        "outputId": "c7326509-7282-4c8a-9455-e25ca281dfbc"
      },
      "source": [
        "print(\"-- Evaluate --\")\n",
        "scores = model.evaluate(test_generator)\n",
        "print(\"%s: %.2f%%\" %(model.metrics_names[1], scores[1]*100))"
      ],
      "execution_count": 19,
      "outputs": [
        {
          "output_type": "stream",
          "text": [
            "-- Evaluate --\n",
            "2/2 [==============================] - 4s 2s/step - loss: 0.8764 - accuracy: 0.6000\n",
            "accuracy: 60.00%\n"
          ],
          "name": "stdout"
        }
      ]
    },
    {
      "cell_type": "code",
      "metadata": {
        "colab": {
          "base_uri": "https://localhost:8080/"
        },
        "id": "KQnF0I-fqcuC",
        "outputId": "9217a31e-196e-47f4-d75d-787e7d8845b6"
      },
      "source": [
        "print(\"-- Predict --\")\n",
        "output = model.predict(test_generator)\n",
        "np.set_printoptions(formatter={'float': lambda x: \"{0:0.3f}\".format(x)})\n",
        "print(test_generator.class_indices)\n",
        "print(output)"
      ],
      "execution_count": 20,
      "outputs": [
        {
          "output_type": "stream",
          "text": [
            "-- Predict --\n",
            "{'1': 0, '10': 1, '2': 2, '3': 3, '4': 4, '5': 5, '6': 6, '7': 7, '8': 8, '9': 9}\n",
            "[[0.034 0.209 0.181 0.002 0.009 0.221 0.149 0.156 0.000 0.039]\n",
            " [0.033 0.209 0.182 0.002 0.009 0.221 0.149 0.156 0.000 0.040]\n",
            " [0.000 0.000 0.000 0.000 0.000 0.000 0.000 0.000 1.000 0.000]\n",
            " [0.000 0.000 0.000 0.000 0.000 0.000 0.000 0.000 1.000 0.000]\n",
            " [0.000 0.000 0.000 0.011 0.000 0.000 0.000 0.000 0.000 0.989]\n",
            " [0.000 0.000 0.000 1.000 0.000 0.000 0.000 0.000 0.000 0.000]\n",
            " [0.034 0.209 0.181 0.002 0.009 0.221 0.149 0.156 0.000 0.039]\n",
            " [0.034 0.209 0.181 0.002 0.009 0.221 0.149 0.156 0.000 0.039]\n",
            " [0.819 0.000 0.000 0.037 0.001 0.000 0.000 0.000 0.137 0.006]\n",
            " [0.000 0.000 0.000 1.000 0.000 0.000 0.000 0.000 0.000 0.000]\n",
            " [0.816 0.000 0.000 0.039 0.001 0.000 0.000 0.000 0.138 0.006]\n",
            " [0.034 0.209 0.181 0.002 0.009 0.221 0.149 0.156 0.000 0.039]\n",
            " [0.033 0.209 0.182 0.002 0.009 0.221 0.149 0.156 0.000 0.040]\n",
            " [0.000 0.000 0.000 0.000 0.993 0.000 0.000 0.000 0.006 0.000]\n",
            " [0.034 0.209 0.181 0.002 0.009 0.221 0.149 0.156 0.000 0.039]\n",
            " [0.034 0.209 0.181 0.002 0.009 0.221 0.149 0.156 0.000 0.039]\n",
            " [0.000 0.000 0.000 0.011 0.000 0.000 0.000 0.000 0.000 0.989]\n",
            " [0.000 0.000 0.000 0.000 0.993 0.000 0.000 0.000 0.006 0.000]\n",
            " [0.034 0.209 0.181 0.002 0.009 0.221 0.149 0.156 0.000 0.039]\n",
            " [0.034 0.209 0.181 0.002 0.009 0.221 0.149 0.156 0.000 0.039]]\n"
          ],
          "name": "stdout"
        }
      ]
    }
  ]
}