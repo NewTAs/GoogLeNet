{
  "nbformat": 4,
  "nbformat_minor": 0,
  "metadata": {
    "colab": {
      "name": "GoogLeNet_Step4_DriveVer_Epoch50.ipynb",
      "provenance": [],
      "collapsed_sections": [],
      "authorship_tag": "ABX9TyOb/MW3HVAwbW8s/E6VACBR",
      "include_colab_link": true
    },
    "kernelspec": {
      "name": "python3",
      "display_name": "Python 3"
    },
    "language_info": {
      "name": "python"
    }
  },
  "cells": [
    {
      "cell_type": "markdown",
      "metadata": {
        "id": "view-in-github",
        "colab_type": "text"
      },
      "source": [
        "<a href=\"https://colab.research.google.com/github/NewTAs/GoogLeNet/blob/main/GoogLeNet_Step4_DriveVer_Epoch50.ipynb\" target=\"_parent\"><img src=\"https://colab.research.google.com/assets/colab-badge.svg\" alt=\"Open In Colab\"/></a>"
      ]
    },
    {
      "cell_type": "markdown",
      "metadata": {
        "id": "9Ut6dnnVg4cp"
      },
      "source": [
        "* 참고: https://tykimos.github.io/2017/03/08/CNN_Getting_Started/"
      ]
    },
    {
      "cell_type": "code",
      "metadata": {
        "colab": {
          "base_uri": "https://localhost:8080/"
        },
        "id": "E9vBGLsdgq24",
        "outputId": "293a8321-7e42-424d-d10e-34a4ab2e6767"
      },
      "source": [
        "# Step1 Code\n",
        "import os\n",
        "import re\n",
        "import glob\n",
        "import cv2\n",
        "import numpy as np\n",
        "from sklearn.model_selection import train_test_split\n",
        "\n",
        "import tensorflow as tf\n",
        "\n",
        "from google.colab import drive\n",
        "drive.mount('googlenet')\n",
        "\n",
        "# New Cord\n",
        "import numpy as np\n",
        "from keras.models import Sequential\n",
        "from keras.layers import Dense\n",
        "from keras.layers import Flatten\n",
        "from keras.layers.convolutional import Conv2D\n",
        "from keras.layers.convolutional import MaxPooling2D\n",
        "from keras.preprocessing.image import ImageDataGenerator\n",
        "\n",
        "#np.random.seed(4) # 랜덤시드 고정시키기"
      ],
      "execution_count": 1,
      "outputs": [
        {
          "output_type": "stream",
          "text": [
            "Mounted at googlenet\n"
          ],
          "name": "stdout"
        }
      ]
    },
    {
      "cell_type": "code",
      "metadata": {
        "colab": {
          "base_uri": "https://localhost:8080/"
        },
        "id": "Vl2fl4Ishlg_",
        "outputId": "afd33dd3-8e7d-4539-c2e4-2087c493aa27"
      },
      "source": [
        "pictureWeightHeightSize = 227\n",
        "\n",
        "train_datagen = ImageDataGenerator(rescale=1./255)\n",
        "\n",
        "train_generator = train_datagen.flow_from_directory(\n",
        "        '/content/googlenet/MyDrive/GoogLeNet_Data/TrainData_Step3/',\n",
        "        target_size=(pictureWeightHeightSize, pictureWeightHeightSize),\n",
        "        batch_size=4,\n",
        "        class_mode='categorical')\n",
        "\n",
        "test_datagen = ImageDataGenerator(rescale=1./255)\n",
        "\n",
        "test_generator = test_datagen.flow_from_directory(\n",
        "        '/content/googlenet/MyDrive/GoogLeNet_Data/TestData_Step3/',\n",
        "        target_size=(pictureWeightHeightSize, pictureWeightHeightSize),    \n",
        "        batch_size=4,\n",
        "        class_mode='categorical')"
      ],
      "execution_count": 2,
      "outputs": [
        {
          "output_type": "stream",
          "text": [
            "Found 60 images belonging to 4 classes.\n",
            "Found 12 images belonging to 4 classes.\n"
          ],
          "name": "stdout"
        }
      ]
    },
    {
      "cell_type": "code",
      "metadata": {
        "id": "eWRl-QgWTxOL"
      },
      "source": [
        "input_layer = tf.keras.layers.Input(shape=(227, 227, 3))"
      ],
      "execution_count": 3,
      "outputs": []
    },
    {
      "cell_type": "code",
      "metadata": {
        "id": "77191152"
      },
      "source": [
        "stem_layer = tf.keras.layers.Conv2D(64, (3, 3), strides=(1, 1), padding='SAME', activation='relu')(input_layer)\n",
        "max_pool = tf.keras.layers.MaxPool2D((3, 3), strides=(2, 2), padding='SAME')(stem_layer)\n",
        "stem_layer = tf.keras.layers.Conv2D(192, (3, 3), strides=(1, 1), padding='SAME', activation='relu')(max_pool)\n",
        "max_pool = tf.keras.layers.MaxPool2D((3, 3), strides=(2, 2), padding='SAME')(stem_layer)"
      ],
      "execution_count": 4,
      "outputs": []
    },
    {
      "cell_type": "code",
      "metadata": {
        "id": "c29d9d72"
      },
      "source": [
        "inception_block3a_1x1 = tf.keras.layers.Conv2D(64, (1, 1), strides=(1, 1), padding='SAME', activation='relu')(max_pool)\n",
        "\n",
        "inception_block3a_3x3 = tf.keras.layers.Conv2D(96, (1, 1), padding='SAME', activation='relu')(max_pool)\n",
        "inception_block3a_3x3 = tf.keras.layers.Conv2D(128, (3, 3), padding='SAME', activation='relu')(inception_block3a_3x3)\n",
        "\n",
        "inception_block3a_5x5 = tf.keras.layers.Conv2D(16, (1, 1), padding='SAME', activation='relu')(max_pool)\n",
        "inception_block3a_5x5 = tf.keras.layers.Conv2D(32, (5, 5), padding='SAME', activation='relu')(inception_block3a_5x5)\n",
        "\n",
        "inception_block3a_pool = tf.keras.layers.MaxPool2D((3, 3), strides=(1, 1), padding='SAME')(max_pool)\n",
        "inception_block3a_pool = tf.keras.layers.Conv2D(32, (1, 1), padding='SAME', activation='relu')(inception_block3a_pool)\n",
        "\n",
        "inception_block3a = tf.keras.layers.Concatenate()([inception_block3a_1x1, inception_block3a_3x3,\n",
        "                                                   inception_block3a_5x5, inception_block3a_pool])"
      ],
      "execution_count": 5,
      "outputs": []
    },
    {
      "cell_type": "code",
      "metadata": {
        "id": "8637e178"
      },
      "source": [
        "inception_block3b_1x1 = tf.keras.layers.Conv2D(32, (1, 1), strides=(1, 1), padding='SAME', activation='relu')(inception_block3a)\n",
        "\n",
        "inception_block3b_3x3 = tf.keras.layers.Conv2D(48, (1, 1), padding='SAME', activation='relu')(inception_block3a)\n",
        "inception_block3b_3x3 = tf.keras.layers.Conv2D(64, (3, 3), padding='SAME', activation='relu')(inception_block3b_3x3)\n",
        "\n",
        "inception_block3b_5x5 = tf.keras.layers.Conv2D(8, (1, 1), padding='SAME', activation='relu')(inception_block3a)\n",
        "inception_block3b_5x5 = tf.keras.layers.Conv2D(16, (5, 5), padding='SAME', activation='relu')(inception_block3b_5x5)\n",
        "\n",
        "inception_block3b_pool = tf.keras.layers.MaxPool2D((3, 3), strides=(1, 1), padding='SAME')(inception_block3a)\n",
        "inception_block3b_pool = tf.keras.layers.Conv2D(16, (1, 1), padding='SAME', activation='relu')(inception_block3b_pool)\n",
        "\n",
        "inception_block3b = tf.keras.layers.Concatenate()([inception_block3b_1x1, inception_block3b_3x3,\n",
        "                                                   inception_block3b_5x5, inception_block3b_pool])"
      ],
      "execution_count": 6,
      "outputs": []
    },
    {
      "cell_type": "code",
      "metadata": {
        "id": "3746e709"
      },
      "source": [
        "max_pool = tf.keras.layers.MaxPool2D((3, 3), strides=(2, 2), padding='SAME')(inception_block3b)"
      ],
      "execution_count": 7,
      "outputs": []
    },
    {
      "cell_type": "code",
      "metadata": {
        "id": "5e256e02"
      },
      "source": [
        "inception_block4a_1x1 = tf.keras.layers.Conv2D(192, (1, 1), padding='SAME', activation='relu')(max_pool)\n",
        "\n",
        "inception_block4a_3x3 = tf.keras.layers.Conv2D(96, (1, 1), padding='SAME', activation='relu')(max_pool)\n",
        "inception_block4a_3x3 = tf.keras.layers.Conv2D(208, (3, 3), padding='SAME', activation='relu')(inception_block4a_3x3)\n",
        "\n",
        "inception_block4a_5x5 = tf.keras.layers.Conv2D(16, (1, 1), padding='SAME', activation='relu')(max_pool)\n",
        "inception_block4a_5x5 = tf.keras.layers.Conv2D(48, (5, 5), padding='SAME', activation='relu')(inception_block4a_5x5)\n",
        "\n",
        "inception_block4a_pool = tf.keras.layers.MaxPool2D((3, 3), strides=(1, 1), padding='SAME')(max_pool)\n",
        "inception_block4a_pool = tf.keras.layers.Conv2D(64, (1, 1), padding='SAME', activation='relu')(inception_block4a_pool)\n",
        "\n",
        "inception_block4a = tf.keras.layers.Concatenate()([inception_block4a_1x1, inception_block4a_3x3,\n",
        "                                                   inception_block4a_5x5, inception_block4a_pool])"
      ],
      "execution_count": 8,
      "outputs": []
    },
    {
      "cell_type": "code",
      "metadata": {
        "id": "77c275dc"
      },
      "source": [
        "inception_block4b_1x1 = tf.keras.layers.Conv2D(160, (1, 1), padding='SAME', activation='relu')(inception_block4a)\n",
        "inception_block4b_3x3 = tf.keras.layers.Conv2D(112, (1, 1), padding='SAME', activation='relu')(inception_block4a)\n",
        "inception_block4b_3x3 = tf.keras.layers.Conv2D(224, (3, 3), padding='SAME', activation='relu')(inception_block4b_3x3)\n",
        "\n",
        "inception_block4b_5x5 = tf.keras.layers.Conv2D(24, (1, 1), padding='SAME', activation='relu')(inception_block4a)\n",
        "inception_block4b_5x5 = tf.keras.layers.Conv2D(64, (5, 5), padding='SAME', activation='relu')(inception_block4b_5x5)\n",
        "\n",
        "inception_block4b_pool = tf.keras.layers.MaxPool2D((3, 3), strides=(1, 1), padding='SAME')(inception_block4a)\n",
        "inception_block4b_pool = tf.keras.layers.Conv2D(64, (1, 1), padding='SAME', activation='relu')(inception_block4b_pool)\n",
        "\n",
        "inception_block4b = tf.keras.layers.Concatenate()([inception_block4b_1x1, inception_block4b_3x3,\n",
        "                                                   inception_block4b_5x5, inception_block4b_pool])"
      ],
      "execution_count": 9,
      "outputs": []
    },
    {
      "cell_type": "code",
      "metadata": {
        "id": "e39048bd"
      },
      "source": [
        "inception_block4c_1x1 = tf.keras.layers.Conv2D(128, (1, 1), padding='SAME', activation='relu')(inception_block4b)\n",
        "\n",
        "inception_block4c_3x3 = tf.keras.layers.Conv2D(128, (1, 1), padding='SAME', activation='relu')(inception_block4b)\n",
        "inception_block4c_3x3 = tf.keras.layers.Conv2D(256, (3, 3), padding='SAME', activation='relu')(inception_block4c_3x3)\n",
        "\n",
        "inception_block4c_5x5 = tf.keras.layers.Conv2D(24, (1, 1), padding='SAME', activation='relu')(inception_block4b)\n",
        "inception_block4c_5x5 = tf.keras.layers.Conv2D(64, (5, 5), padding='SAME', activation='relu')(inception_block4c_5x5)\n",
        "\n",
        "inception_block4c_pool = tf.keras.layers.MaxPool2D((3, 3), strides=(1, 1), padding='SAME')(inception_block4b)\n",
        "inception_block4c_pool = tf.keras.layers.Conv2D(64, (1, 1), padding='SAME', activation='relu')(inception_block4c_pool)\n",
        "\n",
        "inception_block4c = tf.keras.layers.Concatenate()([inception_block4c_1x1, inception_block4c_3x3,\n",
        "                                                   inception_block4c_5x5, inception_block4c_pool])"
      ],
      "execution_count": 10,
      "outputs": []
    },
    {
      "cell_type": "code",
      "metadata": {
        "id": "be5314e3"
      },
      "source": [
        "inception_block4d_1x1 = tf.keras.layers.Conv2D(112, (1, 1), padding='SAME', activation='relu')(inception_block4c)\n",
        "\n",
        "inception_block4d_3x3 = tf.keras.layers.Conv2D(144, (1, 1), padding='SAME', activation='relu')(inception_block4c)\n",
        "inception_block4d_3x3 = tf.keras.layers.Conv2D(288, (3, 3), padding='SAME', activation='relu')(inception_block4d_3x3)\n",
        "\n",
        "inception_block4d_5x5 = tf.keras.layers.Conv2D(32, (1, 1), padding='SAME', activation='relu')(inception_block4c)\n",
        "inception_block4d_5x5 = tf.keras.layers.Conv2D(64, (5, 5), padding='SAME', activation='relu')(inception_block4d_5x5)\n",
        "\n",
        "inception_block4d_pool = tf.keras.layers.MaxPool2D((3, 3), strides=(1, 1), padding='SAME')(inception_block4c)\n",
        "inception_block4d_pool = tf.keras.layers.Conv2D(64, (1, 1), padding='SAME', activation='relu')(inception_block4d_pool)\n",
        "\n",
        "inception_block4d = tf.keras.layers.Concatenate()([inception_block4d_1x1, inception_block4d_3x3,\n",
        "                                                   inception_block4d_5x5, inception_block4d_pool])"
      ],
      "execution_count": 11,
      "outputs": []
    },
    {
      "cell_type": "code",
      "metadata": {
        "id": "9a31d11c"
      },
      "source": [
        "inception_block4e_1x1 = tf.keras.layers.Conv2D(256, (1, 1), padding='SAME', activation='relu')(inception_block4d)\n",
        "\n",
        "inception_block4e_3x3 = tf.keras.layers.Conv2D(160, (1, 1), padding='SAME', activation='relu')(inception_block4d)\n",
        "inception_block4e_3x3 = tf.keras.layers.Conv2D(320, (3, 3), padding='SAME', activation='relu')(inception_block4e_3x3)\n",
        "\n",
        "inception_block4e_5x5 = tf.keras.layers.Conv2D(32, (1, 1), padding='SAME', activation='relu')(inception_block4d)\n",
        "inception_block4e_5x5 = tf.keras.layers.Conv2D(128, (5, 5), padding='SAME', activation='relu')(inception_block4e_5x5)\n",
        "\n",
        "inception_block4e_pool = tf.keras.layers.MaxPool2D((3, 3), strides=(1, 1), padding='SAME')(inception_block4d)\n",
        "inception_block4e_pool = tf.keras.layers.Conv2D(128, (1, 1), padding='SAME', activation='relu')(inception_block4e_pool)\n",
        "\n",
        "inception_block4e = tf.keras.layers.Concatenate()([inception_block4e_1x1, inception_block4e_3x3,\n",
        "                                                   inception_block4e_5x5, inception_block4e_pool])"
      ],
      "execution_count": 12,
      "outputs": []
    },
    {
      "cell_type": "code",
      "metadata": {
        "id": "eeccc456"
      },
      "source": [
        "max_pool = tf.keras.layers.MaxPool2D((3, 3), strides=(2, 2), padding='SAME')(inception_block4e)"
      ],
      "execution_count": 13,
      "outputs": []
    },
    {
      "cell_type": "code",
      "metadata": {
        "id": "66fe0596"
      },
      "source": [
        "inception_block5a_1x1 = tf.keras.layers.Conv2D(256, (1, 1), padding='SAME', activation='relu')(max_pool)\n",
        "\n",
        "inception_block5a_3x3 = tf.keras.layers.Conv2D(160, (1, 1), padding='SAME', activation='relu')(max_pool)\n",
        "inception_block5a_3x3 = tf.keras.layers.Conv2D(320, (3, 3), padding='SAME', activation='relu')(inception_block5a_3x3)\n",
        "\n",
        "inception_block5a_5x5 = tf.keras.layers.Conv2D(32, (1, 1), padding='SAME', activation='relu')(max_pool)\n",
        "inception_block5a_5x5 = tf.keras.layers.Conv2D(128, (5, 5), padding='SAME', activation='relu')(inception_block5a_5x5)\n",
        "\n",
        "inception_block5a_pool = tf.keras.layers.MaxPool2D((3, 3), strides=(1, 1), padding='SAME')(max_pool)\n",
        "inception_block5a_pool = tf.keras.layers.Conv2D(128, (1, 1), padding='SAME', activation='relu')(inception_block5a_pool)\n",
        "\n",
        "inception_block5a = tf.keras.layers.Concatenate()([inception_block5a_1x1, inception_block5a_3x3,\n",
        "                                                   inception_block5a_5x5, inception_block5a_pool])"
      ],
      "execution_count": 14,
      "outputs": []
    },
    {
      "cell_type": "code",
      "metadata": {
        "id": "d8222fe2"
      },
      "source": [
        "inception_block5b_1x1 = tf.keras.layers.Conv2D(128, (1, 1), padding='SAME', activation='relu')(inception_block5a)\n",
        "\n",
        "inception_block5b_3x3 = tf.keras.layers.Conv2D(80, (1, 1), padding='SAME', activation='relu')(inception_block5a)\n",
        "inception_block5b_3x3 = tf.keras.layers.Conv2D(120, (3, 3), padding='SAME', activation='relu')(inception_block5b_3x3)\n",
        "\n",
        "inception_block5b_5x5 = tf.keras.layers.Conv2D(16, (1, 1), padding='SAME', activation='relu')(inception_block5a)\n",
        "inception_block5b_5x5 = tf.keras.layers.Conv2D(64, (5, 5), padding='SAME', activation='relu')(inception_block5b_5x5)\n",
        "\n",
        "inception_block5b_pool = tf.keras.layers.MaxPool2D((3, 3), strides=(1, 1), padding='SAME')(inception_block5a)\n",
        "inception_block5b_pool = tf.keras.layers.Conv2D(64, (1, 1), padding='SAME', activation='relu')(inception_block5b_pool)\n",
        "\n",
        "inception_block5b = tf.keras.layers.Concatenate()([inception_block5b_1x1, inception_block5b_3x3,\n",
        "                                                   inception_block5b_5x5, inception_block5b_pool])"
      ],
      "execution_count": 15,
      "outputs": []
    },
    {
      "cell_type": "code",
      "metadata": {
        "id": "3b26f10f"
      },
      "source": [
        "avg_pool = tf.keras.layers.GlobalAveragePooling2D()(inception_block5b) # 416\n",
        "dropout = tf.keras.layers.Dropout(0.4)(avg_pool)\n",
        "out_layer = tf.keras.layers.Dense(4, activation='softmax')(dropout)"
      ],
      "execution_count": 16,
      "outputs": []
    },
    {
      "cell_type": "code",
      "metadata": {
        "colab": {
          "base_uri": "https://localhost:8080/"
        },
        "id": "1764FfRSmsYP",
        "outputId": "9fbd00ab-0682-44c9-8690-30a464b72dbe"
      },
      "source": [
        "model = tf.keras.models.Model(input_layer, out_layer)\n",
        "\n",
        "#model.compile(optimizer='adam', loss='sparse_categorical_crossentropy', metrics=['accuracy'])\n",
        "model.compile(optimizer='adam', loss='categorical_crossentropy', metrics=['accuracy'])\n",
        "model.summary()\n",
        "\n",
        "#model.fit(x_train, y_train, batch_size=128, epochs=10, validation_data=(x_test, y_test))"
      ],
      "execution_count": 17,
      "outputs": [
        {
          "output_type": "stream",
          "text": [
            "Model: \"model\"\n",
            "__________________________________________________________________________________________________\n",
            "Layer (type)                    Output Shape         Param #     Connected to                     \n",
            "==================================================================================================\n",
            "input_1 (InputLayer)            [(None, 227, 227, 3) 0                                            \n",
            "__________________________________________________________________________________________________\n",
            "conv2d (Conv2D)                 (None, 227, 227, 64) 1792        input_1[0][0]                    \n",
            "__________________________________________________________________________________________________\n",
            "max_pooling2d (MaxPooling2D)    (None, 114, 114, 64) 0           conv2d[0][0]                     \n",
            "__________________________________________________________________________________________________\n",
            "conv2d_1 (Conv2D)               (None, 114, 114, 192 110784      max_pooling2d[0][0]              \n",
            "__________________________________________________________________________________________________\n",
            "max_pooling2d_1 (MaxPooling2D)  (None, 57, 57, 192)  0           conv2d_1[0][0]                   \n",
            "__________________________________________________________________________________________________\n",
            "conv2d_3 (Conv2D)               (None, 57, 57, 96)   18528       max_pooling2d_1[0][0]            \n",
            "__________________________________________________________________________________________________\n",
            "conv2d_5 (Conv2D)               (None, 57, 57, 16)   3088        max_pooling2d_1[0][0]            \n",
            "__________________________________________________________________________________________________\n",
            "max_pooling2d_2 (MaxPooling2D)  (None, 57, 57, 192)  0           max_pooling2d_1[0][0]            \n",
            "__________________________________________________________________________________________________\n",
            "conv2d_2 (Conv2D)               (None, 57, 57, 64)   12352       max_pooling2d_1[0][0]            \n",
            "__________________________________________________________________________________________________\n",
            "conv2d_4 (Conv2D)               (None, 57, 57, 128)  110720      conv2d_3[0][0]                   \n",
            "__________________________________________________________________________________________________\n",
            "conv2d_6 (Conv2D)               (None, 57, 57, 32)   12832       conv2d_5[0][0]                   \n",
            "__________________________________________________________________________________________________\n",
            "conv2d_7 (Conv2D)               (None, 57, 57, 32)   6176        max_pooling2d_2[0][0]            \n",
            "__________________________________________________________________________________________________\n",
            "concatenate (Concatenate)       (None, 57, 57, 256)  0           conv2d_2[0][0]                   \n",
            "                                                                 conv2d_4[0][0]                   \n",
            "                                                                 conv2d_6[0][0]                   \n",
            "                                                                 conv2d_7[0][0]                   \n",
            "__________________________________________________________________________________________________\n",
            "conv2d_9 (Conv2D)               (None, 57, 57, 48)   12336       concatenate[0][0]                \n",
            "__________________________________________________________________________________________________\n",
            "conv2d_11 (Conv2D)              (None, 57, 57, 8)    2056        concatenate[0][0]                \n",
            "__________________________________________________________________________________________________\n",
            "max_pooling2d_3 (MaxPooling2D)  (None, 57, 57, 256)  0           concatenate[0][0]                \n",
            "__________________________________________________________________________________________________\n",
            "conv2d_8 (Conv2D)               (None, 57, 57, 32)   8224        concatenate[0][0]                \n",
            "__________________________________________________________________________________________________\n",
            "conv2d_10 (Conv2D)              (None, 57, 57, 64)   27712       conv2d_9[0][0]                   \n",
            "__________________________________________________________________________________________________\n",
            "conv2d_12 (Conv2D)              (None, 57, 57, 16)   3216        conv2d_11[0][0]                  \n",
            "__________________________________________________________________________________________________\n",
            "conv2d_13 (Conv2D)              (None, 57, 57, 16)   4112        max_pooling2d_3[0][0]            \n",
            "__________________________________________________________________________________________________\n",
            "concatenate_1 (Concatenate)     (None, 57, 57, 128)  0           conv2d_8[0][0]                   \n",
            "                                                                 conv2d_10[0][0]                  \n",
            "                                                                 conv2d_12[0][0]                  \n",
            "                                                                 conv2d_13[0][0]                  \n",
            "__________________________________________________________________________________________________\n",
            "max_pooling2d_4 (MaxPooling2D)  (None, 29, 29, 128)  0           concatenate_1[0][0]              \n",
            "__________________________________________________________________________________________________\n",
            "conv2d_15 (Conv2D)              (None, 29, 29, 96)   12384       max_pooling2d_4[0][0]            \n",
            "__________________________________________________________________________________________________\n",
            "conv2d_17 (Conv2D)              (None, 29, 29, 16)   2064        max_pooling2d_4[0][0]            \n",
            "__________________________________________________________________________________________________\n",
            "max_pooling2d_5 (MaxPooling2D)  (None, 29, 29, 128)  0           max_pooling2d_4[0][0]            \n",
            "__________________________________________________________________________________________________\n",
            "conv2d_14 (Conv2D)              (None, 29, 29, 192)  24768       max_pooling2d_4[0][0]            \n",
            "__________________________________________________________________________________________________\n",
            "conv2d_16 (Conv2D)              (None, 29, 29, 208)  179920      conv2d_15[0][0]                  \n",
            "__________________________________________________________________________________________________\n",
            "conv2d_18 (Conv2D)              (None, 29, 29, 48)   19248       conv2d_17[0][0]                  \n",
            "__________________________________________________________________________________________________\n",
            "conv2d_19 (Conv2D)              (None, 29, 29, 64)   8256        max_pooling2d_5[0][0]            \n",
            "__________________________________________________________________________________________________\n",
            "concatenate_2 (Concatenate)     (None, 29, 29, 512)  0           conv2d_14[0][0]                  \n",
            "                                                                 conv2d_16[0][0]                  \n",
            "                                                                 conv2d_18[0][0]                  \n",
            "                                                                 conv2d_19[0][0]                  \n",
            "__________________________________________________________________________________________________\n",
            "conv2d_21 (Conv2D)              (None, 29, 29, 112)  57456       concatenate_2[0][0]              \n",
            "__________________________________________________________________________________________________\n",
            "conv2d_23 (Conv2D)              (None, 29, 29, 24)   12312       concatenate_2[0][0]              \n",
            "__________________________________________________________________________________________________\n",
            "max_pooling2d_6 (MaxPooling2D)  (None, 29, 29, 512)  0           concatenate_2[0][0]              \n",
            "__________________________________________________________________________________________________\n",
            "conv2d_20 (Conv2D)              (None, 29, 29, 160)  82080       concatenate_2[0][0]              \n",
            "__________________________________________________________________________________________________\n",
            "conv2d_22 (Conv2D)              (None, 29, 29, 224)  226016      conv2d_21[0][0]                  \n",
            "__________________________________________________________________________________________________\n",
            "conv2d_24 (Conv2D)              (None, 29, 29, 64)   38464       conv2d_23[0][0]                  \n",
            "__________________________________________________________________________________________________\n",
            "conv2d_25 (Conv2D)              (None, 29, 29, 64)   32832       max_pooling2d_6[0][0]            \n",
            "__________________________________________________________________________________________________\n",
            "concatenate_3 (Concatenate)     (None, 29, 29, 512)  0           conv2d_20[0][0]                  \n",
            "                                                                 conv2d_22[0][0]                  \n",
            "                                                                 conv2d_24[0][0]                  \n",
            "                                                                 conv2d_25[0][0]                  \n",
            "__________________________________________________________________________________________________\n",
            "conv2d_27 (Conv2D)              (None, 29, 29, 128)  65664       concatenate_3[0][0]              \n",
            "__________________________________________________________________________________________________\n",
            "conv2d_29 (Conv2D)              (None, 29, 29, 24)   12312       concatenate_3[0][0]              \n",
            "__________________________________________________________________________________________________\n",
            "max_pooling2d_7 (MaxPooling2D)  (None, 29, 29, 512)  0           concatenate_3[0][0]              \n",
            "__________________________________________________________________________________________________\n",
            "conv2d_26 (Conv2D)              (None, 29, 29, 128)  65664       concatenate_3[0][0]              \n",
            "__________________________________________________________________________________________________\n",
            "conv2d_28 (Conv2D)              (None, 29, 29, 256)  295168      conv2d_27[0][0]                  \n",
            "__________________________________________________________________________________________________\n",
            "conv2d_30 (Conv2D)              (None, 29, 29, 64)   38464       conv2d_29[0][0]                  \n",
            "__________________________________________________________________________________________________\n",
            "conv2d_31 (Conv2D)              (None, 29, 29, 64)   32832       max_pooling2d_7[0][0]            \n",
            "__________________________________________________________________________________________________\n",
            "concatenate_4 (Concatenate)     (None, 29, 29, 512)  0           conv2d_26[0][0]                  \n",
            "                                                                 conv2d_28[0][0]                  \n",
            "                                                                 conv2d_30[0][0]                  \n",
            "                                                                 conv2d_31[0][0]                  \n",
            "__________________________________________________________________________________________________\n",
            "conv2d_33 (Conv2D)              (None, 29, 29, 144)  73872       concatenate_4[0][0]              \n",
            "__________________________________________________________________________________________________\n",
            "conv2d_35 (Conv2D)              (None, 29, 29, 32)   16416       concatenate_4[0][0]              \n",
            "__________________________________________________________________________________________________\n",
            "max_pooling2d_8 (MaxPooling2D)  (None, 29, 29, 512)  0           concatenate_4[0][0]              \n",
            "__________________________________________________________________________________________________\n",
            "conv2d_32 (Conv2D)              (None, 29, 29, 112)  57456       concatenate_4[0][0]              \n",
            "__________________________________________________________________________________________________\n",
            "conv2d_34 (Conv2D)              (None, 29, 29, 288)  373536      conv2d_33[0][0]                  \n",
            "__________________________________________________________________________________________________\n",
            "conv2d_36 (Conv2D)              (None, 29, 29, 64)   51264       conv2d_35[0][0]                  \n",
            "__________________________________________________________________________________________________\n",
            "conv2d_37 (Conv2D)              (None, 29, 29, 64)   32832       max_pooling2d_8[0][0]            \n",
            "__________________________________________________________________________________________________\n",
            "concatenate_5 (Concatenate)     (None, 29, 29, 528)  0           conv2d_32[0][0]                  \n",
            "                                                                 conv2d_34[0][0]                  \n",
            "                                                                 conv2d_36[0][0]                  \n",
            "                                                                 conv2d_37[0][0]                  \n",
            "__________________________________________________________________________________________________\n",
            "conv2d_39 (Conv2D)              (None, 29, 29, 160)  84640       concatenate_5[0][0]              \n",
            "__________________________________________________________________________________________________\n",
            "conv2d_41 (Conv2D)              (None, 29, 29, 32)   16928       concatenate_5[0][0]              \n",
            "__________________________________________________________________________________________________\n",
            "max_pooling2d_9 (MaxPooling2D)  (None, 29, 29, 528)  0           concatenate_5[0][0]              \n",
            "__________________________________________________________________________________________________\n",
            "conv2d_38 (Conv2D)              (None, 29, 29, 256)  135424      concatenate_5[0][0]              \n",
            "__________________________________________________________________________________________________\n",
            "conv2d_40 (Conv2D)              (None, 29, 29, 320)  461120      conv2d_39[0][0]                  \n",
            "__________________________________________________________________________________________________\n",
            "conv2d_42 (Conv2D)              (None, 29, 29, 128)  102528      conv2d_41[0][0]                  \n",
            "__________________________________________________________________________________________________\n",
            "conv2d_43 (Conv2D)              (None, 29, 29, 128)  67712       max_pooling2d_9[0][0]            \n",
            "__________________________________________________________________________________________________\n",
            "concatenate_6 (Concatenate)     (None, 29, 29, 832)  0           conv2d_38[0][0]                  \n",
            "                                                                 conv2d_40[0][0]                  \n",
            "                                                                 conv2d_42[0][0]                  \n",
            "                                                                 conv2d_43[0][0]                  \n",
            "__________________________________________________________________________________________________\n",
            "max_pooling2d_10 (MaxPooling2D) (None, 15, 15, 832)  0           concatenate_6[0][0]              \n",
            "__________________________________________________________________________________________________\n",
            "conv2d_45 (Conv2D)              (None, 15, 15, 160)  133280      max_pooling2d_10[0][0]           \n",
            "__________________________________________________________________________________________________\n",
            "conv2d_47 (Conv2D)              (None, 15, 15, 32)   26656       max_pooling2d_10[0][0]           \n",
            "__________________________________________________________________________________________________\n",
            "max_pooling2d_11 (MaxPooling2D) (None, 15, 15, 832)  0           max_pooling2d_10[0][0]           \n",
            "__________________________________________________________________________________________________\n",
            "conv2d_44 (Conv2D)              (None, 15, 15, 256)  213248      max_pooling2d_10[0][0]           \n",
            "__________________________________________________________________________________________________\n",
            "conv2d_46 (Conv2D)              (None, 15, 15, 320)  461120      conv2d_45[0][0]                  \n",
            "__________________________________________________________________________________________________\n",
            "conv2d_48 (Conv2D)              (None, 15, 15, 128)  102528      conv2d_47[0][0]                  \n",
            "__________________________________________________________________________________________________\n",
            "conv2d_49 (Conv2D)              (None, 15, 15, 128)  106624      max_pooling2d_11[0][0]           \n",
            "__________________________________________________________________________________________________\n",
            "concatenate_7 (Concatenate)     (None, 15, 15, 832)  0           conv2d_44[0][0]                  \n",
            "                                                                 conv2d_46[0][0]                  \n",
            "                                                                 conv2d_48[0][0]                  \n",
            "                                                                 conv2d_49[0][0]                  \n",
            "__________________________________________________________________________________________________\n",
            "conv2d_51 (Conv2D)              (None, 15, 15, 80)   66640       concatenate_7[0][0]              \n",
            "__________________________________________________________________________________________________\n",
            "conv2d_53 (Conv2D)              (None, 15, 15, 16)   13328       concatenate_7[0][0]              \n",
            "__________________________________________________________________________________________________\n",
            "max_pooling2d_12 (MaxPooling2D) (None, 15, 15, 832)  0           concatenate_7[0][0]              \n",
            "__________________________________________________________________________________________________\n",
            "conv2d_50 (Conv2D)              (None, 15, 15, 128)  106624      concatenate_7[0][0]              \n",
            "__________________________________________________________________________________________________\n",
            "conv2d_52 (Conv2D)              (None, 15, 15, 120)  86520       conv2d_51[0][0]                  \n",
            "__________________________________________________________________________________________________\n",
            "conv2d_54 (Conv2D)              (None, 15, 15, 64)   25664       conv2d_53[0][0]                  \n",
            "__________________________________________________________________________________________________\n",
            "conv2d_55 (Conv2D)              (None, 15, 15, 64)   53312       max_pooling2d_12[0][0]           \n",
            "__________________________________________________________________________________________________\n",
            "concatenate_8 (Concatenate)     (None, 15, 15, 376)  0           conv2d_50[0][0]                  \n",
            "                                                                 conv2d_52[0][0]                  \n",
            "                                                                 conv2d_54[0][0]                  \n",
            "                                                                 conv2d_55[0][0]                  \n",
            "__________________________________________________________________________________________________\n",
            "global_average_pooling2d (Globa (None, 376)          0           concatenate_8[0][0]              \n",
            "__________________________________________________________________________________________________\n",
            "dropout (Dropout)               (None, 376)          0           global_average_pooling2d[0][0]   \n",
            "__________________________________________________________________________________________________\n",
            "dense (Dense)                   (None, 4)            1508        dropout[0][0]                    \n",
            "==================================================================================================\n",
            "Total params: 4,410,612\n",
            "Trainable params: 4,410,612\n",
            "Non-trainable params: 0\n",
            "__________________________________________________________________________________________________\n"
          ],
          "name": "stdout"
        }
      ]
    },
    {
      "cell_type": "code",
      "metadata": {
        "colab": {
          "base_uri": "https://localhost:8080/"
        },
        "id": "b1D7qJrqnK3I",
        "outputId": "b55e9178-09ab-4d2b-a846-e5c2e5ccf7c9"
      },
      "source": [
        "model.fit(train_generator, epochs=50, validation_data=test_generator)"
      ],
      "execution_count": 18,
      "outputs": [
        {
          "output_type": "stream",
          "text": [
            "Epoch 1/50\n",
            "15/15 [==============================] - 59s 4s/step - loss: 1.4253 - accuracy: 0.2000 - val_loss: 1.3864 - val_accuracy: 0.2500\n",
            "Epoch 2/50\n",
            "15/15 [==============================] - 52s 3s/step - loss: 1.3870 - accuracy: 0.1833 - val_loss: 1.3863 - val_accuracy: 0.2500\n",
            "Epoch 3/50\n",
            "15/15 [==============================] - 51s 3s/step - loss: 1.3867 - accuracy: 0.2500 - val_loss: 1.3864 - val_accuracy: 0.2500\n",
            "Epoch 4/50\n",
            "15/15 [==============================] - 52s 3s/step - loss: 1.3882 - accuracy: 0.2167 - val_loss: 1.3863 - val_accuracy: 0.2500\n",
            "Epoch 5/50\n",
            "15/15 [==============================] - 52s 3s/step - loss: 1.3862 - accuracy: 0.2833 - val_loss: 1.3861 - val_accuracy: 0.2500\n",
            "Epoch 6/50\n",
            "15/15 [==============================] - 52s 4s/step - loss: 1.3906 - accuracy: 0.1500 - val_loss: 1.3862 - val_accuracy: 0.2500\n",
            "Epoch 7/50\n",
            "15/15 [==============================] - 52s 3s/step - loss: 1.3846 - accuracy: 0.3167 - val_loss: 1.3818 - val_accuracy: 0.2500\n",
            "Epoch 8/50\n",
            "15/15 [==============================] - 52s 3s/step - loss: 1.3999 - accuracy: 0.2833 - val_loss: 1.3863 - val_accuracy: 0.2500\n",
            "Epoch 9/50\n",
            "15/15 [==============================] - 53s 4s/step - loss: 1.3878 - accuracy: 0.2167 - val_loss: 1.3864 - val_accuracy: 0.2500\n",
            "Epoch 10/50\n",
            "15/15 [==============================] - 52s 3s/step - loss: 1.3876 - accuracy: 0.2167 - val_loss: 1.3864 - val_accuracy: 0.2500\n",
            "Epoch 11/50\n",
            "15/15 [==============================] - 53s 4s/step - loss: 1.3851 - accuracy: 0.2500 - val_loss: 1.3865 - val_accuracy: 0.2500\n",
            "Epoch 12/50\n",
            "15/15 [==============================] - 52s 3s/step - loss: 1.3895 - accuracy: 0.2500 - val_loss: 1.3864 - val_accuracy: 0.2500\n",
            "Epoch 13/50\n",
            "15/15 [==============================] - 52s 3s/step - loss: 1.3867 - accuracy: 0.2667 - val_loss: 1.3864 - val_accuracy: 0.2500\n",
            "Epoch 14/50\n",
            "15/15 [==============================] - 54s 4s/step - loss: 1.3861 - accuracy: 0.2667 - val_loss: 1.3861 - val_accuracy: 0.2500\n",
            "Epoch 15/50\n",
            "15/15 [==============================] - 52s 4s/step - loss: 1.3868 - accuracy: 0.2500 - val_loss: 1.3839 - val_accuracy: 0.2500\n",
            "Epoch 16/50\n",
            "15/15 [==============================] - 53s 4s/step - loss: 1.3465 - accuracy: 0.3167 - val_loss: 1.0900 - val_accuracy: 0.5000\n",
            "Epoch 17/50\n",
            "15/15 [==============================] - 52s 3s/step - loss: 1.0423 - accuracy: 0.4667 - val_loss: 0.9445 - val_accuracy: 0.5000\n",
            "Epoch 18/50\n",
            "15/15 [==============================] - 52s 4s/step - loss: 0.9005 - accuracy: 0.4333 - val_loss: 0.8591 - val_accuracy: 0.5000\n",
            "Epoch 19/50\n",
            "15/15 [==============================] - 50s 3s/step - loss: 0.8686 - accuracy: 0.4833 - val_loss: 0.8439 - val_accuracy: 0.5000\n",
            "Epoch 20/50\n",
            "15/15 [==============================] - 51s 3s/step - loss: 1.4241 - accuracy: 0.2500 - val_loss: 1.3974 - val_accuracy: 0.2500\n",
            "Epoch 21/50\n",
            "15/15 [==============================] - 50s 3s/step - loss: 1.3876 - accuracy: 0.2167 - val_loss: 1.3567 - val_accuracy: 0.2500\n",
            "Epoch 22/50\n",
            "15/15 [==============================] - 49s 3s/step - loss: 1.4427 - accuracy: 0.1667 - val_loss: 1.3873 - val_accuracy: 0.2500\n",
            "Epoch 23/50\n",
            "15/15 [==============================] - 51s 3s/step - loss: 1.3861 - accuracy: 0.2333 - val_loss: 1.3856 - val_accuracy: 0.2500\n",
            "Epoch 24/50\n",
            "15/15 [==============================] - 51s 3s/step - loss: 1.3836 - accuracy: 0.2167 - val_loss: 1.3767 - val_accuracy: 0.2500\n",
            "Epoch 25/50\n",
            "15/15 [==============================] - 50s 3s/step - loss: 1.3990 - accuracy: 0.2833 - val_loss: 1.0497 - val_accuracy: 0.5000\n",
            "Epoch 26/50\n",
            "15/15 [==============================] - 49s 3s/step - loss: 1.2809 - accuracy: 0.3667 - val_loss: 1.0444 - val_accuracy: 0.5000\n",
            "Epoch 27/50\n",
            "15/15 [==============================] - 48s 3s/step - loss: 0.9066 - accuracy: 0.4833 - val_loss: 0.9322 - val_accuracy: 0.5000\n",
            "Epoch 28/50\n",
            "15/15 [==============================] - 49s 3s/step - loss: 0.8631 - accuracy: 0.5333 - val_loss: 0.9913 - val_accuracy: 0.5000\n",
            "Epoch 29/50\n",
            "15/15 [==============================] - 48s 3s/step - loss: 0.8252 - accuracy: 0.5333 - val_loss: 0.8195 - val_accuracy: 0.5000\n",
            "Epoch 30/50\n",
            "15/15 [==============================] - 48s 3s/step - loss: 0.9649 - accuracy: 0.6500 - val_loss: 0.7892 - val_accuracy: 0.5000\n",
            "Epoch 31/50\n",
            "15/15 [==============================] - 51s 3s/step - loss: 1.0033 - accuracy: 0.6333 - val_loss: 3.5222 - val_accuracy: 0.2500\n",
            "Epoch 32/50\n",
            "15/15 [==============================] - 49s 3s/step - loss: 1.2409 - accuracy: 0.4000 - val_loss: 1.1383 - val_accuracy: 0.5000\n",
            "Epoch 33/50\n",
            "15/15 [==============================] - 49s 3s/step - loss: 0.8773 - accuracy: 0.5500 - val_loss: 0.8240 - val_accuracy: 0.5000\n",
            "Epoch 34/50\n",
            "15/15 [==============================] - 48s 3s/step - loss: 0.9379 - accuracy: 0.6167 - val_loss: 1.2261 - val_accuracy: 0.2500\n",
            "Epoch 35/50\n",
            "15/15 [==============================] - 48s 3s/step - loss: 0.9653 - accuracy: 0.5167 - val_loss: 0.8806 - val_accuracy: 0.5000\n",
            "Epoch 36/50\n",
            "15/15 [==============================] - 51s 3s/step - loss: 0.6855 - accuracy: 0.7000 - val_loss: 0.8880 - val_accuracy: 0.5000\n",
            "Epoch 37/50\n",
            "15/15 [==============================] - 52s 4s/step - loss: 0.4760 - accuracy: 0.7167 - val_loss: 1.6073 - val_accuracy: 0.5000\n",
            "Epoch 38/50\n",
            "15/15 [==============================] - 52s 3s/step - loss: 0.6083 - accuracy: 0.7000 - val_loss: 2.0307 - val_accuracy: 0.2500\n",
            "Epoch 39/50\n",
            "15/15 [==============================] - 52s 3s/step - loss: 0.8683 - accuracy: 0.5667 - val_loss: 0.8620 - val_accuracy: 0.5000\n",
            "Epoch 40/50\n",
            "15/15 [==============================] - 53s 4s/step - loss: 0.6316 - accuracy: 0.7333 - val_loss: 0.8549 - val_accuracy: 0.5000\n",
            "Epoch 41/50\n",
            "15/15 [==============================] - 52s 4s/step - loss: 0.4598 - accuracy: 0.7667 - val_loss: 0.9995 - val_accuracy: 0.5000\n",
            "Epoch 42/50\n",
            "15/15 [==============================] - 53s 4s/step - loss: 0.4886 - accuracy: 0.6833 - val_loss: 1.3809 - val_accuracy: 0.5000\n",
            "Epoch 43/50\n",
            "15/15 [==============================] - 52s 3s/step - loss: 0.4111 - accuracy: 0.7167 - val_loss: 1.1474 - val_accuracy: 0.5000\n",
            "Epoch 44/50\n",
            "15/15 [==============================] - 53s 4s/step - loss: 0.3995 - accuracy: 0.7333 - val_loss: 1.1402 - val_accuracy: 0.5000\n",
            "Epoch 45/50\n",
            "15/15 [==============================] - 52s 4s/step - loss: 0.3791 - accuracy: 0.8500 - val_loss: 1.3639 - val_accuracy: 0.5000\n",
            "Epoch 46/50\n",
            "15/15 [==============================] - 52s 3s/step - loss: 0.3658 - accuracy: 0.7833 - val_loss: 1.3194 - val_accuracy: 0.5000\n",
            "Epoch 47/50\n",
            "15/15 [==============================] - 52s 3s/step - loss: 0.2402 - accuracy: 0.9167 - val_loss: 1.7388 - val_accuracy: 0.7500\n",
            "Epoch 48/50\n",
            "15/15 [==============================] - 52s 4s/step - loss: 0.2257 - accuracy: 0.9667 - val_loss: 1.8486 - val_accuracy: 0.5000\n",
            "Epoch 49/50\n",
            "15/15 [==============================] - 52s 3s/step - loss: 0.1762 - accuracy: 0.9500 - val_loss: 2.8125 - val_accuracy: 0.5000\n",
            "Epoch 50/50\n",
            "15/15 [==============================] - 52s 3s/step - loss: 0.2505 - accuracy: 0.9333 - val_loss: 0.1322 - val_accuracy: 1.0000\n"
          ],
          "name": "stdout"
        },
        {
          "output_type": "execute_result",
          "data": {
            "text/plain": [
              "<tensorflow.python.keras.callbacks.History at 0x7fd18d902910>"
            ]
          },
          "metadata": {
            "tags": []
          },
          "execution_count": 18
        }
      ]
    },
    {
      "cell_type": "code",
      "metadata": {
        "id": "dwkxcMnDqXEB",
        "colab": {
          "base_uri": "https://localhost:8080/"
        },
        "outputId": "b4bac576-76f1-427a-9ba0-d5630ab3c79e"
      },
      "source": [
        "print(\"-- Evaluate --\")\n",
        "scores = model.evaluate(test_generator)\n",
        "print(\"%s: %.2f%%\" %(model.metrics_names[1], scores[1]*100))"
      ],
      "execution_count": 19,
      "outputs": [
        {
          "output_type": "stream",
          "text": [
            "-- Evaluate --\n",
            "3/3 [==============================] - 2s 754ms/step - loss: 0.1322 - accuracy: 1.0000\n",
            "accuracy: 100.00%\n"
          ],
          "name": "stdout"
        }
      ]
    },
    {
      "cell_type": "code",
      "metadata": {
        "id": "KQnF0I-fqcuC",
        "colab": {
          "base_uri": "https://localhost:8080/"
        },
        "outputId": "2d2b4094-9d27-4e24-9760-0cba719dc242"
      },
      "source": [
        "print(\"-- Predict --\")\n",
        "output = model.predict(test_generator)\n",
        "np.set_printoptions(formatter={'float': lambda x: \"{0:0.3f}\".format(x)})\n",
        "print(test_generator.class_indices)\n",
        "print(output)"
      ],
      "execution_count": 20,
      "outputs": [
        {
          "output_type": "stream",
          "text": [
            "-- Predict --\n",
            "{'1': 0, '2': 1, '3': 2, '4': 3}\n",
            "[[0.619 0.013 0.368 0.000]\n",
            " [0.088 0.006 0.906 0.000]\n",
            " [0.087 0.006 0.907 0.000]\n",
            " [0.000 0.000 0.000 1.000]\n",
            " [0.086 0.006 0.908 0.000]\n",
            " [0.650 0.014 0.336 0.000]\n",
            " [0.682 0.014 0.303 0.000]\n",
            " [0.000 1.000 0.000 0.000]\n",
            " [0.000 0.000 0.000 1.000]\n",
            " [0.000 1.000 0.000 0.000]\n",
            " [0.000 1.000 0.000 0.000]\n",
            " [0.000 0.000 0.000 1.000]]\n"
          ],
          "name": "stdout"
        }
      ]
    }
  ]
}