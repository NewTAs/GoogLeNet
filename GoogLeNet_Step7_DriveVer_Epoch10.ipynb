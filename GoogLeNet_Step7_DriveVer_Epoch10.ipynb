{
  "nbformat": 4,
  "nbformat_minor": 0,
  "metadata": {
    "colab": {
      "name": "GoogLeNet_Step7_DriveVer_Epoch10.ipynb",
      "provenance": [],
      "collapsed_sections": [],
      "include_colab_link": true
    },
    "kernelspec": {
      "name": "python3",
      "display_name": "Python 3"
    },
    "language_info": {
      "name": "python"
    }
  },
  "cells": [
    {
      "cell_type": "markdown",
      "metadata": {
        "id": "view-in-github",
        "colab_type": "text"
      },
      "source": [
        "<a href=\"https://colab.research.google.com/github/NewTAs/GoogLeNet/blob/main/GoogLeNet_Step7_DriveVer_Epoch10.ipynb\" target=\"_parent\"><img src=\"https://colab.research.google.com/assets/colab-badge.svg\" alt=\"Open In Colab\"/></a>"
      ]
    },
    {
      "cell_type": "code",
      "metadata": {
        "colab": {
          "base_uri": "https://localhost:8080/"
        },
        "id": "E9vBGLsdgq24",
        "outputId": "b691d10a-8b84-496e-cb01-4a78c7cf7f32"
      },
      "source": [
        "# Step1 Code\n",
        "import os\n",
        "import re\n",
        "import glob\n",
        "import cv2\n",
        "import numpy as np\n",
        "from sklearn.model_selection import train_test_split\n",
        "\n",
        "import tensorflow as tf\n",
        "\n",
        "from google.colab import drive\n",
        "drive.mount('googlenet')\n",
        "\n",
        "# New Cord\n",
        "import numpy as np\n",
        "from keras.models import Sequential\n",
        "from keras.layers import Dense\n",
        "from keras.layers import Flatten\n",
        "from keras.layers.convolutional import Conv2D\n",
        "from keras.layers.convolutional import MaxPooling2D\n",
        "from keras.preprocessing.image import ImageDataGenerator\n",
        "\n",
        "#np.random.seed(4) # 랜덤시드 고정시키기"
      ],
      "execution_count": 1,
      "outputs": [
        {
          "output_type": "stream",
          "text": [
            "Mounted at googlenet\n"
          ],
          "name": "stdout"
        }
      ]
    },
    {
      "cell_type": "code",
      "metadata": {
        "colab": {
          "base_uri": "https://localhost:8080/"
        },
        "id": "Vl2fl4Ishlg_",
        "outputId": "f1cf9189-584e-4c79-dbe4-29a46b45826f"
      },
      "source": [
        "numberOfClass = 30\n",
        "pictureWeightHeightSize = 227\n",
        "\n",
        "train_datagen = ImageDataGenerator(rescale=1./255)\n",
        "\n",
        "train_generator = train_datagen.flow_from_directory(\n",
        "        '/content/googlenet/MyDrive/GoogLeNet_Data/TrainData_Step7/',\n",
        "        target_size=(pictureWeightHeightSize, pictureWeightHeightSize),\n",
        "        batch_size=numberOfClass,\n",
        "        class_mode='categorical')\n",
        "\n",
        "test_datagen = ImageDataGenerator(rescale=1./255)\n",
        "\n",
        "test_generator = test_datagen.flow_from_directory(\n",
        "        '/content/googlenet/MyDrive/GoogLeNet_Data/TestData_Step7/',\n",
        "        target_size=(pictureWeightHeightSize, pictureWeightHeightSize),    \n",
        "        batch_size=numberOfClass,\n",
        "        class_mode='categorical')"
      ],
      "execution_count": 2,
      "outputs": [
        {
          "output_type": "stream",
          "text": [
            "Found 300 images belonging to 30 classes.\n",
            "Found 60 images belonging to 30 classes.\n"
          ],
          "name": "stdout"
        }
      ]
    },
    {
      "cell_type": "code",
      "metadata": {
        "id": "8536c856"
      },
      "source": [
        "input_layer = tf.keras.layers.Input(shape=(pictureWeightHeightSize, pictureWeightHeightSize, 3))"
      ],
      "execution_count": 3,
      "outputs": []
    },
    {
      "cell_type": "code",
      "metadata": {
        "id": "77191152"
      },
      "source": [
        "stem_layer = tf.keras.layers.Conv2D(32, (3, 3), strides=(1, 1), padding='SAME', activation='relu')(input_layer)\n",
        "# Max Pooling Here on Original Inception (3x3, stride=2)\n",
        "stem_layer = tf.keras.layers.Conv2D(64, (3, 3), strides=(1, 1), padding='SAME', activation='relu')(stem_layer)\n",
        "# Max Pooling Here on Original Inception (3x3, stride=2)"
      ],
      "execution_count": 4,
      "outputs": []
    },
    {
      "cell_type": "code",
      "metadata": {
        "id": "c29d9d72"
      },
      "source": [
        "inception_block3a_1x1 = tf.keras.layers.Conv2D(32, (1, 1), strides=(1, 1), padding='SAME', activation='relu')(stem_layer)\n",
        "\n",
        "inception_block3a_3x3 = tf.keras.layers.Conv2D(48, (1, 1), padding='SAME', activation='relu')(stem_layer)\n",
        "inception_block3a_3x3 = tf.keras.layers.Conv2D(64, (3, 3), padding='SAME', activation='relu')(inception_block3a_3x3)\n",
        "\n",
        "inception_block3a_5x5 = tf.keras.layers.Conv2D(8, (1, 1), padding='SAME', activation='relu')(stem_layer)\n",
        "inception_block3a_5x5 = tf.keras.layers.Conv2D(16, (5, 5), padding='SAME', activation='relu')(inception_block3a_5x5)\n",
        "\n",
        "inception_block3a_pool = tf.keras.layers.MaxPool2D((3, 3), strides=(1, 1), padding='SAME')(stem_layer)\n",
        "inception_block3a_pool = tf.keras.layers.Conv2D(16, (1, 1), padding='SAME', activation='relu')(inception_block3a_pool)\n",
        "\n",
        "inception_block3a = tf.keras.layers.Concatenate()([inception_block3a_1x1, inception_block3a_3x3,\n",
        "                                                   inception_block3a_5x5, inception_block3a_pool]) # 32x32x128"
      ],
      "execution_count": 5,
      "outputs": []
    },
    {
      "cell_type": "code",
      "metadata": {
        "id": "3746e709"
      },
      "source": [
        "# inception_block3b Here on Original Inception\n",
        "max_pool = tf.keras.layers.MaxPool2D((3, 3), strides=(2, 2), padding='SAME')(inception_block3a) # 16x16x128"
      ],
      "execution_count": 6,
      "outputs": []
    },
    {
      "cell_type": "code",
      "metadata": {
        "id": "5e256e02"
      },
      "source": [
        "inception_block4a_1x1 = tf.keras.layers.Conv2D(64, (1, 1), padding='SAME', activation='relu')(max_pool)\n",
        "\n",
        "inception_block4a_3x3 = tf.keras.layers.Conv2D(64, (1, 1), padding='SAME', activation='relu')(max_pool)\n",
        "inception_block4a_3x3 = tf.keras.layers.Conv2D(96, (3, 3), padding='SAME', activation='relu')(inception_block4a_3x3)\n",
        "\n",
        "inception_block4a_5x5 = tf.keras.layers.Conv2D(16, (1, 1), padding='SAME', activation='relu')(max_pool)\n",
        "inception_block4a_5x5 = tf.keras.layers.Conv2D(48, (5, 5), padding='SAME', activation='relu')(inception_block4a_5x5)\n",
        "\n",
        "inception_block4a_pool = tf.keras.layers.MaxPool2D((3, 3), strides=(1, 1), padding='SAME')(max_pool)\n",
        "inception_block4a_pool = tf.keras.layers.Conv2D(32, (1, 1), padding='SAME', activation='relu')(inception_block4a_pool)\n",
        "\n",
        "inception_block4a = tf.keras.layers.Concatenate()([inception_block4a_1x1, inception_block4a_3x3,\n",
        "                                                   inception_block4a_5x5, inception_block4a_pool]) # 16x16x240\n",
        "\n",
        "# inception_block4b Here on Original Inception\n",
        "# inception_block4c Here on Original Inception\n",
        "# inception_block4d Here on Original Inception\n",
        "# inception_block4e Here on Original Inception"
      ],
      "execution_count": 7,
      "outputs": []
    },
    {
      "cell_type": "code",
      "metadata": {
        "id": "eeccc456"
      },
      "source": [
        "max_pool = tf.keras.layers.MaxPool2D((3, 3), strides=(2, 2), padding='SAME')(inception_block4a) # 8x8x240"
      ],
      "execution_count": 8,
      "outputs": []
    },
    {
      "cell_type": "code",
      "metadata": {
        "id": "66fe0596"
      },
      "source": [
        "inception_block5a_1x1 = tf.keras.layers.Conv2D(128, (1, 1), padding='SAME', activation='relu')(max_pool)\n",
        "\n",
        "inception_block5a_3x3 = tf.keras.layers.Conv2D(80, (1, 1), padding='SAME', activation='relu')(max_pool)\n",
        "inception_block5a_3x3 = tf.keras.layers.Conv2D(120, (3, 3), padding='SAME', activation='relu')(inception_block5a_3x3)\n",
        "\n",
        "inception_block5a_5x5 = tf.keras.layers.Conv2D(16, (1, 1), padding='SAME', activation='relu')(max_pool)\n",
        "inception_block5a_5x5 = tf.keras.layers.Conv2D(64, (5, 5), padding='SAME', activation='relu')(inception_block5a_5x5)\n",
        "\n",
        "inception_block5a_pool = tf.keras.layers.MaxPool2D((3, 3), strides=(1, 1), padding='SAME')(max_pool)\n",
        "inception_block5a_pool = tf.keras.layers.Conv2D(64, (1, 1), padding='SAME', activation='relu')(inception_block5a_pool)\n",
        "\n",
        "inception_block5a = tf.keras.layers.Concatenate()([inception_block5a_1x1, inception_block5a_3x3,\n",
        "                                                   inception_block5a_5x5, inception_block5a_pool]) # 8x8x416\n",
        "# inception_block5b Here on Original Inception"
      ],
      "execution_count": 9,
      "outputs": []
    },
    {
      "cell_type": "code",
      "metadata": {
        "id": "3b26f10f"
      },
      "source": [
        "avg_pool = tf.keras.layers.GlobalAveragePooling2D()(inception_block5a) # 416\n",
        "dropout = tf.keras.layers.Dropout(0.4)(avg_pool)\n",
        "out_layer = tf.keras.layers.Dense(numberOfClass, activation='softmax')(dropout)"
      ],
      "execution_count": 10,
      "outputs": []
    },
    {
      "cell_type": "code",
      "metadata": {
        "colab": {
          "base_uri": "https://localhost:8080/"
        },
        "id": "1764FfRSmsYP",
        "outputId": "2c681826-d6a8-4bdb-c8e2-307f4db7dd36"
      },
      "source": [
        "model = tf.keras.models.Model(input_layer, out_layer)\n",
        "\n",
        "#model.compile(optimizer='adam', loss='sparse_categorical_crossentropy', metrics=['accuracy'])\n",
        "model.compile(optimizer='adam', loss='categorical_crossentropy', metrics=['accuracy'])\n",
        "model.summary()\n",
        "\n",
        "#model.fit(x_train, y_train, batch_size=128, epochs=10, validation_data=(x_test, y_test))"
      ],
      "execution_count": 11,
      "outputs": [
        {
          "output_type": "stream",
          "text": [
            "Model: \"model\"\n",
            "__________________________________________________________________________________________________\n",
            "Layer (type)                    Output Shape         Param #     Connected to                     \n",
            "==================================================================================================\n",
            "input_1 (InputLayer)            [(None, 227, 227, 3) 0                                            \n",
            "__________________________________________________________________________________________________\n",
            "conv2d (Conv2D)                 (None, 227, 227, 32) 896         input_1[0][0]                    \n",
            "__________________________________________________________________________________________________\n",
            "conv2d_1 (Conv2D)               (None, 227, 227, 64) 18496       conv2d[0][0]                     \n",
            "__________________________________________________________________________________________________\n",
            "conv2d_3 (Conv2D)               (None, 227, 227, 48) 3120        conv2d_1[0][0]                   \n",
            "__________________________________________________________________________________________________\n",
            "conv2d_5 (Conv2D)               (None, 227, 227, 8)  520         conv2d_1[0][0]                   \n",
            "__________________________________________________________________________________________________\n",
            "max_pooling2d (MaxPooling2D)    (None, 227, 227, 64) 0           conv2d_1[0][0]                   \n",
            "__________________________________________________________________________________________________\n",
            "conv2d_2 (Conv2D)               (None, 227, 227, 32) 2080        conv2d_1[0][0]                   \n",
            "__________________________________________________________________________________________________\n",
            "conv2d_4 (Conv2D)               (None, 227, 227, 64) 27712       conv2d_3[0][0]                   \n",
            "__________________________________________________________________________________________________\n",
            "conv2d_6 (Conv2D)               (None, 227, 227, 16) 3216        conv2d_5[0][0]                   \n",
            "__________________________________________________________________________________________________\n",
            "conv2d_7 (Conv2D)               (None, 227, 227, 16) 1040        max_pooling2d[0][0]              \n",
            "__________________________________________________________________________________________________\n",
            "concatenate (Concatenate)       (None, 227, 227, 128 0           conv2d_2[0][0]                   \n",
            "                                                                 conv2d_4[0][0]                   \n",
            "                                                                 conv2d_6[0][0]                   \n",
            "                                                                 conv2d_7[0][0]                   \n",
            "__________________________________________________________________________________________________\n",
            "max_pooling2d_1 (MaxPooling2D)  (None, 114, 114, 128 0           concatenate[0][0]                \n",
            "__________________________________________________________________________________________________\n",
            "conv2d_9 (Conv2D)               (None, 114, 114, 64) 8256        max_pooling2d_1[0][0]            \n",
            "__________________________________________________________________________________________________\n",
            "conv2d_11 (Conv2D)              (None, 114, 114, 16) 2064        max_pooling2d_1[0][0]            \n",
            "__________________________________________________________________________________________________\n",
            "max_pooling2d_2 (MaxPooling2D)  (None, 114, 114, 128 0           max_pooling2d_1[0][0]            \n",
            "__________________________________________________________________________________________________\n",
            "conv2d_8 (Conv2D)               (None, 114, 114, 64) 8256        max_pooling2d_1[0][0]            \n",
            "__________________________________________________________________________________________________\n",
            "conv2d_10 (Conv2D)              (None, 114, 114, 96) 55392       conv2d_9[0][0]                   \n",
            "__________________________________________________________________________________________________\n",
            "conv2d_12 (Conv2D)              (None, 114, 114, 48) 19248       conv2d_11[0][0]                  \n",
            "__________________________________________________________________________________________________\n",
            "conv2d_13 (Conv2D)              (None, 114, 114, 32) 4128        max_pooling2d_2[0][0]            \n",
            "__________________________________________________________________________________________________\n",
            "concatenate_1 (Concatenate)     (None, 114, 114, 240 0           conv2d_8[0][0]                   \n",
            "                                                                 conv2d_10[0][0]                  \n",
            "                                                                 conv2d_12[0][0]                  \n",
            "                                                                 conv2d_13[0][0]                  \n",
            "__________________________________________________________________________________________________\n",
            "max_pooling2d_3 (MaxPooling2D)  (None, 57, 57, 240)  0           concatenate_1[0][0]              \n",
            "__________________________________________________________________________________________________\n",
            "conv2d_15 (Conv2D)              (None, 57, 57, 80)   19280       max_pooling2d_3[0][0]            \n",
            "__________________________________________________________________________________________________\n",
            "conv2d_17 (Conv2D)              (None, 57, 57, 16)   3856        max_pooling2d_3[0][0]            \n",
            "__________________________________________________________________________________________________\n",
            "max_pooling2d_4 (MaxPooling2D)  (None, 57, 57, 240)  0           max_pooling2d_3[0][0]            \n",
            "__________________________________________________________________________________________________\n",
            "conv2d_14 (Conv2D)              (None, 57, 57, 128)  30848       max_pooling2d_3[0][0]            \n",
            "__________________________________________________________________________________________________\n",
            "conv2d_16 (Conv2D)              (None, 57, 57, 120)  86520       conv2d_15[0][0]                  \n",
            "__________________________________________________________________________________________________\n",
            "conv2d_18 (Conv2D)              (None, 57, 57, 64)   25664       conv2d_17[0][0]                  \n",
            "__________________________________________________________________________________________________\n",
            "conv2d_19 (Conv2D)              (None, 57, 57, 64)   15424       max_pooling2d_4[0][0]            \n",
            "__________________________________________________________________________________________________\n",
            "concatenate_2 (Concatenate)     (None, 57, 57, 376)  0           conv2d_14[0][0]                  \n",
            "                                                                 conv2d_16[0][0]                  \n",
            "                                                                 conv2d_18[0][0]                  \n",
            "                                                                 conv2d_19[0][0]                  \n",
            "__________________________________________________________________________________________________\n",
            "global_average_pooling2d (Globa (None, 376)          0           concatenate_2[0][0]              \n",
            "__________________________________________________________________________________________________\n",
            "dropout (Dropout)               (None, 376)          0           global_average_pooling2d[0][0]   \n",
            "__________________________________________________________________________________________________\n",
            "dense (Dense)                   (None, 30)           11310       dropout[0][0]                    \n",
            "==================================================================================================\n",
            "Total params: 347,326\n",
            "Trainable params: 347,326\n",
            "Non-trainable params: 0\n",
            "__________________________________________________________________________________________________\n"
          ],
          "name": "stdout"
        }
      ]
    },
    {
      "cell_type": "code",
      "metadata": {
        "colab": {
          "base_uri": "https://localhost:8080/"
        },
        "id": "b1D7qJrqnK3I",
        "outputId": "2a1d4a6a-0a31-459e-ef6e-6fb26ea00c32"
      },
      "source": [
        "model.fit(train_generator, epochs=10, validation_data=test_generator)"
      ],
      "execution_count": 12,
      "outputs": [
        {
          "output_type": "stream",
          "text": [
            "Epoch 1/10\n",
            "10/10 [==============================] - 388s 38s/step - loss: 3.4087 - accuracy: 0.0200 - val_loss: 3.4026 - val_accuracy: 0.0333\n",
            "Epoch 2/10\n",
            "10/10 [==============================] - 361s 36s/step - loss: 3.3889 - accuracy: 0.0267 - val_loss: 3.4100 - val_accuracy: 0.0333\n",
            "Epoch 3/10\n",
            "10/10 [==============================] - 353s 36s/step - loss: 3.3544 - accuracy: 0.0267 - val_loss: 3.4027 - val_accuracy: 0.0333\n",
            "Epoch 4/10\n",
            "10/10 [==============================] - 345s 35s/step - loss: 3.2684 - accuracy: 0.0500 - val_loss: 3.4227 - val_accuracy: 0.0333\n",
            "Epoch 5/10\n",
            "10/10 [==============================] - 353s 35s/step - loss: 3.1811 - accuracy: 0.0733 - val_loss: 3.5249 - val_accuracy: 0.0667\n",
            "Epoch 6/10\n",
            "10/10 [==============================] - 347s 35s/step - loss: 3.0200 - accuracy: 0.0767 - val_loss: 3.6249 - val_accuracy: 0.0333\n",
            "Epoch 7/10\n",
            "10/10 [==============================] - 344s 35s/step - loss: 2.9083 - accuracy: 0.0800 - val_loss: 3.7179 - val_accuracy: 0.0333\n",
            "Epoch 8/10\n",
            "10/10 [==============================] - 354s 36s/step - loss: 2.7719 - accuracy: 0.1267 - val_loss: 4.1949 - val_accuracy: 0.0667\n",
            "Epoch 9/10\n",
            "10/10 [==============================] - 356s 36s/step - loss: 2.7518 - accuracy: 0.1500 - val_loss: 4.0850 - val_accuracy: 0.0333\n",
            "Epoch 10/10\n",
            "10/10 [==============================] - 351s 35s/step - loss: 2.5281 - accuracy: 0.2000 - val_loss: 4.9318 - val_accuracy: 0.0667\n"
          ],
          "name": "stdout"
        },
        {
          "output_type": "execute_result",
          "data": {
            "text/plain": [
              "<tensorflow.python.keras.callbacks.History at 0x7fa712dd6f90>"
            ]
          },
          "metadata": {
            "tags": []
          },
          "execution_count": 12
        }
      ]
    },
    {
      "cell_type": "code",
      "metadata": {
        "colab": {
          "base_uri": "https://localhost:8080/"
        },
        "id": "dwkxcMnDqXEB",
        "outputId": "51bd4f14-e10b-42d4-88e5-2af21f7df569"
      },
      "source": [
        "print(\"-- Evaluate --\")\n",
        "scores = model.evaluate(test_generator)\n",
        "print(\"%s: %.2f%%\" %(model.metrics_names[1], scores[1]*100))"
      ],
      "execution_count": 13,
      "outputs": [
        {
          "output_type": "stream",
          "text": [
            "-- Evaluate --\n",
            "2/2 [==============================] - 13s 7s/step - loss: 4.9318 - accuracy: 0.0667\n",
            "accuracy: 6.67%\n"
          ],
          "name": "stdout"
        }
      ]
    },
    {
      "cell_type": "code",
      "metadata": {
        "colab": {
          "base_uri": "https://localhost:8080/"
        },
        "id": "KQnF0I-fqcuC",
        "outputId": "4f448f60-ae38-46d5-b51f-1a741d47e8ce"
      },
      "source": [
        "print(\"-- Predict --\")\n",
        "output = model.predict(test_generator)\n",
        "np.set_printoptions(formatter={'float': lambda x: \"{0:0.3f}\".format(x)})\n",
        "print(test_generator.class_indices)\n",
        "print(output)"
      ],
      "execution_count": 14,
      "outputs": [
        {
          "output_type": "stream",
          "text": [
            "-- Predict --\n",
            "{'0': 0, '1': 1, '10': 2, '11': 3, '12': 4, '13': 5, '14': 6, '15': 7, '16': 8, '17': 9, '18': 10, '19': 11, '2': 12, '20': 13, '21': 14, '22': 15, '23': 16, '24': 17, '25': 18, '26': 19, '27': 20, '28': 21, '29': 22, '3': 23, '4': 24, '5': 25, '6': 26, '7': 27, '8': 28, '9': 29}\n",
            "[[0.007 0.035 0.000 ... 0.002 0.020 0.031]\n",
            " [0.002 0.000 0.031 ... 0.020 0.000 0.000]\n",
            " [0.065 0.039 0.026 ... 0.050 0.036 0.022]\n",
            " ...\n",
            " [0.001 0.012 0.000 ... 0.000 0.003 0.008]\n",
            " [0.039 0.067 0.008 ... 0.023 0.060 0.052]\n",
            " [0.014 0.001 0.073 ... 0.059 0.004 0.001]]\n"
          ],
          "name": "stdout"
        }
      ]
    },
    {
      "cell_type": "code",
      "metadata": {
        "colab": {
          "base_uri": "https://localhost:8080/"
        },
        "id": "usRNsi0-24gh",
        "outputId": "cac5cd81-a776-4306-8a73-7e4870d8b6c7"
      },
      "source": [
        "for i in range(0, 30):\n",
        "  print(output[i])\n",
        "  print(\"\\n\")"
      ],
      "execution_count": 17,
      "outputs": [
        {
          "output_type": "stream",
          "text": [
            "[0.007 0.035 0.000 0.001 0.001 0.036 0.122 0.002 0.128 0.032 0.002 0.095\n",
            " 0.006 0.070 0.011 0.114 0.000 0.000 0.007 0.057 0.000 0.003 0.026 0.000\n",
            " 0.107 0.083 0.000 0.002 0.020 0.031]\n",
            "\n",
            "\n",
            "[0.002 0.000 0.031 0.035 0.041 0.000 0.000 0.003 0.000 0.001 0.030 0.000\n",
            " 0.002 0.000 0.001 0.000 0.659 0.011 0.020 0.000 0.069 0.004 0.002 0.049\n",
            " 0.000 0.000 0.019 0.020 0.000 0.000]\n",
            "\n",
            "\n",
            "[0.065 0.039 0.026 0.034 0.034 0.061 0.001 0.039 0.008 0.045 0.036 0.017\n",
            " 0.059 0.048 0.048 0.000 0.010 0.025 0.066 0.058 0.023 0.036 0.076 0.023\n",
            " 0.000 0.001 0.013 0.050 0.036 0.022]\n",
            "\n",
            "\n",
            "[0.008 0.036 0.000 0.001 0.001 0.038 0.154 0.002 0.131 0.025 0.002 0.093\n",
            " 0.007 0.070 0.011 0.100 0.000 0.001 0.008 0.048 0.000 0.003 0.022 0.000\n",
            " 0.098 0.091 0.000 0.002 0.018 0.029]\n",
            "\n",
            "\n",
            "[0.016 0.042 0.001 0.001 0.001 0.091 0.210 0.003 0.085 0.024 0.001 0.103\n",
            " 0.008 0.123 0.009 0.044 0.000 0.000 0.008 0.049 0.000 0.003 0.022 0.000\n",
            " 0.060 0.068 0.000 0.003 0.008 0.017]\n",
            "\n",
            "\n",
            "[0.008 0.050 0.003 0.007 0.005 0.023 0.022 0.009 0.122 0.046 0.014 0.060\n",
            " 0.024 0.038 0.049 0.046 0.001 0.009 0.020 0.079 0.004 0.016 0.056 0.002\n",
            " 0.032 0.025 0.008 0.007 0.125 0.092]\n",
            "\n",
            "\n",
            "[0.006 0.003 0.033 0.096 0.065 0.002 0.000 0.006 0.000 0.019 0.132 0.001\n",
            " 0.019 0.002 0.015 0.000 0.118 0.029 0.100 0.011 0.068 0.031 0.067 0.032\n",
            " 0.000 0.000 0.090 0.037 0.015 0.002]\n",
            "\n",
            "\n",
            "[0.005 0.024 0.000 0.000 0.000 0.052 0.278 0.001 0.091 0.016 0.000 0.095\n",
            " 0.003 0.094 0.004 0.076 0.000 0.000 0.003 0.033 0.000 0.001 0.014 0.000\n",
            " 0.095 0.097 0.000 0.001 0.004 0.011]\n",
            "\n",
            "\n",
            "[0.010 0.009 0.033 0.081 0.073 0.005 0.000 0.013 0.001 0.028 0.096 0.003\n",
            " 0.033 0.006 0.035 0.000 0.034 0.059 0.064 0.023 0.046 0.042 0.072 0.031\n",
            " 0.000 0.000 0.103 0.037 0.050 0.011]\n",
            "\n",
            "\n",
            "[0.003 0.001 0.056 0.125 0.124 0.000 0.000 0.004 0.000 0.004 0.082 0.000\n",
            " 0.010 0.000 0.006 0.000 0.097 0.073 0.025 0.002 0.066 0.020 0.019 0.064\n",
            " 0.000 0.000 0.184 0.029 0.006 0.000]\n",
            "\n",
            "\n",
            "[0.006 0.000 0.033 0.046 0.048 0.000 0.000 0.006 0.000 0.002 0.051 0.000\n",
            " 0.006 0.000 0.002 0.000 0.511 0.014 0.055 0.001 0.092 0.009 0.007 0.053\n",
            " 0.000 0.000 0.022 0.032 0.001 0.000]\n",
            "\n",
            "\n",
            "[0.010 0.009 0.033 0.081 0.073 0.005 0.000 0.014 0.001 0.028 0.096 0.003\n",
            " 0.033 0.006 0.035 0.000 0.035 0.058 0.064 0.023 0.046 0.042 0.072 0.031\n",
            " 0.000 0.000 0.102 0.038 0.050 0.011]\n",
            "\n",
            "\n",
            "[0.007 0.001 0.062 0.081 0.110 0.001 0.000 0.013 0.000 0.002 0.058 0.000\n",
            " 0.013 0.000 0.006 0.000 0.200 0.077 0.030 0.002 0.105 0.016 0.009 0.080\n",
            " 0.000 0.000 0.082 0.041 0.004 0.000]\n",
            "\n",
            "\n",
            "[0.003 0.022 0.000 0.000 0.000 0.020 0.143 0.001 0.132 0.019 0.001 0.080\n",
            " 0.004 0.048 0.007 0.162 0.000 0.000 0.004 0.037 0.000 0.002 0.017 0.000\n",
            " 0.147 0.110 0.000 0.001 0.014 0.023]\n",
            "\n",
            "\n",
            "[0.021 0.014 0.033 0.068 0.053 0.012 0.000 0.015 0.002 0.050 0.086 0.007\n",
            " 0.037 0.015 0.035 0.000 0.036 0.030 0.086 0.040 0.041 0.043 0.099 0.026\n",
            " 0.000 0.000 0.050 0.049 0.038 0.013]\n",
            "\n",
            "\n",
            "[0.006 0.001 0.062 0.081 0.110 0.001 0.000 0.013 0.000 0.002 0.058 0.000\n",
            " 0.012 0.000 0.006 0.000 0.201 0.076 0.030 0.002 0.105 0.016 0.009 0.080\n",
            " 0.000 0.000 0.083 0.041 0.004 0.000]\n",
            "\n",
            "\n",
            "[0.003 0.001 0.056 0.125 0.124 0.000 0.000 0.005 0.000 0.004 0.082 0.000\n",
            " 0.010 0.000 0.006 0.000 0.097 0.073 0.025 0.002 0.066 0.020 0.019 0.063\n",
            " 0.000 0.000 0.183 0.029 0.006 0.000]\n",
            "\n",
            "\n",
            "[0.013 0.008 0.042 0.095 0.075 0.006 0.000 0.011 0.001 0.035 0.096 0.002\n",
            " 0.030 0.008 0.029 0.000 0.036 0.048 0.059 0.023 0.045 0.041 0.083 0.036\n",
            " 0.000 0.000 0.095 0.043 0.033 0.008]\n",
            "\n",
            "\n",
            "[0.039 0.067 0.008 0.013 0.013 0.069 0.018 0.025 0.052 0.047 0.019 0.055\n",
            " 0.044 0.071 0.050 0.007 0.003 0.012 0.045 0.081 0.009 0.025 0.063 0.007\n",
            " 0.008 0.010 0.006 0.023 0.060 0.052]\n",
            "\n",
            "\n",
            "[0.012 0.047 0.008 0.016 0.018 0.017 0.004 0.028 0.054 0.028 0.028 0.023\n",
            " 0.044 0.017 0.077 0.007 0.003 0.048 0.032 0.052 0.017 0.025 0.039 0.007\n",
            " 0.004 0.004 0.026 0.017 0.201 0.096]\n",
            "\n",
            "\n",
            "[0.045 0.015 0.042 0.050 0.064 0.015 0.000 0.053 0.001 0.015 0.057 0.003\n",
            " 0.043 0.007 0.032 0.000 0.074 0.060 0.072 0.019 0.084 0.032 0.027 0.046\n",
            " 0.000 0.000 0.032 0.074 0.026 0.011]\n",
            "\n",
            "\n",
            "[0.056 0.009 0.058 0.060 0.077 0.015 0.000 0.042 0.000 0.013 0.054 0.002\n",
            " 0.037 0.007 0.019 0.000 0.103 0.042 0.072 0.013 0.075 0.030 0.027 0.064\n",
            " 0.000 0.000 0.024 0.087 0.011 0.004]\n",
            "\n",
            "\n",
            "[0.008 0.001 0.069 0.109 0.115 0.001 0.000 0.008 0.000 0.005 0.073 0.000\n",
            " 0.012 0.001 0.006 0.000 0.181 0.043 0.041 0.002 0.082 0.020 0.018 0.082\n",
            " 0.000 0.000 0.073 0.046 0.003 0.000]\n",
            "\n",
            "\n",
            "[0.002 0.000 0.030 0.035 0.040 0.000 0.000 0.003 0.000 0.001 0.029 0.000\n",
            " 0.002 0.000 0.001 0.000 0.662 0.011 0.020 0.000 0.069 0.004 0.002 0.048\n",
            " 0.000 0.000 0.019 0.020 0.000 0.000]\n",
            "\n",
            "\n",
            "[0.018 0.058 0.005 0.012 0.010 0.041 0.012 0.014 0.069 0.055 0.020 0.054\n",
            " 0.039 0.052 0.059 0.010 0.001 0.012 0.039 0.093 0.006 0.023 0.077 0.004\n",
            " 0.009 0.009 0.008 0.015 0.106 0.071]\n",
            "\n",
            "\n",
            "[0.006 0.015 0.000 0.000 0.000 0.098 0.417 0.000 0.038 0.010 0.000 0.081\n",
            " 0.001 0.140 0.001 0.030 0.000 0.000 0.001 0.021 0.000 0.000 0.008 0.000\n",
            " 0.058 0.068 0.000 0.000 0.001 0.003]\n",
            "\n",
            "\n",
            "[0.020 0.014 0.033 0.070 0.054 0.012 0.000 0.015 0.002 0.049 0.086 0.006\n",
            " 0.037 0.014 0.035 0.000 0.038 0.030 0.085 0.039 0.042 0.043 0.098 0.026\n",
            " 0.000 0.000 0.052 0.049 0.038 0.013]\n",
            "\n",
            "\n",
            "[0.021 0.006 0.046 0.078 0.078 0.005 0.000 0.021 0.000 0.014 0.086 0.001\n",
            " 0.031 0.004 0.019 0.000 0.117 0.041 0.094 0.012 0.078 0.033 0.041 0.052\n",
            " 0.000 0.000 0.048 0.058 0.014 0.003]\n",
            "\n",
            "\n",
            "[0.004 0.000 0.065 0.117 0.128 0.000 0.000 0.006 0.000 0.002 0.067 0.000\n",
            " 0.009 0.000 0.004 0.000 0.147 0.073 0.023 0.001 0.082 0.015 0.011 0.084\n",
            " 0.000 0.000 0.126 0.033 0.003 0.000]\n",
            "\n",
            "\n",
            "[0.000 0.000 0.006 0.007 0.009 0.000 0.000 0.000 0.000 0.000 0.009 0.000\n",
            " 0.000 0.000 0.000 0.000 0.900 0.001 0.008 0.000 0.036 0.000 0.000 0.014\n",
            " 0.000 0.000 0.003 0.005 0.000 0.000]\n",
            "\n",
            "\n"
          ],
          "name": "stdout"
        }
      ]
    }
  ]
}