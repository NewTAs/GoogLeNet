{
  "nbformat": 4,
  "nbformat_minor": 0,
  "metadata": {
    "colab": {
      "name": "GoogLeNet_Step5_DriveVer_Epoch10.ipynb",
      "provenance": [],
      "collapsed_sections": [],
      "authorship_tag": "ABX9TyMWWfBiX4BmnqAobzC3+sO1",
      "include_colab_link": true
    },
    "kernelspec": {
      "name": "python3",
      "display_name": "Python 3"
    },
    "language_info": {
      "name": "python"
    }
  },
  "cells": [
    {
      "cell_type": "markdown",
      "metadata": {
        "id": "view-in-github",
        "colab_type": "text"
      },
      "source": [
        "<a href=\"https://colab.research.google.com/github/NewTAs/GoogLeNet/blob/main/GoogLeNet_Step5_DriveVer_Epoch10.ipynb\" target=\"_parent\"><img src=\"https://colab.research.google.com/assets/colab-badge.svg\" alt=\"Open In Colab\"/></a>"
      ]
    },
    {
      "cell_type": "markdown",
      "metadata": {
        "id": "9Ut6dnnVg4cp"
      },
      "source": [
        "* 참고: https://tykimos.github.io/2017/03/08/CNN_Getting_Started/"
      ]
    },
    {
      "cell_type": "code",
      "metadata": {
        "colab": {
          "base_uri": "https://localhost:8080/"
        },
        "id": "E9vBGLsdgq24",
        "outputId": "7ee454ce-0d7f-4391-c30a-c72d2cedc2aa"
      },
      "source": [
        "# Step1 Code\n",
        "import os\n",
        "import re\n",
        "import glob\n",
        "import cv2\n",
        "import numpy as np\n",
        "from sklearn.model_selection import train_test_split\n",
        "\n",
        "import tensorflow as tf\n",
        "\n",
        "from google.colab import drive\n",
        "drive.mount('googlenet')\n",
        "\n",
        "# New Cord\n",
        "import numpy as np\n",
        "from keras.models import Sequential\n",
        "from keras.layers import Dense\n",
        "from keras.layers import Flatten\n",
        "from keras.layers.convolutional import Conv2D\n",
        "from keras.layers.convolutional import MaxPooling2D\n",
        "from keras.preprocessing.image import ImageDataGenerator\n",
        "\n",
        "#np.random.seed(4) # 랜덤시드 고정시키기"
      ],
      "execution_count": 30,
      "outputs": [
        {
          "output_type": "stream",
          "text": [
            "Drive already mounted at googlenet; to attempt to forcibly remount, call drive.mount(\"googlenet\", force_remount=True).\n"
          ],
          "name": "stdout"
        }
      ]
    },
    {
      "cell_type": "code",
      "metadata": {
        "colab": {
          "base_uri": "https://localhost:8080/"
        },
        "id": "Vl2fl4Ishlg_",
        "outputId": "9fc36abb-77fd-4447-9808-ea5c91ef1823"
      },
      "source": [
        "pictureWeightHeightSize = 227\n",
        "\n",
        "train_datagen = ImageDataGenerator(rescale=1./255)\n",
        "\n",
        "train_generator = train_datagen.flow_from_directory(\n",
        "        '/content/googlenet/MyDrive/GoogLeNet_Data/TrainData_Step5/',\n",
        "        target_size=(pictureWeightHeightSize, pictureWeightHeightSize),\n",
        "        batch_size=10,\n",
        "        class_mode='categorical')\n",
        "\n",
        "test_datagen = ImageDataGenerator(rescale=1./255)\n",
        "\n",
        "test_generator = test_datagen.flow_from_directory(\n",
        "        '/content/googlenet/MyDrive/GoogLeNet_Data/TestData_Step5/',\n",
        "        target_size=(pictureWeightHeightSize, pictureWeightHeightSize),    \n",
        "        batch_size=10,\n",
        "        class_mode='categorical')"
      ],
      "execution_count": 31,
      "outputs": [
        {
          "output_type": "stream",
          "text": [
            "Found 300 images belonging to 10 classes.\n",
            "Found 20 images belonging to 10 classes.\n"
          ],
          "name": "stdout"
        }
      ]
    },
    {
      "cell_type": "code",
      "metadata": {
        "id": "8536c856"
      },
      "source": [
        "input_layer = tf.keras.layers.Input(shape=(pictureWeightHeightSize, pictureWeightHeightSize, 3))"
      ],
      "execution_count": 32,
      "outputs": []
    },
    {
      "cell_type": "code",
      "metadata": {
        "id": "77191152"
      },
      "source": [
        "stem_layer = tf.keras.layers.Conv2D(32, (3, 3), strides=(1, 1), padding='SAME', activation='relu')(input_layer)\n",
        "# Max Pooling Here on Original Inception (3x3, stride=2)\n",
        "stem_layer = tf.keras.layers.Conv2D(64, (3, 3), strides=(1, 1), padding='SAME', activation='relu')(stem_layer)\n",
        "# Max Pooling Here on Original Inception (3x3, stride=2)"
      ],
      "execution_count": 33,
      "outputs": []
    },
    {
      "cell_type": "code",
      "metadata": {
        "id": "c29d9d72"
      },
      "source": [
        "inception_block3a_1x1 = tf.keras.layers.Conv2D(32, (1, 1), strides=(1, 1), padding='SAME', activation='relu')(stem_layer)\n",
        "\n",
        "inception_block3a_3x3 = tf.keras.layers.Conv2D(48, (1, 1), padding='SAME', activation='relu')(stem_layer)\n",
        "inception_block3a_3x3 = tf.keras.layers.Conv2D(64, (3, 3), padding='SAME', activation='relu')(inception_block3a_3x3)\n",
        "\n",
        "inception_block3a_5x5 = tf.keras.layers.Conv2D(8, (1, 1), padding='SAME', activation='relu')(stem_layer)\n",
        "inception_block3a_5x5 = tf.keras.layers.Conv2D(16, (5, 5), padding='SAME', activation='relu')(inception_block3a_5x5)\n",
        "\n",
        "inception_block3a_pool = tf.keras.layers.MaxPool2D((3, 3), strides=(1, 1), padding='SAME')(stem_layer)\n",
        "inception_block3a_pool = tf.keras.layers.Conv2D(16, (1, 1), padding='SAME', activation='relu')(inception_block3a_pool)\n",
        "\n",
        "inception_block3a = tf.keras.layers.Concatenate()([inception_block3a_1x1, inception_block3a_3x3,\n",
        "                                                   inception_block3a_5x5, inception_block3a_pool]) # 32x32x128"
      ],
      "execution_count": 34,
      "outputs": []
    },
    {
      "cell_type": "code",
      "metadata": {
        "id": "3746e709"
      },
      "source": [
        "# inception_block3b Here on Original Inception\n",
        "max_pool = tf.keras.layers.MaxPool2D((3, 3), strides=(2, 2), padding='SAME')(inception_block3a) # 16x16x128"
      ],
      "execution_count": 35,
      "outputs": []
    },
    {
      "cell_type": "code",
      "metadata": {
        "id": "5e256e02"
      },
      "source": [
        "inception_block4a_1x1 = tf.keras.layers.Conv2D(64, (1, 1), padding='SAME', activation='relu')(max_pool)\n",
        "\n",
        "inception_block4a_3x3 = tf.keras.layers.Conv2D(64, (1, 1), padding='SAME', activation='relu')(max_pool)\n",
        "inception_block4a_3x3 = tf.keras.layers.Conv2D(96, (3, 3), padding='SAME', activation='relu')(inception_block4a_3x3)\n",
        "\n",
        "inception_block4a_5x5 = tf.keras.layers.Conv2D(16, (1, 1), padding='SAME', activation='relu')(max_pool)\n",
        "inception_block4a_5x5 = tf.keras.layers.Conv2D(48, (5, 5), padding='SAME', activation='relu')(inception_block4a_5x5)\n",
        "\n",
        "inception_block4a_pool = tf.keras.layers.MaxPool2D((3, 3), strides=(1, 1), padding='SAME')(max_pool)\n",
        "inception_block4a_pool = tf.keras.layers.Conv2D(32, (1, 1), padding='SAME', activation='relu')(inception_block4a_pool)\n",
        "\n",
        "inception_block4a = tf.keras.layers.Concatenate()([inception_block4a_1x1, inception_block4a_3x3,\n",
        "                                                   inception_block4a_5x5, inception_block4a_pool]) # 16x16x240\n",
        "\n",
        "# inception_block4b Here on Original Inception\n",
        "# inception_block4c Here on Original Inception\n",
        "# inception_block4d Here on Original Inception\n",
        "# inception_block4e Here on Original Inception"
      ],
      "execution_count": 36,
      "outputs": []
    },
    {
      "cell_type": "code",
      "metadata": {
        "id": "eeccc456"
      },
      "source": [
        "max_pool = tf.keras.layers.MaxPool2D((3, 3), strides=(2, 2), padding='SAME')(inception_block4a) # 8x8x240"
      ],
      "execution_count": 37,
      "outputs": []
    },
    {
      "cell_type": "code",
      "metadata": {
        "id": "66fe0596"
      },
      "source": [
        "inception_block5a_1x1 = tf.keras.layers.Conv2D(128, (1, 1), padding='SAME', activation='relu')(max_pool)\n",
        "\n",
        "inception_block5a_3x3 = tf.keras.layers.Conv2D(80, (1, 1), padding='SAME', activation='relu')(max_pool)\n",
        "inception_block5a_3x3 = tf.keras.layers.Conv2D(120, (3, 3), padding='SAME', activation='relu')(inception_block5a_3x3)\n",
        "\n",
        "inception_block5a_5x5 = tf.keras.layers.Conv2D(16, (1, 1), padding='SAME', activation='relu')(max_pool)\n",
        "inception_block5a_5x5 = tf.keras.layers.Conv2D(64, (5, 5), padding='SAME', activation='relu')(inception_block5a_5x5)\n",
        "\n",
        "inception_block5a_pool = tf.keras.layers.MaxPool2D((3, 3), strides=(1, 1), padding='SAME')(max_pool)\n",
        "inception_block5a_pool = tf.keras.layers.Conv2D(64, (1, 1), padding='SAME', activation='relu')(inception_block5a_pool)\n",
        "\n",
        "inception_block5a = tf.keras.layers.Concatenate()([inception_block5a_1x1, inception_block5a_3x3,\n",
        "                                                   inception_block5a_5x5, inception_block5a_pool]) # 8x8x416\n",
        "# inception_block5b Here on Original Inception"
      ],
      "execution_count": 38,
      "outputs": []
    },
    {
      "cell_type": "code",
      "metadata": {
        "id": "3b26f10f"
      },
      "source": [
        "avg_pool = tf.keras.layers.GlobalAveragePooling2D()(inception_block5a) # 416\n",
        "dropout = tf.keras.layers.Dropout(0.4)(avg_pool)\n",
        "out_layer = tf.keras.layers.Dense(10, activation='softmax')(dropout)"
      ],
      "execution_count": 39,
      "outputs": []
    },
    {
      "cell_type": "code",
      "metadata": {
        "colab": {
          "base_uri": "https://localhost:8080/"
        },
        "id": "1764FfRSmsYP",
        "outputId": "91f60140-7a44-4078-951e-a9bce87cc178"
      },
      "source": [
        "model = tf.keras.models.Model(input_layer, out_layer)\n",
        "\n",
        "#model.compile(optimizer='adam', loss='sparse_categorical_crossentropy', metrics=['accuracy'])\n",
        "model.compile(optimizer='adam', loss='categorical_crossentropy', metrics=['accuracy'])\n",
        "model.summary()\n",
        "\n",
        "#model.fit(x_train, y_train, batch_size=128, epochs=10, validation_data=(x_test, y_test))"
      ],
      "execution_count": 40,
      "outputs": [
        {
          "output_type": "stream",
          "text": [
            "Model: \"model_2\"\n",
            "__________________________________________________________________________________________________\n",
            "Layer (type)                    Output Shape         Param #     Connected to                     \n",
            "==================================================================================================\n",
            "input_3 (InputLayer)            [(None, 227, 227, 3) 0                                            \n",
            "__________________________________________________________________________________________________\n",
            "conv2d_40 (Conv2D)              (None, 227, 227, 32) 896         input_3[0][0]                    \n",
            "__________________________________________________________________________________________________\n",
            "conv2d_41 (Conv2D)              (None, 227, 227, 64) 18496       conv2d_40[0][0]                  \n",
            "__________________________________________________________________________________________________\n",
            "conv2d_43 (Conv2D)              (None, 227, 227, 48) 3120        conv2d_41[0][0]                  \n",
            "__________________________________________________________________________________________________\n",
            "conv2d_45 (Conv2D)              (None, 227, 227, 8)  520         conv2d_41[0][0]                  \n",
            "__________________________________________________________________________________________________\n",
            "max_pooling2d_10 (MaxPooling2D) (None, 227, 227, 64) 0           conv2d_41[0][0]                  \n",
            "__________________________________________________________________________________________________\n",
            "conv2d_42 (Conv2D)              (None, 227, 227, 32) 2080        conv2d_41[0][0]                  \n",
            "__________________________________________________________________________________________________\n",
            "conv2d_44 (Conv2D)              (None, 227, 227, 64) 27712       conv2d_43[0][0]                  \n",
            "__________________________________________________________________________________________________\n",
            "conv2d_46 (Conv2D)              (None, 227, 227, 16) 3216        conv2d_45[0][0]                  \n",
            "__________________________________________________________________________________________________\n",
            "conv2d_47 (Conv2D)              (None, 227, 227, 16) 1040        max_pooling2d_10[0][0]           \n",
            "__________________________________________________________________________________________________\n",
            "concatenate_6 (Concatenate)     (None, 227, 227, 128 0           conv2d_42[0][0]                  \n",
            "                                                                 conv2d_44[0][0]                  \n",
            "                                                                 conv2d_46[0][0]                  \n",
            "                                                                 conv2d_47[0][0]                  \n",
            "__________________________________________________________________________________________________\n",
            "max_pooling2d_11 (MaxPooling2D) (None, 114, 114, 128 0           concatenate_6[0][0]              \n",
            "__________________________________________________________________________________________________\n",
            "conv2d_49 (Conv2D)              (None, 114, 114, 64) 8256        max_pooling2d_11[0][0]           \n",
            "__________________________________________________________________________________________________\n",
            "conv2d_51 (Conv2D)              (None, 114, 114, 16) 2064        max_pooling2d_11[0][0]           \n",
            "__________________________________________________________________________________________________\n",
            "max_pooling2d_12 (MaxPooling2D) (None, 114, 114, 128 0           max_pooling2d_11[0][0]           \n",
            "__________________________________________________________________________________________________\n",
            "conv2d_48 (Conv2D)              (None, 114, 114, 64) 8256        max_pooling2d_11[0][0]           \n",
            "__________________________________________________________________________________________________\n",
            "conv2d_50 (Conv2D)              (None, 114, 114, 96) 55392       conv2d_49[0][0]                  \n",
            "__________________________________________________________________________________________________\n",
            "conv2d_52 (Conv2D)              (None, 114, 114, 48) 19248       conv2d_51[0][0]                  \n",
            "__________________________________________________________________________________________________\n",
            "conv2d_53 (Conv2D)              (None, 114, 114, 32) 4128        max_pooling2d_12[0][0]           \n",
            "__________________________________________________________________________________________________\n",
            "concatenate_7 (Concatenate)     (None, 114, 114, 240 0           conv2d_48[0][0]                  \n",
            "                                                                 conv2d_50[0][0]                  \n",
            "                                                                 conv2d_52[0][0]                  \n",
            "                                                                 conv2d_53[0][0]                  \n",
            "__________________________________________________________________________________________________\n",
            "max_pooling2d_13 (MaxPooling2D) (None, 57, 57, 240)  0           concatenate_7[0][0]              \n",
            "__________________________________________________________________________________________________\n",
            "conv2d_55 (Conv2D)              (None, 57, 57, 80)   19280       max_pooling2d_13[0][0]           \n",
            "__________________________________________________________________________________________________\n",
            "conv2d_57 (Conv2D)              (None, 57, 57, 16)   3856        max_pooling2d_13[0][0]           \n",
            "__________________________________________________________________________________________________\n",
            "max_pooling2d_14 (MaxPooling2D) (None, 57, 57, 240)  0           max_pooling2d_13[0][0]           \n",
            "__________________________________________________________________________________________________\n",
            "conv2d_54 (Conv2D)              (None, 57, 57, 128)  30848       max_pooling2d_13[0][0]           \n",
            "__________________________________________________________________________________________________\n",
            "conv2d_56 (Conv2D)              (None, 57, 57, 120)  86520       conv2d_55[0][0]                  \n",
            "__________________________________________________________________________________________________\n",
            "conv2d_58 (Conv2D)              (None, 57, 57, 64)   25664       conv2d_57[0][0]                  \n",
            "__________________________________________________________________________________________________\n",
            "conv2d_59 (Conv2D)              (None, 57, 57, 64)   15424       max_pooling2d_14[0][0]           \n",
            "__________________________________________________________________________________________________\n",
            "concatenate_8 (Concatenate)     (None, 57, 57, 376)  0           conv2d_54[0][0]                  \n",
            "                                                                 conv2d_56[0][0]                  \n",
            "                                                                 conv2d_58[0][0]                  \n",
            "                                                                 conv2d_59[0][0]                  \n",
            "__________________________________________________________________________________________________\n",
            "global_average_pooling2d_2 (Glo (None, 376)          0           concatenate_8[0][0]              \n",
            "__________________________________________________________________________________________________\n",
            "dropout_2 (Dropout)             (None, 376)          0           global_average_pooling2d_2[0][0] \n",
            "__________________________________________________________________________________________________\n",
            "dense_2 (Dense)                 (None, 10)           3770        dropout_2[0][0]                  \n",
            "==================================================================================================\n",
            "Total params: 339,786\n",
            "Trainable params: 339,786\n",
            "Non-trainable params: 0\n",
            "__________________________________________________________________________________________________\n"
          ],
          "name": "stdout"
        }
      ]
    },
    {
      "cell_type": "code",
      "metadata": {
        "colab": {
          "base_uri": "https://localhost:8080/"
        },
        "id": "b1D7qJrqnK3I",
        "outputId": "6f18de12-ba76-48e1-dd71-36d1ec96db4d"
      },
      "source": [
        "model.fit(train_generator, epochs=10, validation_data=test_generator)"
      ],
      "execution_count": 41,
      "outputs": [
        {
          "output_type": "stream",
          "text": [
            "Epoch 1/10\n",
            "30/30 [==============================] - 317s 10s/step - loss: 2.2371 - accuracy: 0.1100 - val_loss: 1.9871 - val_accuracy: 0.2000\n",
            "Epoch 2/10\n",
            "30/30 [==============================] - 298s 10s/step - loss: 1.7607 - accuracy: 0.2867 - val_loss: 1.6431 - val_accuracy: 0.3000\n",
            "Epoch 3/10\n",
            "30/30 [==============================] - 298s 10s/step - loss: 1.0122 - accuracy: 0.6433 - val_loss: 1.0314 - val_accuracy: 0.8000\n",
            "Epoch 4/10\n",
            "30/30 [==============================] - 298s 10s/step - loss: 0.5636 - accuracy: 0.8333 - val_loss: 0.8850 - val_accuracy: 0.7000\n",
            "Epoch 5/10\n",
            "30/30 [==============================] - 297s 10s/step - loss: 0.8154 - accuracy: 0.7533 - val_loss: 0.3303 - val_accuracy: 0.8000\n",
            "Epoch 6/10\n",
            "30/30 [==============================] - 297s 10s/step - loss: 0.2319 - accuracy: 0.9433 - val_loss: 0.0485 - val_accuracy: 1.0000\n",
            "Epoch 7/10\n",
            "30/30 [==============================] - 297s 10s/step - loss: 0.3090 - accuracy: 0.9000 - val_loss: 0.3144 - val_accuracy: 0.9000\n",
            "Epoch 8/10\n",
            "30/30 [==============================] - 296s 10s/step - loss: 0.1239 - accuracy: 0.9667 - val_loss: 0.0200 - val_accuracy: 1.0000\n",
            "Epoch 9/10\n",
            "30/30 [==============================] - 297s 10s/step - loss: 0.0255 - accuracy: 1.0000 - val_loss: 0.0037 - val_accuracy: 1.0000\n",
            "Epoch 10/10\n",
            "30/30 [==============================] - 297s 10s/step - loss: 0.0529 - accuracy: 0.9833 - val_loss: 0.1201 - val_accuracy: 0.9000\n"
          ],
          "name": "stdout"
        },
        {
          "output_type": "execute_result",
          "data": {
            "text/plain": [
              "<tensorflow.python.keras.callbacks.History at 0x7f3334fff5d0>"
            ]
          },
          "metadata": {
            "tags": []
          },
          "execution_count": 41
        }
      ]
    },
    {
      "cell_type": "code",
      "metadata": {
        "colab": {
          "base_uri": "https://localhost:8080/"
        },
        "id": "dwkxcMnDqXEB",
        "outputId": "fb22c69d-459b-4e8d-fece-d2b3e53e54f3"
      },
      "source": [
        "print(\"-- Evaluate --\")\n",
        "scores = model.evaluate(test_generator)\n",
        "print(\"%s: %.2f%%\" %(model.metrics_names[1], scores[1]*100))"
      ],
      "execution_count": 42,
      "outputs": [
        {
          "output_type": "stream",
          "text": [
            "-- Evaluate --\n",
            "2/2 [==============================] - 4s 2s/step - loss: 0.1201 - accuracy: 0.9000\n",
            "accuracy: 90.00%\n"
          ],
          "name": "stdout"
        }
      ]
    },
    {
      "cell_type": "code",
      "metadata": {
        "colab": {
          "base_uri": "https://localhost:8080/"
        },
        "id": "KQnF0I-fqcuC",
        "outputId": "5a03c31d-4a76-4fa1-d441-e8b4a6aed62e"
      },
      "source": [
        "print(\"-- Predict --\")\n",
        "output = model.predict(test_generator)\n",
        "np.set_printoptions(formatter={'float': lambda x: \"{0:0.3f}\".format(x)})\n",
        "print(test_generator.class_indices)\n",
        "print(output)"
      ],
      "execution_count": 43,
      "outputs": [
        {
          "output_type": "stream",
          "text": [
            "-- Predict --\n",
            "{'1': 0, '10': 1, '2': 2, '3': 3, '4': 4, '5': 5, '6': 6, '7': 7, '8': 8, '9': 9}\n",
            "[[0.000 0.000 0.992 0.000 0.001 0.007 0.000 0.000 0.000 0.000]\n",
            " [0.000 0.000 0.000 0.000 0.000 0.000 0.000 0.000 1.000 0.000]\n",
            " [0.001 0.000 0.000 0.000 0.000 0.017 0.355 0.627 0.000 0.000]\n",
            " [0.000 0.000 0.006 0.000 0.011 0.943 0.000 0.040 0.000 0.000]\n",
            " [0.999 0.000 0.000 0.000 0.000 0.000 0.000 0.000 0.000 0.000]\n",
            " [0.000 0.000 0.000 1.000 0.000 0.000 0.000 0.000 0.000 0.000]\n",
            " [0.000 0.000 0.000 0.000 1.000 0.000 0.000 0.000 0.000 0.000]\n",
            " [0.000 0.000 0.000 1.000 0.000 0.000 0.000 0.000 0.000 0.000]\n",
            " [0.000 0.000 0.000 0.000 0.000 0.000 0.000 0.000 1.000 0.000]\n",
            " [0.010 0.000 0.000 0.000 0.012 0.036 0.000 0.942 0.000 0.000]\n",
            " [0.000 0.000 0.006 0.000 0.011 0.943 0.000 0.040 0.000 0.000]\n",
            " [0.000 0.000 0.000 0.000 1.000 0.000 0.000 0.000 0.000 0.000]\n",
            " [0.000 0.000 0.992 0.000 0.001 0.007 0.000 0.000 0.000 0.000]\n",
            " [0.999 0.000 0.000 0.000 0.000 0.000 0.000 0.000 0.000 0.000]\n",
            " [0.000 0.000 0.000 0.000 0.000 0.000 0.000 0.000 0.000 1.000]\n",
            " [0.001 0.000 0.000 0.000 0.000 0.017 0.356 0.626 0.000 0.000]\n",
            " [0.010 0.000 0.000 0.000 0.012 0.036 0.000 0.942 0.000 0.000]\n",
            " [0.038 0.962 0.000 0.000 0.000 0.000 0.000 0.000 0.000 0.000]\n",
            " [0.000 0.000 0.000 0.000 0.000 0.000 0.000 0.000 0.000 1.000]\n",
            " [0.038 0.962 0.000 0.000 0.000 0.000 0.000 0.000 0.000 0.000]]\n"
          ],
          "name": "stdout"
        }
      ]
    }
  ]
}