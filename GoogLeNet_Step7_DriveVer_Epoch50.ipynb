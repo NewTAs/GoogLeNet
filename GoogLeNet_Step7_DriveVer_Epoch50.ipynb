{
  "nbformat": 4,
  "nbformat_minor": 0,
  "metadata": {
    "colab": {
      "name": "GoogLeNet_Step7_DriveVer_Epoch50.ipynb",
      "provenance": [],
      "collapsed_sections": [],
      "include_colab_link": true
    },
    "kernelspec": {
      "name": "python3",
      "display_name": "Python 3"
    },
    "language_info": {
      "name": "python"
    }
  },
  "cells": [
    {
      "cell_type": "markdown",
      "metadata": {
        "id": "view-in-github",
        "colab_type": "text"
      },
      "source": [
        "<a href=\"https://colab.research.google.com/github/NewTAs/GoogLeNet/blob/main/GoogLeNet_Step7_DriveVer_Epoch50.ipynb\" target=\"_parent\"><img src=\"https://colab.research.google.com/assets/colab-badge.svg\" alt=\"Open In Colab\"/></a>"
      ]
    },
    {
      "cell_type": "code",
      "metadata": {
        "colab": {
          "base_uri": "https://localhost:8080/"
        },
        "id": "E9vBGLsdgq24",
        "outputId": "412ce007-6a7c-4942-cab7-34078c282670"
      },
      "source": [
        "# Step1 Code\n",
        "import os\n",
        "import re\n",
        "import glob\n",
        "import cv2\n",
        "import numpy as np\n",
        "from sklearn.model_selection import train_test_split\n",
        "\n",
        "import tensorflow as tf\n",
        "\n",
        "from google.colab import drive\n",
        "drive.mount('googlenet')\n",
        "\n",
        "# New Cord\n",
        "import numpy as np\n",
        "from keras.models import Sequential\n",
        "from keras.layers import Dense\n",
        "from keras.layers import Flatten\n",
        "from keras.layers.convolutional import Conv2D\n",
        "from keras.layers.convolutional import MaxPooling2D\n",
        "from keras.preprocessing.image import ImageDataGenerator\n",
        "\n",
        "#np.random.seed(4) # 랜덤시드 고정시키기"
      ],
      "execution_count": 1,
      "outputs": [
        {
          "output_type": "stream",
          "text": [
            "Mounted at googlenet\n"
          ],
          "name": "stdout"
        }
      ]
    },
    {
      "cell_type": "code",
      "metadata": {
        "colab": {
          "base_uri": "https://localhost:8080/"
        },
        "id": "Vl2fl4Ishlg_",
        "outputId": "b6f0c8b0-1fc7-43ce-9947-a7a3368adf9c"
      },
      "source": [
        "numberOfClass = 30\n",
        "pictureWeightHeightSize = 227\n",
        "\n",
        "train_datagen = ImageDataGenerator(rescale=1./255)\n",
        "\n",
        "train_generator = train_datagen.flow_from_directory(\n",
        "        '/content/googlenet/MyDrive/GoogLeNet_Data/TrainData_Step7/',\n",
        "        target_size=(pictureWeightHeightSize, pictureWeightHeightSize),\n",
        "        batch_size=numberOfClass,\n",
        "        class_mode='categorical')\n",
        "\n",
        "test_datagen = ImageDataGenerator(rescale=1./255)\n",
        "\n",
        "test_generator = test_datagen.flow_from_directory(\n",
        "        '/content/googlenet/MyDrive/GoogLeNet_Data/TestData_Step7/',\n",
        "        target_size=(pictureWeightHeightSize, pictureWeightHeightSize),    \n",
        "        batch_size=numberOfClass,\n",
        "        class_mode='categorical')"
      ],
      "execution_count": 2,
      "outputs": [
        {
          "output_type": "stream",
          "text": [
            "Found 300 images belonging to 30 classes.\n",
            "Found 60 images belonging to 30 classes.\n"
          ],
          "name": "stdout"
        }
      ]
    },
    {
      "cell_type": "code",
      "metadata": {
        "id": "8536c856"
      },
      "source": [
        "input_layer = tf.keras.layers.Input(shape=(pictureWeightHeightSize, pictureWeightHeightSize, 3))"
      ],
      "execution_count": 3,
      "outputs": []
    },
    {
      "cell_type": "code",
      "metadata": {
        "id": "77191152"
      },
      "source": [
        "stem_layer = tf.keras.layers.Conv2D(32, (3, 3), strides=(1, 1), padding='SAME', activation='relu')(input_layer)\n",
        "# Max Pooling Here on Original Inception (3x3, stride=2)\n",
        "stem_layer = tf.keras.layers.Conv2D(64, (3, 3), strides=(1, 1), padding='SAME', activation='relu')(stem_layer)\n",
        "# Max Pooling Here on Original Inception (3x3, stride=2)"
      ],
      "execution_count": 4,
      "outputs": []
    },
    {
      "cell_type": "code",
      "metadata": {
        "id": "c29d9d72"
      },
      "source": [
        "inception_block3a_1x1 = tf.keras.layers.Conv2D(32, (1, 1), strides=(1, 1), padding='SAME', activation='relu')(stem_layer)\n",
        "\n",
        "inception_block3a_3x3 = tf.keras.layers.Conv2D(48, (1, 1), padding='SAME', activation='relu')(stem_layer)\n",
        "inception_block3a_3x3 = tf.keras.layers.Conv2D(64, (3, 3), padding='SAME', activation='relu')(inception_block3a_3x3)\n",
        "\n",
        "inception_block3a_5x5 = tf.keras.layers.Conv2D(8, (1, 1), padding='SAME', activation='relu')(stem_layer)\n",
        "inception_block3a_5x5 = tf.keras.layers.Conv2D(16, (5, 5), padding='SAME', activation='relu')(inception_block3a_5x5)\n",
        "\n",
        "inception_block3a_pool = tf.keras.layers.MaxPool2D((3, 3), strides=(1, 1), padding='SAME')(stem_layer)\n",
        "inception_block3a_pool = tf.keras.layers.Conv2D(16, (1, 1), padding='SAME', activation='relu')(inception_block3a_pool)\n",
        "\n",
        "inception_block3a = tf.keras.layers.Concatenate()([inception_block3a_1x1, inception_block3a_3x3,\n",
        "                                                   inception_block3a_5x5, inception_block3a_pool]) # 32x32x128"
      ],
      "execution_count": 5,
      "outputs": []
    },
    {
      "cell_type": "code",
      "metadata": {
        "id": "3746e709"
      },
      "source": [
        "# inception_block3b Here on Original Inception\n",
        "max_pool = tf.keras.layers.MaxPool2D((3, 3), strides=(2, 2), padding='SAME')(inception_block3a) # 16x16x128"
      ],
      "execution_count": 6,
      "outputs": []
    },
    {
      "cell_type": "code",
      "metadata": {
        "id": "5e256e02"
      },
      "source": [
        "inception_block4a_1x1 = tf.keras.layers.Conv2D(64, (1, 1), padding='SAME', activation='relu')(max_pool)\n",
        "\n",
        "inception_block4a_3x3 = tf.keras.layers.Conv2D(64, (1, 1), padding='SAME', activation='relu')(max_pool)\n",
        "inception_block4a_3x3 = tf.keras.layers.Conv2D(96, (3, 3), padding='SAME', activation='relu')(inception_block4a_3x3)\n",
        "\n",
        "inception_block4a_5x5 = tf.keras.layers.Conv2D(16, (1, 1), padding='SAME', activation='relu')(max_pool)\n",
        "inception_block4a_5x5 = tf.keras.layers.Conv2D(48, (5, 5), padding='SAME', activation='relu')(inception_block4a_5x5)\n",
        "\n",
        "inception_block4a_pool = tf.keras.layers.MaxPool2D((3, 3), strides=(1, 1), padding='SAME')(max_pool)\n",
        "inception_block4a_pool = tf.keras.layers.Conv2D(32, (1, 1), padding='SAME', activation='relu')(inception_block4a_pool)\n",
        "\n",
        "inception_block4a = tf.keras.layers.Concatenate()([inception_block4a_1x1, inception_block4a_3x3,\n",
        "                                                   inception_block4a_5x5, inception_block4a_pool]) # 16x16x240\n",
        "\n",
        "# inception_block4b Here on Original Inception\n",
        "# inception_block4c Here on Original Inception\n",
        "# inception_block4d Here on Original Inception\n",
        "# inception_block4e Here on Original Inception"
      ],
      "execution_count": 7,
      "outputs": []
    },
    {
      "cell_type": "code",
      "metadata": {
        "id": "eeccc456"
      },
      "source": [
        "max_pool = tf.keras.layers.MaxPool2D((3, 3), strides=(2, 2), padding='SAME')(inception_block4a) # 8x8x240"
      ],
      "execution_count": 8,
      "outputs": []
    },
    {
      "cell_type": "code",
      "metadata": {
        "id": "66fe0596"
      },
      "source": [
        "inception_block5a_1x1 = tf.keras.layers.Conv2D(128, (1, 1), padding='SAME', activation='relu')(max_pool)\n",
        "\n",
        "inception_block5a_3x3 = tf.keras.layers.Conv2D(80, (1, 1), padding='SAME', activation='relu')(max_pool)\n",
        "inception_block5a_3x3 = tf.keras.layers.Conv2D(120, (3, 3), padding='SAME', activation='relu')(inception_block5a_3x3)\n",
        "\n",
        "inception_block5a_5x5 = tf.keras.layers.Conv2D(16, (1, 1), padding='SAME', activation='relu')(max_pool)\n",
        "inception_block5a_5x5 = tf.keras.layers.Conv2D(64, (5, 5), padding='SAME', activation='relu')(inception_block5a_5x5)\n",
        "\n",
        "inception_block5a_pool = tf.keras.layers.MaxPool2D((3, 3), strides=(1, 1), padding='SAME')(max_pool)\n",
        "inception_block5a_pool = tf.keras.layers.Conv2D(64, (1, 1), padding='SAME', activation='relu')(inception_block5a_pool)\n",
        "\n",
        "inception_block5a = tf.keras.layers.Concatenate()([inception_block5a_1x1, inception_block5a_3x3,\n",
        "                                                   inception_block5a_5x5, inception_block5a_pool]) # 8x8x416\n",
        "# inception_block5b Here on Original Inception"
      ],
      "execution_count": 9,
      "outputs": []
    },
    {
      "cell_type": "code",
      "metadata": {
        "id": "3b26f10f"
      },
      "source": [
        "avg_pool = tf.keras.layers.GlobalAveragePooling2D()(inception_block5a) # 416\n",
        "dropout = tf.keras.layers.Dropout(0.4)(avg_pool)\n",
        "out_layer = tf.keras.layers.Dense(numberOfClass, activation='softmax')(dropout)"
      ],
      "execution_count": 10,
      "outputs": []
    },
    {
      "cell_type": "code",
      "metadata": {
        "colab": {
          "base_uri": "https://localhost:8080/"
        },
        "id": "1764FfRSmsYP",
        "outputId": "55ff0d29-99b5-46fb-83e3-f42a8791df38"
      },
      "source": [
        "model = tf.keras.models.Model(input_layer, out_layer)\n",
        "\n",
        "#model.compile(optimizer='adam', loss='sparse_categorical_crossentropy', metrics=['accuracy'])\n",
        "model.compile(optimizer='adam', loss='categorical_crossentropy', metrics=['accuracy'])\n",
        "model.summary()\n",
        "\n",
        "#model.fit(x_train, y_train, batch_size=128, epochs=10, validation_data=(x_test, y_test))"
      ],
      "execution_count": 11,
      "outputs": [
        {
          "output_type": "stream",
          "text": [
            "Model: \"model\"\n",
            "__________________________________________________________________________________________________\n",
            "Layer (type)                    Output Shape         Param #     Connected to                     \n",
            "==================================================================================================\n",
            "input_1 (InputLayer)            [(None, 227, 227, 3) 0                                            \n",
            "__________________________________________________________________________________________________\n",
            "conv2d (Conv2D)                 (None, 227, 227, 32) 896         input_1[0][0]                    \n",
            "__________________________________________________________________________________________________\n",
            "conv2d_1 (Conv2D)               (None, 227, 227, 64) 18496       conv2d[0][0]                     \n",
            "__________________________________________________________________________________________________\n",
            "conv2d_3 (Conv2D)               (None, 227, 227, 48) 3120        conv2d_1[0][0]                   \n",
            "__________________________________________________________________________________________________\n",
            "conv2d_5 (Conv2D)               (None, 227, 227, 8)  520         conv2d_1[0][0]                   \n",
            "__________________________________________________________________________________________________\n",
            "max_pooling2d (MaxPooling2D)    (None, 227, 227, 64) 0           conv2d_1[0][0]                   \n",
            "__________________________________________________________________________________________________\n",
            "conv2d_2 (Conv2D)               (None, 227, 227, 32) 2080        conv2d_1[0][0]                   \n",
            "__________________________________________________________________________________________________\n",
            "conv2d_4 (Conv2D)               (None, 227, 227, 64) 27712       conv2d_3[0][0]                   \n",
            "__________________________________________________________________________________________________\n",
            "conv2d_6 (Conv2D)               (None, 227, 227, 16) 3216        conv2d_5[0][0]                   \n",
            "__________________________________________________________________________________________________\n",
            "conv2d_7 (Conv2D)               (None, 227, 227, 16) 1040        max_pooling2d[0][0]              \n",
            "__________________________________________________________________________________________________\n",
            "concatenate (Concatenate)       (None, 227, 227, 128 0           conv2d_2[0][0]                   \n",
            "                                                                 conv2d_4[0][0]                   \n",
            "                                                                 conv2d_6[0][0]                   \n",
            "                                                                 conv2d_7[0][0]                   \n",
            "__________________________________________________________________________________________________\n",
            "max_pooling2d_1 (MaxPooling2D)  (None, 114, 114, 128 0           concatenate[0][0]                \n",
            "__________________________________________________________________________________________________\n",
            "conv2d_9 (Conv2D)               (None, 114, 114, 64) 8256        max_pooling2d_1[0][0]            \n",
            "__________________________________________________________________________________________________\n",
            "conv2d_11 (Conv2D)              (None, 114, 114, 16) 2064        max_pooling2d_1[0][0]            \n",
            "__________________________________________________________________________________________________\n",
            "max_pooling2d_2 (MaxPooling2D)  (None, 114, 114, 128 0           max_pooling2d_1[0][0]            \n",
            "__________________________________________________________________________________________________\n",
            "conv2d_8 (Conv2D)               (None, 114, 114, 64) 8256        max_pooling2d_1[0][0]            \n",
            "__________________________________________________________________________________________________\n",
            "conv2d_10 (Conv2D)              (None, 114, 114, 96) 55392       conv2d_9[0][0]                   \n",
            "__________________________________________________________________________________________________\n",
            "conv2d_12 (Conv2D)              (None, 114, 114, 48) 19248       conv2d_11[0][0]                  \n",
            "__________________________________________________________________________________________________\n",
            "conv2d_13 (Conv2D)              (None, 114, 114, 32) 4128        max_pooling2d_2[0][0]            \n",
            "__________________________________________________________________________________________________\n",
            "concatenate_1 (Concatenate)     (None, 114, 114, 240 0           conv2d_8[0][0]                   \n",
            "                                                                 conv2d_10[0][0]                  \n",
            "                                                                 conv2d_12[0][0]                  \n",
            "                                                                 conv2d_13[0][0]                  \n",
            "__________________________________________________________________________________________________\n",
            "max_pooling2d_3 (MaxPooling2D)  (None, 57, 57, 240)  0           concatenate_1[0][0]              \n",
            "__________________________________________________________________________________________________\n",
            "conv2d_15 (Conv2D)              (None, 57, 57, 80)   19280       max_pooling2d_3[0][0]            \n",
            "__________________________________________________________________________________________________\n",
            "conv2d_17 (Conv2D)              (None, 57, 57, 16)   3856        max_pooling2d_3[0][0]            \n",
            "__________________________________________________________________________________________________\n",
            "max_pooling2d_4 (MaxPooling2D)  (None, 57, 57, 240)  0           max_pooling2d_3[0][0]            \n",
            "__________________________________________________________________________________________________\n",
            "conv2d_14 (Conv2D)              (None, 57, 57, 128)  30848       max_pooling2d_3[0][0]            \n",
            "__________________________________________________________________________________________________\n",
            "conv2d_16 (Conv2D)              (None, 57, 57, 120)  86520       conv2d_15[0][0]                  \n",
            "__________________________________________________________________________________________________\n",
            "conv2d_18 (Conv2D)              (None, 57, 57, 64)   25664       conv2d_17[0][0]                  \n",
            "__________________________________________________________________________________________________\n",
            "conv2d_19 (Conv2D)              (None, 57, 57, 64)   15424       max_pooling2d_4[0][0]            \n",
            "__________________________________________________________________________________________________\n",
            "concatenate_2 (Concatenate)     (None, 57, 57, 376)  0           conv2d_14[0][0]                  \n",
            "                                                                 conv2d_16[0][0]                  \n",
            "                                                                 conv2d_18[0][0]                  \n",
            "                                                                 conv2d_19[0][0]                  \n",
            "__________________________________________________________________________________________________\n",
            "global_average_pooling2d (Globa (None, 376)          0           concatenate_2[0][0]              \n",
            "__________________________________________________________________________________________________\n",
            "dropout (Dropout)               (None, 376)          0           global_average_pooling2d[0][0]   \n",
            "__________________________________________________________________________________________________\n",
            "dense (Dense)                   (None, 30)           11310       dropout[0][0]                    \n",
            "==================================================================================================\n",
            "Total params: 347,326\n",
            "Trainable params: 347,326\n",
            "Non-trainable params: 0\n",
            "__________________________________________________________________________________________________\n"
          ],
          "name": "stdout"
        }
      ]
    },
    {
      "cell_type": "code",
      "metadata": {
        "colab": {
          "base_uri": "https://localhost:8080/"
        },
        "id": "b1D7qJrqnK3I",
        "outputId": "a6200792-3bb6-4f81-ef27-043411a1b564"
      },
      "source": [
        "model.fit(train_generator, epochs=50, validation_data=test_generator)"
      ],
      "execution_count": 12,
      "outputs": [
        {
          "output_type": "stream",
          "text": [
            "Epoch 1/50\n",
            "10/10 [==============================] - 346s 33s/step - loss: 3.4068 - accuracy: 0.0200 - val_loss: 3.4009 - val_accuracy: 0.0333\n",
            "Epoch 2/50\n",
            "10/10 [==============================] - 300s 30s/step - loss: 3.3935 - accuracy: 0.0567 - val_loss: 3.3988 - val_accuracy: 0.0667\n",
            "Epoch 3/50\n",
            "10/10 [==============================] - 311s 31s/step - loss: 3.3686 - accuracy: 0.0533 - val_loss: 3.3883 - val_accuracy: 0.0333\n",
            "Epoch 4/50\n",
            "10/10 [==============================] - 303s 30s/step - loss: 3.2409 - accuracy: 0.0767 - val_loss: 3.4943 - val_accuracy: 0.0333\n",
            "Epoch 5/50\n",
            "10/10 [==============================] - 304s 30s/step - loss: 3.1092 - accuracy: 0.0700 - val_loss: 3.4209 - val_accuracy: 0.0333\n",
            "Epoch 6/50\n",
            "10/10 [==============================] - 300s 30s/step - loss: 2.8848 - accuracy: 0.1200 - val_loss: 3.4962 - val_accuracy: 0.0667\n",
            "Epoch 7/50\n",
            "10/10 [==============================] - 300s 30s/step - loss: 2.5381 - accuracy: 0.2167 - val_loss: 3.8943 - val_accuracy: 0.0333\n",
            "Epoch 8/50\n",
            "10/10 [==============================] - 299s 30s/step - loss: 2.3924 - accuracy: 0.2600 - val_loss: 3.8496 - val_accuracy: 0.1000\n",
            "Epoch 9/50\n",
            "10/10 [==============================] - 298s 30s/step - loss: 2.1359 - accuracy: 0.2833 - val_loss: 4.0163 - val_accuracy: 0.0500\n",
            "Epoch 10/50\n",
            "10/10 [==============================] - 301s 30s/step - loss: 1.8657 - accuracy: 0.3667 - val_loss: 4.7050 - val_accuracy: 0.1333\n",
            "Epoch 11/50\n",
            "10/10 [==============================] - 302s 30s/step - loss: 1.7759 - accuracy: 0.4167 - val_loss: 5.0653 - val_accuracy: 0.0333\n",
            "Epoch 12/50\n",
            "10/10 [==============================] - 305s 31s/step - loss: 1.5751 - accuracy: 0.4733 - val_loss: 4.9534 - val_accuracy: 0.1333\n",
            "Epoch 13/50\n",
            "10/10 [==============================] - 304s 30s/step - loss: 1.4244 - accuracy: 0.4833 - val_loss: 5.9413 - val_accuracy: 0.1000\n",
            "Epoch 14/50\n",
            "10/10 [==============================] - 305s 31s/step - loss: 1.2696 - accuracy: 0.5800 - val_loss: 6.4354 - val_accuracy: 0.0333\n",
            "Epoch 15/50\n",
            "10/10 [==============================] - 307s 31s/step - loss: 1.1895 - accuracy: 0.6100 - val_loss: 6.3639 - val_accuracy: 0.0500\n",
            "Epoch 16/50\n",
            "10/10 [==============================] - 307s 31s/step - loss: 0.9605 - accuracy: 0.6500 - val_loss: 7.6630 - val_accuracy: 0.0333\n",
            "Epoch 17/50\n",
            "10/10 [==============================] - 308s 31s/step - loss: 0.9691 - accuracy: 0.6667 - val_loss: 8.1499 - val_accuracy: 0.0667\n",
            "Epoch 18/50\n",
            "10/10 [==============================] - 308s 31s/step - loss: 0.6524 - accuracy: 0.7567 - val_loss: 9.1589 - val_accuracy: 0.0333\n",
            "Epoch 19/50\n",
            "10/10 [==============================] - 309s 31s/step - loss: 0.7073 - accuracy: 0.7467 - val_loss: 9.2820 - val_accuracy: 0.1000\n",
            "Epoch 20/50\n",
            "10/10 [==============================] - 308s 31s/step - loss: 0.6527 - accuracy: 0.7567 - val_loss: 10.0763 - val_accuracy: 0.0667\n",
            "Epoch 21/50\n",
            "10/10 [==============================] - 309s 31s/step - loss: 0.5540 - accuracy: 0.8167 - val_loss: 10.7170 - val_accuracy: 0.0333\n",
            "Epoch 22/50\n",
            "10/10 [==============================] - 309s 31s/step - loss: 0.4539 - accuracy: 0.8400 - val_loss: 11.6070 - val_accuracy: 0.0667\n",
            "Epoch 23/50\n",
            "10/10 [==============================] - 308s 31s/step - loss: 0.3823 - accuracy: 0.8567 - val_loss: 11.0460 - val_accuracy: 0.1000\n",
            "Epoch 24/50\n",
            "10/10 [==============================] - 308s 31s/step - loss: 0.2678 - accuracy: 0.9100 - val_loss: 12.1962 - val_accuracy: 0.0667\n",
            "Epoch 25/50\n",
            "10/10 [==============================] - 309s 31s/step - loss: 0.2318 - accuracy: 0.9233 - val_loss: 13.0462 - val_accuracy: 0.0667\n",
            "Epoch 26/50\n",
            "10/10 [==============================] - 309s 31s/step - loss: 0.2994 - accuracy: 0.8967 - val_loss: 13.7115 - val_accuracy: 0.0500\n",
            "Epoch 27/50\n",
            "10/10 [==============================] - 309s 31s/step - loss: 0.1795 - accuracy: 0.9467 - val_loss: 13.4279 - val_accuracy: 0.0667\n",
            "Epoch 28/50\n",
            "10/10 [==============================] - 310s 31s/step - loss: 0.1968 - accuracy: 0.9200 - val_loss: 15.6031 - val_accuracy: 0.0333\n",
            "Epoch 29/50\n",
            "10/10 [==============================] - 310s 31s/step - loss: 0.1992 - accuracy: 0.9267 - val_loss: 15.0337 - val_accuracy: 0.0667\n",
            "Epoch 30/50\n",
            "10/10 [==============================] - 310s 31s/step - loss: 0.2295 - accuracy: 0.9267 - val_loss: 14.5478 - val_accuracy: 0.0667\n",
            "Epoch 31/50\n",
            "10/10 [==============================] - 308s 31s/step - loss: 0.2619 - accuracy: 0.9267 - val_loss: 14.8659 - val_accuracy: 0.0500\n",
            "Epoch 32/50\n",
            "10/10 [==============================] - 308s 31s/step - loss: 0.2466 - accuracy: 0.9200 - val_loss: 15.1678 - val_accuracy: 0.0500\n",
            "Epoch 33/50\n",
            "10/10 [==============================] - 309s 31s/step - loss: 0.1839 - accuracy: 0.9333 - val_loss: 15.1982 - val_accuracy: 0.0333\n",
            "Epoch 34/50\n",
            "10/10 [==============================] - 310s 31s/step - loss: 0.1455 - accuracy: 0.9400 - val_loss: 14.7621 - val_accuracy: 0.0667\n",
            "Epoch 35/50\n",
            "10/10 [==============================] - 310s 31s/step - loss: 0.1590 - accuracy: 0.9533 - val_loss: 16.8529 - val_accuracy: 0.0000e+00\n",
            "Epoch 36/50\n",
            "10/10 [==============================] - 309s 31s/step - loss: 0.1389 - accuracy: 0.9500 - val_loss: 16.1915 - val_accuracy: 0.0667\n",
            "Epoch 37/50\n",
            "10/10 [==============================] - 309s 31s/step - loss: 0.1589 - accuracy: 0.9433 - val_loss: 17.1966 - val_accuracy: 0.0333\n",
            "Epoch 38/50\n",
            "10/10 [==============================] - 309s 31s/step - loss: 0.1151 - accuracy: 0.9633 - val_loss: 18.1633 - val_accuracy: 0.0667\n",
            "Epoch 39/50\n",
            "10/10 [==============================] - 309s 31s/step - loss: 0.1352 - accuracy: 0.9600 - val_loss: 18.0375 - val_accuracy: 0.0333\n",
            "Epoch 40/50\n",
            "10/10 [==============================] - 309s 31s/step - loss: 0.1159 - accuracy: 0.9567 - val_loss: 18.6146 - val_accuracy: 0.0333\n",
            "Epoch 41/50\n",
            "10/10 [==============================] - 309s 31s/step - loss: 0.1450 - accuracy: 0.9500 - val_loss: 18.2901 - val_accuracy: 0.1000\n",
            "Epoch 42/50\n",
            "10/10 [==============================] - 309s 31s/step - loss: 0.1487 - accuracy: 0.9433 - val_loss: 17.8905 - val_accuracy: 0.1000\n",
            "Epoch 43/50\n",
            "10/10 [==============================] - 308s 31s/step - loss: 0.1654 - accuracy: 0.9500 - val_loss: 18.8182 - val_accuracy: 0.0333\n",
            "Epoch 44/50\n",
            "10/10 [==============================] - 309s 31s/step - loss: 0.0795 - accuracy: 0.9800 - val_loss: 17.1893 - val_accuracy: 0.0667\n",
            "Epoch 45/50\n",
            "10/10 [==============================] - 308s 31s/step - loss: 0.0378 - accuracy: 0.9900 - val_loss: 17.8018 - val_accuracy: 0.0500\n",
            "Epoch 46/50\n",
            "10/10 [==============================] - 309s 31s/step - loss: 0.0828 - accuracy: 0.9667 - val_loss: 17.5914 - val_accuracy: 0.1000\n",
            "Epoch 47/50\n",
            "10/10 [==============================] - 310s 31s/step - loss: 0.1218 - accuracy: 0.9533 - val_loss: 19.0701 - val_accuracy: 0.0667\n",
            "Epoch 48/50\n",
            "10/10 [==============================] - 309s 31s/step - loss: 0.1158 - accuracy: 0.9600 - val_loss: 21.3811 - val_accuracy: 0.0333\n",
            "Epoch 49/50\n",
            "10/10 [==============================] - 309s 31s/step - loss: 0.4112 - accuracy: 0.8600 - val_loss: 15.9662 - val_accuracy: 0.0667\n",
            "Epoch 50/50\n",
            "10/10 [==============================] - 307s 31s/step - loss: 0.1908 - accuracy: 0.9367 - val_loss: 14.8801 - val_accuracy: 0.0333\n"
          ],
          "name": "stdout"
        },
        {
          "output_type": "execute_result",
          "data": {
            "text/plain": [
              "<tensorflow.python.keras.callbacks.History at 0x7f5c71664dd0>"
            ]
          },
          "metadata": {
            "tags": []
          },
          "execution_count": 12
        }
      ]
    },
    {
      "cell_type": "code",
      "metadata": {
        "colab": {
          "base_uri": "https://localhost:8080/"
        },
        "id": "dwkxcMnDqXEB",
        "outputId": "84aedd6c-4929-4501-c43e-4e3bb9e728eb"
      },
      "source": [
        "print(\"-- Evaluate --\")\n",
        "scores = model.evaluate(test_generator)\n",
        "print(\"%s: %.2f%%\" %(model.metrics_names[1], scores[1]*100))"
      ],
      "execution_count": 13,
      "outputs": [
        {
          "output_type": "stream",
          "text": [
            "-- Evaluate --\n",
            "2/2 [==============================] - 10s 5s/step - loss: 14.8801 - accuracy: 0.0333\n",
            "accuracy: 3.33%\n"
          ],
          "name": "stdout"
        }
      ]
    },
    {
      "cell_type": "code",
      "metadata": {
        "colab": {
          "base_uri": "https://localhost:8080/"
        },
        "id": "KQnF0I-fqcuC",
        "outputId": "9410387d-1f58-44a4-9653-250aab85bfc4"
      },
      "source": [
        "print(\"-- Predict --\")\n",
        "output = model.predict(test_generator)\n",
        "np.set_printoptions(formatter={'float': lambda x: \"{0:0.3f}\".format(x)})\n",
        "print(test_generator.class_indices)\n",
        "print(output)"
      ],
      "execution_count": 14,
      "outputs": [
        {
          "output_type": "stream",
          "text": [
            "-- Predict --\n",
            "{'0': 0, '1': 1, '10': 2, '11': 3, '12': 4, '13': 5, '14': 6, '15': 7, '16': 8, '17': 9, '18': 10, '19': 11, '2': 12, '20': 13, '21': 14, '22': 15, '23': 16, '24': 17, '25': 18, '26': 19, '27': 20, '28': 21, '29': 22, '3': 23, '4': 24, '5': 25, '6': 26, '7': 27, '8': 28, '9': 29}\n",
            "[[0.000 0.000 0.000 ... 0.000 0.000 0.000]\n",
            " [0.001 0.030 0.020 ... 0.078 0.000 0.000]\n",
            " [0.000 0.000 0.000 ... 0.000 0.000 0.000]\n",
            " ...\n",
            " [0.000 0.000 0.000 ... 0.000 0.012 0.116]\n",
            " [0.000 0.000 0.000 ... 0.000 0.000 0.997]\n",
            " [0.000 0.017 0.000 ... 0.126 0.000 0.000]]\n"
          ],
          "name": "stdout"
        }
      ]
    },
    {
      "cell_type": "code",
      "metadata": {
        "colab": {
          "base_uri": "https://localhost:8080/"
        },
        "id": "LAXeoOipky1l",
        "outputId": "a053db20-c6b2-47b4-c849-3b25f05357cb"
      },
      "source": [
        "for i in range(0, numberOfClass):\n",
        "  print(\"Result:\", i+1)\n",
        "  print(output[i])\n",
        "  print(\"\\n\")"
      ],
      "execution_count": 15,
      "outputs": [
        {
          "output_type": "stream",
          "text": [
            "Result: 1\n",
            "[0.000 0.000 0.000 0.000 0.000 0.000 0.000 0.000 0.000 0.000 0.000 0.000\n",
            " 0.000 0.000 0.000 0.000 0.000 0.000 0.000 0.000 0.000 0.999 0.000 0.000\n",
            " 0.000 0.000 0.000 0.000 0.000 0.000]\n",
            "\n",
            "\n",
            "Result: 2\n",
            "[0.001 0.030 0.020 0.000 0.010 0.000 0.000 0.202 0.000 0.000 0.000 0.000\n",
            " 0.000 0.000 0.000 0.000 0.000 0.000 0.003 0.000 0.001 0.005 0.000 0.650\n",
            " 0.000 0.000 0.000 0.078 0.000 0.000]\n",
            "\n",
            "\n",
            "Result: 3\n",
            "[0.000 0.000 0.000 0.000 0.000 0.000 0.000 0.000 0.922 0.000 0.000 0.010\n",
            " 0.000 0.010 0.000 0.000 0.000 0.000 0.000 0.000 0.000 0.000 0.000 0.000\n",
            " 0.000 0.058 0.000 0.000 0.000 0.000]\n",
            "\n",
            "\n",
            "Result: 4\n",
            "[0.001 0.002 0.002 0.753 0.000 0.022 0.000 0.000 0.000 0.043 0.001 0.000\n",
            " 0.010 0.165 0.000 0.000 0.000 0.000 0.000 0.000 0.000 0.000 0.000 0.001\n",
            " 0.000 0.000 0.000 0.001 0.000 0.000]\n",
            "\n",
            "\n",
            "Result: 5\n",
            "[0.000 0.000 0.000 0.000 0.000 0.000 0.001 0.000 0.997 0.001 0.000 0.000\n",
            " 0.000 0.000 0.000 0.000 0.000 0.000 0.000 0.000 0.000 0.001 0.000 0.000\n",
            " 0.000 0.000 0.000 0.000 0.000 0.000]\n",
            "\n",
            "\n",
            "Result: 6\n",
            "[0.000 0.000 0.000 0.000 0.000 0.000 0.000 0.000 0.000 0.000 0.000 0.000\n",
            " 0.000 0.000 0.000 0.000 0.000 0.992 0.000 0.000 0.000 0.000 0.000 0.000\n",
            " 0.000 0.000 0.000 0.000 0.007 0.000]\n",
            "\n",
            "\n",
            "Result: 7\n",
            "[0.000 0.000 0.005 0.002 0.000 0.000 0.000 0.000 0.001 0.959 0.006 0.000\n",
            " 0.000 0.003 0.001 0.000 0.000 0.000 0.000 0.017 0.000 0.000 0.005 0.000\n",
            " 0.000 0.000 0.000 0.000 0.000 0.001]\n",
            "\n",
            "\n",
            "Result: 8\n",
            "[0.000 0.000 0.000 0.000 0.000 0.000 0.000 0.000 0.770 0.000 0.000 0.000\n",
            " 0.000 0.000 0.225 0.000 0.000 0.000 0.000 0.000 0.000 0.000 0.000 0.000\n",
            " 0.000 0.000 0.000 0.000 0.000 0.004]\n",
            "\n",
            "\n",
            "Result: 9\n",
            "[0.000 0.000 0.000 0.000 0.000 0.000 0.000 0.000 0.000 0.000 0.000 0.000\n",
            " 0.000 0.000 0.000 0.000 0.000 0.000 0.999 0.000 0.000 0.000 0.000 0.000\n",
            " 0.000 0.000 0.000 0.000 0.000 0.000]\n",
            "\n",
            "\n",
            "Result: 10\n",
            "[0.000 0.000 0.000 0.000 0.000 0.000 0.000 0.000 0.951 0.000 0.000 0.009\n",
            " 0.000 0.009 0.000 0.000 0.000 0.000 0.000 0.000 0.000 0.001 0.000 0.000\n",
            " 0.000 0.030 0.000 0.000 0.000 0.000]\n",
            "\n",
            "\n",
            "Result: 11\n",
            "[0.000 0.910 0.006 0.000 0.000 0.000 0.000 0.006 0.000 0.000 0.000 0.000\n",
            " 0.000 0.000 0.000 0.000 0.000 0.001 0.030 0.000 0.000 0.003 0.000 0.001\n",
            " 0.000 0.000 0.000 0.042 0.000 0.001]\n",
            "\n",
            "\n",
            "Result: 12\n",
            "[0.000 0.002 0.019 0.000 0.001 0.000 0.000 0.004 0.000 0.000 0.000 0.000\n",
            " 0.001 0.000 0.000 0.000 0.000 0.699 0.000 0.000 0.000 0.001 0.000 0.231\n",
            " 0.000 0.000 0.000 0.042 0.000 0.000]\n",
            "\n",
            "\n",
            "Result: 13\n",
            "[0.000 0.018 0.000 0.000 0.000 0.000 0.000 0.000 0.104 0.000 0.000 0.001\n",
            " 0.003 0.000 0.000 0.000 0.000 0.001 0.000 0.000 0.000 0.726 0.000 0.000\n",
            " 0.000 0.000 0.000 0.148 0.000 0.000]\n",
            "\n",
            "\n",
            "Result: 14\n",
            "[0.000 0.000 0.000 0.000 0.000 0.000 0.000 0.000 0.000 0.000 0.000 0.000\n",
            " 0.000 0.000 0.000 0.000 0.000 0.000 0.999 0.000 0.000 0.000 0.000 0.000\n",
            " 0.000 0.000 0.000 0.000 0.000 0.000]\n",
            "\n",
            "\n",
            "Result: 15\n",
            "[0.001 0.029 0.022 0.000 0.012 0.000 0.000 0.190 0.000 0.000 0.000 0.000\n",
            " 0.000 0.000 0.000 0.000 0.000 0.000 0.003 0.000 0.001 0.005 0.000 0.660\n",
            " 0.000 0.000 0.000 0.077 0.000 0.000]\n",
            "\n",
            "\n",
            "Result: 16\n",
            "[0.000 0.021 0.000 0.000 0.000 0.557 0.000 0.000 0.000 0.000 0.000 0.000\n",
            " 0.000 0.000 0.000 0.000 0.000 0.000 0.000 0.000 0.000 0.007 0.000 0.000\n",
            " 0.000 0.000 0.000 0.414 0.000 0.000]\n",
            "\n",
            "\n",
            "Result: 17\n",
            "[0.000 0.000 0.000 0.000 0.002 0.000 0.000 0.000 0.000 0.000 0.112 0.000\n",
            " 0.000 0.000 0.024 0.000 0.000 0.854 0.000 0.000 0.000 0.000 0.000 0.002\n",
            " 0.000 0.000 0.004 0.000 0.001 0.000]\n",
            "\n",
            "\n",
            "Result: 18\n",
            "[0.000 0.000 0.001 0.000 0.010 0.000 0.000 0.000 0.000 0.000 0.002 0.000\n",
            " 0.000 0.000 0.000 0.000 0.000 0.000 0.000 0.000 0.000 0.008 0.000 0.911\n",
            " 0.000 0.000 0.000 0.068 0.000 0.000]\n",
            "\n",
            "\n",
            "Result: 19\n",
            "[0.000 0.000 0.000 0.000 0.000 0.000 0.000 0.000 0.000 0.000 0.000 0.000\n",
            " 0.000 0.000 0.000 0.000 0.000 0.000 0.000 0.000 0.000 0.000 0.000 0.000\n",
            " 0.000 1.000 0.000 0.000 0.000 0.000]\n",
            "\n",
            "\n",
            "Result: 20\n",
            "[0.000 0.000 0.000 0.000 0.000 0.000 0.000 0.000 0.000 0.000 0.004 0.000\n",
            " 0.000 0.000 0.883 0.000 0.000 0.070 0.000 0.000 0.000 0.002 0.000 0.000\n",
            " 0.000 0.000 0.000 0.000 0.041 0.001]\n",
            "\n",
            "\n",
            "Result: 21\n",
            "[0.000 0.000 0.018 0.005 0.000 0.000 0.000 0.000 0.000 0.000 0.794 0.000\n",
            " 0.036 0.000 0.116 0.000 0.000 0.022 0.000 0.000 0.000 0.000 0.000 0.007\n",
            " 0.000 0.000 0.001 0.000 0.000 0.000]\n",
            "\n",
            "\n",
            "Result: 22\n",
            "[0.000 0.000 0.003 0.002 0.003 0.000 0.000 0.000 0.000 0.089 0.888 0.000\n",
            " 0.000 0.001 0.008 0.000 0.000 0.001 0.000 0.000 0.000 0.001 0.000 0.000\n",
            " 0.000 0.000 0.000 0.000 0.001 0.000]\n",
            "\n",
            "\n",
            "Result: 23\n",
            "[0.000 0.000 0.000 0.000 0.000 0.369 0.001 0.000 0.000 0.000 0.000 0.000\n",
            " 0.000 0.012 0.000 0.000 0.000 0.000 0.000 0.000 0.000 0.000 0.000 0.000\n",
            " 0.000 0.617 0.000 0.000 0.000 0.000]\n",
            "\n",
            "\n",
            "Result: 24\n",
            "[0.000 0.000 0.000 0.000 0.000 0.000 0.000 0.000 0.000 0.000 0.004 0.000\n",
            " 0.000 0.000 0.000 0.000 0.000 0.919 0.000 0.000 0.000 0.001 0.000 0.029\n",
            " 0.000 0.000 0.000 0.046 0.000 0.000]\n",
            "\n",
            "\n",
            "Result: 25\n",
            "[0.000 0.000 0.000 0.000 0.000 0.000 0.000 0.000 0.000 0.000 0.000 0.000\n",
            " 0.000 0.000 0.002 0.000 0.000 0.000 0.000 0.001 0.000 0.000 0.000 0.000\n",
            " 0.000 0.000 0.000 0.000 0.000 0.998]\n",
            "\n",
            "\n",
            "Result: 26\n",
            "[0.000 0.000 0.000 0.000 0.000 0.000 0.005 0.000 0.236 0.088 0.000 0.000\n",
            " 0.000 0.001 0.000 0.071 0.000 0.000 0.000 0.596 0.000 0.000 0.000 0.000\n",
            " 0.000 0.000 0.000 0.000 0.000 0.002]\n",
            "\n",
            "\n",
            "Result: 27\n",
            "[0.000 0.000 0.000 0.000 0.000 0.000 0.001 0.000 0.997 0.001 0.000 0.000\n",
            " 0.000 0.000 0.000 0.000 0.000 0.000 0.000 0.000 0.000 0.001 0.000 0.000\n",
            " 0.000 0.000 0.000 0.000 0.000 0.000]\n",
            "\n",
            "\n",
            "Result: 28\n",
            "[0.000 0.000 0.000 0.000 0.000 0.000 0.000 0.000 0.000 0.000 0.004 0.000\n",
            " 0.000 0.000 0.000 0.000 0.000 0.930 0.000 0.000 0.000 0.001 0.000 0.024\n",
            " 0.000 0.000 0.000 0.041 0.000 0.000]\n",
            "\n",
            "\n",
            "Result: 29\n",
            "[0.000 0.000 0.000 0.000 0.000 0.000 0.000 0.000 0.000 0.000 0.000 0.000\n",
            " 0.000 0.000 0.000 0.000 0.540 0.000 0.449 0.010 0.000 0.000 0.000 0.000\n",
            " 0.000 0.000 0.000 0.000 0.000 0.000]\n",
            "\n",
            "\n",
            "Result: 30\n",
            "[0.000 0.000 0.000 0.000 0.000 0.000 0.000 0.000 0.000 0.000 0.000 0.000\n",
            " 0.000 0.000 0.000 0.000 0.000 0.000 0.000 0.000 0.000 0.000 0.000 0.000\n",
            " 0.000 1.000 0.000 0.000 0.000 0.000]\n",
            "\n",
            "\n"
          ],
          "name": "stdout"
        }
      ]
    }
  ]
}