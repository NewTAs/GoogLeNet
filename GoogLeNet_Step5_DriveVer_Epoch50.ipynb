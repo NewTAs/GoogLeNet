{
  "nbformat": 4,
  "nbformat_minor": 0,
  "metadata": {
    "colab": {
      "name": "GoogLeNet_Step5_DriveVer_Epoch50.ipynb",
      "provenance": [],
      "collapsed_sections": [],
      "include_colab_link": true
    },
    "kernelspec": {
      "name": "python3",
      "display_name": "Python 3"
    },
    "language_info": {
      "name": "python"
    }
  },
  "cells": [
    {
      "cell_type": "markdown",
      "metadata": {
        "id": "view-in-github",
        "colab_type": "text"
      },
      "source": [
        "<a href=\"https://colab.research.google.com/github/NewTAs/GoogLeNet/blob/main/GoogLeNet_Step5_DriveVer_Epoch50.ipynb\" target=\"_parent\"><img src=\"https://colab.research.google.com/assets/colab-badge.svg\" alt=\"Open In Colab\"/></a>"
      ]
    },
    {
      "cell_type": "code",
      "metadata": {
        "colab": {
          "base_uri": "https://localhost:8080/"
        },
        "id": "E9vBGLsdgq24",
        "outputId": "c4b6b804-4481-4da6-f841-1d576cadb18a"
      },
      "source": [
        "# Step1 Code\n",
        "import os\n",
        "import re\n",
        "import glob\n",
        "import cv2\n",
        "import numpy as np\n",
        "from sklearn.model_selection import train_test_split\n",
        "\n",
        "import tensorflow as tf\n",
        "\n",
        "from google.colab import drive\n",
        "drive.mount('googlenet')\n",
        "\n",
        "# New Cord\n",
        "import numpy as np\n",
        "from keras.models import Sequential\n",
        "from keras.layers import Dense\n",
        "from keras.layers import Flatten\n",
        "from keras.layers.convolutional import Conv2D\n",
        "from keras.layers.convolutional import MaxPooling2D\n",
        "from keras.preprocessing.image import ImageDataGenerator\n",
        "\n",
        "#np.random.seed(4) # 랜덤시드 고정시키기"
      ],
      "execution_count": 1,
      "outputs": [
        {
          "output_type": "stream",
          "text": [
            "Mounted at googlenet\n"
          ],
          "name": "stdout"
        }
      ]
    },
    {
      "cell_type": "code",
      "metadata": {
        "colab": {
          "base_uri": "https://localhost:8080/"
        },
        "id": "Vl2fl4Ishlg_",
        "outputId": "7725765a-09d7-4f52-ca0f-2f37720fc8b7"
      },
      "source": [
        "pictureWeightHeightSize = 227\n",
        "\n",
        "train_datagen = ImageDataGenerator(rescale=1./255)\n",
        "\n",
        "train_generator = train_datagen.flow_from_directory(\n",
        "        '/content/googlenet/MyDrive/GoogLeNet_Data/TrainData_Step5/',\n",
        "        target_size=(pictureWeightHeightSize, pictureWeightHeightSize),\n",
        "        batch_size=10,\n",
        "        class_mode='categorical')\n",
        "\n",
        "test_datagen = ImageDataGenerator(rescale=1./255)\n",
        "\n",
        "test_generator = test_datagen.flow_from_directory(\n",
        "        '/content/googlenet/MyDrive/GoogLeNet_Data/TestData_Step5/',\n",
        "        target_size=(pictureWeightHeightSize, pictureWeightHeightSize),    \n",
        "        batch_size=10,\n",
        "        class_mode='categorical')"
      ],
      "execution_count": 2,
      "outputs": [
        {
          "output_type": "stream",
          "text": [
            "Found 300 images belonging to 10 classes.\n",
            "Found 20 images belonging to 10 classes.\n"
          ],
          "name": "stdout"
        }
      ]
    },
    {
      "cell_type": "code",
      "metadata": {
        "id": "8536c856"
      },
      "source": [
        "input_layer = tf.keras.layers.Input(shape=(pictureWeightHeightSize, pictureWeightHeightSize, 3))"
      ],
      "execution_count": 3,
      "outputs": []
    },
    {
      "cell_type": "code",
      "metadata": {
        "id": "77191152"
      },
      "source": [
        "stem_layer = tf.keras.layers.Conv2D(32, (3, 3), strides=(1, 1), padding='SAME', activation='relu')(input_layer)\n",
        "# Max Pooling Here on Original Inception (3x3, stride=2)\n",
        "stem_layer = tf.keras.layers.Conv2D(64, (3, 3), strides=(1, 1), padding='SAME', activation='relu')(stem_layer)\n",
        "# Max Pooling Here on Original Inception (3x3, stride=2)"
      ],
      "execution_count": 4,
      "outputs": []
    },
    {
      "cell_type": "code",
      "metadata": {
        "id": "c29d9d72"
      },
      "source": [
        "inception_block3a_1x1 = tf.keras.layers.Conv2D(32, (1, 1), strides=(1, 1), padding='SAME', activation='relu')(stem_layer)\n",
        "\n",
        "inception_block3a_3x3 = tf.keras.layers.Conv2D(48, (1, 1), padding='SAME', activation='relu')(stem_layer)\n",
        "inception_block3a_3x3 = tf.keras.layers.Conv2D(64, (3, 3), padding='SAME', activation='relu')(inception_block3a_3x3)\n",
        "\n",
        "inception_block3a_5x5 = tf.keras.layers.Conv2D(8, (1, 1), padding='SAME', activation='relu')(stem_layer)\n",
        "inception_block3a_5x5 = tf.keras.layers.Conv2D(16, (5, 5), padding='SAME', activation='relu')(inception_block3a_5x5)\n",
        "\n",
        "inception_block3a_pool = tf.keras.layers.MaxPool2D((3, 3), strides=(1, 1), padding='SAME')(stem_layer)\n",
        "inception_block3a_pool = tf.keras.layers.Conv2D(16, (1, 1), padding='SAME', activation='relu')(inception_block3a_pool)\n",
        "\n",
        "inception_block3a = tf.keras.layers.Concatenate()([inception_block3a_1x1, inception_block3a_3x3,\n",
        "                                                   inception_block3a_5x5, inception_block3a_pool]) # 32x32x128"
      ],
      "execution_count": 5,
      "outputs": []
    },
    {
      "cell_type": "code",
      "metadata": {
        "id": "3746e709"
      },
      "source": [
        "# inception_block3b Here on Original Inception\n",
        "max_pool = tf.keras.layers.MaxPool2D((3, 3), strides=(2, 2), padding='SAME')(inception_block3a) # 16x16x128"
      ],
      "execution_count": 6,
      "outputs": []
    },
    {
      "cell_type": "code",
      "metadata": {
        "id": "5e256e02"
      },
      "source": [
        "inception_block4a_1x1 = tf.keras.layers.Conv2D(64, (1, 1), padding='SAME', activation='relu')(max_pool)\n",
        "\n",
        "inception_block4a_3x3 = tf.keras.layers.Conv2D(64, (1, 1), padding='SAME', activation='relu')(max_pool)\n",
        "inception_block4a_3x3 = tf.keras.layers.Conv2D(96, (3, 3), padding='SAME', activation='relu')(inception_block4a_3x3)\n",
        "\n",
        "inception_block4a_5x5 = tf.keras.layers.Conv2D(16, (1, 1), padding='SAME', activation='relu')(max_pool)\n",
        "inception_block4a_5x5 = tf.keras.layers.Conv2D(48, (5, 5), padding='SAME', activation='relu')(inception_block4a_5x5)\n",
        "\n",
        "inception_block4a_pool = tf.keras.layers.MaxPool2D((3, 3), strides=(1, 1), padding='SAME')(max_pool)\n",
        "inception_block4a_pool = tf.keras.layers.Conv2D(32, (1, 1), padding='SAME', activation='relu')(inception_block4a_pool)\n",
        "\n",
        "inception_block4a = tf.keras.layers.Concatenate()([inception_block4a_1x1, inception_block4a_3x3,\n",
        "                                                   inception_block4a_5x5, inception_block4a_pool]) # 16x16x240\n",
        "\n",
        "# inception_block4b Here on Original Inception\n",
        "# inception_block4c Here on Original Inception\n",
        "# inception_block4d Here on Original Inception\n",
        "# inception_block4e Here on Original Inception"
      ],
      "execution_count": 7,
      "outputs": []
    },
    {
      "cell_type": "code",
      "metadata": {
        "id": "eeccc456"
      },
      "source": [
        "max_pool = tf.keras.layers.MaxPool2D((3, 3), strides=(2, 2), padding='SAME')(inception_block4a) # 8x8x240"
      ],
      "execution_count": 8,
      "outputs": []
    },
    {
      "cell_type": "code",
      "metadata": {
        "id": "66fe0596"
      },
      "source": [
        "inception_block5a_1x1 = tf.keras.layers.Conv2D(128, (1, 1), padding='SAME', activation='relu')(max_pool)\n",
        "\n",
        "inception_block5a_3x3 = tf.keras.layers.Conv2D(80, (1, 1), padding='SAME', activation='relu')(max_pool)\n",
        "inception_block5a_3x3 = tf.keras.layers.Conv2D(120, (3, 3), padding='SAME', activation='relu')(inception_block5a_3x3)\n",
        "\n",
        "inception_block5a_5x5 = tf.keras.layers.Conv2D(16, (1, 1), padding='SAME', activation='relu')(max_pool)\n",
        "inception_block5a_5x5 = tf.keras.layers.Conv2D(64, (5, 5), padding='SAME', activation='relu')(inception_block5a_5x5)\n",
        "\n",
        "inception_block5a_pool = tf.keras.layers.MaxPool2D((3, 3), strides=(1, 1), padding='SAME')(max_pool)\n",
        "inception_block5a_pool = tf.keras.layers.Conv2D(64, (1, 1), padding='SAME', activation='relu')(inception_block5a_pool)\n",
        "\n",
        "inception_block5a = tf.keras.layers.Concatenate()([inception_block5a_1x1, inception_block5a_3x3,\n",
        "                                                   inception_block5a_5x5, inception_block5a_pool]) # 8x8x416\n",
        "# inception_block5b Here on Original Inception"
      ],
      "execution_count": 9,
      "outputs": []
    },
    {
      "cell_type": "code",
      "metadata": {
        "id": "3b26f10f"
      },
      "source": [
        "avg_pool = tf.keras.layers.GlobalAveragePooling2D()(inception_block5a) # 416\n",
        "dropout = tf.keras.layers.Dropout(0.4)(avg_pool)\n",
        "out_layer = tf.keras.layers.Dense(10, activation='softmax')(dropout)"
      ],
      "execution_count": 10,
      "outputs": []
    },
    {
      "cell_type": "code",
      "metadata": {
        "colab": {
          "base_uri": "https://localhost:8080/"
        },
        "id": "1764FfRSmsYP",
        "outputId": "86732c4d-60a8-4e14-f374-c7a76c11a1ee"
      },
      "source": [
        "model = tf.keras.models.Model(input_layer, out_layer)\n",
        "\n",
        "#model.compile(optimizer='adam', loss='sparse_categorical_crossentropy', metrics=['accuracy'])\n",
        "model.compile(optimizer='adam', loss='categorical_crossentropy', metrics=['accuracy'])\n",
        "model.summary()\n",
        "\n",
        "#model.fit(x_train, y_train, batch_size=128, epochs=10, validation_data=(x_test, y_test))"
      ],
      "execution_count": 11,
      "outputs": [
        {
          "output_type": "stream",
          "text": [
            "Model: \"model\"\n",
            "__________________________________________________________________________________________________\n",
            "Layer (type)                    Output Shape         Param #     Connected to                     \n",
            "==================================================================================================\n",
            "input_1 (InputLayer)            [(None, 227, 227, 3) 0                                            \n",
            "__________________________________________________________________________________________________\n",
            "conv2d (Conv2D)                 (None, 227, 227, 32) 896         input_1[0][0]                    \n",
            "__________________________________________________________________________________________________\n",
            "conv2d_1 (Conv2D)               (None, 227, 227, 64) 18496       conv2d[0][0]                     \n",
            "__________________________________________________________________________________________________\n",
            "conv2d_3 (Conv2D)               (None, 227, 227, 48) 3120        conv2d_1[0][0]                   \n",
            "__________________________________________________________________________________________________\n",
            "conv2d_5 (Conv2D)               (None, 227, 227, 8)  520         conv2d_1[0][0]                   \n",
            "__________________________________________________________________________________________________\n",
            "max_pooling2d (MaxPooling2D)    (None, 227, 227, 64) 0           conv2d_1[0][0]                   \n",
            "__________________________________________________________________________________________________\n",
            "conv2d_2 (Conv2D)               (None, 227, 227, 32) 2080        conv2d_1[0][0]                   \n",
            "__________________________________________________________________________________________________\n",
            "conv2d_4 (Conv2D)               (None, 227, 227, 64) 27712       conv2d_3[0][0]                   \n",
            "__________________________________________________________________________________________________\n",
            "conv2d_6 (Conv2D)               (None, 227, 227, 16) 3216        conv2d_5[0][0]                   \n",
            "__________________________________________________________________________________________________\n",
            "conv2d_7 (Conv2D)               (None, 227, 227, 16) 1040        max_pooling2d[0][0]              \n",
            "__________________________________________________________________________________________________\n",
            "concatenate (Concatenate)       (None, 227, 227, 128 0           conv2d_2[0][0]                   \n",
            "                                                                 conv2d_4[0][0]                   \n",
            "                                                                 conv2d_6[0][0]                   \n",
            "                                                                 conv2d_7[0][0]                   \n",
            "__________________________________________________________________________________________________\n",
            "max_pooling2d_1 (MaxPooling2D)  (None, 114, 114, 128 0           concatenate[0][0]                \n",
            "__________________________________________________________________________________________________\n",
            "conv2d_9 (Conv2D)               (None, 114, 114, 64) 8256        max_pooling2d_1[0][0]            \n",
            "__________________________________________________________________________________________________\n",
            "conv2d_11 (Conv2D)              (None, 114, 114, 16) 2064        max_pooling2d_1[0][0]            \n",
            "__________________________________________________________________________________________________\n",
            "max_pooling2d_2 (MaxPooling2D)  (None, 114, 114, 128 0           max_pooling2d_1[0][0]            \n",
            "__________________________________________________________________________________________________\n",
            "conv2d_8 (Conv2D)               (None, 114, 114, 64) 8256        max_pooling2d_1[0][0]            \n",
            "__________________________________________________________________________________________________\n",
            "conv2d_10 (Conv2D)              (None, 114, 114, 96) 55392       conv2d_9[0][0]                   \n",
            "__________________________________________________________________________________________________\n",
            "conv2d_12 (Conv2D)              (None, 114, 114, 48) 19248       conv2d_11[0][0]                  \n",
            "__________________________________________________________________________________________________\n",
            "conv2d_13 (Conv2D)              (None, 114, 114, 32) 4128        max_pooling2d_2[0][0]            \n",
            "__________________________________________________________________________________________________\n",
            "concatenate_1 (Concatenate)     (None, 114, 114, 240 0           conv2d_8[0][0]                   \n",
            "                                                                 conv2d_10[0][0]                  \n",
            "                                                                 conv2d_12[0][0]                  \n",
            "                                                                 conv2d_13[0][0]                  \n",
            "__________________________________________________________________________________________________\n",
            "max_pooling2d_3 (MaxPooling2D)  (None, 57, 57, 240)  0           concatenate_1[0][0]              \n",
            "__________________________________________________________________________________________________\n",
            "conv2d_15 (Conv2D)              (None, 57, 57, 80)   19280       max_pooling2d_3[0][0]            \n",
            "__________________________________________________________________________________________________\n",
            "conv2d_17 (Conv2D)              (None, 57, 57, 16)   3856        max_pooling2d_3[0][0]            \n",
            "__________________________________________________________________________________________________\n",
            "max_pooling2d_4 (MaxPooling2D)  (None, 57, 57, 240)  0           max_pooling2d_3[0][0]            \n",
            "__________________________________________________________________________________________________\n",
            "conv2d_14 (Conv2D)              (None, 57, 57, 128)  30848       max_pooling2d_3[0][0]            \n",
            "__________________________________________________________________________________________________\n",
            "conv2d_16 (Conv2D)              (None, 57, 57, 120)  86520       conv2d_15[0][0]                  \n",
            "__________________________________________________________________________________________________\n",
            "conv2d_18 (Conv2D)              (None, 57, 57, 64)   25664       conv2d_17[0][0]                  \n",
            "__________________________________________________________________________________________________\n",
            "conv2d_19 (Conv2D)              (None, 57, 57, 64)   15424       max_pooling2d_4[0][0]            \n",
            "__________________________________________________________________________________________________\n",
            "concatenate_2 (Concatenate)     (None, 57, 57, 376)  0           conv2d_14[0][0]                  \n",
            "                                                                 conv2d_16[0][0]                  \n",
            "                                                                 conv2d_18[0][0]                  \n",
            "                                                                 conv2d_19[0][0]                  \n",
            "__________________________________________________________________________________________________\n",
            "global_average_pooling2d (Globa (None, 376)          0           concatenate_2[0][0]              \n",
            "__________________________________________________________________________________________________\n",
            "dropout (Dropout)               (None, 376)          0           global_average_pooling2d[0][0]   \n",
            "__________________________________________________________________________________________________\n",
            "dense (Dense)                   (None, 10)           3770        dropout[0][0]                    \n",
            "==================================================================================================\n",
            "Total params: 339,786\n",
            "Trainable params: 339,786\n",
            "Non-trainable params: 0\n",
            "__________________________________________________________________________________________________\n"
          ],
          "name": "stdout"
        }
      ]
    },
    {
      "cell_type": "code",
      "metadata": {
        "colab": {
          "base_uri": "https://localhost:8080/"
        },
        "id": "b1D7qJrqnK3I",
        "outputId": "ec594f14-13f6-4f5a-f60f-b5044ec80990"
      },
      "source": [
        "model.fit(train_generator, epochs=50, validation_data=test_generator)"
      ],
      "execution_count": 12,
      "outputs": [
        {
          "output_type": "stream",
          "text": [
            "Epoch 1/50\n",
            "30/30 [==============================] - 311s 10s/step - loss: 2.3072 - accuracy: 0.0900 - val_loss: 2.2450 - val_accuracy: 0.1000\n",
            "Epoch 2/50\n",
            "30/30 [==============================] - 296s 10s/step - loss: 1.9148 - accuracy: 0.2567 - val_loss: 1.2742 - val_accuracy: 0.7000\n",
            "Epoch 3/50\n",
            "30/30 [==============================] - 296s 10s/step - loss: 0.9535 - accuracy: 0.6500 - val_loss: 0.3501 - val_accuracy: 0.9000\n",
            "Epoch 4/50\n",
            "30/30 [==============================] - 297s 10s/step - loss: 0.4742 - accuracy: 0.8100 - val_loss: 0.2120 - val_accuracy: 0.8000\n",
            "Epoch 5/50\n",
            "30/30 [==============================] - 296s 10s/step - loss: 0.3817 - accuracy: 0.8767 - val_loss: 0.1504 - val_accuracy: 0.9000\n",
            "Epoch 6/50\n",
            "30/30 [==============================] - 296s 10s/step - loss: 0.2285 - accuracy: 0.9167 - val_loss: 0.0399 - val_accuracy: 1.0000\n",
            "Epoch 7/50\n",
            "30/30 [==============================] - 296s 10s/step - loss: 0.1092 - accuracy: 0.9700 - val_loss: 0.0101 - val_accuracy: 1.0000\n",
            "Epoch 8/50\n",
            "30/30 [==============================] - 297s 10s/step - loss: 0.0352 - accuracy: 0.9867 - val_loss: 0.0077 - val_accuracy: 1.0000\n",
            "Epoch 9/50\n",
            "30/30 [==============================] - 295s 10s/step - loss: 0.2633 - accuracy: 0.9333 - val_loss: 0.6103 - val_accuracy: 0.7000\n",
            "Epoch 10/50\n",
            "30/30 [==============================] - 294s 10s/step - loss: 0.1651 - accuracy: 0.9300 - val_loss: 0.0128 - val_accuracy: 1.0000\n",
            "Epoch 11/50\n",
            "30/30 [==============================] - 294s 10s/step - loss: 0.0321 - accuracy: 0.9900 - val_loss: 0.0118 - val_accuracy: 1.0000\n",
            "Epoch 12/50\n",
            "30/30 [==============================] - 294s 10s/step - loss: 0.0270 - accuracy: 1.0000 - val_loss: 0.0039 - val_accuracy: 1.0000\n",
            "Epoch 13/50\n",
            "30/30 [==============================] - 293s 10s/step - loss: 0.0589 - accuracy: 0.9800 - val_loss: 0.0245 - val_accuracy: 1.0000\n",
            "Epoch 14/50\n",
            "30/30 [==============================] - 293s 10s/step - loss: 0.0901 - accuracy: 0.9667 - val_loss: 0.0218 - val_accuracy: 1.0000\n",
            "Epoch 15/50\n",
            "30/30 [==============================] - 293s 10s/step - loss: 0.0507 - accuracy: 0.9867 - val_loss: 0.0037 - val_accuracy: 1.0000\n",
            "Epoch 16/50\n",
            "30/30 [==============================] - 292s 10s/step - loss: 0.0300 - accuracy: 0.9833 - val_loss: 0.0228 - val_accuracy: 1.0000\n",
            "Epoch 17/50\n",
            "30/30 [==============================] - 292s 10s/step - loss: 0.0189 - accuracy: 0.9933 - val_loss: 0.0354 - val_accuracy: 1.0000\n",
            "Epoch 18/50\n",
            "30/30 [==============================] - 292s 10s/step - loss: 0.0181 - accuracy: 0.9967 - val_loss: 0.1986 - val_accuracy: 0.9000\n",
            "Epoch 19/50\n",
            "30/30 [==============================] - 292s 10s/step - loss: 0.0404 - accuracy: 0.9933 - val_loss: 0.0352 - val_accuracy: 1.0000\n",
            "Epoch 20/50\n",
            "30/30 [==============================] - 292s 10s/step - loss: 0.0072 - accuracy: 0.9967 - val_loss: 4.7841e-04 - val_accuracy: 1.0000\n",
            "Epoch 21/50\n",
            "30/30 [==============================] - 292s 10s/step - loss: 0.0040 - accuracy: 1.0000 - val_loss: 9.2027e-04 - val_accuracy: 1.0000\n",
            "Epoch 22/50\n",
            "30/30 [==============================] - 292s 10s/step - loss: 0.0015 - accuracy: 1.0000 - val_loss: 3.7051e-04 - val_accuracy: 1.0000\n",
            "Epoch 23/50\n",
            "30/30 [==============================] - 292s 10s/step - loss: 0.0011 - accuracy: 1.0000 - val_loss: 8.9367e-04 - val_accuracy: 1.0000\n",
            "Epoch 24/50\n",
            "30/30 [==============================] - 292s 10s/step - loss: 9.3417e-04 - accuracy: 1.0000 - val_loss: 2.6743e-04 - val_accuracy: 1.0000\n",
            "Epoch 25/50\n",
            "30/30 [==============================] - 292s 10s/step - loss: 0.0023 - accuracy: 1.0000 - val_loss: 2.8381e-04 - val_accuracy: 1.0000\n",
            "Epoch 26/50\n",
            "30/30 [==============================] - 292s 10s/step - loss: 4.3575e-04 - accuracy: 1.0000 - val_loss: 2.4498e-04 - val_accuracy: 1.0000\n",
            "Epoch 27/50\n",
            "30/30 [==============================] - 292s 10s/step - loss: 5.5093e-04 - accuracy: 1.0000 - val_loss: 2.7277e-04 - val_accuracy: 1.0000\n",
            "Epoch 28/50\n",
            "30/30 [==============================] - 294s 10s/step - loss: 0.0018 - accuracy: 1.0000 - val_loss: 0.0010 - val_accuracy: 1.0000\n",
            "Epoch 29/50\n",
            "30/30 [==============================] - 293s 10s/step - loss: 3.5834e-04 - accuracy: 1.0000 - val_loss: 3.4863e-04 - val_accuracy: 1.0000\n",
            "Epoch 30/50\n",
            "30/30 [==============================] - 292s 10s/step - loss: 2.6767e-04 - accuracy: 1.0000 - val_loss: 1.9252e-04 - val_accuracy: 1.0000\n",
            "Epoch 31/50\n",
            "30/30 [==============================] - 293s 10s/step - loss: 4.2195e-04 - accuracy: 1.0000 - val_loss: 1.5718e-04 - val_accuracy: 1.0000\n",
            "Epoch 32/50\n",
            "30/30 [==============================] - 293s 10s/step - loss: 0.0255 - accuracy: 0.9833 - val_loss: 0.2569 - val_accuracy: 0.9000\n",
            "Epoch 33/50\n",
            "30/30 [==============================] - 293s 10s/step - loss: 0.0069 - accuracy: 0.9967 - val_loss: 4.2577e-05 - val_accuracy: 1.0000\n",
            "Epoch 34/50\n",
            "30/30 [==============================] - 292s 10s/step - loss: 0.0387 - accuracy: 0.9933 - val_loss: 5.3023e-04 - val_accuracy: 1.0000\n",
            "Epoch 35/50\n",
            "30/30 [==============================] - 291s 10s/step - loss: 0.0061 - accuracy: 1.0000 - val_loss: 5.1388e-04 - val_accuracy: 1.0000\n",
            "Epoch 36/50\n",
            "30/30 [==============================] - 293s 10s/step - loss: 6.6478e-04 - accuracy: 1.0000 - val_loss: 2.3210e-04 - val_accuracy: 1.0000\n",
            "Epoch 37/50\n",
            "30/30 [==============================] - 293s 10s/step - loss: 0.0154 - accuracy: 0.9967 - val_loss: 7.2892e-04 - val_accuracy: 1.0000\n",
            "Epoch 38/50\n",
            "30/30 [==============================] - 291s 10s/step - loss: 0.0179 - accuracy: 0.9967 - val_loss: 0.0162 - val_accuracy: 1.0000\n",
            "Epoch 39/50\n",
            "30/30 [==============================] - 291s 10s/step - loss: 0.1812 - accuracy: 0.9433 - val_loss: 0.0052 - val_accuracy: 1.0000\n",
            "Epoch 40/50\n",
            "30/30 [==============================] - 291s 10s/step - loss: 0.0611 - accuracy: 0.9833 - val_loss: 0.0245 - val_accuracy: 1.0000\n",
            "Epoch 41/50\n",
            "30/30 [==============================] - 291s 10s/step - loss: 0.0039 - accuracy: 1.0000 - val_loss: 0.0013 - val_accuracy: 1.0000\n",
            "Epoch 42/50\n",
            "30/30 [==============================] - 291s 10s/step - loss: 0.0011 - accuracy: 1.0000 - val_loss: 8.1027e-04 - val_accuracy: 1.0000\n",
            "Epoch 43/50\n",
            "30/30 [==============================] - 291s 10s/step - loss: 9.6481e-04 - accuracy: 1.0000 - val_loss: 6.8412e-04 - val_accuracy: 1.0000\n",
            "Epoch 44/50\n",
            "30/30 [==============================] - 291s 10s/step - loss: 8.9369e-04 - accuracy: 1.0000 - val_loss: 6.4111e-04 - val_accuracy: 1.0000\n",
            "Epoch 45/50\n",
            "30/30 [==============================] - 291s 10s/step - loss: 0.0017 - accuracy: 1.0000 - val_loss: 0.0013 - val_accuracy: 1.0000\n",
            "Epoch 46/50\n",
            "30/30 [==============================] - 291s 10s/step - loss: 2.4145e-04 - accuracy: 1.0000 - val_loss: 8.0505e-04 - val_accuracy: 1.0000\n",
            "Epoch 47/50\n",
            "30/30 [==============================] - 291s 10s/step - loss: 0.0016 - accuracy: 1.0000 - val_loss: 4.7160e-04 - val_accuracy: 1.0000\n",
            "Epoch 48/50\n",
            "30/30 [==============================] - 291s 10s/step - loss: 3.2320e-04 - accuracy: 1.0000 - val_loss: 2.8338e-04 - val_accuracy: 1.0000\n",
            "Epoch 49/50\n",
            "30/30 [==============================] - 291s 10s/step - loss: 2.4959e-04 - accuracy: 1.0000 - val_loss: 2.4081e-04 - val_accuracy: 1.0000\n",
            "Epoch 50/50\n",
            "30/30 [==============================] - 291s 10s/step - loss: 6.1242e-04 - accuracy: 1.0000 - val_loss: 1.0625e-04 - val_accuracy: 1.0000\n"
          ],
          "name": "stdout"
        },
        {
          "output_type": "execute_result",
          "data": {
            "text/plain": [
              "<tensorflow.python.keras.callbacks.History at 0x7fafe8c93b50>"
            ]
          },
          "metadata": {
            "tags": []
          },
          "execution_count": 12
        }
      ]
    },
    {
      "cell_type": "code",
      "metadata": {
        "colab": {
          "base_uri": "https://localhost:8080/"
        },
        "id": "dwkxcMnDqXEB",
        "outputId": "d4162485-2078-46bb-a6ef-555c92bb5014"
      },
      "source": [
        "print(\"-- Evaluate --\")\n",
        "scores = model.evaluate(test_generator)\n",
        "print(\"%s: %.2f%%\" %(model.metrics_names[1], scores[1]*100))"
      ],
      "execution_count": 13,
      "outputs": [
        {
          "output_type": "stream",
          "text": [
            "-- Evaluate --\n",
            "2/2 [==============================] - 4s 2s/step - loss: 1.0625e-04 - accuracy: 1.0000\n",
            "accuracy: 100.00%\n"
          ],
          "name": "stdout"
        }
      ]
    },
    {
      "cell_type": "code",
      "metadata": {
        "colab": {
          "base_uri": "https://localhost:8080/"
        },
        "id": "KQnF0I-fqcuC",
        "outputId": "3eaa14b9-7309-48dd-bac3-60f7525fffc0"
      },
      "source": [
        "print(\"-- Predict --\")\n",
        "output = model.predict(test_generator)\n",
        "np.set_printoptions(formatter={'float': lambda x: \"{0:0.3f}\".format(x)})\n",
        "print(test_generator.class_indices)\n",
        "print(output)"
      ],
      "execution_count": 14,
      "outputs": [
        {
          "output_type": "stream",
          "text": [
            "-- Predict --\n",
            "{'1': 0, '10': 1, '2': 2, '3': 3, '4': 4, '5': 5, '6': 6, '7': 7, '8': 8, '9': 9}\n",
            "[[0.000 0.000 0.000 0.000 0.000 0.000 0.000 0.000 1.000 0.000]\n",
            " [0.000 0.000 1.000 0.000 0.000 0.000 0.000 0.000 0.000 0.000]\n",
            " [1.000 0.000 0.000 0.000 0.000 0.000 0.000 0.000 0.000 0.000]\n",
            " [0.000 0.000 0.000 1.000 0.000 0.000 0.000 0.000 0.000 0.000]\n",
            " [0.000 0.000 0.000 0.000 0.000 0.000 0.000 0.000 0.000 1.000]\n",
            " [0.000 0.000 0.000 0.000 1.000 0.000 0.000 0.000 0.000 0.000]\n",
            " [0.000 1.000 0.000 0.000 0.000 0.000 0.000 0.000 0.000 0.000]\n",
            " [0.000 0.000 0.000 0.000 0.000 1.000 0.000 0.000 0.000 0.000]\n",
            " [0.000 0.000 1.000 0.000 0.000 0.000 0.000 0.000 0.000 0.000]\n",
            " [0.000 0.000 0.000 0.000 0.000 0.000 0.000 0.000 0.000 1.000]\n",
            " [0.000 0.000 0.000 0.000 0.000 0.000 0.000 0.999 0.000 0.000]\n",
            " [0.000 0.000 0.000 0.000 0.000 1.000 0.000 0.000 0.000 0.000]\n",
            " [0.000 0.000 0.000 0.000 0.000 0.000 0.000 0.999 0.000 0.000]\n",
            " [0.000 0.000 0.000 0.000 0.000 0.000 1.000 0.000 0.000 0.000]\n",
            " [0.000 0.000 0.000 0.000 1.000 0.000 0.000 0.000 0.000 0.000]\n",
            " [0.000 0.000 0.000 0.000 0.000 0.000 0.000 0.000 1.000 0.000]\n",
            " [0.000 1.000 0.000 0.000 0.000 0.000 0.000 0.000 0.000 0.000]\n",
            " [0.000 0.000 0.000 1.000 0.000 0.000 0.000 0.000 0.000 0.000]\n",
            " [1.000 0.000 0.000 0.000 0.000 0.000 0.000 0.000 0.000 0.000]\n",
            " [0.000 0.000 0.000 0.000 0.000 0.000 1.000 0.000 0.000 0.000]]\n"
          ],
          "name": "stdout"
        }
      ]
    }
  ]
}