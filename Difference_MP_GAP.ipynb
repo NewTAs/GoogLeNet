{
  "nbformat": 4,
  "nbformat_minor": 0,
  "metadata": {
    "kernelspec": {
      "display_name": "Python 3",
      "language": "python",
      "name": "python3"
    },
    "language_info": {
      "codemirror_mode": {
        "name": "ipython",
        "version": 3
      },
      "file_extension": ".py",
      "mimetype": "text/x-python",
      "name": "python",
      "nbconvert_exporter": "python",
      "pygments_lexer": "ipython3",
      "version": "3.7.9"
    },
    "colab": {
      "name": "Difference MP-GAP.ipynb",
      "provenance": [],
      "collapsed_sections": [],
      "include_colab_link": true
    },
    "accelerator": "GPU"
  },
  "cells": [
    {
      "cell_type": "markdown",
      "metadata": {
        "id": "view-in-github",
        "colab_type": "text"
      },
      "source": [
        "<a href=\"https://colab.research.google.com/github/NewTAs/GoogLeNet/blob/main/Difference_MP_GAP.ipynb\" target=\"_parent\"><img src=\"https://colab.research.google.com/assets/colab-badge.svg\" alt=\"Open In Colab\"/></a>"
      ]
    },
    {
      "cell_type": "markdown",
      "metadata": {
        "id": "UseFOxNi9EzP"
      },
      "source": [
        "# Import Library"
      ]
    },
    {
      "cell_type": "code",
      "metadata": {
        "id": "dnCq2iYX9EzQ"
      },
      "source": [
        "import tensorflow as tf\n",
        "import tensorflow.keras"
      ],
      "execution_count": 25,
      "outputs": []
    },
    {
      "cell_type": "markdown",
      "metadata": {
        "id": "0Ff2q0Gn9EzR"
      },
      "source": [
        "# Definition Parameter"
      ]
    },
    {
      "cell_type": "code",
      "metadata": {
        "id": "atDGRLSJ9EzS"
      },
      "source": [
        "global pooling, averagePooling, globalAveragePooling\n",
        "pooling = None\n",
        "averagePooling = None\n",
        "globalAveragePooling = None"
      ],
      "execution_count": 26,
      "outputs": []
    },
    {
      "cell_type": "code",
      "metadata": {
        "id": "PflPjF8p9EzS"
      },
      "source": [
        "inputExampleLayer = (2, 3, 4, 5)"
      ],
      "execution_count": 27,
      "outputs": []
    },
    {
      "cell_type": "code",
      "metadata": {
        "colab": {
          "base_uri": "https://localhost:8080/"
        },
        "id": "POG3b6399EzS",
        "outputId": "46a29802-a926-4473-e37a-471539f45355"
      },
      "source": [
        "print(inputExampleLayer)"
      ],
      "execution_count": 28,
      "outputs": [
        {
          "output_type": "stream",
          "name": "stdout",
          "text": [
            "(2, 3, 4, 5)\n"
          ]
        }
      ]
    },
    {
      "cell_type": "markdown",
      "metadata": {
        "id": "zHV0h50l_EFB"
      },
      "source": [
        "# Example Layer"
      ]
    },
    {
      "cell_type": "code",
      "metadata": {
        "colab": {
          "base_uri": "https://localhost:8080/"
        },
        "id": "sueWO2wn9EzT",
        "outputId": "dcbd8ec0-0d80-4379-bfbb-8f7f5b0a8198"
      },
      "source": [
        "x = tf.random.normal(inputExampleLayer)\n",
        "x = x * 100\n",
        "pooling = x\n",
        "averagePooling = x\n",
        "globalAveragePooling = x\n",
        "print(x)"
      ],
      "execution_count": 29,
      "outputs": [
        {
          "output_type": "stream",
          "name": "stdout",
          "text": [
            "tf.Tensor(\n",
            "[[[[ -46.36564   -111.09282      2.9236796  -64.2023    -117.05663  ]\n",
            "   [  62.444687     5.112976   146.14774     39.408867  -106.931175 ]\n",
            "   [-214.3265     146.50893     31.22929   -256.7534      48.977654 ]\n",
            "   [ 206.8547     150.219      -44.988735  -172.28683    -12.716025 ]]\n",
            "\n",
            "  [[  95.009705    -4.662958    41.55782     -6.3900566 -118.96104  ]\n",
            "   [  85.25102    -38.376556  -125.389946  -112.64056   -122.781685 ]\n",
            "   [ 128.10909     28.275276    10.455992   -54.068027   101.57254  ]\n",
            "   [  78.03823    -81.596924     6.334955   212.56488     67.15319  ]]\n",
            "\n",
            "  [[  11.162882    -2.109291   126.32001    -24.284737     1.5451318]\n",
            "   [ 136.4827      90.98384    -29.79185   -103.501465    46.447594 ]\n",
            "   [  73.89009     67.85448   -134.24107   -116.559135    26.100285 ]\n",
            "   [ -31.946001   -30.973122   158.05836    113.60099   -148.62712  ]]]\n",
            "\n",
            "\n",
            " [[[  60.439426   201.49799     27.02052     17.14576      7.025083 ]\n",
            "   [ -63.33642   -215.06137     47.777645   -37.85292     96.22046  ]\n",
            "   [  26.230478   -11.371788  -116.32918    -70.119736  -149.03656  ]\n",
            "   [  94.131355  -232.68153     -6.352977    31.284008    45.70105  ]]\n",
            "\n",
            "  [[  40.4245     127.85392    -40.09611    -49.384724  -205.1195   ]\n",
            "   [-299.04315     52.352184   -62.494404    54.4709      97.4149   ]\n",
            "   [  33.556694   -12.5445385  -39.7443     -47.613914   143.62439  ]\n",
            "   [  37.5779     210.57922     -9.629622    89.110634   -48.304337 ]]\n",
            "\n",
            "  [[ 154.92207   -207.89948    -29.426828   -34.227543   255.68942  ]\n",
            "   [  75.83181      3.6502104 -156.56517     45.03519    -72.53319  ]\n",
            "   [-110.45653   -150.11208   -231.48811    -11.707379  -151.05937  ]\n",
            "   [  35.362564    72.653984  -191.04356     64.808334   216.02165  ]]]], shape=(2, 3, 4, 5), dtype=float32)\n"
          ]
        }
      ]
    },
    {
      "cell_type": "markdown",
      "metadata": {
        "id": "6AOpLs6U9EzU"
      },
      "source": [
        "# Result Pooling"
      ]
    },
    {
      "cell_type": "code",
      "metadata": {
        "colab": {
          "base_uri": "https://localhost:8080/"
        },
        "id": "qGFS_bav9EzU",
        "outputId": "26450959-5d6f-4b16-9d39-f6b81ddde1ac"
      },
      "source": [
        "y = tf.keras.layers.MaxPool2D()(pooling)\n",
        "print(y)"
      ],
      "execution_count": 30,
      "outputs": [
        {
          "output_type": "stream",
          "name": "stdout",
          "text": [
            "tf.Tensor(\n",
            "[[[[  95.009705    5.112976  146.14774    39.408867 -106.931175]\n",
            "   [ 206.8547    150.219      31.22929   212.56488   101.57254 ]]]\n",
            "\n",
            "\n",
            " [[[  60.439426  201.49799    47.777645   54.4709     97.4149  ]\n",
            "   [  94.131355  210.57922    -6.352977   89.110634  143.62439 ]]]], shape=(2, 1, 2, 5), dtype=float32)\n"
          ]
        }
      ]
    },
    {
      "cell_type": "markdown",
      "metadata": {
        "id": "Mk8BeYVq9EzV"
      },
      "source": [
        "# Result Average Pooling"
      ]
    },
    {
      "cell_type": "code",
      "metadata": {
        "colab": {
          "base_uri": "https://localhost:8080/"
        },
        "id": "_zXcQntI9EzV",
        "outputId": "f05f67df-e2c4-47f9-b78a-d455e3452212"
      },
      "source": [
        "y = tf.keras.layers.AveragePooling2D()(pooling)\n",
        "print(y)"
      ],
      "execution_count": 31,
      "outputs": [
        {
          "output_type": "stream",
          "name": "stdout",
          "text": [
            "tf.Tensor(\n",
            "[[[[  49.084946    -37.254837     16.309822    -35.956013\n",
            "    -116.43263   ]\n",
            "   [  49.66888      60.85157       0.75787544  -67.63584\n",
            "      51.24684   ]]]\n",
            "\n",
            "\n",
            " [[[ -65.378914     41.66068      -6.9480877    -3.9052458\n",
            "      -1.1147652 ]\n",
            "   [  47.874107    -11.50466     -43.014023      0.66524696\n",
            "      -2.0038643 ]]]], shape=(2, 1, 2, 5), dtype=float32)\n"
          ]
        }
      ]
    },
    {
      "cell_type": "markdown",
      "metadata": {
        "id": "pRwTkUZf9EzV"
      },
      "source": [
        "# Result Global Average Pooling"
      ]
    },
    {
      "cell_type": "code",
      "metadata": {
        "colab": {
          "base_uri": "https://localhost:8080/"
        },
        "id": "A5DGjVQh9EzW",
        "outputId": "b6f3918b-6770-4380-8a73-7a37c50315c7"
      },
      "source": [
        "y = tf.keras.layers.GlobalAveragePooling2D()(pooling)\n",
        "print(y)"
      ],
      "execution_count": 32,
      "outputs": [
        {
          "output_type": "stream",
          "name": "stdout",
          "text": [
            "tf.Tensor(\n",
            "[[ 48.717083   18.345232   15.718019  -45.42598   -27.939774 ]\n",
            " [  7.1367264 -13.423607  -67.36434     4.2457175  19.637    ]], shape=(2, 5), dtype=float32)\n"
          ]
        }
      ]
    }
  ]
}