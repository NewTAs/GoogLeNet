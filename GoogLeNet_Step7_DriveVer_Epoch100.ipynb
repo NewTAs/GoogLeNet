{
  "nbformat": 4,
  "nbformat_minor": 0,
  "metadata": {
    "colab": {
      "name": "GoogLeNet_Step7_DriveVer_Epoch100.ipynb",
      "provenance": [],
      "collapsed_sections": [],
      "include_colab_link": true
    },
    "kernelspec": {
      "name": "python3",
      "display_name": "Python 3"
    },
    "language_info": {
      "name": "python"
    }
  },
  "cells": [
    {
      "cell_type": "markdown",
      "metadata": {
        "id": "view-in-github",
        "colab_type": "text"
      },
      "source": [
        "<a href=\"https://colab.research.google.com/github/NewTAs/GoogLeNet/blob/main/GoogLeNet_Step7_DriveVer_Epoch100.ipynb\" target=\"_parent\"><img src=\"https://colab.research.google.com/assets/colab-badge.svg\" alt=\"Open In Colab\"/></a>"
      ]
    },
    {
      "cell_type": "code",
      "metadata": {
        "colab": {
          "base_uri": "https://localhost:8080/"
        },
        "id": "E9vBGLsdgq24",
        "outputId": "5fa6449d-47b9-4507-9250-3e24e7dc9c38"
      },
      "source": [
        "# Step1 Code\n",
        "import os\n",
        "import re\n",
        "import glob\n",
        "import cv2\n",
        "import numpy as np\n",
        "from sklearn.model_selection import train_test_split\n",
        "\n",
        "import tensorflow as tf\n",
        "\n",
        "from google.colab import drive\n",
        "drive.mount('googlenet')\n",
        "\n",
        "# New Cord\n",
        "import numpy as np\n",
        "from keras.models import Sequential\n",
        "from keras.layers import Dense\n",
        "from keras.layers import Flatten\n",
        "from keras.layers.convolutional import Conv2D\n",
        "from keras.layers.convolutional import MaxPooling2D\n",
        "from keras.preprocessing.image import ImageDataGenerator\n",
        "\n",
        "#np.random.seed(4) # 랜덤시드 고정시키기"
      ],
      "execution_count": 1,
      "outputs": [
        {
          "output_type": "stream",
          "text": [
            "Mounted at googlenet\n"
          ],
          "name": "stdout"
        }
      ]
    },
    {
      "cell_type": "code",
      "metadata": {
        "colab": {
          "base_uri": "https://localhost:8080/"
        },
        "id": "Vl2fl4Ishlg_",
        "outputId": "c6cd7973-197e-43e3-f608-208eb0c8ccbf"
      },
      "source": [
        "numberOfClass = 30\n",
        "pictureWeightHeightSize = 227\n",
        "\n",
        "train_datagen = ImageDataGenerator(rescale=1./255)\n",
        "\n",
        "train_generator = train_datagen.flow_from_directory(\n",
        "        '/content/googlenet/MyDrive/GoogLeNet_Data/TrainData_Step7/',\n",
        "        target_size=(pictureWeightHeightSize, pictureWeightHeightSize),\n",
        "        batch_size=numberOfClass,\n",
        "        class_mode='categorical')\n",
        "\n",
        "test_datagen = ImageDataGenerator(rescale=1./255)\n",
        "\n",
        "test_generator = test_datagen.flow_from_directory(\n",
        "        '/content/googlenet/MyDrive/GoogLeNet_Data/TestData_Step7/',\n",
        "        target_size=(pictureWeightHeightSize, pictureWeightHeightSize),    \n",
        "        batch_size=numberOfClass,\n",
        "        class_mode='categorical')"
      ],
      "execution_count": 2,
      "outputs": [
        {
          "output_type": "stream",
          "text": [
            "Found 300 images belonging to 30 classes.\n",
            "Found 60 images belonging to 30 classes.\n"
          ],
          "name": "stdout"
        }
      ]
    },
    {
      "cell_type": "code",
      "metadata": {
        "id": "8536c856"
      },
      "source": [
        "input_layer = tf.keras.layers.Input(shape=(pictureWeightHeightSize, pictureWeightHeightSize, 3))"
      ],
      "execution_count": 3,
      "outputs": []
    },
    {
      "cell_type": "code",
      "metadata": {
        "id": "77191152"
      },
      "source": [
        "stem_layer = tf.keras.layers.Conv2D(32, (3, 3), strides=(1, 1), padding='SAME', activation='relu')(input_layer)\n",
        "# Max Pooling Here on Original Inception (3x3, stride=2)\n",
        "stem_layer = tf.keras.layers.Conv2D(64, (3, 3), strides=(1, 1), padding='SAME', activation='relu')(stem_layer)\n",
        "# Max Pooling Here on Original Inception (3x3, stride=2)"
      ],
      "execution_count": 4,
      "outputs": []
    },
    {
      "cell_type": "code",
      "metadata": {
        "id": "c29d9d72"
      },
      "source": [
        "inception_block3a_1x1 = tf.keras.layers.Conv2D(32, (1, 1), strides=(1, 1), padding='SAME', activation='relu')(stem_layer)\n",
        "\n",
        "inception_block3a_3x3 = tf.keras.layers.Conv2D(48, (1, 1), padding='SAME', activation='relu')(stem_layer)\n",
        "inception_block3a_3x3 = tf.keras.layers.Conv2D(64, (3, 3), padding='SAME', activation='relu')(inception_block3a_3x3)\n",
        "\n",
        "inception_block3a_5x5 = tf.keras.layers.Conv2D(8, (1, 1), padding='SAME', activation='relu')(stem_layer)\n",
        "inception_block3a_5x5 = tf.keras.layers.Conv2D(16, (5, 5), padding='SAME', activation='relu')(inception_block3a_5x5)\n",
        "\n",
        "inception_block3a_pool = tf.keras.layers.MaxPool2D((3, 3), strides=(1, 1), padding='SAME')(stem_layer)\n",
        "inception_block3a_pool = tf.keras.layers.Conv2D(16, (1, 1), padding='SAME', activation='relu')(inception_block3a_pool)\n",
        "\n",
        "inception_block3a = tf.keras.layers.Concatenate()([inception_block3a_1x1, inception_block3a_3x3,\n",
        "                                                   inception_block3a_5x5, inception_block3a_pool]) # 32x32x128"
      ],
      "execution_count": 5,
      "outputs": []
    },
    {
      "cell_type": "code",
      "metadata": {
        "id": "3746e709"
      },
      "source": [
        "# inception_block3b Here on Original Inception\n",
        "max_pool = tf.keras.layers.MaxPool2D((3, 3), strides=(2, 2), padding='SAME')(inception_block3a) # 16x16x128"
      ],
      "execution_count": 6,
      "outputs": []
    },
    {
      "cell_type": "code",
      "metadata": {
        "id": "5e256e02"
      },
      "source": [
        "inception_block4a_1x1 = tf.keras.layers.Conv2D(64, (1, 1), padding='SAME', activation='relu')(max_pool)\n",
        "\n",
        "inception_block4a_3x3 = tf.keras.layers.Conv2D(64, (1, 1), padding='SAME', activation='relu')(max_pool)\n",
        "inception_block4a_3x3 = tf.keras.layers.Conv2D(96, (3, 3), padding='SAME', activation='relu')(inception_block4a_3x3)\n",
        "\n",
        "inception_block4a_5x5 = tf.keras.layers.Conv2D(16, (1, 1), padding='SAME', activation='relu')(max_pool)\n",
        "inception_block4a_5x5 = tf.keras.layers.Conv2D(48, (5, 5), padding='SAME', activation='relu')(inception_block4a_5x5)\n",
        "\n",
        "inception_block4a_pool = tf.keras.layers.MaxPool2D((3, 3), strides=(1, 1), padding='SAME')(max_pool)\n",
        "inception_block4a_pool = tf.keras.layers.Conv2D(32, (1, 1), padding='SAME', activation='relu')(inception_block4a_pool)\n",
        "\n",
        "inception_block4a = tf.keras.layers.Concatenate()([inception_block4a_1x1, inception_block4a_3x3,\n",
        "                                                   inception_block4a_5x5, inception_block4a_pool]) # 16x16x240\n",
        "\n",
        "# inception_block4b Here on Original Inception\n",
        "# inception_block4c Here on Original Inception\n",
        "# inception_block4d Here on Original Inception\n",
        "# inception_block4e Here on Original Inception"
      ],
      "execution_count": 7,
      "outputs": []
    },
    {
      "cell_type": "code",
      "metadata": {
        "id": "eeccc456"
      },
      "source": [
        "max_pool = tf.keras.layers.MaxPool2D((3, 3), strides=(2, 2), padding='SAME')(inception_block4a) # 8x8x240"
      ],
      "execution_count": 8,
      "outputs": []
    },
    {
      "cell_type": "code",
      "metadata": {
        "id": "66fe0596"
      },
      "source": [
        "inception_block5a_1x1 = tf.keras.layers.Conv2D(128, (1, 1), padding='SAME', activation='relu')(max_pool)\n",
        "\n",
        "inception_block5a_3x3 = tf.keras.layers.Conv2D(80, (1, 1), padding='SAME', activation='relu')(max_pool)\n",
        "inception_block5a_3x3 = tf.keras.layers.Conv2D(120, (3, 3), padding='SAME', activation='relu')(inception_block5a_3x3)\n",
        "\n",
        "inception_block5a_5x5 = tf.keras.layers.Conv2D(16, (1, 1), padding='SAME', activation='relu')(max_pool)\n",
        "inception_block5a_5x5 = tf.keras.layers.Conv2D(64, (5, 5), padding='SAME', activation='relu')(inception_block5a_5x5)\n",
        "\n",
        "inception_block5a_pool = tf.keras.layers.MaxPool2D((3, 3), strides=(1, 1), padding='SAME')(max_pool)\n",
        "inception_block5a_pool = tf.keras.layers.Conv2D(64, (1, 1), padding='SAME', activation='relu')(inception_block5a_pool)\n",
        "\n",
        "inception_block5a = tf.keras.layers.Concatenate()([inception_block5a_1x1, inception_block5a_3x3,\n",
        "                                                   inception_block5a_5x5, inception_block5a_pool]) # 8x8x416\n",
        "# inception_block5b Here on Original Inception"
      ],
      "execution_count": 9,
      "outputs": []
    },
    {
      "cell_type": "code",
      "metadata": {
        "id": "3b26f10f"
      },
      "source": [
        "avg_pool = tf.keras.layers.GlobalAveragePooling2D()(inception_block5a) # 416\n",
        "dropout = tf.keras.layers.Dropout(0.4)(avg_pool)\n",
        "out_layer = tf.keras.layers.Dense(numberOfClass, activation='softmax')(dropout)"
      ],
      "execution_count": 10,
      "outputs": []
    },
    {
      "cell_type": "code",
      "metadata": {
        "colab": {
          "base_uri": "https://localhost:8080/"
        },
        "id": "1764FfRSmsYP",
        "outputId": "7fec8d8a-95e3-4af9-a34a-c86e5c3dd062"
      },
      "source": [
        "model = tf.keras.models.Model(input_layer, out_layer)\n",
        "\n",
        "#model.compile(optimizer='adam', loss='sparse_categorical_crossentropy', metrics=['accuracy'])\n",
        "model.compile(optimizer='adam', loss='categorical_crossentropy', metrics=['accuracy'])\n",
        "model.summary()\n",
        "\n",
        "#model.fit(x_train, y_train, batch_size=128, epochs=10, validation_data=(x_test, y_test))"
      ],
      "execution_count": 11,
      "outputs": [
        {
          "output_type": "stream",
          "text": [
            "Model: \"model\"\n",
            "__________________________________________________________________________________________________\n",
            "Layer (type)                    Output Shape         Param #     Connected to                     \n",
            "==================================================================================================\n",
            "input_1 (InputLayer)            [(None, 227, 227, 3) 0                                            \n",
            "__________________________________________________________________________________________________\n",
            "conv2d (Conv2D)                 (None, 227, 227, 32) 896         input_1[0][0]                    \n",
            "__________________________________________________________________________________________________\n",
            "conv2d_1 (Conv2D)               (None, 227, 227, 64) 18496       conv2d[0][0]                     \n",
            "__________________________________________________________________________________________________\n",
            "conv2d_3 (Conv2D)               (None, 227, 227, 48) 3120        conv2d_1[0][0]                   \n",
            "__________________________________________________________________________________________________\n",
            "conv2d_5 (Conv2D)               (None, 227, 227, 8)  520         conv2d_1[0][0]                   \n",
            "__________________________________________________________________________________________________\n",
            "max_pooling2d (MaxPooling2D)    (None, 227, 227, 64) 0           conv2d_1[0][0]                   \n",
            "__________________________________________________________________________________________________\n",
            "conv2d_2 (Conv2D)               (None, 227, 227, 32) 2080        conv2d_1[0][0]                   \n",
            "__________________________________________________________________________________________________\n",
            "conv2d_4 (Conv2D)               (None, 227, 227, 64) 27712       conv2d_3[0][0]                   \n",
            "__________________________________________________________________________________________________\n",
            "conv2d_6 (Conv2D)               (None, 227, 227, 16) 3216        conv2d_5[0][0]                   \n",
            "__________________________________________________________________________________________________\n",
            "conv2d_7 (Conv2D)               (None, 227, 227, 16) 1040        max_pooling2d[0][0]              \n",
            "__________________________________________________________________________________________________\n",
            "concatenate (Concatenate)       (None, 227, 227, 128 0           conv2d_2[0][0]                   \n",
            "                                                                 conv2d_4[0][0]                   \n",
            "                                                                 conv2d_6[0][0]                   \n",
            "                                                                 conv2d_7[0][0]                   \n",
            "__________________________________________________________________________________________________\n",
            "max_pooling2d_1 (MaxPooling2D)  (None, 114, 114, 128 0           concatenate[0][0]                \n",
            "__________________________________________________________________________________________________\n",
            "conv2d_9 (Conv2D)               (None, 114, 114, 64) 8256        max_pooling2d_1[0][0]            \n",
            "__________________________________________________________________________________________________\n",
            "conv2d_11 (Conv2D)              (None, 114, 114, 16) 2064        max_pooling2d_1[0][0]            \n",
            "__________________________________________________________________________________________________\n",
            "max_pooling2d_2 (MaxPooling2D)  (None, 114, 114, 128 0           max_pooling2d_1[0][0]            \n",
            "__________________________________________________________________________________________________\n",
            "conv2d_8 (Conv2D)               (None, 114, 114, 64) 8256        max_pooling2d_1[0][0]            \n",
            "__________________________________________________________________________________________________\n",
            "conv2d_10 (Conv2D)              (None, 114, 114, 96) 55392       conv2d_9[0][0]                   \n",
            "__________________________________________________________________________________________________\n",
            "conv2d_12 (Conv2D)              (None, 114, 114, 48) 19248       conv2d_11[0][0]                  \n",
            "__________________________________________________________________________________________________\n",
            "conv2d_13 (Conv2D)              (None, 114, 114, 32) 4128        max_pooling2d_2[0][0]            \n",
            "__________________________________________________________________________________________________\n",
            "concatenate_1 (Concatenate)     (None, 114, 114, 240 0           conv2d_8[0][0]                   \n",
            "                                                                 conv2d_10[0][0]                  \n",
            "                                                                 conv2d_12[0][0]                  \n",
            "                                                                 conv2d_13[0][0]                  \n",
            "__________________________________________________________________________________________________\n",
            "max_pooling2d_3 (MaxPooling2D)  (None, 57, 57, 240)  0           concatenate_1[0][0]              \n",
            "__________________________________________________________________________________________________\n",
            "conv2d_15 (Conv2D)              (None, 57, 57, 80)   19280       max_pooling2d_3[0][0]            \n",
            "__________________________________________________________________________________________________\n",
            "conv2d_17 (Conv2D)              (None, 57, 57, 16)   3856        max_pooling2d_3[0][0]            \n",
            "__________________________________________________________________________________________________\n",
            "max_pooling2d_4 (MaxPooling2D)  (None, 57, 57, 240)  0           max_pooling2d_3[0][0]            \n",
            "__________________________________________________________________________________________________\n",
            "conv2d_14 (Conv2D)              (None, 57, 57, 128)  30848       max_pooling2d_3[0][0]            \n",
            "__________________________________________________________________________________________________\n",
            "conv2d_16 (Conv2D)              (None, 57, 57, 120)  86520       conv2d_15[0][0]                  \n",
            "__________________________________________________________________________________________________\n",
            "conv2d_18 (Conv2D)              (None, 57, 57, 64)   25664       conv2d_17[0][0]                  \n",
            "__________________________________________________________________________________________________\n",
            "conv2d_19 (Conv2D)              (None, 57, 57, 64)   15424       max_pooling2d_4[0][0]            \n",
            "__________________________________________________________________________________________________\n",
            "concatenate_2 (Concatenate)     (None, 57, 57, 376)  0           conv2d_14[0][0]                  \n",
            "                                                                 conv2d_16[0][0]                  \n",
            "                                                                 conv2d_18[0][0]                  \n",
            "                                                                 conv2d_19[0][0]                  \n",
            "__________________________________________________________________________________________________\n",
            "global_average_pooling2d (Globa (None, 376)          0           concatenate_2[0][0]              \n",
            "__________________________________________________________________________________________________\n",
            "dropout (Dropout)               (None, 376)          0           global_average_pooling2d[0][0]   \n",
            "__________________________________________________________________________________________________\n",
            "dense (Dense)                   (None, 30)           11310       dropout[0][0]                    \n",
            "==================================================================================================\n",
            "Total params: 347,326\n",
            "Trainable params: 347,326\n",
            "Non-trainable params: 0\n",
            "__________________________________________________________________________________________________\n"
          ],
          "name": "stdout"
        }
      ]
    },
    {
      "cell_type": "code",
      "metadata": {
        "colab": {
          "base_uri": "https://localhost:8080/"
        },
        "id": "b1D7qJrqnK3I",
        "outputId": "c776c5a6-6f3e-4e07-913f-79f7c6bb6151"
      },
      "source": [
        "model.fit(train_generator, epochs=100, validation_data=test_generator)"
      ],
      "execution_count": 12,
      "outputs": [
        {
          "output_type": "stream",
          "text": [
            "Epoch 1/100\n",
            "10/10 [==============================] - 401s 39s/step - loss: 3.4151 - accuracy: 0.0200 - val_loss: 3.4012 - val_accuracy: 0.0333\n",
            "Epoch 2/100\n",
            "10/10 [==============================] - 333s 33s/step - loss: 3.3940 - accuracy: 0.0300 - val_loss: 3.4038 - val_accuracy: 0.0333\n",
            "Epoch 3/100\n",
            "10/10 [==============================] - 329s 33s/step - loss: 3.3770 - accuracy: 0.0333 - val_loss: 3.4032 - val_accuracy: 0.0333\n",
            "Epoch 4/100\n",
            "10/10 [==============================] - 338s 34s/step - loss: 3.3469 - accuracy: 0.0433 - val_loss: 3.5103 - val_accuracy: 0.0333\n",
            "Epoch 5/100\n",
            "10/10 [==============================] - 338s 34s/step - loss: 3.2663 - accuracy: 0.0467 - val_loss: 3.4470 - val_accuracy: 0.0333\n",
            "Epoch 6/100\n",
            "10/10 [==============================] - 340s 34s/step - loss: 3.0119 - accuracy: 0.0933 - val_loss: 3.7259 - val_accuracy: 0.0667\n",
            "Epoch 7/100\n",
            "10/10 [==============================] - 332s 33s/step - loss: 2.7018 - accuracy: 0.1867 - val_loss: 3.9525 - val_accuracy: 0.0333\n",
            "Epoch 8/100\n",
            "10/10 [==============================] - 339s 34s/step - loss: 2.4586 - accuracy: 0.1867 - val_loss: 4.4109 - val_accuracy: 0.0000e+00\n",
            "Epoch 9/100\n",
            "10/10 [==============================] - 340s 34s/step - loss: 2.2144 - accuracy: 0.2700 - val_loss: 4.9238 - val_accuracy: 0.0667\n",
            "Epoch 10/100\n",
            "10/10 [==============================] - 341s 34s/step - loss: 2.0244 - accuracy: 0.3433 - val_loss: 6.1330 - val_accuracy: 0.1000\n",
            "Epoch 11/100\n",
            "10/10 [==============================] - 333s 33s/step - loss: 1.7764 - accuracy: 0.4100 - val_loss: 6.2831 - val_accuracy: 0.0333\n",
            "Epoch 12/100\n",
            "10/10 [==============================] - 334s 34s/step - loss: 1.4997 - accuracy: 0.4567 - val_loss: 7.2465 - val_accuracy: 0.0333\n",
            "Epoch 13/100\n",
            "10/10 [==============================] - 341s 34s/step - loss: 1.4766 - accuracy: 0.4767 - val_loss: 7.6268 - val_accuracy: 0.1333\n",
            "Epoch 14/100\n",
            "10/10 [==============================] - 341s 34s/step - loss: 1.4519 - accuracy: 0.5167 - val_loss: 8.5897 - val_accuracy: 0.0333\n",
            "Epoch 15/100\n",
            "10/10 [==============================] - 341s 34s/step - loss: 1.2737 - accuracy: 0.5533 - val_loss: 9.7755 - val_accuracy: 0.0667\n",
            "Epoch 16/100\n",
            "10/10 [==============================] - 332s 33s/step - loss: 1.2169 - accuracy: 0.5700 - val_loss: 8.9762 - val_accuracy: 0.0667\n",
            "Epoch 17/100\n",
            "10/10 [==============================] - 341s 34s/step - loss: 0.9016 - accuracy: 0.6900 - val_loss: 9.5300 - val_accuracy: 0.0667\n",
            "Epoch 18/100\n",
            "10/10 [==============================] - 341s 34s/step - loss: 0.7821 - accuracy: 0.7333 - val_loss: 10.9438 - val_accuracy: 0.0667\n",
            "Epoch 19/100\n",
            "10/10 [==============================] - 333s 33s/step - loss: 0.7264 - accuracy: 0.7433 - val_loss: 11.4505 - val_accuracy: 0.0667\n",
            "Epoch 20/100\n",
            "10/10 [==============================] - 333s 33s/step - loss: 0.6523 - accuracy: 0.7833 - val_loss: 13.0064 - val_accuracy: 0.0333\n",
            "Epoch 21/100\n",
            "10/10 [==============================] - 341s 34s/step - loss: 0.5288 - accuracy: 0.8367 - val_loss: 14.3067 - val_accuracy: 0.0667\n",
            "Epoch 22/100\n",
            "10/10 [==============================] - 333s 33s/step - loss: 0.6242 - accuracy: 0.7667 - val_loss: 14.9628 - val_accuracy: 0.0000e+00\n",
            "Epoch 23/100\n",
            "10/10 [==============================] - 333s 33s/step - loss: 0.7665 - accuracy: 0.7533 - val_loss: 12.3836 - val_accuracy: 0.0500\n",
            "Epoch 24/100\n",
            "10/10 [==============================] - 340s 34s/step - loss: 0.5342 - accuracy: 0.8000 - val_loss: 11.8325 - val_accuracy: 0.0000e+00\n",
            "Epoch 25/100\n",
            "10/10 [==============================] - 334s 34s/step - loss: 0.5444 - accuracy: 0.8133 - val_loss: 12.4174 - val_accuracy: 0.0667\n",
            "Epoch 26/100\n",
            "10/10 [==============================] - 333s 33s/step - loss: 0.4041 - accuracy: 0.8533 - val_loss: 12.4089 - val_accuracy: 0.1000\n",
            "Epoch 27/100\n",
            "10/10 [==============================] - 333s 33s/step - loss: 0.2828 - accuracy: 0.9267 - val_loss: 14.9475 - val_accuracy: 0.0333\n",
            "Epoch 28/100\n",
            "10/10 [==============================] - 333s 33s/step - loss: 0.2048 - accuracy: 0.9433 - val_loss: 16.2271 - val_accuracy: 0.0333\n",
            "Epoch 29/100\n",
            "10/10 [==============================] - 333s 33s/step - loss: 0.2179 - accuracy: 0.9300 - val_loss: 17.6390 - val_accuracy: 0.0333\n",
            "Epoch 30/100\n",
            "10/10 [==============================] - 333s 33s/step - loss: 0.2317 - accuracy: 0.9300 - val_loss: 17.5189 - val_accuracy: 0.0667\n",
            "Epoch 31/100\n",
            "10/10 [==============================] - 334s 33s/step - loss: 0.1765 - accuracy: 0.9433 - val_loss: 18.3890 - val_accuracy: 0.0667\n",
            "Epoch 32/100\n",
            "10/10 [==============================] - 333s 33s/step - loss: 0.2030 - accuracy: 0.9300 - val_loss: 19.9163 - val_accuracy: 0.0000e+00\n",
            "Epoch 33/100\n",
            "10/10 [==============================] - 334s 34s/step - loss: 0.1951 - accuracy: 0.9267 - val_loss: 21.0076 - val_accuracy: 0.0333\n",
            "Epoch 34/100\n",
            "10/10 [==============================] - 334s 33s/step - loss: 0.2021 - accuracy: 0.9333 - val_loss: 19.4781 - val_accuracy: 0.0333\n",
            "Epoch 35/100\n",
            "10/10 [==============================] - 335s 34s/step - loss: 0.1451 - accuracy: 0.9467 - val_loss: 21.3511 - val_accuracy: 0.0833\n",
            "Epoch 36/100\n",
            "10/10 [==============================] - 334s 34s/step - loss: 0.1625 - accuracy: 0.9400 - val_loss: 21.9730 - val_accuracy: 0.0333\n",
            "Epoch 37/100\n",
            "10/10 [==============================] - 334s 34s/step - loss: 0.2057 - accuracy: 0.9400 - val_loss: 23.3872 - val_accuracy: 0.0000e+00\n",
            "Epoch 38/100\n",
            "10/10 [==============================] - 334s 34s/step - loss: 0.1739 - accuracy: 0.9467 - val_loss: 19.8714 - val_accuracy: 0.0000e+00\n",
            "Epoch 39/100\n",
            "10/10 [==============================] - 333s 33s/step - loss: 0.1094 - accuracy: 0.9633 - val_loss: 21.7117 - val_accuracy: 0.0333\n",
            "Epoch 40/100\n",
            "10/10 [==============================] - 335s 34s/step - loss: 0.1458 - accuracy: 0.9500 - val_loss: 19.6095 - val_accuracy: 0.1000\n",
            "Epoch 41/100\n",
            "10/10 [==============================] - 335s 34s/step - loss: 0.1239 - accuracy: 0.9600 - val_loss: 21.3278 - val_accuracy: 0.0167\n",
            "Epoch 42/100\n",
            "10/10 [==============================] - 333s 33s/step - loss: 0.0566 - accuracy: 0.9800 - val_loss: 20.9797 - val_accuracy: 0.0000e+00\n",
            "Epoch 43/100\n",
            "10/10 [==============================] - 334s 33s/step - loss: 0.0646 - accuracy: 0.9767 - val_loss: 20.6228 - val_accuracy: 0.0333\n",
            "Epoch 44/100\n",
            "10/10 [==============================] - 334s 34s/step - loss: 0.0775 - accuracy: 0.9700 - val_loss: 21.4034 - val_accuracy: 0.0333\n",
            "Epoch 45/100\n",
            "10/10 [==============================] - 335s 34s/step - loss: 0.1917 - accuracy: 0.9533 - val_loss: 23.5669 - val_accuracy: 0.0667\n",
            "Epoch 46/100\n",
            "10/10 [==============================] - 334s 34s/step - loss: 0.1499 - accuracy: 0.9467 - val_loss: 22.2523 - val_accuracy: 0.0667\n",
            "Epoch 47/100\n",
            "10/10 [==============================] - 333s 33s/step - loss: 0.1048 - accuracy: 0.9667 - val_loss: 22.9143 - val_accuracy: 0.0833\n",
            "Epoch 48/100\n",
            "10/10 [==============================] - 334s 34s/step - loss: 0.0605 - accuracy: 0.9867 - val_loss: 25.0415 - val_accuracy: 0.0333\n",
            "Epoch 49/100\n",
            "10/10 [==============================] - 334s 33s/step - loss: 0.0448 - accuracy: 0.9867 - val_loss: 23.5763 - val_accuracy: 0.0333\n",
            "Epoch 50/100\n",
            "10/10 [==============================] - 333s 33s/step - loss: 0.0548 - accuracy: 0.9767 - val_loss: 25.2545 - val_accuracy: 0.0333\n",
            "Epoch 51/100\n",
            "10/10 [==============================] - 334s 33s/step - loss: 0.0597 - accuracy: 0.9833 - val_loss: 25.3060 - val_accuracy: 0.0667\n",
            "Epoch 52/100\n",
            "10/10 [==============================] - 334s 34s/step - loss: 0.1231 - accuracy: 0.9567 - val_loss: 22.6078 - val_accuracy: 0.0667\n",
            "Epoch 53/100\n",
            "10/10 [==============================] - 335s 34s/step - loss: 0.0946 - accuracy: 0.9767 - val_loss: 24.0241 - val_accuracy: 0.0333\n",
            "Epoch 54/100\n",
            "10/10 [==============================] - 333s 33s/step - loss: 0.1529 - accuracy: 0.9400 - val_loss: 24.4101 - val_accuracy: 0.0333\n",
            "Epoch 55/100\n",
            "10/10 [==============================] - 333s 33s/step - loss: 0.1028 - accuracy: 0.9600 - val_loss: 26.3415 - val_accuracy: 0.0000e+00\n",
            "Epoch 56/100\n",
            "10/10 [==============================] - 334s 34s/step - loss: 0.0490 - accuracy: 0.9833 - val_loss: 27.1479 - val_accuracy: 0.0667\n",
            "Epoch 57/100\n",
            "10/10 [==============================] - 335s 34s/step - loss: 0.0862 - accuracy: 0.9667 - val_loss: 27.2586 - val_accuracy: 0.0000e+00\n",
            "Epoch 58/100\n",
            "10/10 [==============================] - 333s 33s/step - loss: 0.0514 - accuracy: 0.9833 - val_loss: 27.1706 - val_accuracy: 0.0167\n",
            "Epoch 59/100\n",
            "10/10 [==============================] - 336s 34s/step - loss: 0.1296 - accuracy: 0.9433 - val_loss: 23.1169 - val_accuracy: 0.0667\n",
            "Epoch 60/100\n",
            "10/10 [==============================] - 334s 34s/step - loss: 0.0934 - accuracy: 0.9533 - val_loss: 24.7261 - val_accuracy: 0.1000\n",
            "Epoch 61/100\n",
            "10/10 [==============================] - 338s 34s/step - loss: 0.0836 - accuracy: 0.9800 - val_loss: 25.3560 - val_accuracy: 0.0667\n",
            "Epoch 62/100\n",
            "10/10 [==============================] - 336s 34s/step - loss: 0.0664 - accuracy: 0.9700 - val_loss: 26.6318 - val_accuracy: 0.0667\n",
            "Epoch 63/100\n",
            "10/10 [==============================] - 337s 34s/step - loss: 0.0569 - accuracy: 0.9867 - val_loss: 23.2979 - val_accuracy: 0.0667\n",
            "Epoch 64/100\n",
            "10/10 [==============================] - 335s 34s/step - loss: 0.0199 - accuracy: 0.9933 - val_loss: 23.1887 - val_accuracy: 0.0667\n",
            "Epoch 65/100\n",
            "10/10 [==============================] - 336s 34s/step - loss: 0.0270 - accuracy: 0.9933 - val_loss: 24.3090 - val_accuracy: 0.0667\n",
            "Epoch 66/100\n",
            "10/10 [==============================] - 335s 34s/step - loss: 0.0413 - accuracy: 0.9833 - val_loss: 25.2548 - val_accuracy: 0.0333\n",
            "Epoch 67/100\n",
            "10/10 [==============================] - 334s 33s/step - loss: 0.0526 - accuracy: 0.9867 - val_loss: 24.3065 - val_accuracy: 0.0500\n",
            "Epoch 68/100\n",
            "10/10 [==============================] - 334s 34s/step - loss: 0.0346 - accuracy: 0.9867 - val_loss: 24.0134 - val_accuracy: 0.0667\n",
            "Epoch 69/100\n",
            "10/10 [==============================] - 333s 33s/step - loss: 0.0573 - accuracy: 0.9767 - val_loss: 25.0857 - val_accuracy: 0.0333\n",
            "Epoch 70/100\n",
            "10/10 [==============================] - 334s 34s/step - loss: 0.0428 - accuracy: 0.9833 - val_loss: 24.6383 - val_accuracy: 0.1000\n",
            "Epoch 71/100\n",
            "10/10 [==============================] - 334s 34s/step - loss: 0.0216 - accuracy: 0.9967 - val_loss: 26.5949 - val_accuracy: 0.0667\n",
            "Epoch 72/100\n",
            "10/10 [==============================] - 335s 34s/step - loss: 0.0278 - accuracy: 0.9933 - val_loss: 26.5576 - val_accuracy: 0.0000e+00\n",
            "Epoch 73/100\n",
            "10/10 [==============================] - 334s 34s/step - loss: 0.0174 - accuracy: 0.9900 - val_loss: 25.1879 - val_accuracy: 0.0667\n",
            "Epoch 74/100\n",
            "10/10 [==============================] - 335s 34s/step - loss: 0.0292 - accuracy: 0.9867 - val_loss: 29.4126 - val_accuracy: 0.0333\n",
            "Epoch 75/100\n",
            "10/10 [==============================] - 336s 34s/step - loss: 0.0291 - accuracy: 0.9867 - val_loss: 28.6603 - val_accuracy: 0.0000e+00\n",
            "Epoch 76/100\n",
            "10/10 [==============================] - 335s 34s/step - loss: 0.0355 - accuracy: 0.9800 - val_loss: 28.4838 - val_accuracy: 0.0667\n",
            "Epoch 77/100\n",
            "10/10 [==============================] - 334s 34s/step - loss: 0.0246 - accuracy: 0.9933 - val_loss: 26.1951 - val_accuracy: 0.1167\n",
            "Epoch 78/100\n",
            "10/10 [==============================] - 334s 34s/step - loss: 0.0289 - accuracy: 0.9933 - val_loss: 28.6756 - val_accuracy: 0.0000e+00\n",
            "Epoch 79/100\n",
            "10/10 [==============================] - 333s 33s/step - loss: 0.0190 - accuracy: 0.9933 - val_loss: 27.8109 - val_accuracy: 0.0833\n",
            "Epoch 80/100\n",
            "10/10 [==============================] - 335s 34s/step - loss: 0.0125 - accuracy: 0.9967 - val_loss: 28.1873 - val_accuracy: 0.0333\n",
            "Epoch 81/100\n",
            "10/10 [==============================] - 334s 34s/step - loss: 0.0165 - accuracy: 0.9933 - val_loss: 28.1794 - val_accuracy: 0.0000e+00\n",
            "Epoch 82/100\n",
            "10/10 [==============================] - 335s 34s/step - loss: 0.0231 - accuracy: 0.9933 - val_loss: 27.2709 - val_accuracy: 0.0500\n",
            "Epoch 83/100\n",
            "10/10 [==============================] - 334s 34s/step - loss: 0.0248 - accuracy: 0.9900 - val_loss: 30.4149 - val_accuracy: 0.0500\n",
            "Epoch 84/100\n",
            "10/10 [==============================] - 335s 34s/step - loss: 0.0298 - accuracy: 0.9867 - val_loss: 32.4225 - val_accuracy: 0.0000e+00\n",
            "Epoch 85/100\n",
            "10/10 [==============================] - 334s 34s/step - loss: 0.0628 - accuracy: 0.9900 - val_loss: 35.5421 - val_accuracy: 0.0333\n",
            "Epoch 86/100\n",
            "10/10 [==============================] - 334s 34s/step - loss: 0.0626 - accuracy: 0.9833 - val_loss: 28.4624 - val_accuracy: 0.0833\n",
            "Epoch 87/100\n",
            "10/10 [==============================] - 335s 34s/step - loss: 0.0270 - accuracy: 0.9900 - val_loss: 30.1851 - val_accuracy: 0.0333\n",
            "Epoch 88/100\n",
            "10/10 [==============================] - 333s 33s/step - loss: 0.0251 - accuracy: 0.9900 - val_loss: 30.3811 - val_accuracy: 0.0667\n",
            "Epoch 89/100\n",
            "10/10 [==============================] - 333s 33s/step - loss: 0.0349 - accuracy: 0.9900 - val_loss: 31.3358 - val_accuracy: 0.0333\n",
            "Epoch 90/100\n",
            "10/10 [==============================] - 334s 34s/step - loss: 0.0389 - accuracy: 0.9933 - val_loss: 30.5895 - val_accuracy: 0.0333\n",
            "Epoch 91/100\n",
            "10/10 [==============================] - 334s 34s/step - loss: 0.0231 - accuracy: 0.9933 - val_loss: 30.9627 - val_accuracy: 0.0333\n",
            "Epoch 92/100\n",
            "10/10 [==============================] - 334s 34s/step - loss: 0.0431 - accuracy: 0.9867 - val_loss: 31.1554 - val_accuracy: 0.0667\n",
            "Epoch 93/100\n",
            "10/10 [==============================] - 334s 33s/step - loss: 0.1685 - accuracy: 0.9367 - val_loss: 34.3393 - val_accuracy: 0.1000\n",
            "Epoch 94/100\n",
            "10/10 [==============================] - 332s 33s/step - loss: 0.6877 - accuracy: 0.9000 - val_loss: 21.7311 - val_accuracy: 0.1333\n",
            "Epoch 95/100\n",
            "10/10 [==============================] - 331s 33s/step - loss: 0.4339 - accuracy: 0.8533 - val_loss: 16.6504 - val_accuracy: 0.2000\n",
            "Epoch 96/100\n",
            "10/10 [==============================] - 331s 33s/step - loss: 0.2409 - accuracy: 0.9200 - val_loss: 17.9771 - val_accuracy: 0.0167\n",
            "Epoch 97/100\n",
            "10/10 [==============================] - 332s 33s/step - loss: 0.1145 - accuracy: 0.9733 - val_loss: 18.7854 - val_accuracy: 0.0333\n",
            "Epoch 98/100\n",
            "10/10 [==============================] - 332s 33s/step - loss: 0.0496 - accuracy: 0.9900 - val_loss: 18.4051 - val_accuracy: 0.0333\n",
            "Epoch 99/100\n",
            "10/10 [==============================] - 331s 33s/step - loss: 0.0374 - accuracy: 0.9900 - val_loss: 19.4828 - val_accuracy: 0.0333\n",
            "Epoch 100/100\n",
            "10/10 [==============================] - 332s 33s/step - loss: 0.0253 - accuracy: 0.9900 - val_loss: 20.4090 - val_accuracy: 0.0667\n"
          ],
          "name": "stdout"
        },
        {
          "output_type": "execute_result",
          "data": {
            "text/plain": [
              "<tensorflow.python.keras.callbacks.History at 0x7fb9f5f12c50>"
            ]
          },
          "metadata": {
            "tags": []
          },
          "execution_count": 12
        }
      ]
    },
    {
      "cell_type": "code",
      "metadata": {
        "colab": {
          "base_uri": "https://localhost:8080/"
        },
        "id": "dwkxcMnDqXEB",
        "outputId": "947396f0-bcba-454e-e8ac-b1d4586e9383"
      },
      "source": [
        "print(\"-- Evaluate --\")\n",
        "scores = model.evaluate(test_generator)\n",
        "print(\"%s: %.2f%%\" %(model.metrics_names[1], scores[1]*100))"
      ],
      "execution_count": 13,
      "outputs": [
        {
          "output_type": "stream",
          "text": [
            "-- Evaluate --\n",
            "2/2 [==============================] - 13s 6s/step - loss: 20.4090 - accuracy: 0.0667\n",
            "accuracy: 6.67%\n"
          ],
          "name": "stdout"
        }
      ]
    },
    {
      "cell_type": "code",
      "metadata": {
        "colab": {
          "base_uri": "https://localhost:8080/"
        },
        "id": "KQnF0I-fqcuC",
        "outputId": "bb6260df-b5c3-45c1-f8a5-e8944daed4a5"
      },
      "source": [
        "print(\"-- Predict --\")\n",
        "output = model.predict(test_generator)\n",
        "np.set_printoptions(formatter={'float': lambda x: \"{0:0.3f}\".format(x)})\n",
        "print(test_generator.class_indices)\n",
        "print(output)"
      ],
      "execution_count": 14,
      "outputs": [
        {
          "output_type": "stream",
          "text": [
            "-- Predict --\n",
            "{'0': 0, '1': 1, '10': 2, '11': 3, '12': 4, '13': 5, '14': 6, '15': 7, '16': 8, '17': 9, '18': 10, '19': 11, '2': 12, '20': 13, '21': 14, '22': 15, '23': 16, '24': 17, '25': 18, '26': 19, '27': 20, '28': 21, '29': 22, '3': 23, '4': 24, '5': 25, '6': 26, '7': 27, '8': 28, '9': 29}\n",
            "[[0.000 0.000 0.000 ... 0.000 0.000 0.000]\n",
            " [0.000 0.000 0.107 ... 0.000 0.000 0.000]\n",
            " [0.000 0.005 0.000 ... 0.000 0.000 0.000]\n",
            " ...\n",
            " [0.000 0.000 0.000 ... 0.000 0.000 0.971]\n",
            " [0.000 0.000 0.001 ... 0.000 0.004 0.000]\n",
            " [0.000 0.000 0.000 ... 0.000 0.000 0.000]]\n"
          ],
          "name": "stdout"
        }
      ]
    },
    {
      "cell_type": "code",
      "metadata": {
        "colab": {
          "base_uri": "https://localhost:8080/"
        },
        "id": "bfx0rpW5VN-T",
        "outputId": "00c0aa39-c13f-479d-d8f9-0b5797ee05a3"
      },
      "source": [
        "for i in range(0, numberOfClass):\n",
        "  print(\"Result:\", i+1)\n",
        "  print(output[i])\n",
        "  print(\"\\n\")"
      ],
      "execution_count": 15,
      "outputs": [
        {
          "output_type": "stream",
          "text": [
            "Result: 1\n",
            "[0.000 0.000 0.000 0.000 0.000 0.000 0.000 0.000 0.000 0.000 0.000 0.000\n",
            " 0.000 0.000 0.000 0.000 0.974 0.000 0.015 0.000 0.010 0.000 0.000 0.000\n",
            " 0.000 0.000 0.000 0.000 0.000 0.000]\n",
            "\n",
            "\n",
            "Result: 2\n",
            "[0.000 0.000 0.107 0.003 0.000 0.000 0.000 0.000 0.000 0.000 0.124 0.000\n",
            " 0.012 0.000 0.753 0.000 0.000 0.000 0.000 0.000 0.000 0.000 0.001 0.000\n",
            " 0.000 0.000 0.000 0.000 0.000 0.000]\n",
            "\n",
            "\n",
            "Result: 3\n",
            "[0.000 0.005 0.000 0.000 0.000 0.000 0.000 0.000 0.372 0.001 0.000 0.548\n",
            " 0.000 0.000 0.000 0.000 0.000 0.000 0.000 0.000 0.000 0.074 0.000 0.000\n",
            " 0.000 0.000 0.000 0.000 0.000 0.000]\n",
            "\n",
            "\n",
            "Result: 4\n",
            "[0.000 0.082 0.000 0.000 0.000 0.000 0.000 0.617 0.000 0.000 0.000 0.000\n",
            " 0.000 0.000 0.000 0.000 0.000 0.079 0.057 0.000 0.000 0.111 0.000 0.000\n",
            " 0.000 0.000 0.000 0.048 0.002 0.003]\n",
            "\n",
            "\n",
            "Result: 5\n",
            "[0.000 0.000 0.000 0.000 0.000 0.000 0.000 0.000 0.000 0.000 0.002 0.000\n",
            " 0.000 0.000 0.333 0.000 0.000 0.000 0.000 0.000 0.000 0.000 0.000 0.000\n",
            " 0.000 0.000 0.016 0.000 0.649 0.000]\n",
            "\n",
            "\n",
            "Result: 6\n",
            "[0.000 0.000 0.000 0.000 0.000 0.000 0.000 0.000 0.000 0.000 0.000 0.994\n",
            " 0.000 0.000 0.000 0.000 0.000 0.000 0.000 0.000 0.000 0.000 0.000 0.000\n",
            " 0.000 0.006 0.000 0.000 0.000 0.000]\n",
            "\n",
            "\n",
            "Result: 7\n",
            "[0.000 0.000 0.000 0.000 0.000 0.000 0.003 0.000 0.134 0.103 0.000 0.000\n",
            " 0.000 0.000 0.000 0.441 0.000 0.000 0.000 0.319 0.000 0.000 0.000 0.000\n",
            " 0.000 0.000 0.000 0.000 0.000 0.000]\n",
            "\n",
            "\n",
            "Result: 8\n",
            "[0.000 0.002 0.001 0.000 0.000 0.000 0.000 0.000 0.000 0.000 0.000 0.000\n",
            " 0.000 0.000 0.000 0.000 0.000 0.000 0.491 0.000 0.000 0.494 0.000 0.000\n",
            " 0.000 0.000 0.000 0.001 0.000 0.011]\n",
            "\n",
            "\n",
            "Result: 9\n",
            "[0.000 0.000 0.112 0.003 0.000 0.000 0.000 0.000 0.000 0.000 0.129 0.000\n",
            " 0.013 0.000 0.741 0.000 0.000 0.000 0.000 0.000 0.000 0.000 0.001 0.000\n",
            " 0.000 0.000 0.000 0.000 0.000 0.000]\n",
            "\n",
            "\n",
            "Result: 10\n",
            "[0.000 0.000 0.000 0.000 0.000 0.000 0.000 0.000 0.000 0.000 0.000 0.000\n",
            " 0.000 0.000 0.000 0.000 0.000 0.000 1.000 0.000 0.000 0.000 0.000 0.000\n",
            " 0.000 0.000 0.000 0.000 0.000 0.000]\n",
            "\n",
            "\n",
            "Result: 11\n",
            "[0.000 0.000 0.000 0.000 0.000 0.000 0.000 0.000 0.293 0.000 0.000 0.004\n",
            " 0.000 0.000 0.060 0.000 0.000 0.000 0.000 0.000 0.000 0.000 0.000 0.000\n",
            " 0.000 0.000 0.000 0.000 0.030 0.613]\n",
            "\n",
            "\n",
            "Result: 12\n",
            "[0.000 0.000 0.007 0.074 0.489 0.000 0.000 0.000 0.000 0.027 0.012 0.000\n",
            " 0.000 0.000 0.000 0.000 0.000 0.003 0.000 0.000 0.000 0.010 0.000 0.310\n",
            " 0.000 0.000 0.000 0.067 0.000 0.000]\n",
            "\n",
            "\n",
            "Result: 13\n",
            "[0.000 0.000 0.000 0.000 0.000 0.000 0.000 0.000 0.000 0.000 0.000 0.000\n",
            " 0.000 0.000 0.000 0.000 1.000 0.000 0.000 0.000 0.000 0.000 0.000 0.000\n",
            " 0.000 0.000 0.000 0.000 0.000 0.000]\n",
            "\n",
            "\n",
            "Result: 14\n",
            "[0.000 0.000 0.000 0.000 0.000 0.000 0.003 0.000 0.000 0.000 0.000 0.778\n",
            " 0.000 0.218 0.000 0.000 0.000 0.000 0.000 0.000 0.000 0.000 0.000 0.000\n",
            " 0.000 0.000 0.000 0.000 0.000 0.000]\n",
            "\n",
            "\n",
            "Result: 15\n",
            "[0.000 0.000 0.000 0.000 0.000 0.000 0.000 0.000 0.000 0.000 0.002 0.000\n",
            " 0.000 0.000 0.398 0.000 0.000 0.000 0.000 0.000 0.000 0.000 0.000 0.000\n",
            " 0.000 0.000 0.014 0.000 0.585 0.000]\n",
            "\n",
            "\n",
            "Result: 16\n",
            "[0.000 0.000 0.000 0.000 0.000 0.000 0.000 0.000 0.981 0.018 0.000 0.000\n",
            " 0.000 0.001 0.000 0.000 0.000 0.000 0.000 0.000 0.000 0.000 0.000 0.000\n",
            " 0.000 0.000 0.000 0.000 0.000 0.000]\n",
            "\n",
            "\n",
            "Result: 17\n",
            "[0.000 0.000 0.000 0.000 0.000 0.000 0.001 0.000 0.112 0.056 0.000 0.000\n",
            " 0.000 0.000 0.000 0.235 0.000 0.000 0.000 0.596 0.000 0.000 0.000 0.000\n",
            " 0.000 0.000 0.000 0.000 0.000 0.000]\n",
            "\n",
            "\n",
            "Result: 18\n",
            "[0.000 0.000 0.000 0.000 0.000 0.000 0.000 0.000 0.043 0.000 0.000 0.859\n",
            " 0.000 0.000 0.042 0.000 0.000 0.000 0.000 0.000 0.000 0.000 0.000 0.000\n",
            " 0.000 0.000 0.000 0.000 0.000 0.057]\n",
            "\n",
            "\n",
            "Result: 19\n",
            "[0.004 0.003 0.036 0.000 0.018 0.000 0.000 0.800 0.000 0.000 0.000 0.000\n",
            " 0.000 0.000 0.000 0.000 0.000 0.000 0.019 0.000 0.003 0.001 0.000 0.014\n",
            " 0.000 0.000 0.000 0.103 0.000 0.000]\n",
            "\n",
            "\n",
            "Result: 20\n",
            "[0.000 0.002 0.011 0.000 0.017 0.000 0.000 0.661 0.000 0.000 0.000 0.000\n",
            " 0.000 0.000 0.000 0.000 0.000 0.066 0.039 0.000 0.000 0.039 0.000 0.002\n",
            " 0.000 0.000 0.000 0.161 0.002 0.000]\n",
            "\n",
            "\n",
            "Result: 21\n",
            "[0.060 0.000 0.015 0.918 0.000 0.000 0.000 0.000 0.000 0.001 0.000 0.000\n",
            " 0.000 0.004 0.000 0.000 0.000 0.000 0.000 0.000 0.000 0.000 0.000 0.001\n",
            " 0.000 0.000 0.000 0.000 0.000 0.000]\n",
            "\n",
            "\n",
            "Result: 22\n",
            "[0.000 0.000 0.000 0.000 0.000 0.000 0.000 0.000 0.000 0.000 0.001 0.000\n",
            " 0.000 0.000 0.670 0.000 0.000 0.198 0.000 0.000 0.000 0.000 0.000 0.000\n",
            " 0.000 0.000 0.002 0.000 0.129 0.000]\n",
            "\n",
            "\n",
            "Result: 23\n",
            "[0.000 0.086 0.000 0.000 0.000 0.000 0.000 0.629 0.000 0.000 0.000 0.000\n",
            " 0.000 0.000 0.000 0.000 0.000 0.074 0.053 0.000 0.000 0.107 0.000 0.000\n",
            " 0.000 0.000 0.000 0.046 0.002 0.003]\n",
            "\n",
            "\n",
            "Result: 24\n",
            "[0.063 0.000 0.012 0.918 0.000 0.000 0.000 0.000 0.000 0.001 0.000 0.000\n",
            " 0.000 0.003 0.000 0.000 0.000 0.000 0.000 0.000 0.000 0.000 0.000 0.001\n",
            " 0.000 0.000 0.000 0.000 0.000 0.000]\n",
            "\n",
            "\n",
            "Result: 25\n",
            "[0.000 0.000 0.004 0.005 0.000 0.000 0.000 0.000 0.000 0.381 0.002 0.000\n",
            " 0.000 0.000 0.001 0.000 0.000 0.000 0.000 0.302 0.071 0.000 0.221 0.000\n",
            " 0.012 0.000 0.000 0.000 0.001 0.001]\n",
            "\n",
            "\n",
            "Result: 26\n",
            "[0.000 0.000 0.000 0.000 0.000 0.000 0.000 0.000 0.000 0.000 0.000 0.000\n",
            " 0.000 0.000 0.000 0.000 0.000 0.000 0.979 0.000 0.000 0.000 0.000 0.000\n",
            " 0.000 0.000 0.000 0.000 0.000 0.021]\n",
            "\n",
            "\n",
            "Result: 27\n",
            "[0.004 0.003 0.032 0.000 0.015 0.000 0.000 0.814 0.000 0.000 0.000 0.000\n",
            " 0.000 0.000 0.000 0.000 0.000 0.000 0.017 0.000 0.002 0.001 0.000 0.014\n",
            " 0.000 0.000 0.000 0.099 0.000 0.000]\n",
            "\n",
            "\n",
            "Result: 28\n",
            "[0.000 0.000 0.000 0.000 0.000 0.000 0.000 0.000 0.013 0.000 0.000 0.000\n",
            " 0.000 0.000 0.001 0.000 0.000 0.143 0.000 0.000 0.000 0.000 0.000 0.000\n",
            " 0.000 0.000 0.000 0.000 0.825 0.018]\n",
            "\n",
            "\n",
            "Result: 29\n",
            "[0.000 0.000 0.000 0.000 0.000 0.000 0.000 0.000 0.013 0.000 0.000 0.000\n",
            " 0.000 0.000 0.001 0.000 0.000 0.144 0.000 0.000 0.000 0.000 0.000 0.000\n",
            " 0.000 0.000 0.000 0.000 0.825 0.017]\n",
            "\n",
            "\n",
            "Result: 30\n",
            "[0.000 0.000 0.000 0.000 0.000 0.000 0.979 0.000 0.000 0.000 0.000 0.000\n",
            " 0.000 0.020 0.000 0.000 0.000 0.000 0.000 0.000 0.000 0.000 0.000 0.000\n",
            " 0.000 0.000 0.000 0.000 0.000 0.000]\n",
            "\n",
            "\n"
          ],
          "name": "stdout"
        }
      ]
    }
  ]
}